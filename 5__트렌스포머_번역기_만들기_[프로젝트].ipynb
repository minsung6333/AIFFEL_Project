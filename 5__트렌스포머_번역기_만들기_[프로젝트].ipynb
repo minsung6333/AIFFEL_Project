{
  "cells": [
    {
      "cell_type": "markdown",
      "metadata": {
        "id": "view-in-github",
        "colab_type": "text"
      },
      "source": [
        "<a href=\"https://colab.research.google.com/github/minsung6333/AIFFEL_Project/blob/main/5__%E1%84%90%E1%85%B3%E1%84%85%E1%85%A6%E1%86%AB%E1%84%89%E1%85%B3%E1%84%91%E1%85%A9%E1%84%86%E1%85%A5_%E1%84%87%E1%85%A5%E1%86%AB%E1%84%8B%E1%85%A7%E1%86%A8%E1%84%80%E1%85%B5_%E1%84%86%E1%85%A1%E1%86%AB%E1%84%83%E1%85%B3%E1%86%AF%E1%84%80%E1%85%B5_%5B%ED%94%84%EB%A1%9C%EC%A0%9D%ED%8A%B8%5D.ipynb\" target=\"_parent\"><img src=\"https://colab.research.google.com/assets/colab-badge.svg\" alt=\"Open In Colab\"/></a>"
      ]
    },
    {
      "cell_type": "markdown",
      "id": "2f6355b2",
      "metadata": {
        "id": "2f6355b2"
      },
      "source": [
        "# 5. Transformer 번역기 만들기\n",
        "\n",
        "## 1. Transformer모델 생성\n",
        "### 1) positional_encoding\n"
      ]
    },
    {
      "cell_type": "code",
      "execution_count": null,
      "id": "47d3111d",
      "metadata": {
        "id": "47d3111d",
        "outputId": "cb0930a0-499b-4e80-f86c-3f42b28387ae"
      },
      "outputs": [
        {
          "name": "stdout",
          "output_type": "stream",
          "text": [
            "슝=3\n"
          ]
        }
      ],
      "source": [
        "import matplotlib as mpl\n",
        "import matplotlib.pyplot as plt\n",
        "import matplotlib.font_manager as fm\n",
        "\n",
        "%config InlineBackend.figure_format = 'retina'\n",
        "\n",
        "fontpath = '/usr/share/fonts/truetype/nanum/NanumBarunGothic.ttf'\n",
        "font = fm.FontProperties(fname=fontpath, size=9)\n",
        "plt.rc('font', family='NanumBarunGothic')\n",
        "mpl.font_manager.findfont(font)\n",
        "\n",
        "print(\"슝=3\")"
      ]
    },
    {
      "cell_type": "code",
      "execution_count": null,
      "id": "370356a0",
      "metadata": {
        "id": "370356a0",
        "outputId": "7a0738be-027c-4e0e-c1f8-f9db4679c7f2"
      },
      "outputs": [
        {
          "name": "stdout",
          "output_type": "stream",
          "text": [
            "2.6.0\n"
          ]
        }
      ],
      "source": [
        "import numpy as np\n",
        "import tensorflow as tf\n",
        "import matplotlib.pyplot as plt\n",
        "\n",
        "import re\n",
        "import os\n",
        "import io\n",
        "import time\n",
        "import random\n",
        "\n",
        "import seaborn # Attention 시각화를 위해 필요!\n",
        "\n",
        "print(tf.__version__)"
      ]
    },
    {
      "cell_type": "markdown",
      "id": "85ed827a",
      "metadata": {
        "id": "85ed827a"
      },
      "source": [
        "### 1) positional_encoding 생성"
      ]
    },
    {
      "cell_type": "code",
      "execution_count": null,
      "id": "ec6e251b",
      "metadata": {
        "id": "ec6e251b",
        "outputId": "743afe59-2a9c-4559-f351-23e5a191bb34"
      },
      "outputs": [
        {
          "name": "stdout",
          "output_type": "stream",
          "text": [
            "슝=3\n"
          ]
        }
      ],
      "source": [
        "def positional_encoding(pos, d_model):\n",
        "    def cal_angle(position, i):\n",
        "        return position / np.power(10000, int(i) / d_model)\n",
        "\n",
        "    def get_posi_angle_vec(position):\n",
        "        return [cal_angle(position, i) for i in range(d_model)]\n",
        "\n",
        "    sinusoid_table = np.array([get_posi_angle_vec(pos_i) for pos_i in range(pos)])\n",
        "    sinusoid_table[:, 0::2] = np.sin(sinusoid_table[:, 0::2])\n",
        "    sinusoid_table[:, 1::2] = np.cos(sinusoid_table[:, 1::2])\n",
        "    return sinusoid_table\n",
        "\n",
        "print(\"슝=3\")"
      ]
    },
    {
      "cell_type": "markdown",
      "id": "75d1d7e7",
      "metadata": {
        "id": "75d1d7e7"
      },
      "source": [
        "### 2) MultiHeadAttention 생성"
      ]
    },
    {
      "cell_type": "code",
      "execution_count": null,
      "id": "6b35ce20",
      "metadata": {
        "id": "6b35ce20"
      },
      "outputs": [],
      "source": [
        "class MultiHeadAttention(tf.keras.layers.Layer):\n",
        "    def __init__(self, d_model, num_heads):\n",
        "        super(MultiHeadAttention, self).__init__()\n",
        "        self.num_heads = num_heads\n",
        "        self.d_model = d_model\n",
        "\n",
        "        self.depth = d_model // self.num_heads\n",
        "\n",
        "        self.W_q = tf.keras.layers.Dense(d_model)\n",
        "        self.W_k = tf.keras.layers.Dense(d_model)\n",
        "        self.W_v = tf.keras.layers.Dense(d_model)\n",
        "\n",
        "        self.linear = tf.keras.layers.Dense(d_model)\n",
        "\n",
        "    def scaled_dot_product_attention(self, Q, K, V, mask):\n",
        "        d_k = tf.cast(K.shape[-1], tf.float32)\n",
        "        QK = tf.matmul(Q, K, transpose_b=True)\n",
        "\n",
        "        scaled_qk = QK / tf.math.sqrt(d_k)\n",
        "\n",
        "        if mask is not None: scaled_qk += (mask * -1e9)\n",
        "\n",
        "        attentions = tf.nn.softmax(scaled_qk, axis=-1)\n",
        "        out = tf.matmul(attentions, V)\n",
        "\n",
        "        return out, attentions\n",
        "\n",
        "\n",
        "    def split_heads(self, x):\n",
        "        batch_size = x.shape[0]\n",
        "        split_x = tf.reshape(x, (batch_size, -1, self.num_heads, self.depth))\n",
        "        split_x = tf.transpose(split_x, perm=[0, 2, 1, 3])\n",
        "\n",
        "        return split_x\n",
        "\n",
        "    def combine_heads(self, x):\n",
        "        batch_size = x.shape[0]\n",
        "        combined_x = tf.transpose(x, perm=[0, 2, 1, 3])\n",
        "        combined_x = tf.reshape(combined_x, (batch_size, -1, self.d_model))\n",
        "\n",
        "        return combined_x\n",
        "\n",
        "\n",
        "    def call(self, Q, K, V, mask):\n",
        "        WQ = self.W_q(Q)\n",
        "        WK = self.W_k(K)\n",
        "        WV = self.W_v(V)\n",
        "\n",
        "        WQ_splits = self.split_heads(WQ)\n",
        "        WK_splits = self.split_heads(WK)\n",
        "        WV_splits = self.split_heads(WV)\n",
        "\n",
        "        out, attention_weights = self.scaled_dot_product_attention(\n",
        "            WQ_splits, WK_splits, WV_splits, mask)\n",
        "\n",
        "        out = self.combine_heads(out)\n",
        "        out = self.linear(out)\n",
        "\n",
        "        return out, attention_weights"
      ]
    },
    {
      "cell_type": "markdown",
      "id": "8b070823",
      "metadata": {
        "id": "8b070823"
      },
      "source": [
        "### 3) poswiseFeedforward network 생성"
      ]
    },
    {
      "cell_type": "code",
      "execution_count": null,
      "id": "75b147cc",
      "metadata": {
        "id": "75b147cc",
        "outputId": "22cdba79-1f40-458b-9b2f-270bf127d4fa"
      },
      "outputs": [
        {
          "name": "stdout",
          "output_type": "stream",
          "text": [
            "슝=3\n"
          ]
        }
      ],
      "source": [
        "class PoswiseFeedForwardNet(tf.keras.layers.Layer):\n",
        "    def __init__(self, d_model, d_ff):\n",
        "        super(PoswiseFeedForwardNet, self).__init__()\n",
        "        self.w_1 = tf.keras.layers.Dense(d_ff, activation='relu')\n",
        "        self.w_2 = tf.keras.layers.Dense(d_model)\n",
        "\n",
        "    def call(self, x):\n",
        "        out = self.w_1(x)\n",
        "        out = self.w_2(out)\n",
        "\n",
        "        return out\n",
        "\n",
        "print(\"슝=3\")"
      ]
    },
    {
      "cell_type": "markdown",
      "id": "401c7290",
      "metadata": {
        "id": "401c7290"
      },
      "source": [
        "### 4) encoder layer 생성"
      ]
    },
    {
      "cell_type": "code",
      "execution_count": null,
      "id": "16e394ea",
      "metadata": {
        "id": "16e394ea",
        "outputId": "bd414244-63dd-4162-ea93-589df82a249b"
      },
      "outputs": [
        {
          "name": "stdout",
          "output_type": "stream",
          "text": [
            "슝=3\n"
          ]
        }
      ],
      "source": [
        "class EncoderLayer(tf.keras.layers.Layer):\n",
        "    def __init__(self, d_model, n_heads, d_ff, dropout):\n",
        "        super(EncoderLayer, self).__init__()\n",
        "\n",
        "        self.enc_self_attn = MultiHeadAttention(d_model, n_heads)\n",
        "        self.ffn = PoswiseFeedForwardNet(d_model, d_ff)\n",
        "\n",
        "        self.norm_1 = tf.keras.layers.LayerNormalization(epsilon=1e-6)\n",
        "        self.norm_2 = tf.keras.layers.LayerNormalization(epsilon=1e-6)\n",
        "\n",
        "        self.dropout = tf.keras.layers.Dropout(dropout)\n",
        "\n",
        "    def call(self, x, mask):\n",
        "\n",
        "        \"\"\"\n",
        "        Multi-Head Attention\n",
        "        \"\"\"\n",
        "        residual = x\n",
        "        out = self.norm_1(x)\n",
        "        out, enc_attn = self.enc_self_attn(out, out, out, mask)\n",
        "        out = self.dropout(out)\n",
        "        out += residual\n",
        "\n",
        "        \"\"\"\n",
        "        Position-Wise Feed Forward Network\n",
        "        \"\"\"\n",
        "        residual = out\n",
        "        out = self.norm_2(out)\n",
        "        out = self.ffn(out)\n",
        "        out = self.dropout(out)\n",
        "        out += residual\n",
        "\n",
        "        return out, enc_attn\n",
        "\n",
        "print(\"슝=3\")"
      ]
    },
    {
      "cell_type": "markdown",
      "id": "9ddb45bd",
      "metadata": {
        "id": "9ddb45bd"
      },
      "source": [
        "### 5) decoder layer 생성"
      ]
    },
    {
      "cell_type": "code",
      "execution_count": null,
      "id": "dae20615",
      "metadata": {
        "id": "dae20615"
      },
      "outputs": [],
      "source": [
        "class DecoderLayer(tf.keras.layers.Layer):\n",
        "    def __init__(self, d_model, num_heads, d_ff, dropout):\n",
        "        super(DecoderLayer, self).__init__()\n",
        "\n",
        "        self.dec_self_attn = MultiHeadAttention(d_model, num_heads)\n",
        "        self.enc_dec_attn = MultiHeadAttention(d_model, num_heads)\n",
        "\n",
        "        self.ffn = PoswiseFeedForwardNet(d_model, d_ff)\n",
        "\n",
        "        self.norm_1 = tf.keras.layers.LayerNormalization(epsilon=1e-6)\n",
        "        self.norm_2 = tf.keras.layers.LayerNormalization(epsilon=1e-6)\n",
        "        self.norm_3 = tf.keras.layers.LayerNormalization(epsilon=1e-6)\n",
        "\n",
        "        self.dropout = tf.keras.layers.Dropout(dropout)\n",
        "\n",
        "    def call(self, x, enc_out, causality_mask, padding_mask):\n",
        "\n",
        "        \"\"\"\n",
        "        Masked Multi-Head Attention\n",
        "        \"\"\"\n",
        "        residual = x\n",
        "        out = self.norm_1(x)\n",
        "        out, dec_attn = self.dec_self_attn(out, out, out, padding_mask)\n",
        "        out = self.dropout(out)\n",
        "        out += residual\n",
        "\n",
        "        \"\"\"\n",
        "        Multi-Head Attention\n",
        "        \"\"\"\n",
        "        residual = out\n",
        "        out = self.norm_2(out)\n",
        "        out, dec_enc_attn = self.enc_dec_attn(out, enc_out, enc_out, causality_mask)\n",
        "        out = self.dropout(out)\n",
        "        out += residual\n",
        "\n",
        "        \"\"\"\n",
        "        Position-Wise Feed Forward Network\n",
        "        \"\"\"\n",
        "        residual = out\n",
        "        out = self.norm_3(out)\n",
        "        out = self.ffn(out)\n",
        "        out = self.dropout(out)\n",
        "        out += residual\n",
        "\n",
        "        return out, dec_attn, dec_enc_attn"
      ]
    },
    {
      "cell_type": "markdown",
      "id": "dc930b57",
      "metadata": {
        "id": "dc930b57"
      },
      "source": [
        "### 6) Transformer encoder 생성"
      ]
    },
    {
      "cell_type": "code",
      "execution_count": null,
      "id": "a55e3ba6",
      "metadata": {
        "id": "a55e3ba6",
        "outputId": "52426460-2c37-4e94-dd64-4a22393e3be2"
      },
      "outputs": [
        {
          "name": "stdout",
          "output_type": "stream",
          "text": [
            "슝=3\n"
          ]
        }
      ],
      "source": [
        "class Encoder(tf.keras.Model):\n",
        "    def __init__(self,\n",
        "                 n_layers,\n",
        "                 d_model,\n",
        "                 n_heads,\n",
        "                 d_ff,\n",
        "                 dropout):\n",
        "        super(Encoder, self).__init__()\n",
        "        self.n_layers = n_layers\n",
        "        self.enc_layers = [EncoderLayer(d_model, n_heads, d_ff, dropout)\n",
        "                        for _ in range(n_layers)]\n",
        "\n",
        "    def call(self, x, mask):\n",
        "        out = x\n",
        "\n",
        "        enc_attns = list()\n",
        "        for i in range(self.n_layers):\n",
        "            out, enc_attn = self.enc_layers[i](out, mask)\n",
        "            enc_attns.append(enc_attn)\n",
        "\n",
        "        return out, enc_attns\n",
        "\n",
        "print(\"슝=3\")"
      ]
    },
    {
      "cell_type": "markdown",
      "id": "c47f9402",
      "metadata": {
        "id": "c47f9402"
      },
      "source": [
        "### 7) Transformer decoder 생성"
      ]
    },
    {
      "cell_type": "code",
      "execution_count": null,
      "id": "34389105",
      "metadata": {
        "id": "34389105",
        "outputId": "a80a3338-d6c0-42bd-affb-909490663a6a"
      },
      "outputs": [
        {
          "name": "stdout",
          "output_type": "stream",
          "text": [
            "슝=3\n"
          ]
        }
      ],
      "source": [
        "class Decoder(tf.keras.Model):\n",
        "    def __init__(self,\n",
        "                 n_layers,\n",
        "                 d_model,\n",
        "                 n_heads,\n",
        "                 d_ff,\n",
        "                 dropout):\n",
        "        super(Decoder, self).__init__()\n",
        "        self.n_layers = n_layers\n",
        "        self.dec_layers = [DecoderLayer(d_model, n_heads, d_ff, dropout)\n",
        "                            for _ in range(n_layers)]\n",
        "\n",
        "\n",
        "    def call(self, x, enc_out, causality_mask, padding_mask):\n",
        "        out = x\n",
        "\n",
        "        dec_attns = list()\n",
        "        dec_enc_attns = list()\n",
        "        for i in range(self.n_layers):\n",
        "            out, dec_attn, dec_enc_attn = \\\n",
        "            self.dec_layers[i](out, enc_out, causality_mask, padding_mask)\n",
        "\n",
        "            dec_attns.append(dec_attn)\n",
        "            dec_enc_attns.append(dec_enc_attn)\n",
        "\n",
        "        return out, dec_attns, dec_enc_attns\n",
        "\n",
        "print(\"슝=3\")"
      ]
    },
    {
      "cell_type": "markdown",
      "id": "b3e5ab0b",
      "metadata": {
        "id": "b3e5ab0b"
      },
      "source": [
        "### 8) Transformer 생성"
      ]
    },
    {
      "cell_type": "code",
      "execution_count": null,
      "id": "991cf421",
      "metadata": {
        "id": "991cf421"
      },
      "outputs": [],
      "source": [
        "class Transformer(tf.keras.Model):\n",
        "    def __init__(self,\n",
        "                    n_layers,\n",
        "                    d_model,\n",
        "                    n_heads,\n",
        "                    d_ff,\n",
        "                    src_vocab_size,\n",
        "                    tgt_vocab_size,\n",
        "                    pos_len,\n",
        "                    dropout=0.2,\n",
        "                    shared=True):\n",
        "        super(Transformer, self).__init__()\n",
        "        self.d_model = tf.cast(d_model, tf.float32)\n",
        "\n",
        "        self.enc_emb = tf.keras.layers.Embedding(src_vocab_size, d_model)\n",
        "        self.dec_emb = tf.keras.layers.Embedding(tgt_vocab_size, d_model)\n",
        "\n",
        "        self.pos_encoding = positional_encoding(pos_len, d_model)\n",
        "        self.dropout = tf.keras.layers.Dropout(dropout)\n",
        "\n",
        "        self.encoder = Encoder(n_layers, d_model, n_heads, d_ff, dropout)\n",
        "        self.decoder = Decoder(n_layers, d_model, n_heads, d_ff, dropout)\n",
        "\n",
        "        self.fc = tf.keras.layers.Dense(tgt_vocab_size)\n",
        "\n",
        "        self.shared = shared\n",
        "\n",
        "        if shared: self.fc.set_weights(tf.transpose(self.dec_emb.weights))\n",
        "\n",
        "    def embedding(self, emb, x):\n",
        "        seq_len = x.shape[1]\n",
        "        out = emb(x)\n",
        "\n",
        "        if self.shared: out *= tf.math.sqrt(self.d_model)\n",
        "\n",
        "        out += self.pos_encoding[np.newaxis, ...][:, :seq_len, :]\n",
        "        out = self.dropout(out)\n",
        "\n",
        "        return out\n",
        "\n",
        "\n",
        "    def call(self, enc_in, dec_in, enc_mask, causality_mask, dec_mask):\n",
        "        enc_in = self.embedding(self.enc_emb, enc_in)\n",
        "        dec_in = self.embedding(self.dec_emb, dec_in)\n",
        "\n",
        "        enc_out, enc_attns = self.encoder(enc_in, enc_mask)\n",
        "\n",
        "        dec_out, dec_attns, dec_enc_attns = \\\n",
        "        self.decoder(dec_in, enc_out, causality_mask, dec_mask)\n",
        "\n",
        "        logits = self.fc(dec_out)\n",
        "\n",
        "        return logits, enc_attns, dec_attns, dec_enc_attns"
      ]
    },
    {
      "cell_type": "code",
      "execution_count": null,
      "id": "ffe4eba4",
      "metadata": {
        "id": "ffe4eba4",
        "outputId": "d605913f-716f-4882-a9ba-d30bb69d508d"
      },
      "outputs": [
        {
          "name": "stdout",
          "output_type": "stream",
          "text": [
            "슝=3\n"
          ]
        }
      ],
      "source": [
        "import numpy as np\n",
        "import tensorflow as tf\n",
        "\n",
        "def generate_padding_mask(seq):\n",
        "    seq = tf.cast(tf.math.equal(seq, 0), tf.float32)\n",
        "    return seq[:, tf.newaxis, tf.newaxis, :]\n",
        "\n",
        "def generate_causality_mask(src_len, tgt_len):\n",
        "    mask = 1 - np.cumsum(np.eye(src_len, tgt_len), 0)\n",
        "    return tf.cast(mask, tf.float32)\n",
        "\n",
        "def generate_masks(src, tgt):\n",
        "    enc_mask = generate_padding_mask(src)\n",
        "    dec_mask = generate_padding_mask(tgt)\n",
        "\n",
        "    dec_enc_causality_mask = generate_causality_mask(tgt.shape[1], src.shape[1])\n",
        "    dec_enc_mask = tf.maximum(enc_mask, dec_enc_causality_mask)\n",
        "\n",
        "    dec_causality_mask = generate_causality_mask(tgt.shape[1], tgt.shape[1])\n",
        "    dec_mask = tf.maximum(dec_mask, dec_causality_mask)\n",
        "\n",
        "    return enc_mask, dec_enc_mask, dec_mask\n",
        "\n",
        "print(\"슝=3\")"
      ]
    },
    {
      "cell_type": "code",
      "execution_count": null,
      "id": "350e87d3",
      "metadata": {
        "id": "350e87d3",
        "outputId": "e391453a-3b40-4b60-914b-955f60144810"
      },
      "outputs": [
        {
          "data": {
            "image/png": "[encoded data removed]",
            "text/plain": [
              "<Figure size 504x504 with 3 Axes>"
            ]
          },
          "metadata": {
            "image/png": {
              "height": 208,
              "width": 426
            },
            "needs_background": "light"
          },
          "output_type": "display_data"
        }
      ],
      "source": [
        "import matplotlib.pyplot as plt\n",
        "\n",
        "batch, length = 16, 20\n",
        "src_padding = 5\n",
        "tgt_padding = 15\n",
        "\n",
        "src_pad = tf.zeros(shape=(batch, src_padding))\n",
        "tgt_pad = tf.zeros(shape=(batch, tgt_padding))\n",
        "\n",
        "sample_data = tf.ones(shape=(batch, length))\n",
        "\n",
        "sample_src = tf.concat([sample_data, src_pad], axis=-1)\n",
        "sample_tgt = tf.concat([sample_data, tgt_pad], axis=-1)\n",
        "\n",
        "enc_mask, dec_enc_mask, dec_mask = \\\n",
        "generate_masks(sample_src, sample_tgt)\n",
        "\n",
        "fig = plt.figure(figsize=(7, 7))\n",
        "\n",
        "ax1 = fig.add_subplot(131)\n",
        "ax2 = fig.add_subplot(132)\n",
        "ax3 = fig.add_subplot(133)\n",
        "\n",
        "ax1.set_title('1) Encoder Mask')\n",
        "ax2.set_title('2) Encoder-Decoder Mask')\n",
        "ax3.set_title('3) Decoder Mask')\n",
        "\n",
        "ax1.imshow(enc_mask[:3, 0, 0].numpy(), cmap='Dark2')\n",
        "ax2.imshow(dec_enc_mask[0, 0].numpy(), cmap='Dark2')\n",
        "ax3.imshow(dec_mask[0, 0].numpy(), cmap='Dark2')\n",
        "\n",
        "plt.show()"
      ]
    },
    {
      "cell_type": "markdown",
      "id": "787a183d",
      "metadata": {
        "id": "787a183d"
      },
      "source": [
        "### 10) 학습률 설정"
      ]
    },
    {
      "cell_type": "code",
      "execution_count": null,
      "id": "c0d091fb",
      "metadata": {
        "id": "c0d091fb",
        "outputId": "bdda122c-4625-4589-818c-3c07294c751d"
      },
      "outputs": [
        {
          "name": "stdout",
          "output_type": "stream",
          "text": [
            "슝=3\n"
          ]
        }
      ],
      "source": [
        "class LearningRateScheduler(tf.keras.optimizers.schedules.LearningRateSchedule):\n",
        "    def __init__(self, d_model, warmup_steps=4000):\n",
        "        super(LearningRateScheduler, self).__init__()\n",
        "        self.d_model = d_model\n",
        "        self.warmup_steps = warmup_steps\n",
        "\n",
        "    def __call__(self, step):\n",
        "        arg1 = step ** -0.5\n",
        "        arg2 = step * (self.warmup_steps ** -1.5)\n",
        "\n",
        "        return (self.d_model ** -0.5) * tf.math.minimum(arg1, arg2)\n",
        "\n",
        "learning_rate = LearningRateScheduler(512)\n",
        "optimizer = tf.keras.optimizers.Adam(learning_rate,\n",
        "                                     beta_1=0.9,\n",
        "                                     beta_2=0.98,\n",
        "                                     epsilon=1e-9)\n",
        "\n",
        "print(\"슝=3\")"
      ]
    },
    {
      "cell_type": "markdown",
      "id": "59af8791",
      "metadata": {
        "id": "59af8791"
      },
      "source": [
        "# 2. 데이터 수집 및 가공\n",
        "### 1) 데이터 수집"
      ]
    },
    {
      "cell_type": "code",
      "execution_count": null,
      "id": "69451298",
      "metadata": {
        "id": "69451298"
      },
      "outputs": [],
      "source": [
        "data_dir = os.getenv('HOME')+'/aiffel/transformer/data'\n",
        "kor_path = data_dir+\"/korean-english-park.train.ko\"\n",
        "eng_path = data_dir+\"/korean-english-park.train.en\"\n",
        "\n",
        "# 데이터 정제 및 토큰화\n",
        "def clean_corpus(kor_path, eng_path):\n",
        "    with open(kor_path, \"r\") as f: kor = f.read().splitlines()\n",
        "    with open(eng_path, \"r\") as f: eng = f.read().splitlines()\n",
        "    assert len(kor) == len(eng)\n",
        "\n",
        "    raw = zip(kor, eng)\n",
        "    cleaned_corpus = set(raw)\n",
        "\n",
        "    return cleaned_corpus\n",
        "\n",
        "cleaned_corpus = clean_corpus(kor_path, eng_path)"
      ]
    },
    {
      "cell_type": "code",
      "execution_count": null,
      "id": "c2085371",
      "metadata": {
        "id": "c2085371",
        "outputId": "d9b480e2-6cfc-40bf-ac04-ee73d24ba98f"
      },
      "outputs": [
        {
          "name": "stdout",
          "output_type": "stream",
          "text": [
            "78968 78968\n"
          ]
        }
      ],
      "source": [
        "kor_corpus, eng_corpus = zip(*cleaned_corpus)\n",
        "print(len(kor_corpus), len(eng_corpus))"
      ]
    },
    {
      "cell_type": "markdown",
      "id": "60d7a339",
      "metadata": {
        "id": "60d7a339"
      },
      "source": [
        "### 2) 데이터 가공"
      ]
    },
    {
      "cell_type": "code",
      "execution_count": null,
      "id": "3364b3b0",
      "metadata": {
        "id": "3364b3b0"
      },
      "outputs": [],
      "source": [
        "def preprocess_sentence(sentence):\n",
        "\n",
        "    sentence = sentence.lower().strip()\n",
        "\n",
        "    sentence = re.sub(r\"([?.!,])\", r\" \\1 \", sentence)\n",
        "    sentence = re.sub(r'[\" \"]+', \" \", sentence)\n",
        "    sentence = re.sub(r\"[^a-zA-Z?.!가-힣ㄱ-ㅎ]+\", \" \", sentence)\n",
        "\n",
        "    sentence = sentence.strip()\n",
        "\n",
        "    return sentence"
      ]
    },
    {
      "cell_type": "code",
      "execution_count": null,
      "id": "2f5580a5",
      "metadata": {
        "id": "2f5580a5",
        "outputId": "53463c42-a198-47bf-a084-56af8dfb29d2"
      },
      "outputs": [
        {
          "name": "stdout",
          "output_type": "stream",
          "text": [
            "korean data size: 78968\n",
            "english data size: 78968\n",
            "Korean: 부시는 한반도에 포악한 정권이 두려움과 기아에 살고 있는 국민을 지배하고 있다 고 말했다 .\n",
            "English: on the korean peninsula an oppressive regime rules a people living in fear and starvation bush said .\n"
          ]
        }
      ],
      "source": [
        "enc_corpus = []\n",
        "dec_corpus = []\n",
        "\n",
        "for kor, eng in zip(kor_corpus, eng_corpus):\n",
        "    temp_kor = preprocess_sentence(kor)\n",
        "    temp_eng = preprocess_sentence(eng)\n",
        "\n",
        "    enc_corpus.append(temp_kor)\n",
        "    dec_corpus.append(temp_eng)\n",
        "\n",
        "print('korean data size:', len(enc_corpus))\n",
        "print('english data size:', len(dec_corpus))\n",
        "print(\"Korean:\", enc_corpus[500])\n",
        "print(\"English:\", dec_corpus[500])"
      ]
    },
    {
      "cell_type": "markdown",
      "id": "c620e227",
      "metadata": {
        "id": "c620e227"
      },
      "source": [
        "# 3. 데이터 정제 및 토큰화\n",
        "### 1) sentencepiece 를 통한 토큰화"
      ]
    },
    {
      "cell_type": "code",
      "execution_count": null,
      "id": "690be98f",
      "metadata": {
        "id": "690be98f"
      },
      "outputs": [],
      "source": [
        "import sentencepiece as spm\n",
        "import os\n",
        "\n",
        "# Sentencepiece를 활용하여 학습한 tokenizer를 생성합니다.\n",
        "def generate_tokenizer(corpus, vocab_size, lang=\"ko\", pad_id=0, bos_id=1, eos_id=2, unk_id=3):\n",
        "    model_name = f\"{lang}_spm\"\n",
        "    print('c')\n",
        "\n",
        "    # 텍스트 파일로 코퍼스 저장\n",
        "    temp_file = f\"{model_name}.temp\"\n",
        "    with open(temp_file, 'w', encoding='utf-8') as f:\n",
        "        for line in corpus:\n",
        "            f.write(f'{line}\\n')\n",
        "    print('l')\n",
        "\n",
        "    # SentencePiece 모델 학습\n",
        "    spm.SentencePieceTrainer.Train(\n",
        "        f'--input={temp_file} --model_prefix={model_name} '\n",
        "        f'--vocab_size={vocab_size} --character_coverage=1.0 '\n",
        "        f'--pad_id={pad_id} --bos_id={bos_id} --eos_id={eos_id} --unk_id={unk_id}'\n",
        "    )\n",
        "    print('e')\n",
        "\n",
        "    # 생성된 모델 로드\n",
        "    tokenizer = spm.SentencePieceProcessor()\n",
        "    tokenizer.Load(f\"{model_name}.model\")\n",
        "    print('a')\n",
        "\n",
        "    # 임시 파일 삭제\n",
        "    os.remove(temp_file)\n",
        "    print('r')\n",
        "\n",
        "    return tokenizer"
      ]
    },
    {
      "cell_type": "code",
      "execution_count": null,
      "id": "0851729b",
      "metadata": {
        "id": "0851729b"
      },
      "outputs": [],
      "source": [
        "#뭐가 잘못되었다\n",
        "# import sentencepiece as spm\n",
        "\n",
        "# def generate_tokenizer(corpus,\n",
        "#                         vocab_size,\n",
        "#                         lang=\"ko\",\n",
        "#                         pad_id=0,\n",
        "#                         bos_id=1,\n",
        "#                         eos_id=2,\n",
        "#                         unk_id=3):\n",
        "#     model_name = f\"{lang}_spm\"\n",
        "\n",
        "#     spm.SentencePieceTrainer.Train(\n",
        "#         '--input={} --model_prefix={} --vocab_size={} --pad_id={} --bos_id={} --eos_id={} --unk_id={}'.format(corpus,model_name, vocab_size, pad_id, bos_id, eos_id, unk_id))\n",
        "#     print('clear')\n",
        "\n",
        "#     # Sentencepiece 사전을 생성합니다.\n",
        "#     tokenizer = spm.SentencePieceProcessor()\n",
        "#     tokenizer.Load('{}.model'.format(model_name))\n",
        "#     pritn('clear2')\n",
        "\n",
        "#     # 임시 파일 삭제\n",
        "#     os.remove(temp_file)\n",
        "\n",
        "#     return tokenizer"
      ]
    },
    {
      "cell_type": "code",
      "execution_count": null,
      "id": "fe757893",
      "metadata": {
        "id": "fe757893",
        "outputId": "ba48d783-1959-4fe1-d814-636c7b8d2de1"
      },
      "outputs": [
        {
          "name": "stdout",
          "output_type": "stream",
          "text": [
            "터넨트는 어미 곰의 둔부에 진정제를 놓았지만 근육이 아닌 살에 꽂힌 탓에 약 성분의 흡수가 늦어지고 있었다.\n",
            "The wildlife biologist shoots a tranquilizer dart into the mother's rump, but the dart goes into fat, not muscle, slowing absorption into her blood.\n",
            "터넨트는 어미 곰의 둔부에 진정제를 놓았지만 근육이 아닌 살에 꽂힌 탓에 약 성분의 흡수가 늦어지고 있었다 .\n",
            "the wildlife biologist shoots a tranquilizer dart into the mother s rump but the dart goes into fat not muscle slowing absorption into her blood .\n"
          ]
        }
      ],
      "source": [
        "cleaned_corpus\n",
        "print(kor_corpus[0])\n",
        "print(eng_corpus[0])\n",
        "print(enc_corpus[0])\n",
        "print(dec_corpus[0])"
      ]
    },
    {
      "cell_type": "code",
      "execution_count": null,
      "id": "f7f7da7e",
      "metadata": {
        "id": "f7f7da7e",
        "outputId": "4c000fcd-ac15-4f3b-ceb9-8eff28ed5e6e"
      },
      "outputs": [
        {
          "name": "stdout",
          "output_type": "stream",
          "text": [
            "c\n",
            "l\n"
          ]
        },
        {
          "name": "stderr",
          "output_type": "stream",
          "text": [
            "sentencepiece_trainer.cc(177) LOG(INFO) Running command: --input=ko_spm.temp --model_prefix=ko_spm --vocab_size=20000 --character_coverage=1.0 --pad_id=0 --bos_id=1 --eos_id=2 --unk_id=3\n",
            "sentencepiece_trainer.cc(77) LOG(INFO) Starts training with : \n",
            "trainer_spec {\n",
            "  input: ko_spm.temp\n",
            "  input_format: \n",
            "  model_prefix: ko_spm\n",
            "  model_type: UNIGRAM\n",
            "  vocab_size: 20000\n",
            "  self_test_sample_size: 0\n",
            "  character_coverage: 1\n",
            "  input_sentence_size: 0\n",
            "  shuffle_input_sentence: 1\n",
            "  seed_sentencepiece_size: 1000000\n",
            "  shrinking_factor: 0.75\n",
            "  max_sentence_length: 4192\n",
            "  num_threads: 16\n",
            "  num_sub_iterations: 2\n",
            "  max_sentencepiece_length: 16\n",
            "  split_by_unicode_script: 1\n",
            "  split_by_number: 1\n",
            "  split_by_whitespace: 1\n",
            "  split_digits: 0\n",
            "  treat_whitespace_as_suffix: 0\n",
            "  allow_whitespace_only_pieces: 0\n",
            "  required_chars: \n",
            "  byte_fallback: 0\n",
            "  vocabulary_output_piece_score: 1\n",
            "  train_extremely_large_corpus: 0\n",
            "  hard_vocab_limit: 1\n",
            "  use_all_vocab: 0\n",
            "  unk_id: 3\n",
            "  bos_id: 1\n",
            "  eos_id: 2\n",
            "  pad_id: 0\n",
            "  unk_piece: <unk>\n",
            "  bos_piece: <s>\n",
            "  eos_piece: </s>\n",
            "  pad_piece: <pad>\n",
            "  unk_surface:  ⁇ \n",
            "}\n",
            "normalizer_spec {\n",
            "  name: nmt_nfkc\n",
            "  add_dummy_prefix: 1\n",
            "  remove_extra_whitespaces: 1\n",
            "  escape_whitespaces: 1\n",
            "  normalization_rule_tsv: \n",
            "}\n",
            "denormalizer_spec {}\n",
            "trainer_interface.cc(329) LOG(INFO) SentenceIterator is not specified. Using MultiFileSentenceIterator.\n",
            "trainer_interface.cc(178) LOG(INFO) Loading corpus: ko_spm.temp\n",
            "trainer_interface.cc(385) LOG(INFO) Loaded all 78967 sentences\n",
            "trainer_interface.cc(400) LOG(INFO) Adding meta_piece: <pad>\n",
            "trainer_interface.cc(400) LOG(INFO) Adding meta_piece: <s>\n",
            "trainer_interface.cc(400) LOG(INFO) Adding meta_piece: </s>\n",
            "trainer_interface.cc(400) LOG(INFO) Adding meta_piece: <unk>\n",
            "trainer_interface.cc(405) LOG(INFO) Normalizing sentences...\n",
            "trainer_interface.cc(466) LOG(INFO) all chars count=5005519\n",
            "trainer_interface.cc(487) LOG(INFO) Alphabet size=1670\n",
            "trainer_interface.cc(488) LOG(INFO) Final character coverage=1\n",
            "trainer_interface.cc(520) LOG(INFO) Done! preprocessed 78967 sentences.\n",
            "unigram_model_trainer.cc(139) LOG(INFO) Making suffix array...\n",
            "unigram_model_trainer.cc(143) LOG(INFO) Extracting frequent sub strings...\n",
            "unigram_model_trainer.cc(194) LOG(INFO) Initialized 160592 seed sentencepieces\n",
            "trainer_interface.cc(526) LOG(INFO) Tokenizing input sentences with whitespace: 78967\n",
            "trainer_interface.cc(537) LOG(INFO) Done! 196048\n",
            "unigram_model_trainer.cc(489) LOG(INFO) Using 196048 sentences for EM training\n",
            "unigram_model_trainer.cc(505) LOG(INFO) EM sub_iter=0 size=83903 obj=12.6761 num_tokens=377937 num_tokens/piece=4.50445\n",
            "unigram_model_trainer.cc(505) LOG(INFO) EM sub_iter=1 size=71153 obj=11.5149 num_tokens=379275 num_tokens/piece=5.33041\n",
            "unigram_model_trainer.cc(505) LOG(INFO) EM sub_iter=0 size=53359 obj=11.526 num_tokens=396557 num_tokens/piece=7.43187\n",
            "unigram_model_trainer.cc(505) LOG(INFO) EM sub_iter=1 size=53340 obj=11.492 num_tokens=396887 num_tokens/piece=7.4407\n",
            "unigram_model_trainer.cc(505) LOG(INFO) EM sub_iter=0 size=40005 obj=11.6396 num_tokens=420716 num_tokens/piece=10.5166\n",
            "unigram_model_trainer.cc(505) LOG(INFO) EM sub_iter=1 size=40005 obj=11.603 num_tokens=421237 num_tokens/piece=10.5296\n",
            "unigram_model_trainer.cc(505) LOG(INFO) EM sub_iter=0 size=30003 obj=11.8072 num_tokens=447679 num_tokens/piece=14.9211\n",
            "unigram_model_trainer.cc(505) LOG(INFO) EM sub_iter=1 size=30003 obj=11.7639 num_tokens=447678 num_tokens/piece=14.9211\n",
            "unigram_model_trainer.cc(505) LOG(INFO) EM sub_iter=0 size=22502 obj=12.0095 num_tokens=474538 num_tokens/piece=21.0887\n",
            "unigram_model_trainer.cc(505) LOG(INFO) EM sub_iter=1 size=22502 obj=11.9619 num_tokens=474529 num_tokens/piece=21.0883\n",
            "unigram_model_trainer.cc(505) LOG(INFO) EM sub_iter=0 size=22000 obj=11.9888 num_tokens=476538 num_tokens/piece=21.6608\n",
            "unigram_model_trainer.cc(505) LOG(INFO) EM sub_iter=1 size=22000 obj=11.9844 num_tokens=476577 num_tokens/piece=21.6626\n",
            "trainer_interface.cc(615) LOG(INFO) Saving model: ko_spm.model\n",
            "trainer_interface.cc(626) LOG(INFO) Saving vocabs: ko_spm.vocab\n",
            "sentencepiece_trainer.cc(177) LOG(INFO) Running command: --input=en_spm.temp --model_prefix=en_spm --vocab_size=20000 --character_coverage=1.0 --pad_id=0 --bos_id=1 --eos_id=2 --unk_id=3\n"
          ]
        },
        {
          "name": "stdout",
          "output_type": "stream",
          "text": [
            "e\n",
            "a\n",
            "r\n",
            "c\n",
            "l\n",
            "e\n",
            "a\n",
            "r\n"
          ]
        },
        {
          "name": "stderr",
          "output_type": "stream",
          "text": [
            "sentencepiece_trainer.cc(77) LOG(INFO) Starts training with : \n",
            "trainer_spec {\n",
            "  input: en_spm.temp\n",
            "  input_format: \n",
            "  model_prefix: en_spm\n",
            "  model_type: UNIGRAM\n",
            "  vocab_size: 20000\n",
            "  self_test_sample_size: 0\n",
            "  character_coverage: 1\n",
            "  input_sentence_size: 0\n",
            "  shuffle_input_sentence: 1\n",
            "  seed_sentencepiece_size: 1000000\n",
            "  shrinking_factor: 0.75\n",
            "  max_sentence_length: 4192\n",
            "  num_threads: 16\n",
            "  num_sub_iterations: 2\n",
            "  max_sentencepiece_length: 16\n",
            "  split_by_unicode_script: 1\n",
            "  split_by_number: 1\n",
            "  split_by_whitespace: 1\n",
            "  split_digits: 0\n",
            "  treat_whitespace_as_suffix: 0\n",
            "  allow_whitespace_only_pieces: 0\n",
            "  required_chars: \n",
            "  byte_fallback: 0\n",
            "  vocabulary_output_piece_score: 1\n",
            "  train_extremely_large_corpus: 0\n",
            "  hard_vocab_limit: 1\n",
            "  use_all_vocab: 0\n",
            "  unk_id: 3\n",
            "  bos_id: 1\n",
            "  eos_id: 2\n",
            "  pad_id: 0\n",
            "  unk_piece: <unk>\n",
            "  bos_piece: <s>\n",
            "  eos_piece: </s>\n",
            "  pad_piece: <pad>\n",
            "  unk_surface:  ⁇ \n",
            "}\n",
            "normalizer_spec {\n",
            "  name: nmt_nfkc\n",
            "  add_dummy_prefix: 1\n",
            "  remove_extra_whitespaces: 1\n",
            "  escape_whitespaces: 1\n",
            "  normalization_rule_tsv: \n",
            "}\n",
            "denormalizer_spec {}\n",
            "trainer_interface.cc(329) LOG(INFO) SentenceIterator is not specified. Using MultiFileSentenceIterator.\n",
            "trainer_interface.cc(178) LOG(INFO) Loading corpus: en_spm.temp\n",
            "trainer_interface.cc(385) LOG(INFO) Loaded all 78956 sentences\n",
            "trainer_interface.cc(400) LOG(INFO) Adding meta_piece: <pad>\n",
            "trainer_interface.cc(400) LOG(INFO) Adding meta_piece: <s>\n",
            "trainer_interface.cc(400) LOG(INFO) Adding meta_piece: </s>\n",
            "trainer_interface.cc(400) LOG(INFO) Adding meta_piece: <unk>\n",
            "trainer_interface.cc(405) LOG(INFO) Normalizing sentences...\n",
            "trainer_interface.cc(466) LOG(INFO) all chars count=10479543\n",
            "trainer_interface.cc(487) LOG(INFO) Alphabet size=30\n",
            "trainer_interface.cc(488) LOG(INFO) Final character coverage=1\n",
            "trainer_interface.cc(520) LOG(INFO) Done! preprocessed 78956 sentences.\n",
            "unigram_model_trainer.cc(139) LOG(INFO) Making suffix array...\n",
            "unigram_model_trainer.cc(143) LOG(INFO) Extracting frequent sub strings...\n",
            "unigram_model_trainer.cc(194) LOG(INFO) Initialized 83013 seed sentencepieces\n",
            "trainer_interface.cc(526) LOG(INFO) Tokenizing input sentences with whitespace: 78956\n",
            "trainer_interface.cc(537) LOG(INFO) Done! 44562\n",
            "unigram_model_trainer.cc(489) LOG(INFO) Using 44562 sentences for EM training\n",
            "unigram_model_trainer.cc(505) LOG(INFO) EM sub_iter=0 size=34435 obj=10.0197 num_tokens=83334 num_tokens/piece=2.42004\n",
            "unigram_model_trainer.cc(505) LOG(INFO) EM sub_iter=1 size=25819 obj=8.17663 num_tokens=83826 num_tokens/piece=3.24668\n",
            "unigram_model_trainer.cc(505) LOG(INFO) EM sub_iter=0 size=21975 obj=8.0916 num_tokens=84670 num_tokens/piece=3.85301\n",
            "unigram_model_trainer.cc(505) LOG(INFO) EM sub_iter=1 size=21840 obj=8.07198 num_tokens=84917 num_tokens/piece=3.88814\n",
            "trainer_interface.cc(615) LOG(INFO) Saving model: en_spm.model\n",
            "trainer_interface.cc(626) LOG(INFO) Saving vocabs: en_spm.vocab\n"
          ]
        },
        {
          "data": {
            "text/plain": [
              "True"
            ]
          },
          "execution_count": 23,
          "metadata": {},
          "output_type": "execute_result"
        }
      ],
      "source": [
        "# enc_corpus = []\n",
        "# dec_corpus = []\n",
        "\n",
        "SRC_VOCAB_SIZE = TGT_VOCAB_SIZE = 20000\n",
        "\n",
        "ko_tokenizer = generate_tokenizer(enc_corpus, SRC_VOCAB_SIZE, \"ko\")\n",
        "en_tokenizer = generate_tokenizer(dec_corpus, TGT_VOCAB_SIZE, \"en\")\n",
        "en_tokenizer.set_encode_extra_options(\"bos:eos\")"
      ]
    },
    {
      "cell_type": "code",
      "execution_count": null,
      "id": "065dc153",
      "metadata": {
        "id": "065dc153"
      },
      "outputs": [],
      "source": [
        "#원활한 진행을 위하여 변수 카피 진행\n",
        "import copy\n",
        "\n",
        "kor_corpus = copy.deepcopy(enc_corpus)\n",
        "eng_corpus = copy.deepcopy(dec_corpus)"
      ]
    },
    {
      "cell_type": "code",
      "execution_count": null,
      "id": "b1ae9c22",
      "metadata": {
        "id": "b1ae9c22",
        "outputId": "00ae2343-7a1b-40b1-a41b-10c627f4a707",
        "colab": {
          "referenced_widgets": [
            "86545cad41d74343b73f0fc9cd877919"
          ]
        }
      },
      "outputs": [
        {
          "data": {
            "application/vnd.jupyter.widget-view+json": {
              "model_id": "86545cad41d74343b73f0fc9cd877919",
              "version_major": 2,
              "version_minor": 0
            },
            "text/plain": [
              "  0%|          | 0/78968 [00:00<?, ?it/s]"
            ]
          },
          "metadata": {},
          "output_type": "display_data"
        }
      ],
      "source": [
        "import tensorflow as tf\n",
        "from tqdm.notebook import tqdm    # 진행 과정을 보기 위한 도구\n",
        "\n",
        "src_corpus = []\n",
        "tgt_corpus = []\n",
        "\n",
        "assert len(kor_corpus) == len(eng_corpus)\n",
        "\n",
        "# 토큰의 길이가 50 이하인 문장만 남깁니다.\n",
        "for idx in tqdm(range(len(kor_corpus))):\n",
        "    src_tok = ko_tokenizer.EncodeAsIds(kor_corpus[idx])  # 한국어 문장 토큰화\n",
        "    tgt_tok = en_tokenizer.EncodeAsIds(eng_corpus[idx])  # 영어 문장 토큰화\n",
        "\n",
        "    if len(src_tok) <= 50 and len(tgt_tok) <= 50:  # 토큰 길이가 50 이하인 경우만 선택\n",
        "        src_corpus.append(src_tok)\n",
        "        tgt_corpus.append(tgt_tok)\n",
        "\n",
        "# 패딩처리를 완료하여 학습용 데이터를 완성합니다.\n",
        "enc_train = tf.keras.preprocessing.sequence.pad_sequences(src_corpus, padding='post')\n",
        "dec_train = tf.keras.preprocessing.sequence.pad_sequences(tgt_corpus, padding='post')"
      ]
    },
    {
      "cell_type": "code",
      "execution_count": null,
      "id": "f54908a9",
      "metadata": {
        "id": "f54908a9",
        "outputId": "ba99e8d5-898e-45bc-be95-d670c872ae56"
      },
      "outputs": [
        {
          "name": "stdout",
          "output_type": "stream",
          "text": [
            "['▁부시', '▁대통령이', '▁탈북자들', '을', '▁만난', '▁것은', '▁년', '▁월', '▁강철', '환', '씨', '를', '▁집무실', '로', '▁초대', '한', '▁이후', '▁이번', '이', '▁두', '▁번째', '이다', '▁.']\n",
            "['▁터넨트', '는', '▁어미', '▁곰', '의', '▁둔', '부', '에', '▁진정제', '를', '▁놓았', '지만', '▁근육', '이', '▁아닌', '▁살', '에', '▁', '꽂', '힌', '▁', '탓', '에', '▁약', '▁성분', '의', '▁흡수', '가', '▁', '늦', '어', '지', '고', '▁있었다', '▁.']\n",
            "['▁약물', '▁치료', '를', '▁하는', '▁고혈압', '▁환자들', '은', '▁손', '으로', '▁하는', '▁마사지', '를', '▁피해', '야', '▁한다', '▁.']\n",
            "['▁한편', '▁이라크', '▁북부', '▁지역', '의', '▁최고', '▁미', '▁사령관', '은', '▁이', '▁지역에', '▁연합군', '이', '▁년', '▁반', '▁동안', '▁더', '▁주둔', '해야', '▁한다고', '▁지적했다', '▁.']\n",
            "['▁케네디', '는', '▁타임즈', '에서', '▁자신이', '▁상원의원직', '에', '▁가장', '▁적합한', '지에', '▁대한', '▁질문에', '▁가장', '▁적합', '하다고', '▁생각하지', '▁않았다면', '▁여기', '▁있지', '▁않을', '▁것', '▁이라고', '▁말했다', '▁.']\n",
            "['▁그러나', '▁많은', '▁여성', '▁단체들', '과', '▁예술가들', '은', '▁법에', '▁의해', '▁외', '설', '로', '▁치', '부', '되는', '▁것', '들이', '▁법적', '인', '▁제재', '를', '▁받게', '되는', '▁경우', '▁표현', '의', '▁자유', '까지', '도', '▁침해', '할', '▁수', '▁있다고', '▁우려', '하고', '▁있다', '▁.']\n",
            "['▁침실', '은', '▁개인', '의', '▁성', '역', '이지만', '▁자신의', '▁취미', '나', '▁취향', '을', '▁보여주', '게', '▁된다', '▁.']\n",
            "['▁멕시코', '▁재벌', '▁칼로', '스', '▁슬림', '이', '▁자산', '규모', '▁억달러', '▁약', '▁조원', '▁로', '▁마이크로소프트', '사의', '▁빌', '▁게이츠', '를', '▁뛰어넘', '어', '▁세계', '▁위', '▁부자', '로', '▁등', '극', '했다고', '▁멕시코', '▁재무', '재', '산', '▁관계자가', '▁일', '▁현지시간', '▁발표했다', '▁.']\n",
            "['▁한편', '▁올', '잉', '글', '랜드', '클', '럽', '은', '▁이번', '▁대회', '부터', '▁호', '크', '아', '이', '▁기술', '을', '▁처음', '으로', '▁사용한다', '고', '▁밝혔다', '▁.']\n",
            "['▁오', '자와', '의', '▁발표', '는', '▁그', '가', '▁일본의', '▁새', '▁총리', '의', '▁연정', '▁제안', '을', '▁즉', '시', '▁거절', '하지', '▁않은', '▁것에', '▁대한', '▁당내', '▁비판', '을', '▁수용', '한', '▁이후', '▁나왔다', '▁.']\n"
          ]
        }
      ],
      "source": [
        "# 원하는 인덱스의 데이터에 대해서만 수행\n",
        "# 정현님 코드 참조\n",
        "\n",
        "for i in range(10):\n",
        "    src_sequence = enc_train[i - 1]\n",
        "    src_tokens = [ko_tokenizer.IdToPiece(int(token)) for token in src_sequence if token != 0]\n",
        "#     print(src_sequence)\n",
        "    print(src_tokens)"
      ]
    },
    {
      "cell_type": "markdown",
      "id": "9a65adf7",
      "metadata": {
        "id": "9a65adf7"
      },
      "source": [
        "# 4. 훈련하기\n",
        "### 1) 트렌스포머 선언"
      ]
    },
    {
      "cell_type": "code",
      "execution_count": null,
      "id": "6751579d",
      "metadata": {
        "id": "6751579d"
      },
      "outputs": [],
      "source": [
        "# LearningRateScheduler\n",
        "\n",
        "# 트랜스포머 선언\n",
        "\n",
        "# Hyperparameters\n",
        "N_LAYERS = 2\n",
        "D_MODEL = 512\n",
        "N_HEADS = 8\n",
        "D_FF = 2048\n",
        "POS_LEN = 200  # 이 값은 데이터셋에 따라 조정될 수 있습니다.\n",
        "DROPOUT = 0.1\n",
        "\n",
        "# Transformer 인스턴스 생성\n",
        "transformer = Transformer(\n",
        "    n_layers=N_LAYERS,\n",
        "    d_model=D_MODEL,\n",
        "    n_heads=N_HEADS,\n",
        "    d_ff=D_FF,\n",
        "    src_vocab_size=SRC_VOCAB_SIZE,\n",
        "    tgt_vocab_size=TGT_VOCAB_SIZE,\n",
        "    pos_len=POS_LEN,\n",
        "    dropout=DROPOUT\n",
        ")"
      ]
    },
    {
      "cell_type": "markdown",
      "id": "8a2bcaf8",
      "metadata": {
        "id": "8a2bcaf8"
      },
      "source": [
        "### 2) 손실함수 정의"
      ]
    },
    {
      "cell_type": "code",
      "execution_count": null,
      "id": "ff2257e9",
      "metadata": {
        "id": "ff2257e9"
      },
      "outputs": [],
      "source": [
        "loss_object = tf.keras.losses.SparseCategoricalCrossentropy(\n",
        "    from_logits=True, reduction='none')\n",
        "\n",
        "def loss_function(real, pred):\n",
        "    mask = tf.math.logical_not(tf.math.equal(real, 0))\n",
        "    loss_ = loss_object(real, pred)\n",
        "\n",
        "    # Masking 되지 않은 입력의 개수로 Scaling하는 과정\n",
        "    mask = tf.cast(mask, dtype=loss_.dtype)\n",
        "    loss_ *= mask\n",
        "\n",
        "    return tf.reduce_sum(loss_)/tf.reduce_sum(mask)"
      ]
    },
    {
      "cell_type": "markdown",
      "id": "9815e89d",
      "metadata": {
        "id": "9815e89d"
      },
      "source": [
        "### 3) Train step 함수 선정"
      ]
    },
    {
      "cell_type": "code",
      "execution_count": null,
      "id": "b8395a5a",
      "metadata": {
        "id": "b8395a5a"
      },
      "outputs": [],
      "source": [
        "# train_step 함수 완성\n",
        "@tf.function()\n",
        "def train_step(src, tgt, model, optimizer):\n",
        "    gold = tgt[:, 1:]\n",
        "\n",
        "    enc_mask, dec_enc_mask, dec_mask = generate_masks(src, tgt)\n",
        "\n",
        "    with tf.GradientTape() as tape:\n",
        "        predictions, enc_attns, dec_attns, dec_enc_attns = model(src, tgt, enc_mask, dec_enc_mask, dec_mask)\n",
        "        loss = loss_function(gold, predictions[:, :-1])\n",
        "\n",
        "    gradients = tape.gradient(loss, model.trainable_variables)\n",
        "    optimizer.apply_gradients(zip(gradients, model.trainable_variables))\n",
        "\n",
        "    return loss, enc_attns, dec_attns, dec_enc_attns"
      ]
    },
    {
      "cell_type": "markdown",
      "id": "9c55fd69",
      "metadata": {
        "id": "9c55fd69"
      },
      "source": [
        "### 4) attention 시각화 함수 생성"
      ]
    },
    {
      "cell_type": "code",
      "execution_count": null,
      "id": "13b70799",
      "metadata": {
        "id": "13b70799"
      },
      "outputs": [],
      "source": [
        "# Attention 시각화 함수\n",
        "\n",
        "def visualize_attention(src, tgt, enc_attns, dec_attns, dec_enc_attns):\n",
        "    def draw(data, ax, x=\"auto\", y=\"auto\"):\n",
        "        import seaborn\n",
        "        seaborn.heatmap(data,\n",
        "                        square=True,\n",
        "                        vmin=0.0, vmax=1.0,\n",
        "                        cbar=False, ax=ax,\n",
        "                        xticklabels=x,\n",
        "                        yticklabels=y)\n",
        "\n",
        "    for layer in range(0, 2, 1):\n",
        "        fig, axs = plt.subplots(1, 4, figsize=(20, 10))\n",
        "        print(\"Encoder Layer\", layer + 1)\n",
        "        for h in range(4):\n",
        "            draw(enc_attns[layer][0, h, :len(src), :len(src)], axs[h], src, src)\n",
        "        plt.show()\n",
        "\n",
        "    for layer in range(0, 2, 1):\n",
        "        fig, axs = plt.subplots(1, 4, figsize=(20, 10))\n",
        "        print(\"Decoder Self Layer\", layer+1)\n",
        "        for h in range(4):\n",
        "            draw(dec_attns[layer][0, h, :len(tgt), :len(tgt)], axs[h], tgt, tgt)\n",
        "        plt.show()\n",
        "\n",
        "        print(\"Decoder Src Layer\", layer+1)\n",
        "        fig, axs = plt.subplots(1, 4, figsize=(20, 10))\n",
        "        for h in range(4):\n",
        "            draw(dec_enc_attns[layer][0, h, :len(tgt), :len(src)], axs[h], src, tgt)\n",
        "        plt.show()"
      ]
    },
    {
      "cell_type": "markdown",
      "id": "60734047",
      "metadata": {
        "id": "60734047"
      },
      "source": [
        "### 5) 번역 생성 함수 선정"
      ]
    },
    {
      "cell_type": "code",
      "execution_count": null,
      "id": "68efb2f9",
      "metadata": {
        "id": "68efb2f9"
      },
      "outputs": [],
      "source": [
        "# 번역 생성 함수\n",
        "\n",
        "def evaluate(sentence, model, src_tokenizer, tgt_tokenizer):\n",
        "    sentence = preprocess_sentence(sentence)\n",
        "\n",
        "    pieces = src_tokenizer.encode_as_pieces(sentence)\n",
        "    tokens = src_tokenizer.encode_as_ids(sentence)\n",
        "\n",
        "    _input = tf.keras.preprocessing.sequence.pad_sequences([tokens],\n",
        "                                                           maxlen=enc_train.shape[-1],\n",
        "                                                           padding='post')\n",
        "\n",
        "    ids = []\n",
        "    output = tf.expand_dims([tgt_tokenizer.bos_id()], 0)\n",
        "    for i in range(dec_train.shape[-1]):\n",
        "        enc_padding_mask, combined_mask, dec_padding_mask = \\\n",
        "        generate_masks(_input, output)\n",
        "\n",
        "        predictions, enc_attns, dec_attns, dec_enc_attns =\\\n",
        "        model(_input,\n",
        "              output,\n",
        "              enc_padding_mask,\n",
        "              combined_mask,\n",
        "              dec_padding_mask)\n",
        "\n",
        "        predicted_id = \\\n",
        "        tf.argmax(tf.math.softmax(predictions, axis=-1)[0, -1]).numpy().item()\n",
        "\n",
        "        if tgt_tokenizer.eos_id() == predicted_id:\n",
        "            result = tgt_tokenizer.decode_ids(ids)\n",
        "            return pieces, result, enc_attns, dec_attns, dec_enc_attns\n",
        "\n",
        "        ids.append(predicted_id)\n",
        "        output = tf.concat([output, tf.expand_dims([predicted_id], 0)], axis=-1)\n",
        "\n",
        "    result = tgt_tokenizer.decode_ids(ids)\n",
        "\n",
        "    return pieces, result, enc_attns, dec_attns, dec_enc_attns"
      ]
    },
    {
      "cell_type": "code",
      "execution_count": null,
      "id": "b2427ed2",
      "metadata": {
        "id": "b2427ed2"
      },
      "outputs": [],
      "source": [
        "# 번역 생성 및 Attention 시각화 결합\n",
        "\n",
        "def translate(sentence, model, src_tokenizer, tgt_tokenizer, plot_attention=False):\n",
        "    pieces, result, enc_attns, dec_attns, dec_enc_attns = \\\n",
        "    evaluate(sentence, model, src_tokenizer, tgt_tokenizer)\n",
        "\n",
        "    print('Input: %s' % (sentence))\n",
        "    print('Predicted translation: {}'.format(result))\n",
        "\n",
        "    if plot_attention:\n",
        "        visualize_attention(pieces, result.split(), enc_attns, dec_attns, dec_enc_attns)"
      ]
    },
    {
      "cell_type": "code",
      "execution_count": null,
      "id": "e83d4420",
      "metadata": {
        "id": "e83d4420",
        "outputId": "59711e43-4b2f-4134-8922-0f9d631458d3",
        "colab": {
          "referenced_widgets": [
            "b5a8b693f5794224873cca74872fba28",
            "98c149ee6bd5434c928bd01a14ce684a",
            "e85d508afd754699aacfb18f5ced6f28",
            "252a5abae3e44ec4a563a5fb1c598e4b",
            "4921ff8234bc4d93b78eceede14af2b0",
            "5c21813c6d3d4506bf69414009c13137",
            "5ea4ee27317b4acababfed7a689f7cca",
            "aaa5a7c5b05647a8bd0f099af38fa692",
            "19236e6bcda84f3684c4dab5c589f39b",
            "e343e80680cd40c18173b0a13f4c0fb9",
            "6d9063a6bfd74891ae9fb92605759ce5",
            "914e1de033d14534be43cf884ceb39f4",
            "0c881a6603f7482b835d0208f5b8aa4b",
            "6dcfa289c2974e2cb401c29d36031686",
            "54ac80d7ee904de8a30ddcca8acb87b3",
            "ef840c05479c4bbfad6f6682a311518a",
            "ea2856cbb84d48b7b753c204e1140359",
            "d73c8d64beb7434bab7e8e727ec9c5c6",
            "f603a240ba984f50bbaec44bef803e52",
            "374c07c89e7546ab9a4d5ef85cfa9fb0"
          ]
        }
      },
      "outputs": [
        {
          "name": "stderr",
          "output_type": "stream",
          "text": [
            "/tmp/ipykernel_177/1811356450.py:20: TqdmDeprecationWarning: This function will be removed in tqdm==5.0.0\n",
            "Please use `tqdm.notebook.tqdm` instead of `tqdm.tqdm_notebook`\n",
            "  t = tqdm_notebook(idx_list)\n"
          ]
        },
        {
          "data": {
            "application/vnd.jupyter.widget-view+json": {
              "model_id": "b5a8b693f5794224873cca74872fba28",
              "version_major": 2,
              "version_minor": 0
            },
            "text/plain": [
              "  0%|          | 0/1150 [00:00<?, ?it/s]"
            ]
          },
          "metadata": {},
          "output_type": "display_data"
        },
        {
          "name": "stdout",
          "output_type": "stream",
          "text": [
            "Input: 오바마는 대통령이다.\n",
            "Predicted translation: obama s obama is a victory .\n",
            "Input: 시민들은 도시 속에 산다.\n",
            "Predicted translation: the city of the city s .\n",
            "Input: 커피는 필요 없다.\n",
            "Predicted translation: the united states is a good .\n",
            "Input: 일곱 명의 사망자가 발생했다.\n",
            "Predicted translation: the city of the city of the city .\n"
          ]
        },
        {
          "data": {
            "application/vnd.jupyter.widget-view+json": {
              "model_id": "98c149ee6bd5434c928bd01a14ce684a",
              "version_major": 2,
              "version_minor": 0
            },
            "text/plain": [
              "  0%|          | 0/1150 [00:00<?, ?it/s]"
            ]
          },
          "metadata": {},
          "output_type": "display_data"
        },
        {
          "name": "stdout",
          "output_type": "stream",
          "text": [
            "Input: 오바마는 대통령이다.\n",
            "Predicted translation: obama is a president elect barack obama .\n",
            "Input: 시민들은 도시 속에 산다.\n",
            "Predicted translation: the city is a city of the city .\n",
            "Input: 커피는 필요 없다.\n",
            "Predicted translation: coffee coffee there is no .\n",
            "Input: 일곱 명의 사망자가 발생했다.\n",
            "Predicted translation: the death toll was killed .\n"
          ]
        },
        {
          "data": {
            "application/vnd.jupyter.widget-view+json": {
              "model_id": "e85d508afd754699aacfb18f5ced6f28",
              "version_major": 2,
              "version_minor": 0
            },
            "text/plain": [
              "  0%|          | 0/1150 [00:00<?, ?it/s]"
            ]
          },
          "metadata": {},
          "output_type": "display_data"
        },
        {
          "name": "stdout",
          "output_type": "stream",
          "text": [
            "Input: 오바마는 대통령이다.\n",
            "Predicted translation: the president s president obama s aides .\n",
            "Input: 시민들은 도시 속에 산다.\n",
            "Predicted translation: the city s urban city is the streets .\n",
            "Input: 커피는 필요 없다.\n",
            "Predicted translation: no coffees .\n",
            "Input: 일곱 명의 사망자가 발생했다.\n",
            "Predicted translation: seven died tuesday when the crashed .\n"
          ]
        },
        {
          "data": {
            "application/vnd.jupyter.widget-view+json": {
              "model_id": "252a5abae3e44ec4a563a5fb1c598e4b",
              "version_major": 2,
              "version_minor": 0
            },
            "text/plain": [
              "  0%|          | 0/1150 [00:00<?, ?it/s]"
            ]
          },
          "metadata": {},
          "output_type": "display_data"
        },
        {
          "name": "stdout",
          "output_type": "stream",
          "text": [
            "Input: 오바마는 대통령이다.\n",
            "Predicted translation: obama is doing .\n",
            "Input: 시민들은 도시 속에 산다.\n",
            "Predicted translation: the city is the city of urban city .\n",
            "Input: 커피는 필요 없다.\n",
            "Predicted translation: don t need to do anything .\n",
            "Input: 일곱 명의 사망자가 발생했다.\n",
            "Predicted translation: the death toll from the people were killed .\n"
          ]
        },
        {
          "data": {
            "application/vnd.jupyter.widget-view+json": {
              "model_id": "4921ff8234bc4d93b78eceede14af2b0",
              "version_major": 2,
              "version_minor": 0
            },
            "text/plain": [
              "  0%|          | 0/1150 [00:00<?, ?it/s]"
            ]
          },
          "metadata": {},
          "output_type": "display_data"
        },
        {
          "name": "stdout",
          "output_type": "stream",
          "text": [
            "Input: 오바마는 대통령이다.\n",
            "Predicted translation: obama is the president .\n",
            "Input: 시민들은 도시 속에 산다.\n",
            "Predicted translation: the citizens are a target .\n",
            "Input: 커피는 필요 없다.\n",
            "Predicted translation: coffee need doesn t need for coffee .\n",
            "Input: 일곱 명의 사망자가 발생했다.\n",
            "Predicted translation: seven people died monday when the plane crashed into the city sunday .\n"
          ]
        },
        {
          "data": {
            "application/vnd.jupyter.widget-view+json": {
              "model_id": "5c21813c6d3d4506bf69414009c13137",
              "version_major": 2,
              "version_minor": 0
            },
            "text/plain": [
              "  0%|          | 0/1150 [00:00<?, ?it/s]"
            ]
          },
          "metadata": {},
          "output_type": "display_data"
        },
        {
          "name": "stdout",
          "output_type": "stream",
          "text": [
            "Input: 오바마는 대통령이다.\n",
            "Predicted translation: obama is a point .\n",
            "Input: 시민들은 도시 속에 산다.\n",
            "Predicted translation: people in urban city .\n",
            "Input: 커피는 필요 없다.\n",
            "Predicted translation: no need for no need for no .\n",
            "Input: 일곱 명의 사망자가 발생했다.\n",
            "Predicted translation: seven people were killed monday night without the deaths .\n"
          ]
        },
        {
          "data": {
            "application/vnd.jupyter.widget-view+json": {
              "model_id": "5ea4ee27317b4acababfed7a689f7cca",
              "version_major": 2,
              "version_minor": 0
            },
            "text/plain": [
              "  0%|          | 0/1150 [00:00<?, ?it/s]"
            ]
          },
          "metadata": {},
          "output_type": "display_data"
        },
        {
          "name": "stdout",
          "output_type": "stream",
          "text": [
            "Input: 오바마는 대통령이다.\n",
            "Predicted translation: obama is the president for nearly years .\n",
            "Input: 시민들은 도시 속에 산다.\n",
            "Predicted translation: citizens are similar to the mayor .\n",
            "Input: 커피는 필요 없다.\n",
            "Predicted translation: no he needs to defend coffee .\n",
            "Input: 일곱 명의 사망자가 발생했다.\n",
            "Predicted translation: seven people were killed .\n"
          ]
        },
        {
          "data": {
            "application/vnd.jupyter.widget-view+json": {
              "model_id": "aaa5a7c5b05647a8bd0f099af38fa692",
              "version_major": 2,
              "version_minor": 0
            },
            "text/plain": [
              "  0%|          | 0/1150 [00:00<?, ?it/s]"
            ]
          },
          "metadata": {},
          "output_type": "display_data"
        },
        {
          "name": "stdout",
          "output_type": "stream",
          "text": [
            "Input: 오바마는 대통령이다.\n",
            "Predicted translation: obama is the president .\n",
            "Input: 시민들은 도시 속에 산다.\n",
            "Predicted translation: they re in the city s urban city .\n",
            "Input: 커피는 필요 없다.\n",
            "Predicted translation: he needs to take a special or .\n",
            "Input: 일곱 명의 사망자가 발생했다.\n",
            "Predicted translation: seven people seven died when seven came seven days .\n"
          ]
        },
        {
          "data": {
            "application/vnd.jupyter.widget-view+json": {
              "model_id": "19236e6bcda84f3684c4dab5c589f39b",
              "version_major": 2,
              "version_minor": 0
            },
            "text/plain": [
              "  0%|          | 0/1150 [00:00<?, ?it/s]"
            ]
          },
          "metadata": {},
          "output_type": "display_data"
        },
        {
          "name": "stdout",
          "output_type": "stream",
          "text": [
            "Input: 오바마는 대통령이다.\n",
            "Predicted translation: obama is the illinois senator .\n",
            "Input: 시민들은 도시 속에 산다.\n",
            "Predicted translation: street .\n",
            "Input: 커피는 필요 없다.\n",
            "Predicted translation: need for coffee .\n",
            "Input: 일곱 명의 사망자가 발생했다.\n",
            "Predicted translation: seven other people were killed .\n"
          ]
        },
        {
          "data": {
            "application/vnd.jupyter.widget-view+json": {
              "model_id": "e343e80680cd40c18173b0a13f4c0fb9",
              "version_major": 2,
              "version_minor": 0
            },
            "text/plain": [
              "  0%|          | 0/1150 [00:00<?, ?it/s]"
            ]
          },
          "metadata": {},
          "output_type": "display_data"
        },
        {
          "name": "stdout",
          "output_type": "stream",
          "text": [
            "Input: 오바마는 대통령이다.\n",
            "Predicted translation: obama is a strong president .\n",
            "Input: 시민들은 도시 속에 산다.\n",
            "Predicted translation: people are through the city of long .\n",
            "Input: 커피는 필요 없다.\n",
            "Predicted translation: no need to hold necessary .\n",
            "Input: 일곱 명의 사망자가 발생했다.\n",
            "Predicted translation: seven people seven died seventh on saturday night .\n"
          ]
        },
        {
          "data": {
            "application/vnd.jupyter.widget-view+json": {
              "model_id": "6d9063a6bfd74891ae9fb92605759ce5",
              "version_major": 2,
              "version_minor": 0
            },
            "text/plain": [
              "  0%|          | 0/1150 [00:00<?, ?it/s]"
            ]
          },
          "metadata": {},
          "output_type": "display_data"
        },
        {
          "name": "stdout",
          "output_type": "stream",
          "text": [
            "Input: 오바마는 대통령이다.\n",
            "Predicted translation: obama is the only republican .\n",
            "Input: 시민들은 도시 속에 산다.\n",
            "Predicted translation: citizens are similar to the city s good .\n",
            "Input: 커피는 필요 없다.\n",
            "Predicted translation: no needs to coffee .\n",
            "Input: 일곱 명의 사망자가 발생했다.\n",
            "Predicted translation: seven seven seven seven seven seven seven seven seven seven seven seven years ago seven will die .\n"
          ]
        },
        {
          "data": {
            "application/vnd.jupyter.widget-view+json": {
              "model_id": "914e1de033d14534be43cf884ceb39f4",
              "version_major": 2,
              "version_minor": 0
            },
            "text/plain": [
              "  0%|          | 0/1150 [00:00<?, ?it/s]"
            ]
          },
          "metadata": {},
          "output_type": "display_data"
        },
        {
          "name": "stdout",
          "output_type": "stream",
          "text": [
            "Input: 오바마는 대통령이다.\n",
            "Predicted translation: obama .\n",
            "Input: 시민들은 도시 속에 산다.\n",
            "Predicted translation: people will be homeless .\n",
            "Input: 커피는 필요 없다.\n",
            "Predicted translation: no he needs to do he .\n",
            "Input: 일곱 명의 사망자가 발생했다.\n",
            "Predicted translation: six people were killed seven people .\n"
          ]
        },
        {
          "data": {
            "application/vnd.jupyter.widget-view+json": {
              "model_id": "0c881a6603f7482b835d0208f5b8aa4b",
              "version_major": 2,
              "version_minor": 0
            },
            "text/plain": [
              "  0%|          | 0/1150 [00:00<?, ?it/s]"
            ]
          },
          "metadata": {},
          "output_type": "display_data"
        },
        {
          "name": "stdout",
          "output_type": "stream",
          "text": [
            "Input: 오바마는 대통령이다.\n",
            "Predicted translation: obama s presidential campaign .\n",
            "Input: 시민들은 도시 속에 산다.\n",
            "Predicted translation: people will mayor s city only .\n",
            "Input: 커피는 필요 없다.\n",
            "Predicted translation: no he needs to take coffee .\n",
            "Input: 일곱 명의 사망자가 발생했다.\n",
            "Predicted translation: seven people were killed seven people .\n"
          ]
        },
        {
          "data": {
            "application/vnd.jupyter.widget-view+json": {
              "model_id": "6dcfa289c2974e2cb401c29d36031686",
              "version_major": 2,
              "version_minor": 0
            },
            "text/plain": [
              "  0%|          | 0/1150 [00:00<?, ?it/s]"
            ]
          },
          "metadata": {},
          "output_type": "display_data"
        },
        {
          "name": "stdout",
          "output_type": "stream",
          "text": [
            "Input: 오바마는 대통령이다.\n",
            "Predicted translation: obama is the same term .\n",
            "Input: 시민들은 도시 속에 산다.\n",
            "Predicted translation: and they re mayor of s ahead .\n",
            "Input: 커피는 필요 없다.\n",
            "Predicted translation: no needs to be coffee .\n",
            "Input: 일곱 명의 사망자가 발생했다.\n",
            "Predicted translation: seven people were killed seven people .\n"
          ]
        },
        {
          "data": {
            "application/vnd.jupyter.widget-view+json": {
              "model_id": "54ac80d7ee904de8a30ddcca8acb87b3",
              "version_major": 2,
              "version_minor": 0
            },
            "text/plain": [
              "  0%|          | 0/1150 [00:00<?, ?it/s]"
            ]
          },
          "metadata": {},
          "output_type": "display_data"
        },
        {
          "name": "stdout",
          "output_type": "stream",
          "text": [
            "Input: 오바마는 대통령이다.\n",
            "Predicted translation: obama is only a list of basis .\n",
            "Input: 시민들은 도시 속에 산다.\n",
            "Predicted translation: people will mayor us a baby .\n",
            "Input: 커피는 필요 없다.\n",
            "Predicted translation: no he needs to take coffee .\n",
            "Input: 일곱 명의 사망자가 발생했다.\n",
            "Predicted translation: seven died seven people when seventh were killed .\n"
          ]
        },
        {
          "data": {
            "application/vnd.jupyter.widget-view+json": {
              "model_id": "ef840c05479c4bbfad6f6682a311518a",
              "version_major": 2,
              "version_minor": 0
            },
            "text/plain": [
              "  0%|          | 0/1150 [00:00<?, ?it/s]"
            ]
          },
          "metadata": {},
          "output_type": "display_data"
        },
        {
          "name": "stdout",
          "output_type": "stream",
          "text": [
            "Input: 오바마는 대통령이다.\n",
            "Predicted translation: obama is the second president .\n",
            "Input: 시민들은 도시 속에 산다.\n",
            "Predicted translation: citizens are vowing to take place in the city .\n",
            "Input: 커피는 필요 없다.\n",
            "Predicted translation: no needs to take coffee .\n",
            "Input: 일곱 명의 사망자가 발생했다.\n",
            "Predicted translation: seven died seven days earlier . regarded the injuries .\n"
          ]
        },
        {
          "data": {
            "application/vnd.jupyter.widget-view+json": {
              "model_id": "ea2856cbb84d48b7b753c204e1140359",
              "version_major": 2,
              "version_minor": 0
            },
            "text/plain": [
              "  0%|          | 0/1150 [00:00<?, ?it/s]"
            ]
          },
          "metadata": {},
          "output_type": "display_data"
        },
        {
          "name": "stdout",
          "output_type": "stream",
          "text": [
            "Input: 오바마는 대통령이다.\n",
            "Predicted translation: the president obama is said to be nearly a surveillance .\n",
            "Input: 시민들은 도시 속에 산다.\n",
            "Predicted translation: to city urban rural street .\n",
            "Input: 커피는 필요 없다.\n",
            "Predicted translation: no needs to take coffee .\n",
            "Input: 일곱 명의 사망자가 발생했다.\n",
            "Predicted translation: seven people were killed and seven were killed thursday .\n"
          ]
        },
        {
          "data": {
            "application/vnd.jupyter.widget-view+json": {
              "model_id": "d73c8d64beb7434bab7e8e727ec9c5c6",
              "version_major": 2,
              "version_minor": 0
            },
            "text/plain": [
              "  0%|          | 0/1150 [00:00<?, ?it/s]"
            ]
          },
          "metadata": {},
          "output_type": "display_data"
        },
        {
          "name": "stdout",
          "output_type": "stream",
          "text": [
            "Input: 오바마는 대통령이다.\n",
            "Predicted translation: obama campaigns .\n",
            "Input: 시민들은 도시 속에 산다.\n",
            "Predicted translation: mayor .\n",
            "Input: 커피는 필요 없다.\n",
            "Predicted translation: he needs to take coffee .\n",
            "Input: 일곱 명의 사망자가 발생했다.\n",
            "Predicted translation: seven other people were killed thursday when seven people were killed .\n"
          ]
        },
        {
          "data": {
            "application/vnd.jupyter.widget-view+json": {
              "model_id": "f603a240ba984f50bbaec44bef803e52",
              "version_major": 2,
              "version_minor": 0
            },
            "text/plain": [
              "  0%|          | 0/1150 [00:00<?, ?it/s]"
            ]
          },
          "metadata": {},
          "output_type": "display_data"
        },
        {
          "name": "stdout",
          "output_type": "stream",
          "text": [
            "Input: 오바마는 대통령이다.\n",
            "Predicted translation: obama is the only son .\n",
            "Input: 시민들은 도시 속에 산다.\n",
            "Predicted translation: people will see their city s stop .\n",
            "Input: 커피는 필요 없다.\n",
            "Predicted translation: no need to take coffee .\n",
            "Input: 일곱 명의 사망자가 발생했다.\n",
            "Predicted translation: seven other people were killed .\n"
          ]
        },
        {
          "data": {
            "application/vnd.jupyter.widget-view+json": {
              "model_id": "374c07c89e7546ab9a4d5ef85cfa9fb0",
              "version_major": 2,
              "version_minor": 0
            },
            "text/plain": [
              "  0%|          | 0/1150 [00:00<?, ?it/s]"
            ]
          },
          "metadata": {},
          "output_type": "display_data"
        },
        {
          "name": "stdout",
          "output_type": "stream",
          "text": [
            "Input: 오바마는 대통령이다.\n",
            "Predicted translation: obama is the president s passion .\n",
            "Input: 시민들은 도시 속에 산다.\n",
            "Predicted translation: people will mayor to take their city .\n",
            "Input: 커피는 필요 없다.\n",
            "Predicted translation: coffee needs .\n",
            "Input: 일곱 명의 사망자가 발생했다.\n",
            "Predicted translation: seven other people were killed .\n"
          ]
        }
      ],
      "source": [
        "# 학습\n",
        "\n",
        "from tqdm import tqdm_notebook\n",
        "\n",
        "BATCH_SIZE = 64\n",
        "EPOCHS = 20\n",
        "\n",
        "examples = [\n",
        "            \"오바마는 대통령이다.\",\n",
        "            \"시민들은 도시 속에 산다.\",\n",
        "            \"커피는 필요 없다.\",\n",
        "            \"일곱 명의 사망자가 발생했다.\"\n",
        "]\n",
        "\n",
        "for epoch in range(EPOCHS):\n",
        "    total_loss = 0\n",
        "\n",
        "    idx_list = list(range(0, enc_train.shape[0], BATCH_SIZE))\n",
        "    random.shuffle(idx_list)\n",
        "    t = tqdm_notebook(idx_list)\n",
        "\n",
        "    for (batch, idx) in enumerate(t):\n",
        "        batch_loss, enc_attns, dec_attns, dec_enc_attns = \\\n",
        "        train_step(enc_train[idx:idx+BATCH_SIZE],\n",
        "                    dec_train[idx:idx+BATCH_SIZE],\n",
        "                    transformer,\n",
        "                    optimizer)\n",
        "\n",
        "        total_loss += batch_loss\n",
        "\n",
        "        t.set_description_str('Epoch %2d' % (epoch + 1))\n",
        "        t.set_postfix_str('Loss %.4f' % (total_loss.numpy() / (batch + 1)))\n",
        "\n",
        "    for example in examples:\n",
        "        translate(example, transformer, ko_tokenizer, en_tokenizer)"
      ]
    },
    {
      "cell_type": "markdown",
      "id": "593d0698",
      "metadata": {
        "id": "593d0698"
      },
      "source": [
        "# 회고\n",
        "\n",
        "- 모델 구축하여 번역문까지 결과를 확인하였습니다.\n",
        "- 토큰화하는 과정에서 오류가 있었지만 해결하였다.\n",
        "- 모델 구조에 대한 학습이 조금 더 필요하다고 생각이 든다.\n",
        "- 번역 및 토큰화하는 과정에 숫자를 제거하고 진행하였는데 숫자를 추가하여 번역을 진행하면 성능개선이 이루어지지 않을까 한다.\n",
        "- 다른 데이터 셋으로 학습을 진행하면 더 나은 성능이 나올까 하는 궁금증이 있다."
      ]
    },
    {
      "cell_type": "code",
      "execution_count": null,
      "id": "41ab6aa3",
      "metadata": {
        "id": "41ab6aa3"
      },
      "outputs": [],
      "source": []
    }
  ],
  "metadata": {
    "kernelspec": {
      "display_name": "Python 3 (ipykernel)",
      "language": "python",
      "name": "python3"
    },
    "language_info": {
      "codemirror_mode": {
        "name": "ipython",
        "version": 3
      },
      "file_extension": ".py",
      "mimetype": "text/x-python",
      "name": "python",
      "nbconvert_exporter": "python",
      "pygments_lexer": "ipython3",
      "version": "3.9.7"
    },
    "colab": {
      "provenance": [],
      "include_colab_link": true
    }
  },
  "nbformat": 4,
  "nbformat_minor": 5
}