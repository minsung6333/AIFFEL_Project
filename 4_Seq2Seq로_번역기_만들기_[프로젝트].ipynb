{
  "cells": [
    {
      "cell_type": "markdown",
      "metadata": {
        "id": "view-in-github",
        "colab_type": "text"
      },
      "source": [
        "<a href=\"https://colab.research.google.com/github/minsung6333/AIFFEL_Project/blob/main/4_Seq2Seq%EB%A1%9C_%EB%B2%88%EC%97%AD%EA%B8%B0_%EB%A7%8C%EB%93%A4%EA%B8%B0_%5B%ED%94%84%EB%A1%9C%EC%A0%9D%ED%8A%B8%5D.ipynb\" target=\"_parent\"><img src=\"https://colab.research.google.com/assets/colab-badge.svg\" alt=\"Open In Colab\"/></a>"
      ]
    },
    {
      "cell_type": "markdown",
      "id": "cf70ebf9",
      "metadata": {
        "id": "cf70ebf9"
      },
      "source": [
        "# Seq2Seq로 번역기 만들기\n",
        "\n",
        "결과를 보고 싶으신 분은 ctrl(cmd)+f를 누르고 '다시 시작'을 색인하시면 됩니다.\n",
        "\n",
        "### 서두에 적는 회고\n",
        "- AI-HUB에 있는 '일상생활 및 구어체 한-영 번역 병렬 말뭉치 데이터'를 사용하여 번역기를 만들었다.\n",
        "- 학습 결과 어떤 문장을 넣어도 i (m, the, have) Company라는 번역문만 출력하는 결과가 보인다.\n",
        "- 이에 대해 대체 어떤 연유로 전청조 스타일로 i'm 회사에요라는 결과값을 내는지 찾지 못했다.\n",
        "- 120만건의 데이터 중 oom문제로 인하여 3만건의 데이터만 불러와서 학습하였다.\n",
        "- 30 epoch로 학습한 모델로 번역을 진행한 결과 동일한 글자가 여러번 나오는 문제가 나와 토큰화를 공백기반으로 진행하여 이러한 결과가 나온줄 알았지만, 다시 학습해보니 형태소 분석 문제는 아니었다. 30epoch 결과와 30만건의 데이터 학습 디버깅은 가장 최하단에 있습니다.\n"
      ]
    },
    {
      "cell_type": "code",
      "execution_count": null,
      "id": "b040c723",
      "metadata": {
        "id": "b040c723",
        "outputId": "271532f4-cadc-400b-a7e6-87d6cef73d2a"
      },
      "outputs": [
        {
          "name": "stdout",
          "output_type": "stream",
          "text": [
            "2.6.0\n"
          ]
        }
      ],
      "source": [
        "import tensorflow as tf\n",
        "import numpy as np\n",
        "\n",
        "from sklearn.model_selection import train_test_split\n",
        "\n",
        "import matplotlib.ticker as ticker\n",
        "import matplotlib.pyplot as plt\n",
        "\n",
        "import time\n",
        "import re\n",
        "import io\n",
        "import os\n",
        "\n",
        "print(tf.__version__)"
      ]
    },
    {
      "cell_type": "code",
      "execution_count": null,
      "id": "5d8dcac2",
      "metadata": {
        "id": "5d8dcac2"
      },
      "outputs": [],
      "source": [
        "data_path = os.getenv('HOME')+'/aiffel/korean_english_aihub'"
      ]
    },
    {
      "cell_type": "code",
      "execution_count": null,
      "id": "1795ad92",
      "metadata": {
        "id": "1795ad92"
      },
      "outputs": [],
      "source": [
        "import json, pandas as pd\n",
        "\n",
        "with open(data_path+'/일상생활및구어체_한영_train_set.json') as f:\n",
        "    js = json.loads(f.read()) ## json 라이브러리 이용"
      ]
    },
    {
      "cell_type": "code",
      "execution_count": null,
      "id": "41ea6cf4",
      "metadata": {
        "id": "41ea6cf4",
        "outputId": "335282fe-7f8d-448b-dbe7-054b1f211cb8"
      },
      "outputs": [
        {
          "name": "stdout",
          "output_type": "stream",
          "text": [
            "1200000\n",
            "{'sn': 'INTSALDSUT062119042703238', 'data_set': '일상생활및구어체', 'domain': '해외영업', 'subdomain': '도소매유통', 'ko_original': '원하시는 색상을 회신해 주시면 바로 제작 들어가겠습니다.', 'ko': '원하시는 색상을 회신해 주시면 바로 제작 들어가겠습니다.', 'mt': 'If you reply to the color you want, we will start making it right away.', 'en': 'If you reply to the color you want, we will start making it right away.', 'source_language': 'ko', 'target_language': 'en', 'word_count_ko': 7, 'word_count_en': 15, 'word_ratio': 2.143, 'file_name': 'INTSAL_DSUT.xlsx', 'source': '크라우드소싱', 'license': 'open', 'style': '구어체', 'included_unknown_words': False, 'ner': None}\n"
          ]
        }
      ],
      "source": [
        "#AI HUB에서 제공하는 일상생활 및 구어체 한-영 번역 병렬 말뭉치 데이터 데이터 중 train데이터만 사용하고자 함\n",
        "print(len(js['data']))\n",
        "print(js['data'][0]) #여기서 ko가 한국어 원문 , en이 번역, Mt가 기계번역이므로 여기서 사용할 건 Ko,en 두개 변수 사용할 예정"
      ]
    },
    {
      "cell_type": "code",
      "execution_count": null,
      "id": "856459cf",
      "metadata": {
        "id": "856459cf",
        "outputId": "8bdf916e-f3fb-4df5-8654-a438acb7f469"
      },
      "outputs": [
        {
          "data": {
            "text/html": [
              "<div>\n",
              "<style scoped>\n",
              "    .dataframe tbody tr th:only-of-type {\n",
              "        vertical-align: middle;\n",
              "    }\n",
              "\n",
              "    .dataframe tbody tr th {\n",
              "        vertical-align: top;\n",
              "    }\n",
              "\n",
              "    .dataframe thead th {\n",
              "        text-align: right;\n",
              "    }\n",
              "</style>\n",
              "<table border=\"1\" class=\"dataframe\">\n",
              "  <thead>\n",
              "    <tr style=\"text-align: right;\">\n",
              "      <th></th>\n",
              "      <th>sn</th>\n",
              "      <th>data_set</th>\n",
              "      <th>domain</th>\n",
              "      <th>subdomain</th>\n",
              "      <th>ko_original</th>\n",
              "      <th>ko</th>\n",
              "      <th>mt</th>\n",
              "      <th>en</th>\n",
              "      <th>source_language</th>\n",
              "      <th>target_language</th>\n",
              "      <th>word_count_ko</th>\n",
              "      <th>word_count_en</th>\n",
              "      <th>word_ratio</th>\n",
              "      <th>file_name</th>\n",
              "      <th>source</th>\n",
              "      <th>license</th>\n",
              "      <th>style</th>\n",
              "      <th>included_unknown_words</th>\n",
              "      <th>ner</th>\n",
              "    </tr>\n",
              "  </thead>\n",
              "  <tbody>\n",
              "    <tr>\n",
              "      <th>1199999</th>\n",
              "      <td>KPUS062012215065369</td>\n",
              "      <td>일상생활및구어체</td>\n",
              "      <td>일상생활</td>\n",
              "      <td>구매</td>\n",
              "      <td>&gt;야이, 씨!</td>\n",
              "      <td>&gt;야이, 씨!</td>\n",
              "      <td>Hey, shit!</td>\n",
              "      <td>&gt;See?</td>\n",
              "      <td>ko</td>\n",
              "      <td>en</td>\n",
              "      <td>2</td>\n",
              "      <td>1</td>\n",
              "      <td>0.5</td>\n",
              "      <td>구매_KPUS.xlsx</td>\n",
              "      <td>SBS</td>\n",
              "      <td>open</td>\n",
              "      <td>구어체</td>\n",
              "      <td>False</td>\n",
              "      <td>None</td>\n",
              "    </tr>\n",
              "  </tbody>\n",
              "</table>\n",
              "</div>"
            ],
            "text/plain": [
              "                          sn  data_set domain subdomain ko_original       ko  \\\n",
              "1199999  KPUS062012215065369  일상생활및구어체   일상생활        구매     >야이, 씨!  >야이, 씨!   \n",
              "\n",
              "                 mt     en source_language target_language  word_count_ko  \\\n",
              "1199999  Hey, shit!  >See?              ko              en              2   \n",
              "\n",
              "         word_count_en  word_ratio     file_name source license style  \\\n",
              "1199999              1         0.5  구매_KPUS.xlsx    SBS    open   구어체   \n",
              "\n",
              "         included_unknown_words   ner  \n",
              "1199999                   False  None  "
            ]
          },
          "execution_count": 10,
          "metadata": {},
          "output_type": "execute_result"
        }
      ],
      "source": [
        "df = pd.DataFrame(js['data'])\n",
        "df.head()\n",
        "df.tail(1) #야이, 씨가 en 번역으로 see?..기계번역이 조금 더 정확한 것 같은데.. 믿어도 될려나"
      ]
    },
    {
      "cell_type": "code",
      "execution_count": null,
      "id": "44ab0069",
      "metadata": {
        "id": "44ab0069",
        "outputId": "b50aeee4-0cd7-4753-cba5-0227f9406aa4"
      },
      "outputs": [
        {
          "data": {
            "text/plain": [
              "710693"
            ]
          },
          "execution_count": 51,
          "metadata": {},
          "output_type": "execute_result"
        }
      ],
      "source": [
        "df.iloc[757851]\n",
        "len(df[df['mt']==df['en']]) #기계번역과 영어번역이 동일한 경우 약 71만개"
      ]
    },
    {
      "cell_type": "code",
      "execution_count": null,
      "id": "cde7f68f",
      "metadata": {
        "id": "cde7f68f",
        "outputId": "ac668494-3d49-4ada-e18f-165191d39a2b"
      },
      "outputs": [
        {
          "data": {
            "text/html": [
              "<div>\n",
              "<style scoped>\n",
              "    .dataframe tbody tr th:only-of-type {\n",
              "        vertical-align: middle;\n",
              "    }\n",
              "\n",
              "    .dataframe tbody tr th {\n",
              "        vertical-align: top;\n",
              "    }\n",
              "\n",
              "    .dataframe thead th {\n",
              "        text-align: right;\n",
              "    }\n",
              "</style>\n",
              "<table border=\"1\" class=\"dataframe\">\n",
              "  <thead>\n",
              "    <tr style=\"text-align: right;\">\n",
              "      <th></th>\n",
              "      <th>ko</th>\n",
              "      <th>en</th>\n",
              "      <th>mt</th>\n",
              "    </tr>\n",
              "  </thead>\n",
              "  <tbody>\n",
              "    <tr>\n",
              "      <th>1</th>\n",
              "      <td>형님 제일 웃긴 그림이 뭔지 알아요.</td>\n",
              "      <td>You know what the funniest picture is.</td>\n",
              "      <td>I know what the funniest picture is.</td>\n",
              "    </tr>\n",
              "    <tr>\n",
              "      <th>2</th>\n",
              "      <td>&gt;속옷을?</td>\n",
              "      <td>&gt;Underwear?</td>\n",
              "      <td>Underwear?</td>\n",
              "    </tr>\n",
              "    <tr>\n",
              "      <th>3</th>\n",
              "      <td>그래도 가격이 꽤 비싸니까 많이 살게요.</td>\n",
              "      <td>I wont buy a lot though since the price is sti...</td>\n",
              "      <td>However, the price is quite high, so I will bu...</td>\n",
              "    </tr>\n",
              "    <tr>\n",
              "      <th>4</th>\n",
              "      <td>AAA님, 제가 회의에서 화를 냈던 점 정말 사과드리고 싶습니다.</td>\n",
              "      <td>Dear AAA, I really want to apologize for my an...</td>\n",
              "      <td>AAA, I really want to apologize for being upse...</td>\n",
              "    </tr>\n",
              "    <tr>\n",
              "      <th>7</th>\n",
              "      <td>예 이게 빅데이터 빅이네요.</td>\n",
              "      <td>Yes, the is big data is big.</td>\n",
              "      <td>Yes, this is Big Data Big.</td>\n",
              "    </tr>\n",
              "    <tr>\n",
              "      <th>9</th>\n",
              "      <td>귀사와의 계약을 취소함에 대해 죄송하게 생각하며, 이에 대한 양해를 구합니다.</td>\n",
              "      <td>We apologize for canceling the contract with y...</td>\n",
              "      <td>We apologize for the cancellation of our contr...</td>\n",
              "    </tr>\n",
              "    <tr>\n",
              "      <th>10</th>\n",
              "      <td>&gt;제가 이걸 보여드리겠습니다.</td>\n",
              "      <td>&gt;Let me show you this.</td>\n",
              "      <td>Let me show you this.</td>\n",
              "    </tr>\n",
              "    <tr>\n",
              "      <th>13</th>\n",
              "      <td>냉동 만두 주문 의향이 있으시다면 알림 설정을 해주십시오.</td>\n",
              "      <td>If you are willing to order frozen dumplings, ...</td>\n",
              "      <td>If you are interested in ordering frozen dumpl...</td>\n",
              "    </tr>\n",
              "    <tr>\n",
              "      <th>16</th>\n",
              "      <td>우리는 미래를 위한 새로운 솔루션을 제안하기 위해 오래되고 검증된 개념을 채택했습니다.</td>\n",
              "      <td>We have taken old, proven concept to come up w...</td>\n",
              "      <td>We have adopted old and proven concepts to pro...</td>\n",
              "    </tr>\n",
              "    <tr>\n",
              "      <th>18</th>\n",
              "      <td>&gt;지금도, 지금도 보면 다들 고개를 끄덕끄덕했잖아.</td>\n",
              "      <td>&gt; Even now, everyone is nodding.</td>\n",
              "      <td>&gt; Even now, if you look at it now, everyone no...</td>\n",
              "    </tr>\n",
              "    <tr>\n",
              "      <th>19</th>\n",
              "      <td>&gt;하다가 못 하겠으면 얘기해요, 포기.</td>\n",
              "      <td>&gt;Let me know if you can't do it, just give up.</td>\n",
              "      <td>Let me know if you can't, give up.</td>\n",
              "    </tr>\n",
              "    <tr>\n",
              "      <th>24</th>\n",
              "      <td>&gt;형, 뭐야?</td>\n",
              "      <td>&gt;Bro, what's that?</td>\n",
              "      <td>&gt; Hyung, what is this way?</td>\n",
              "    </tr>\n",
              "    <tr>\n",
              "      <th>25</th>\n",
              "      <td>안녕하세요, 저는 BBB 주방용품 제조사의 AAA 대표이고, 귀사로부터 당사의 신제...</td>\n",
              "      <td>Hi, I am AAA representative of BBB Kitchenware...</td>\n",
              "      <td>Hello, I am the AAA representative of a BBB ki...</td>\n",
              "    </tr>\n",
              "    <tr>\n",
              "      <th>26</th>\n",
              "      <td>&gt;와우영미.</td>\n",
              "      <td>&gt; WaWooYoungmi.</td>\n",
              "      <td>&gt; Wow, Woo Youngmi.</td>\n",
              "    </tr>\n",
              "    <tr>\n",
              "      <th>29</th>\n",
              "      <td>유연성은 강철 구조의 주요 장점입니다.</td>\n",
              "      <td>Flexibility is the main advantages of steel st...</td>\n",
              "      <td>Flexibility is the main advantage of steel con...</td>\n",
              "    </tr>\n",
              "    <tr>\n",
              "      <th>30</th>\n",
              "      <td>&gt;여러분, 이제 두 번째 미션인데요.</td>\n",
              "      <td>&gt;Everyone, this is the second mission.</td>\n",
              "      <td>Everyone, this is the second mission.</td>\n",
              "    </tr>\n",
              "    <tr>\n",
              "      <th>32</th>\n",
              "      <td>&gt;그래요.</td>\n",
              "      <td>&gt; Okay.</td>\n",
              "      <td>&gt;Yes.</td>\n",
              "    </tr>\n",
              "    <tr>\n",
              "      <th>36</th>\n",
              "      <td>FFF제품을 500개 주문하였을 때와 1000개 주문하였을 때 견적을 요청하셨는데요.</td>\n",
              "      <td>You asked for an estimate when you ordered 500...</td>\n",
              "      <td>You requested a quote when you ordered 500 FFF...</td>\n",
              "    </tr>\n",
              "    <tr>\n",
              "      <th>38</th>\n",
              "      <td>&gt;아, OK, OK.</td>\n",
              "      <td>&gt;Oh, okay, okay.</td>\n",
              "      <td>Oh, okay, okay.</td>\n",
              "    </tr>\n",
              "    <tr>\n",
              "      <th>40</th>\n",
              "      <td>&gt;야, 석진이 형 뒤에 안 했다.</td>\n",
              "      <td>&gt;Hey, Seok-jin didn't do it behind.</td>\n",
              "      <td>&gt; Hey, Seokjin didn't do it behind him.</td>\n",
              "    </tr>\n",
              "    <tr>\n",
              "      <th>44</th>\n",
              "      <td>&gt;그렇죠?</td>\n",
              "      <td>&gt;Right?</td>\n",
              "      <td>&gt; Right?</td>\n",
              "    </tr>\n",
              "    <tr>\n",
              "      <th>46</th>\n",
              "      <td>&gt;뭐, 뭐.</td>\n",
              "      <td>&gt;What, what.</td>\n",
              "      <td>&gt; What, what.</td>\n",
              "    </tr>\n",
              "    <tr>\n",
              "      <th>47</th>\n",
              "      <td>네트워킹 이벤트는 코로나19로 대면 활동이 제한된 환경 속에서 네트워킹과 정보 공유...</td>\n",
              "      <td>Networking events are created for people who c...</td>\n",
              "      <td>Networking events are organized for residents ...</td>\n",
              "    </tr>\n",
              "    <tr>\n",
              "      <th>48</th>\n",
              "      <td>없어도 돼요.</td>\n",
              "      <td>I don't need it.</td>\n",
              "      <td>You don't need it.</td>\n",
              "    </tr>\n",
              "    <tr>\n",
              "      <th>50</th>\n",
              "      <td>여기 맞구나.</td>\n",
              "      <td>Here it is.</td>\n",
              "      <td>It's here.</td>\n",
              "    </tr>\n",
              "    <tr>\n",
              "      <th>58</th>\n",
              "      <td>나는 도매가로 농산물을 좀 사고 싶었다.</td>\n",
              "      <td>I was hoping to buy some agricultural goods in...</td>\n",
              "      <td>I wanted to buy some agricultural products at ...</td>\n",
              "    </tr>\n",
              "    <tr>\n",
              "      <th>65</th>\n",
              "      <td>&gt;아니, 그런 게 아니고 얘는 그냥 심심하면 나오더라고.</td>\n",
              "      <td>&gt;No, it's not like that, he just comes out whe...</td>\n",
              "      <td>&gt; No, it's not like that. He just comes out wh...</td>\n",
              "    </tr>\n",
              "    <tr>\n",
              "      <th>66</th>\n",
              "      <td>&gt;안 뭐지?</td>\n",
              "      <td>&gt;He's An.. what is it?</td>\n",
              "      <td>&gt;What is it?</td>\n",
              "    </tr>\n",
              "    <tr>\n",
              "      <th>69</th>\n",
              "      <td>&gt;할 얘기 없다, 할 얘기 없다.</td>\n",
              "      <td>&gt;Nothing to say, nothing to say.</td>\n",
              "      <td>&gt;I have nothing to say, nothing to say.</td>\n",
              "    </tr>\n",
              "    <tr>\n",
              "      <th>71</th>\n",
              "      <td>&gt;아프고 그리고 막 살이 빠져 있고 그러면 이 사람은 정말 내가 아니면 안 되는구나.</td>\n",
              "      <td>&gt;If he gets sick and lose weight, then this pe...</td>\n",
              "      <td>&gt; If you get sick and lose weight, then this p...</td>\n",
              "    </tr>\n",
              "    <tr>\n",
              "      <th>74</th>\n",
              "      <td>저도 한 세 번 걸렸던 것 같습니다.</td>\n",
              "      <td>I think I got caught about 3 times, too.</td>\n",
              "      <td>I think I got caught about three times, too.</td>\n",
              "    </tr>\n",
              "    <tr>\n",
              "      <th>76</th>\n",
              "      <td>&gt;그거부터 시작, 사소한 것부터 시작해서 뭐 난 오늘 슬쩍 저기 산이나 가고 싶은데.</td>\n",
              "      <td>&gt;Starting with that, starting with the little ...</td>\n",
              "      <td>&gt;Starting with that, starting with the little ...</td>\n",
              "    </tr>\n",
              "    <tr>\n",
              "      <th>79</th>\n",
              "      <td>최근 제품 주문량이 급증해서 이에 대해 직접 뵙고 설명해 드려야 할 것 같습니다.</td>\n",
              "      <td>Recently, the number of product orders has soa...</td>\n",
              "      <td>Due to the recent surge in product orders, I t...</td>\n",
              "    </tr>\n",
              "    <tr>\n",
              "      <th>80</th>\n",
              "      <td>더 알고 싶은 것이 있으면 다시 연락 주세요.</td>\n",
              "      <td>Please contact us again if there is anything e...</td>\n",
              "      <td>If you would like to know more, please contact...</td>\n",
              "    </tr>\n",
              "    <tr>\n",
              "      <th>83</th>\n",
              "      <td>네, 제가 주문한 게 그거예요!</td>\n",
              "      <td>Yes, that's the one that I ordered!</td>\n",
              "      <td>Yes, that's what I ordered!</td>\n",
              "    </tr>\n",
              "    <tr>\n",
              "      <th>86</th>\n",
              "      <td>같은 팀 직원에게 정말 평이 좋은 식당 정보를 미리 알아두었습니다.</td>\n",
              "      <td>I knew in advance the restaurant information t...</td>\n",
              "      <td>I already knew information about restaurants t...</td>\n",
              "    </tr>\n",
              "    <tr>\n",
              "      <th>87</th>\n",
              "      <td>&gt;마.</td>\n",
              "      <td>&gt;Ma.</td>\n",
              "      <td>\"Ma.</td>\n",
              "    </tr>\n",
              "    <tr>\n",
              "      <th>88</th>\n",
              "      <td>이번에 다양한 스텐 서빙카 주문에 대한 정확한 납기 기일을 문의하고자 연락 드렸습니다.</td>\n",
              "      <td>I'm contacting you to inquire about the exact ...</td>\n",
              "      <td>This time, we have contacted you to inquire ab...</td>\n",
              "    </tr>\n",
              "    <tr>\n",
              "      <th>89</th>\n",
              "      <td>맘스 하우스.</td>\n",
              "      <td>Mom's house.</td>\n",
              "      <td>Mom's House.</td>\n",
              "    </tr>\n",
              "    <tr>\n",
              "      <th>93</th>\n",
              "      <td>그러면 이제 옆에 이제 보면 이렇게 창문이 있으니까 창문으로 이렇게, 이렇게 봤어요...</td>\n",
              "      <td>And we looked her through the windown like thi...</td>\n",
              "      <td>Then, if you look next to you, there is a wind...</td>\n",
              "    </tr>\n",
              "    <tr>\n",
              "      <th>96</th>\n",
              "      <td>&gt;눈치 챘구나?</td>\n",
              "      <td>&gt;You picked up on that, huh?</td>\n",
              "      <td>&gt; You got it, huh?</td>\n",
              "    </tr>\n",
              "    <tr>\n",
              "      <th>97</th>\n",
              "      <td>미끼를 던졌다고 해야 되나?</td>\n",
              "      <td>Should I say that you threw the bait?</td>\n",
              "      <td>Should I say that I threw the bait?</td>\n",
              "    </tr>\n",
              "    <tr>\n",
              "      <th>98</th>\n",
              "      <td>방금 해당하는 파일을 보내드렸습니다만, 다른 궁금하신 신제품은 없으신가요?</td>\n",
              "      <td>I just sent you the corresponding file, but is...</td>\n",
              "      <td>We have just sent you the relevant file, but d...</td>\n",
              "    </tr>\n",
              "    <tr>\n",
              "      <th>100</th>\n",
              "      <td>&gt;빨리, 빨리.</td>\n",
              "      <td>&gt;Quick, quick.</td>\n",
              "      <td>&gt;Hurry up. Hurry up.</td>\n",
              "    </tr>\n",
              "    <tr>\n",
              "      <th>102</th>\n",
              "      <td>&gt;대박이다.</td>\n",
              "      <td>&gt;That's awesome.</td>\n",
              "      <td>&gt; That's awesome.</td>\n",
              "    </tr>\n",
              "    <tr>\n",
              "      <th>106</th>\n",
              "      <td>그의 말에 따르면, 당신의 식품 보조 식품은 품질이 우수하고 가격이 저렴하다고 합니다.</td>\n",
              "      <td>According to him, your food supplements were h...</td>\n",
              "      <td>According to him, your food supplements are of...</td>\n",
              "    </tr>\n",
              "    <tr>\n",
              "      <th>107</th>\n",
              "      <td>불편함을 끼쳐 죄송합니다.</td>\n",
              "      <td>I'm sorry for the inconvenience.</td>\n",
              "      <td>Sorry for the inconvenience.</td>\n",
              "    </tr>\n",
              "    <tr>\n",
              "      <th>112</th>\n",
              "      <td>제가 운전이 서툴러서 주차할 때 어려움이 많습니다.</td>\n",
              "      <td>I am not good at driving. I'm having difficult...</td>\n",
              "      <td>I have a lot of difficulties when parking beca...</td>\n",
              "    </tr>\n",
              "    <tr>\n",
              "      <th>113</th>\n",
              "      <td>나는 그들이 게임에 그렇게 애착을 가지길 원하지 않는다.</td>\n",
              "      <td>I don't want them to get so attached to games</td>\n",
              "      <td>I don't want them to be so attached to the game.</td>\n",
              "    </tr>\n",
              "    <tr>\n",
              "      <th>116</th>\n",
              "      <td>넘어갈 질문이 이런 거예요.</td>\n",
              "      <td>This is the question that needs to pass.</td>\n",
              "      <td>This is the next question.</td>\n",
              "    </tr>\n",
              "  </tbody>\n",
              "</table>\n",
              "</div>"
            ],
            "text/plain": [
              "                                                    ko  \\\n",
              "1                                 형님 제일 웃긴 그림이 뭔지 알아요.   \n",
              "2                                                >속옷을?   \n",
              "3                               그래도 가격이 꽤 비싸니까 많이 살게요.   \n",
              "4                 AAA님, 제가 회의에서 화를 냈던 점 정말 사과드리고 싶습니다.   \n",
              "7                                      예 이게 빅데이터 빅이네요.   \n",
              "9          귀사와의 계약을 취소함에 대해 죄송하게 생각하며, 이에 대한 양해를 구합니다.   \n",
              "10                                    >제가 이걸 보여드리겠습니다.   \n",
              "13                    냉동 만두 주문 의향이 있으시다면 알림 설정을 해주십시오.   \n",
              "16    우리는 미래를 위한 새로운 솔루션을 제안하기 위해 오래되고 검증된 개념을 채택했습니다.   \n",
              "18                        >지금도, 지금도 보면 다들 고개를 끄덕끄덕했잖아.   \n",
              "19                               >하다가 못 하겠으면 얘기해요, 포기.   \n",
              "24                                             >형, 뭐야?   \n",
              "25   안녕하세요, 저는 BBB 주방용품 제조사의 AAA 대표이고, 귀사로부터 당사의 신제...   \n",
              "26                                              >와우영미.   \n",
              "29                               유연성은 강철 구조의 주요 장점입니다.   \n",
              "30                                >여러분, 이제 두 번째 미션인데요.   \n",
              "32                                               >그래요.   \n",
              "36     FFF제품을 500개 주문하였을 때와 1000개 주문하였을 때 견적을 요청하셨는데요.   \n",
              "38                                         >아, OK, OK.   \n",
              "40                                  >야, 석진이 형 뒤에 안 했다.   \n",
              "44                                               >그렇죠?   \n",
              "46                                              >뭐, 뭐.   \n",
              "47   네트워킹 이벤트는 코로나19로 대면 활동이 제한된 환경 속에서 네트워킹과 정보 공유...   \n",
              "48                                             없어도 돼요.   \n",
              "50                                             여기 맞구나.   \n",
              "58                              나는 도매가로 농산물을 좀 사고 싶었다.   \n",
              "65                     >아니, 그런 게 아니고 얘는 그냥 심심하면 나오더라고.   \n",
              "66                                              >안 뭐지?   \n",
              "69                                  >할 얘기 없다, 할 얘기 없다.   \n",
              "71     >아프고 그리고 막 살이 빠져 있고 그러면 이 사람은 정말 내가 아니면 안 되는구나.   \n",
              "74                                저도 한 세 번 걸렸던 것 같습니다.   \n",
              "76     >그거부터 시작, 사소한 것부터 시작해서 뭐 난 오늘 슬쩍 저기 산이나 가고 싶은데.   \n",
              "79       최근 제품 주문량이 급증해서 이에 대해 직접 뵙고 설명해 드려야 할 것 같습니다.   \n",
              "80                           더 알고 싶은 것이 있으면 다시 연락 주세요.   \n",
              "83                                   네, 제가 주문한 게 그거예요!   \n",
              "86               같은 팀 직원에게 정말 평이 좋은 식당 정보를 미리 알아두었습니다.   \n",
              "87                                                 >마.   \n",
              "88    이번에 다양한 스텐 서빙카 주문에 대한 정확한 납기 기일을 문의하고자 연락 드렸습니다.   \n",
              "89                                             맘스 하우스.   \n",
              "93   그러면 이제 옆에 이제 보면 이렇게 창문이 있으니까 창문으로 이렇게, 이렇게 봤어요...   \n",
              "96                                            >눈치 챘구나?   \n",
              "97                                     미끼를 던졌다고 해야 되나?   \n",
              "98           방금 해당하는 파일을 보내드렸습니다만, 다른 궁금하신 신제품은 없으신가요?   \n",
              "100                                           >빨리, 빨리.   \n",
              "102                                             >대박이다.   \n",
              "106   그의 말에 따르면, 당신의 식품 보조 식품은 품질이 우수하고 가격이 저렴하다고 합니다.   \n",
              "107                                     불편함을 끼쳐 죄송합니다.   \n",
              "112                       제가 운전이 서툴러서 주차할 때 어려움이 많습니다.   \n",
              "113                    나는 그들이 게임에 그렇게 애착을 가지길 원하지 않는다.   \n",
              "116                                    넘어갈 질문이 이런 거예요.   \n",
              "\n",
              "                                                    en  \\\n",
              "1               You know what the funniest picture is.   \n",
              "2                                          >Underwear?   \n",
              "3    I wont buy a lot though since the price is sti...   \n",
              "4    Dear AAA, I really want to apologize for my an...   \n",
              "7                         Yes, the is big data is big.   \n",
              "9    We apologize for canceling the contract with y...   \n",
              "10                              >Let me show you this.   \n",
              "13   If you are willing to order frozen dumplings, ...   \n",
              "16   We have taken old, proven concept to come up w...   \n",
              "18                    > Even now, everyone is nodding.   \n",
              "19      >Let me know if you can't do it, just give up.   \n",
              "24                                  >Bro, what's that?   \n",
              "25   Hi, I am AAA representative of BBB Kitchenware...   \n",
              "26                                     > WaWooYoungmi.   \n",
              "29   Flexibility is the main advantages of steel st...   \n",
              "30              >Everyone, this is the second mission.   \n",
              "32                                             > Okay.   \n",
              "36   You asked for an estimate when you ordered 500...   \n",
              "38                                    >Oh, okay, okay.   \n",
              "40                 >Hey, Seok-jin didn't do it behind.   \n",
              "44                                             >Right?   \n",
              "46                                        >What, what.   \n",
              "47   Networking events are created for people who c...   \n",
              "48                                    I don't need it.   \n",
              "50                                         Here it is.   \n",
              "58   I was hoping to buy some agricultural goods in...   \n",
              "65   >No, it's not like that, he just comes out whe...   \n",
              "66                              >He's An.. what is it?   \n",
              "69                    >Nothing to say, nothing to say.   \n",
              "71   >If he gets sick and lose weight, then this pe...   \n",
              "74            I think I got caught about 3 times, too.   \n",
              "76   >Starting with that, starting with the little ...   \n",
              "79   Recently, the number of product orders has soa...   \n",
              "80   Please contact us again if there is anything e...   \n",
              "83                 Yes, that's the one that I ordered!   \n",
              "86   I knew in advance the restaurant information t...   \n",
              "87                                                >Ma.   \n",
              "88   I'm contacting you to inquire about the exact ...   \n",
              "89                                        Mom's house.   \n",
              "93   And we looked her through the windown like thi...   \n",
              "96                        >You picked up on that, huh?   \n",
              "97               Should I say that you threw the bait?   \n",
              "98   I just sent you the corresponding file, but is...   \n",
              "100                                     >Quick, quick.   \n",
              "102                                   >That's awesome.   \n",
              "106  According to him, your food supplements were h...   \n",
              "107                   I'm sorry for the inconvenience.   \n",
              "112  I am not good at driving. I'm having difficult...   \n",
              "113      I don't want them to get so attached to games   \n",
              "116           This is the question that needs to pass.   \n",
              "\n",
              "                                                    mt  \n",
              "1                 I know what the funniest picture is.  \n",
              "2                                           Underwear?  \n",
              "3    However, the price is quite high, so I will bu...  \n",
              "4    AAA, I really want to apologize for being upse...  \n",
              "7                           Yes, this is Big Data Big.  \n",
              "9    We apologize for the cancellation of our contr...  \n",
              "10                               Let me show you this.  \n",
              "13   If you are interested in ordering frozen dumpl...  \n",
              "16   We have adopted old and proven concepts to pro...  \n",
              "18   > Even now, if you look at it now, everyone no...  \n",
              "19                  Let me know if you can't, give up.  \n",
              "24                          > Hyung, what is this way?  \n",
              "25   Hello, I am the AAA representative of a BBB ki...  \n",
              "26                                 > Wow, Woo Youngmi.  \n",
              "29   Flexibility is the main advantage of steel con...  \n",
              "30               Everyone, this is the second mission.  \n",
              "32                                               >Yes.  \n",
              "36   You requested a quote when you ordered 500 FFF...  \n",
              "38                                     Oh, okay, okay.  \n",
              "40             > Hey, Seokjin didn't do it behind him.  \n",
              "44                                            > Right?  \n",
              "46                                       > What, what.  \n",
              "47   Networking events are organized for residents ...  \n",
              "48                                  You don't need it.  \n",
              "50                                          It's here.  \n",
              "58   I wanted to buy some agricultural products at ...  \n",
              "65   > No, it's not like that. He just comes out wh...  \n",
              "66                                        >What is it?  \n",
              "69             >I have nothing to say, nothing to say.  \n",
              "71   > If you get sick and lose weight, then this p...  \n",
              "74        I think I got caught about three times, too.  \n",
              "76   >Starting with that, starting with the little ...  \n",
              "79   Due to the recent surge in product orders, I t...  \n",
              "80   If you would like to know more, please contact...  \n",
              "83                         Yes, that's what I ordered!  \n",
              "86   I already knew information about restaurants t...  \n",
              "87                                                \"Ma.  \n",
              "88   This time, we have contacted you to inquire ab...  \n",
              "89                                        Mom's House.  \n",
              "93   Then, if you look next to you, there is a wind...  \n",
              "96                                  > You got it, huh?  \n",
              "97                 Should I say that I threw the bait?  \n",
              "98   We have just sent you the relevant file, but d...  \n",
              "100                               >Hurry up. Hurry up.  \n",
              "102                                  > That's awesome.  \n",
              "106  According to him, your food supplements are of...  \n",
              "107                       Sorry for the inconvenience.  \n",
              "112  I have a lot of difficulties when parking beca...  \n",
              "113   I don't want them to be so attached to the game.  \n",
              "116                         This is the next question.  "
            ]
          },
          "execution_count": 52,
          "metadata": {},
          "output_type": "execute_result"
        }
      ],
      "source": [
        "#기계번역과 영어번역이 다른 경우를 확인해 봤는데 큰 차이는 없는 것 같다.\n",
        "dif = df[df['mt']!=df['en']]\n",
        "dif[['ko','en','mt']].head(50)"
      ]
    },
    {
      "cell_type": "code",
      "execution_count": null,
      "id": "f22897ee",
      "metadata": {
        "id": "f22897ee",
        "outputId": "3d85921e-2aaa-4f15-8e22-7b24cfd287fc"
      },
      "outputs": [
        {
          "data": {
            "text/html": [
              "<div>\n",
              "<style scoped>\n",
              "    .dataframe tbody tr th:only-of-type {\n",
              "        vertical-align: middle;\n",
              "    }\n",
              "\n",
              "    .dataframe tbody tr th {\n",
              "        vertical-align: top;\n",
              "    }\n",
              "\n",
              "    .dataframe thead th {\n",
              "        text-align: right;\n",
              "    }\n",
              "</style>\n",
              "<table border=\"1\" class=\"dataframe\">\n",
              "  <thead>\n",
              "    <tr style=\"text-align: right;\">\n",
              "      <th></th>\n",
              "      <th>ko</th>\n",
              "      <th>en</th>\n",
              "    </tr>\n",
              "  </thead>\n",
              "  <tbody>\n",
              "    <tr>\n",
              "      <th>0</th>\n",
              "      <td>원하시는 색상을 회신해 주시면 바로 제작 들어가겠습니다.</td>\n",
              "      <td>If you reply to the color you want, we will st...</td>\n",
              "    </tr>\n",
              "    <tr>\n",
              "      <th>1</th>\n",
              "      <td>형님 제일 웃긴 그림이 뭔지 알아요.</td>\n",
              "      <td>You know what the funniest picture is.</td>\n",
              "    </tr>\n",
              "    <tr>\n",
              "      <th>2</th>\n",
              "      <td>&gt;속옷을?</td>\n",
              "      <td>&gt;Underwear?</td>\n",
              "    </tr>\n",
              "    <tr>\n",
              "      <th>3</th>\n",
              "      <td>그래도 가격이 꽤 비싸니까 많이 살게요.</td>\n",
              "      <td>I wont buy a lot though since the price is sti...</td>\n",
              "    </tr>\n",
              "    <tr>\n",
              "      <th>4</th>\n",
              "      <td>AAA님, 제가 회의에서 화를 냈던 점 정말 사과드리고 싶습니다.</td>\n",
              "      <td>Dear AAA, I really want to apologize for my an...</td>\n",
              "    </tr>\n",
              "    <tr>\n",
              "      <th>...</th>\n",
              "      <td>...</td>\n",
              "      <td>...</td>\n",
              "    </tr>\n",
              "    <tr>\n",
              "      <th>99995</th>\n",
              "      <td>우리는 우리 제품에 대한 할랄 자격증을 취득하는 데 어려움을 겪고 있습니다.</td>\n",
              "      <td>We are having a trouble getting Halal certific...</td>\n",
              "    </tr>\n",
              "    <tr>\n",
              "      <th>99996</th>\n",
              "      <td>그럼 수의학 통계 자료는 어느 분께 드리면 될까요?</td>\n",
              "      <td>Then, to whom should I give the statistics for...</td>\n",
              "    </tr>\n",
              "    <tr>\n",
              "      <th>99997</th>\n",
              "      <td>저희는 해당 사안을 파악한 뒤 곧바로 해당 직원을 해고하였습니다.</td>\n",
              "      <td>We immediately fired the employee after identi...</td>\n",
              "    </tr>\n",
              "    <tr>\n",
              "      <th>99998</th>\n",
              "      <td>현재 귀사는 관광여관을 매우 높은 가격에 납품하고 있습니다.</td>\n",
              "      <td>Currently, your company supplies tourist inns ...</td>\n",
              "    </tr>\n",
              "    <tr>\n",
              "      <th>99999</th>\n",
              "      <td>&gt;네.</td>\n",
              "      <td>&gt;Yes.</td>\n",
              "    </tr>\n",
              "  </tbody>\n",
              "</table>\n",
              "<p>100000 rows × 2 columns</p>\n",
              "</div>"
            ],
            "text/plain": [
              "                                               ko  \\\n",
              "0                 원하시는 색상을 회신해 주시면 바로 제작 들어가겠습니다.   \n",
              "1                            형님 제일 웃긴 그림이 뭔지 알아요.   \n",
              "2                                           >속옷을?   \n",
              "3                          그래도 가격이 꽤 비싸니까 많이 살게요.   \n",
              "4            AAA님, 제가 회의에서 화를 냈던 점 정말 사과드리고 싶습니다.   \n",
              "...                                           ...   \n",
              "99995  우리는 우리 제품에 대한 할랄 자격증을 취득하는 데 어려움을 겪고 있습니다.   \n",
              "99996                그럼 수의학 통계 자료는 어느 분께 드리면 될까요?   \n",
              "99997        저희는 해당 사안을 파악한 뒤 곧바로 해당 직원을 해고하였습니다.   \n",
              "99998           현재 귀사는 관광여관을 매우 높은 가격에 납품하고 있습니다.   \n",
              "99999                                         >네.   \n",
              "\n",
              "                                                      en  \n",
              "0      If you reply to the color you want, we will st...  \n",
              "1                 You know what the funniest picture is.  \n",
              "2                                            >Underwear?  \n",
              "3      I wont buy a lot though since the price is sti...  \n",
              "4      Dear AAA, I really want to apologize for my an...  \n",
              "...                                                  ...  \n",
              "99995  We are having a trouble getting Halal certific...  \n",
              "99996  Then, to whom should I give the statistics for...  \n",
              "99997  We immediately fired the employee after identi...  \n",
              "99998  Currently, your company supplies tourist inns ...  \n",
              "99999                                              >Yes.  \n",
              "\n",
              "[100000 rows x 2 columns]"
            ]
          },
          "execution_count": 53,
          "metadata": {},
          "output_type": "execute_result"
        }
      ],
      "source": [
        "# 120만개의 데이터 중에 상위 30만개를 사용하고자 함\n",
        "# 5어절 미만의 문장도 학습에 크게 상관 없을 것 같아서 일단 상위 30만개로 데이터 선정\n",
        "# 30만개 결과 oom발생으로 인한 데이터 축소..\n",
        "df[['ko','en']].iloc[:100000]"
      ]
    },
    {
      "cell_type": "code",
      "execution_count": null,
      "id": "a676d370",
      "metadata": {
        "id": "a676d370"
      },
      "outputs": [],
      "source": [
        "#영어/한국어 데이터 전처리 정규표현식에 ㄱ부터 힣까지 추가\n",
        "#숫자가 필요한 경우도 있기에 숫자도 포함\n",
        "#문장 앞뒤 Start, end 시퀀스 생성\n",
        "def preprocess_sentence(sentence, s_token=False, e_token=False):\n",
        "    sentence = sentence.lower().strip()\n",
        "\n",
        "    sentence = re.sub(r\"([?.!,])\", r\" \\1 \", sentence)\n",
        "    sentence = re.sub(r'[\" \"]+', \" \", sentence)\n",
        "    sentence = re.sub(r\"[^a-zA-Z?.!,ㄱ-ㅎ가-힣0-9]+\", \" \", sentence)\n",
        "\n",
        "    sentence = sentence.strip()\n",
        "\n",
        "    if s_token:\n",
        "        sentence = '<start> ' + sentence\n",
        "\n",
        "    if e_token:\n",
        "        sentence += ' <end>'\n",
        "\n",
        "    return sentence\n",
        "\n"
      ]
    },
    {
      "cell_type": "code",
      "execution_count": null,
      "id": "be0578d0",
      "metadata": {
        "id": "be0578d0",
        "outputId": "caae3e4b-3a11-4af8-eddf-3a796286ab64"
      },
      "outputs": [
        {
          "data": {
            "text/html": [
              "<div>\n",
              "<style scoped>\n",
              "    .dataframe tbody tr th:only-of-type {\n",
              "        vertical-align: middle;\n",
              "    }\n",
              "\n",
              "    .dataframe tbody tr th {\n",
              "        vertical-align: top;\n",
              "    }\n",
              "\n",
              "    .dataframe thead th {\n",
              "        text-align: right;\n",
              "    }\n",
              "</style>\n",
              "<table border=\"1\" class=\"dataframe\">\n",
              "  <thead>\n",
              "    <tr style=\"text-align: right;\">\n",
              "      <th></th>\n",
              "      <th>ko</th>\n",
              "      <th>en</th>\n",
              "    </tr>\n",
              "  </thead>\n",
              "  <tbody>\n",
              "    <tr>\n",
              "      <th>0</th>\n",
              "      <td>원하시는 색상을 회신해 주시면 바로 제작 들어가겠습니다.</td>\n",
              "      <td>If you reply to the color you want, we will st...</td>\n",
              "    </tr>\n",
              "    <tr>\n",
              "      <th>1</th>\n",
              "      <td>형님 제일 웃긴 그림이 뭔지 알아요.</td>\n",
              "      <td>You know what the funniest picture is.</td>\n",
              "    </tr>\n",
              "    <tr>\n",
              "      <th>2</th>\n",
              "      <td>&gt;속옷을?</td>\n",
              "      <td>&gt;Underwear?</td>\n",
              "    </tr>\n",
              "    <tr>\n",
              "      <th>3</th>\n",
              "      <td>그래도 가격이 꽤 비싸니까 많이 살게요.</td>\n",
              "      <td>I wont buy a lot though since the price is sti...</td>\n",
              "    </tr>\n",
              "    <tr>\n",
              "      <th>4</th>\n",
              "      <td>AAA님, 제가 회의에서 화를 냈던 점 정말 사과드리고 싶습니다.</td>\n",
              "      <td>Dear AAA, I really want to apologize for my an...</td>\n",
              "    </tr>\n",
              "  </tbody>\n",
              "</table>\n",
              "</div>"
            ],
            "text/plain": [
              "                                     ko  \\\n",
              "0       원하시는 색상을 회신해 주시면 바로 제작 들어가겠습니다.   \n",
              "1                  형님 제일 웃긴 그림이 뭔지 알아요.   \n",
              "2                                 >속옷을?   \n",
              "3                그래도 가격이 꽤 비싸니까 많이 살게요.   \n",
              "4  AAA님, 제가 회의에서 화를 냈던 점 정말 사과드리고 싶습니다.   \n",
              "\n",
              "                                                  en  \n",
              "0  If you reply to the color you want, we will st...  \n",
              "1             You know what the funniest picture is.  \n",
              "2                                        >Underwear?  \n",
              "3  I wont buy a lot though since the price is sti...  \n",
              "4  Dear AAA, I really want to apologize for my an...  "
            ]
          },
          "execution_count": 9,
          "metadata": {},
          "output_type": "execute_result"
        }
      ],
      "source": [
        "data = df[['ko','en']].iloc[:30000] #데이터 추출\n",
        "data.head()"
      ]
    },
    {
      "cell_type": "code",
      "execution_count": null,
      "id": "e2699563",
      "metadata": {
        "id": "e2699563",
        "outputId": "b3d59636-3d94-42c5-fedc-68b8f16c091b"
      },
      "outputs": [
        {
          "name": "stdout",
          "output_type": "stream",
          "text": [
            "네 .\n",
            "yes .\n"
          ]
        }
      ],
      "source": [
        "#숫자 필요한 예시\n",
        "#30만개 기준때 작업한 거\n",
        "print(preprocess_sentence(data['ko'][99999]))\n",
        "print(preprocess_sentence(data['en'][99999]))"
      ]
    },
    {
      "cell_type": "code",
      "execution_count": null,
      "id": "86cd9184",
      "metadata": {
        "id": "86cd9184",
        "outputId": "b46d30fb-bc5c-493d-adea-e4b8ac2d455c"
      },
      "outputs": [
        {
          "name": "stderr",
          "output_type": "stream",
          "text": [
            "100%|██████████| 30000/30000 [00:01<00:00, 19774.22it/s]"
          ]
        },
        {
          "name": "stdout",
          "output_type": "stream",
          "text": [
            "kor: 빨리 , 빨리 .\n",
            "eng: <start> quick , quick . <end>\n"
          ]
        },
        {
          "name": "stderr",
          "output_type": "stream",
          "text": [
            "\n"
          ]
        }
      ],
      "source": [
        "from tqdm import tqdm\n",
        "\n",
        "kor_corpus = []\n",
        "eng_corpus = []\n",
        "\n",
        "for i in tqdm(range(len(data))):\n",
        "    kor_corpus.append(preprocess_sentence(data['ko'][i]))\n",
        "    eng_corpus.append(preprocess_sentence(data['en'][i], s_token=True, e_token=True))\n",
        "\n",
        "print(\"kor:\", kor_corpus[100])   # go away !\n",
        "print(\"eng:\", eng_corpus[100])   # <start> salga de aqu ! <end>"
      ]
    },
    {
      "cell_type": "code",
      "execution_count": null,
      "id": "0bc51c10",
      "metadata": {
        "id": "0bc51c10"
      },
      "outputs": [],
      "source": [
        "#토큰화\n",
        "def tokenize(corpus):\n",
        "    tokenizer = tf.keras.preprocessing.text.Tokenizer(filters='')\n",
        "    tokenizer.fit_on_texts(corpus)\n",
        "\n",
        "    tensor = tokenizer.texts_to_sequences(corpus)\n",
        "\n",
        "    tensor = tf.keras.preprocessing.sequence.pad_sequences(tensor, padding='post')\n",
        "\n",
        "    return tensor, tokenizer\n"
      ]
    },
    {
      "cell_type": "code",
      "execution_count": null,
      "id": "f3fc6f71",
      "metadata": {
        "id": "f3fc6f71"
      },
      "outputs": [],
      "source": [
        "#데이터 토큰화 처리 및 데이터 셋 분할 진행\n",
        "from sklearn.model_selection import train_test_split\n",
        "\n",
        "kor_tokenizer = tokenize(kor_corpus)[1]\n",
        "eng_tokenizer = tokenize(eng_corpus)[1]\n",
        "\n",
        "kor_tensor = tokenize(kor_corpus)[0]\n",
        "eng_tensor = tokenize(eng_corpus)[0]\n",
        "\n",
        "kor_train, kor_val, eng_train, eng_val = \\\n",
        "train_test_split(kor_tensor, eng_tensor, test_size=0.2)"
      ]
    },
    {
      "cell_type": "code",
      "execution_count": null,
      "id": "1ac9460c",
      "metadata": {
        "id": "1ac9460c",
        "outputId": "0c066086-95fb-4074-d2c8-128484ef7f3d"
      },
      "outputs": [
        {
          "data": {
            "text/plain": [
              "array([ 413, 1147, 1523,  196,   80,  856, 5759,    1,    0,    0,    0,\n",
              "          0,    0,    0,    0,    0,    0,    0,    0,    0,    0,    0,\n",
              "          0,    0,    0,    0,    0,    0,    0,    0,    0,    0,    0,\n",
              "          0,    0,    0,    0,    0,    0,    0,    0,    0], dtype=int32)"
            ]
          },
          "execution_count": 86,
          "metadata": {},
          "output_type": "execute_result"
        }
      ],
      "source": [
        "kor_tensor[0]"
      ]
    },
    {
      "cell_type": "code",
      "execution_count": null,
      "id": "81d30aaf",
      "metadata": {
        "id": "81d30aaf",
        "outputId": "d5139917-c701-48cd-bef3-8a588872cdbc"
      },
      "outputs": [
        {
          "name": "stdout",
          "output_type": "stream",
          "text": [
            "슝~\n"
          ]
        }
      ],
      "source": [
        "class BahdanauAttention(tf.keras.layers.Layer):\n",
        "    def __init__(self, units):\n",
        "        super(BahdanauAttention, self).__init__()\n",
        "        self.w_dec = tf.keras.layers.Dense(units)\n",
        "        self.w_enc = tf.keras.layers.Dense(units)\n",
        "        self.w_com = tf.keras.layers.Dense(1)\n",
        "\n",
        "    def call(self, h_enc, h_dec):\n",
        "        # h_enc shape: [batch x length x units]\n",
        "        # h_dec shape: [batch x units]\n",
        "\n",
        "        h_enc = self.w_enc(h_enc)\n",
        "        h_dec = tf.expand_dims(h_dec, 1)\n",
        "        h_dec = self.w_dec(h_dec)\n",
        "\n",
        "        score = self.w_com(tf.nn.tanh(h_dec + h_enc))\n",
        "\n",
        "        attn = tf.nn.softmax(score, axis=1)\n",
        "\n",
        "        context_vec = attn * h_enc\n",
        "        context_vec = tf.reduce_sum(context_vec, axis=1)\n",
        "\n",
        "        return context_vec, attn\n",
        "\n",
        "print(\"슝~\")"
      ]
    },
    {
      "cell_type": "code",
      "execution_count": null,
      "id": "15050e56",
      "metadata": {
        "id": "15050e56"
      },
      "outputs": [],
      "source": [
        "class Encoder(tf.keras.Model):\n",
        "    def __init__(self, vocab_size, embedding_dim, enc_units):\n",
        "        super(Encoder, self).__init__()\n",
        "\n",
        "        self.enc_units = enc_units\n",
        "        self.embedding = tf.keras.layers.Embedding(vocab_size, embedding_dim)\n",
        "        self.gru = tf.keras.layers.GRU(enc_units,\n",
        "                                       return_sequences=True)\n",
        "\n",
        "    def call(self, x):\n",
        "        out = self.embedding(x)\n",
        "        out = self.gru(out)\n",
        "\n",
        "        return out"
      ]
    },
    {
      "cell_type": "code",
      "execution_count": null,
      "id": "f955b3b4",
      "metadata": {
        "id": "f955b3b4"
      },
      "outputs": [],
      "source": [
        "class Decoder(tf.keras.Model):\n",
        "    def __init__(self, vocab_size, embedding_dim, dec_units):\n",
        "        super(Decoder, self).__init__()\n",
        "        self.dec_units = dec_units\n",
        "        self.embedding = tf.keras.layers.Embedding(vocab_size, embedding_dim)\n",
        "        self.gru = tf.keras.layers.GRU(dec_units,\n",
        "                                       return_sequences=True,\n",
        "                                       return_state=True)\n",
        "        self.fc = tf.keras.layers.Dense(vocab_size)\n",
        "\n",
        "        self.attention = BahdanauAttention(self.dec_units)\n",
        "\n",
        "    def call(self, x, h_dec, enc_out):\n",
        "        context_vec, attn = self.attention(enc_out, h_dec)\n",
        "\n",
        "        out = self.embedding(x)\n",
        "        out = tf.concat([tf.expand_dims(context_vec, 1), out], axis=-1)\n",
        "\n",
        "        out, h_dec = self.gru(out)\n",
        "        out = tf.reshape(out, (-1, out.shape[2]))\n",
        "        out = self.fc(out)\n",
        "\n",
        "        return out, h_dec, attn"
      ]
    },
    {
      "cell_type": "code",
      "execution_count": null,
      "id": "71987bf1",
      "metadata": {
        "id": "71987bf1",
        "outputId": "027c2e4c-daba-4f1b-ffcf-4a76b3d1c3fb"
      },
      "outputs": [
        {
          "name": "stdout",
          "output_type": "stream",
          "text": [
            "Encoder Output: (64, 30, 1024)\n",
            "Decoder Output: (64, 13921)\n",
            "Decoder Hidden State: (64, 1024)\n",
            "Attention: (64, 30, 1)\n"
          ]
        }
      ],
      "source": [
        "# 코드를 실행하세요.\n",
        "\n",
        "BATCH_SIZE     = 64\n",
        "SRC_VOCAB_SIZE = len(kor_tokenizer.index_word) + 1\n",
        "TGT_VOCAB_SIZE = len(eng_tokenizer.index_word) + 1\n",
        "\n",
        "units         = 1024 #데이터 10만개 기준 256\n",
        "embedding_dim = 512 #데이터 10만개 기준 256\n",
        "\n",
        "encoder = Encoder(SRC_VOCAB_SIZE, embedding_dim, units)\n",
        "decoder = Decoder(TGT_VOCAB_SIZE, embedding_dim, units)\n",
        "\n",
        "# sample input\n",
        "sequence_len = 30 #문장길이 분포 최대 30어절\n",
        "\n",
        "sample_kor = tf.random.uniform((BATCH_SIZE, sequence_len))\n",
        "sample_output = encoder(sample_kor)\n",
        "\n",
        "print ('Encoder Output:', sample_output.shape)\n",
        "\n",
        "sample_state = tf.random.uniform((BATCH_SIZE, units))\n",
        "\n",
        "sample_logits, h_dec, attn = decoder(tf.random.uniform((BATCH_SIZE, 1)),\n",
        "                                     sample_state, sample_output)\n",
        "\n",
        "print ('Decoder Output:', sample_logits.shape)\n",
        "print ('Decoder Hidden State:', h_dec.shape)\n",
        "print ('Attention:', attn.shape)"
      ]
    },
    {
      "cell_type": "code",
      "execution_count": null,
      "id": "72ab0a73",
      "metadata": {
        "id": "72ab0a73",
        "outputId": "bdb66dd0-9cc5-4d16-8f45-70d98beb3e48"
      },
      "outputs": [
        {
          "name": "stdout",
          "output_type": "stream",
          "text": [
            "슝~\n"
          ]
        }
      ],
      "source": [
        "#옵티마이저 및 로스\n",
        "optimizer = tf.keras.optimizers.Adam()\n",
        "loss_object = tf.keras.losses.SparseCategoricalCrossentropy(\n",
        "    from_logits=True, reduction='none')\n",
        "\n",
        "def loss_function(real, pred):\n",
        "    mask = tf.math.logical_not(tf.math.equal(real, 0))\n",
        "    loss = loss_object(real, pred)\n",
        "\n",
        "    mask = tf.cast(mask, dtype=loss.dtype)\n",
        "    loss *= mask\n",
        "\n",
        "    return tf.reduce_mean(loss)\n",
        "\n",
        "print(\"슝~\")"
      ]
    },
    {
      "cell_type": "code",
      "execution_count": null,
      "id": "2b7ee240",
      "metadata": {
        "id": "2b7ee240",
        "outputId": "d15ffcde-3b29-4d50-9be5-311e847dd763"
      },
      "outputs": [
        {
          "name": "stdout",
          "output_type": "stream",
          "text": [
            "슝~\n"
          ]
        }
      ],
      "source": [
        "#train step\n",
        "@tf.function\n",
        "def train_step(src, tgt, encoder, decoder, optimizer, dec_tok):\n",
        "    bsz = src.shape[0]\n",
        "    loss = 0\n",
        "\n",
        "    with tf.GradientTape() as tape:\n",
        "        kor_out = encoder(src)\n",
        "        h_dec = kor_out[:, -1]\n",
        "\n",
        "        dec_src = tf.expand_dims([dec_tok.word_index['<start>']] * bsz, 1)\n",
        "\n",
        "        for t in range(1, tgt.shape[1]):\n",
        "            pred, h_dec, _ = decoder(dec_src, h_dec, kor_out)\n",
        "\n",
        "            loss += loss_function(tgt[:, t], pred)\n",
        "            dec_src = tf.expand_dims(tgt[:, t], 1)\n",
        "\n",
        "    batch_loss = (loss / int(tgt.shape[1]))\n",
        "\n",
        "    variables = encoder.trainable_variables + decoder.trainable_variables\n",
        "    gradients = tape.gradient(loss, variables)\n",
        "    optimizer.apply_gradients(zip(gradients, variables))\n",
        "\n",
        "    return batch_loss\n",
        "\n",
        "print(\"슝~\")"
      ]
    },
    {
      "cell_type": "code",
      "execution_count": null,
      "id": "f198d2f3",
      "metadata": {
        "id": "f198d2f3",
        "outputId": "f369715d-4e25-490e-d6db-f31e9dbe3f8d"
      },
      "outputs": [
        {
          "name": "stdout",
          "output_type": "stream",
          "text": [
            "Once deleted, variables cannot be recovered. Proceed (y/[n])? y\n"
          ]
        }
      ],
      "source": [
        "# %reset"
      ]
    },
    {
      "cell_type": "code",
      "execution_count": null,
      "id": "4558dddd",
      "metadata": {
        "id": "4558dddd",
        "outputId": "953c1f6a-b452-4418-cbd1-c4384ab4f746"
      },
      "outputs": [
        {
          "name": "stderr",
          "output_type": "stream",
          "text": [
            "Epoch  1: 100%|██████████| 375/375 [04:20<00:00,  1.44it/s, Loss 1.0285]\n",
            "Test Epoch  1: 100%|██████████| 94/94 [01:00<00:00,  1.55it/s, Test Loss 1.0456]\n",
            "Epoch  2: 100%|██████████| 375/375 [04:20<00:00,  1.44it/s, Loss 0.9893]\n",
            "Test Epoch  2: 100%|██████████| 94/94 [00:24<00:00,  3.82it/s, Test Loss 1.0209]\n",
            "Epoch  3: 100%|██████████| 375/375 [04:19<00:00,  1.44it/s, Loss 0.9534]\n",
            "Test Epoch  3: 100%|██████████| 94/94 [00:24<00:00,  3.82it/s, Test Loss 1.0061]\n",
            "Epoch  4: 100%|██████████| 375/375 [04:20<00:00,  1.44it/s, Loss 0.9239]\n",
            "Test Epoch  4: 100%|██████████| 94/94 [00:24<00:00,  3.81it/s, Test Loss 0.9966]\n",
            "Epoch  5: 100%|██████████| 375/375 [04:20<00:00,  1.44it/s, Loss 0.8949]\n",
            "Test Epoch  5: 100%|██████████| 94/94 [00:24<00:00,  3.81it/s, Test Loss 0.9889]\n",
            "Epoch  6: 100%|██████████| 375/375 [04:20<00:00,  1.44it/s, Loss 0.8686]\n",
            "Test Epoch  6: 100%|██████████| 94/94 [00:24<00:00,  3.81it/s, Test Loss 0.9793]\n",
            "Epoch  7: 100%|██████████| 375/375 [04:20<00:00,  1.44it/s, Loss 0.8434]\n",
            "Test Epoch  7: 100%|██████████| 94/94 [00:24<00:00,  3.80it/s, Test Loss 0.9714]\n",
            "Epoch  8: 100%|██████████| 375/375 [04:20<00:00,  1.44it/s, Loss 0.8179]\n",
            "Test Epoch  8: 100%|██████████| 94/94 [00:24<00:00,  3.81it/s, Test Loss 0.9685]\n",
            "Epoch  9: 100%|██████████| 375/375 [04:20<00:00,  1.44it/s, Loss 0.7926]\n",
            "Test Epoch  9: 100%|██████████| 94/94 [00:24<00:00,  3.81it/s, Test Loss 0.9691]\n",
            "Epoch 10: 100%|██████████| 375/375 [04:20<00:00,  1.44it/s, Loss 0.7679]\n",
            "Test Epoch 10: 100%|██████████| 94/94 [00:24<00:00,  3.82it/s, Test Loss 0.9639]\n",
            "Epoch 11: 100%|██████████| 375/375 [04:20<00:00,  1.44it/s, Loss 0.7438]\n",
            "Test Epoch 11: 100%|██████████| 94/94 [00:24<00:00,  3.81it/s, Test Loss 0.9653]\n",
            "Epoch 12: 100%|██████████| 375/375 [04:20<00:00,  1.44it/s, Loss 0.7190]\n",
            "Test Epoch 12: 100%|██████████| 94/94 [00:24<00:00,  3.81it/s, Test Loss 0.9682]\n",
            "Epoch 13: 100%|██████████| 375/375 [04:20<00:00,  1.44it/s, Loss 0.6941]\n",
            "Test Epoch 13: 100%|██████████| 94/94 [00:24<00:00,  3.80it/s, Test Loss 0.9720]\n",
            "Epoch 14: 100%|██████████| 375/375 [04:20<00:00,  1.44it/s, Loss 0.6684]\n",
            "Test Epoch 14: 100%|██████████| 94/94 [00:24<00:00,  3.80it/s, Test Loss 0.9778]\n",
            "Epoch 15: 100%|██████████| 375/375 [04:20<00:00,  1.44it/s, Loss 0.6428]\n",
            "Test Epoch 15: 100%|██████████| 94/94 [00:24<00:00,  3.80it/s, Test Loss 0.9850]\n",
            "Epoch 16: 100%|██████████| 375/375 [04:20<00:00,  1.44it/s, Loss 0.6166]\n",
            "Test Epoch 16: 100%|██████████| 94/94 [00:24<00:00,  3.81it/s, Test Loss 0.9894]\n",
            "Epoch 17: 100%|██████████| 375/375 [04:20<00:00,  1.44it/s, Loss 0.5928]\n",
            "Test Epoch 17: 100%|██████████| 94/94 [00:24<00:00,  3.80it/s, Test Loss 0.9980]\n",
            "Epoch 18: 100%|██████████| 375/375 [04:20<00:00,  1.44it/s, Loss 0.5661]\n",
            "Test Epoch 18: 100%|██████████| 94/94 [00:24<00:00,  3.80it/s, Test Loss 1.0070]\n",
            "Epoch 19: 100%|██████████| 375/375 [04:20<00:00,  1.44it/s, Loss 0.5400]\n",
            "Test Epoch 19: 100%|██████████| 94/94 [00:24<00:00,  3.80it/s, Test Loss 1.0191]\n",
            "Epoch 20: 100%|██████████| 375/375 [04:20<00:00,  1.44it/s, Loss 0.5167]\n",
            "Test Epoch 20: 100%|██████████| 94/94 [00:24<00:00,  3.81it/s, Test Loss 1.0226]\n",
            "Epoch 21: 100%|██████████| 375/375 [04:20<00:00,  1.44it/s, Loss 0.4921]\n",
            "Test Epoch 21: 100%|██████████| 94/94 [00:24<00:00,  3.80it/s, Test Loss 1.0367]\n",
            "Epoch 22: 100%|██████████| 375/375 [04:20<00:00,  1.44it/s, Loss 0.4702]\n",
            "Test Epoch 22: 100%|██████████| 94/94 [00:24<00:00,  3.80it/s, Test Loss 1.0445]\n",
            "Epoch 23: 100%|██████████| 375/375 [04:20<00:00,  1.44it/s, Loss 0.4493]\n",
            "Test Epoch 23: 100%|██████████| 94/94 [00:24<00:00,  3.80it/s, Test Loss 1.0550]\n",
            "Epoch 24: 100%|██████████| 375/375 [04:20<00:00,  1.44it/s, Loss 0.4275]\n",
            "Test Epoch 24: 100%|██████████| 94/94 [00:24<00:00,  3.81it/s, Test Loss 1.0665]\n",
            "Epoch 25: 100%|██████████| 375/375 [04:20<00:00,  1.44it/s, Loss 0.4081]\n",
            "Test Epoch 25: 100%|██████████| 94/94 [00:24<00:00,  3.80it/s, Test Loss 1.0773]\n",
            "Epoch 26: 100%|██████████| 375/375 [04:20<00:00,  1.44it/s, Loss 0.3876]\n",
            "Test Epoch 26: 100%|██████████| 94/94 [00:24<00:00,  3.80it/s, Test Loss 1.0893]\n",
            "Epoch 27: 100%|██████████| 375/375 [04:20<00:00,  1.44it/s, Loss 0.3720]\n",
            "Test Epoch 27: 100%|██████████| 94/94 [00:24<00:00,  3.80it/s, Test Loss 1.1048]\n",
            "Epoch 28: 100%|██████████| 375/375 [04:20<00:00,  1.44it/s, Loss 0.3520]\n",
            "Test Epoch 28: 100%|██████████| 94/94 [00:24<00:00,  3.80it/s, Test Loss 1.1124]\n",
            "Epoch 29: 100%|██████████| 375/375 [04:20<00:00,  1.44it/s, Loss 0.3345]\n",
            "Test Epoch 29: 100%|██████████| 94/94 [00:24<00:00,  3.80it/s, Test Loss 1.1328]\n",
            "Epoch 30: 100%|██████████| 375/375 [04:20<00:00,  1.44it/s, Loss 0.3174]\n",
            "Test Epoch 30: 100%|██████████| 94/94 [00:24<00:00,  3.80it/s, Test Loss 1.1393]\n"
          ]
        }
      ],
      "source": [
        "import random\n",
        "\n",
        "@tf.function\n",
        "def eval_step(src, tgt, encoder, decoder, eng_tok):\n",
        "    bsz = src.shape[0]\n",
        "    loss = 0\n",
        "\n",
        "    kor_out = encoder(src)\n",
        "\n",
        "    h_dec = kor_out[:, -1]\n",
        "\n",
        "    eng_src = tf.expand_dims([eng_tok.word_index['<start>']] * bsz, 1)\n",
        "\n",
        "    for t in range(1, tgt.shape[1]):\n",
        "        pred, h_dec, _ = decoder(eng_src, h_dec, kor_out)\n",
        "\n",
        "        loss += loss_function(tgt[:, t], pred)\n",
        "        eng_src = tf.expand_dims(tgt[:, t], 1)\n",
        "\n",
        "    batch_loss = (loss / int(tgt.shape[1]))\n",
        "\n",
        "    return batch_loss\n",
        "\n",
        "\n",
        "# Training Process\n",
        "\n",
        "from tqdm import tqdm\n",
        "\n",
        "EPOCHS = 30\n",
        "\n",
        "for epoch in range(EPOCHS):\n",
        "    total_loss = 0\n",
        "\n",
        "    idx_list = list(range(0, kor_train.shape[0], BATCH_SIZE))\n",
        "    random.shuffle(idx_list)\n",
        "    t = tqdm(idx_list)\n",
        "\n",
        "    for (batch, idx) in enumerate(t):\n",
        "        batch_loss = train_step(kor_train[idx:idx+BATCH_SIZE],\n",
        "                                eng_train[idx:idx+BATCH_SIZE],\n",
        "                                encoder,\n",
        "                                decoder,\n",
        "                                optimizer,\n",
        "                                eng_tokenizer)\n",
        "\n",
        "        total_loss += batch_loss\n",
        "\n",
        "        t.set_description_str('Epoch %2d' % (epoch + 1))\n",
        "        t.set_postfix_str('Loss %.4f' % (total_loss.numpy() / (batch + 1)))\n",
        "\n",
        "    test_loss = 0\n",
        "\n",
        "    idx_list = list(range(0, kor_val.shape[0], BATCH_SIZE))\n",
        "    random.shuffle(idx_list)\n",
        "    t = tqdm(idx_list)\n",
        "\n",
        "    for (test_batch, idx) in enumerate(t):\n",
        "        test_batch_loss = eval_step(kor_val[idx:idx+BATCH_SIZE],\n",
        "                                    eng_val[idx:idx+BATCH_SIZE],\n",
        "                                    encoder,\n",
        "                                    decoder,\n",
        "                                    eng_tokenizer)\n",
        "\n",
        "        test_loss += test_batch_loss\n",
        "\n",
        "        t.set_description_str('Test Epoch %2d' % (epoch + 1))\n",
        "        t.set_postfix_str('Test Loss %.4f' % (test_loss.numpy() / (test_batch + 1)))"
      ]
    },
    {
      "cell_type": "code",
      "execution_count": null,
      "id": "8ca72fa8",
      "metadata": {
        "id": "8ca72fa8",
        "outputId": "f4e28ca8-4024-4f12-e719-b888964c1c9d"
      },
      "outputs": [
        {
          "name": "stdout",
          "output_type": "stream",
          "text": [
            "Input: 이거 번역이 잘 되려나 모르겠네\n",
            "Predicted translation: this this this this this this this this this this this this this this this this this this this this this this this this this this this this this this this this this this this this this this this this this this this this this this this this this this this this this this this this this this this this this \n"
          ]
        },
        {
          "name": "stderr",
          "output_type": "stream",
          "text": [
            "/tmp/ipykernel_31/4071588706.py:45: UserWarning: FixedFormatter should only be used together with FixedLocator\n",
            "  ax.set_xticklabels([''] + sentence, fontdict=fontdict, rotation=90)\n",
            "/tmp/ipykernel_31/4071588706.py:46: UserWarning: FixedFormatter should only be used together with FixedLocator\n",
            "  ax.set_yticklabels([''] + predicted_sentence, fontdict=fontdict)\n",
            "/opt/conda/lib/python3.9/site-packages/matplotlib/backends/backend_agg.py:240: RuntimeWarning: Glyph 51060 missing from current font.\n",
            "  font.set_text(s, 0.0, flags=flags)\n",
            "/opt/conda/lib/python3.9/site-packages/matplotlib/backends/backend_agg.py:240: RuntimeWarning: Glyph 44144 missing from current font.\n",
            "  font.set_text(s, 0.0, flags=flags)\n",
            "/opt/conda/lib/python3.9/site-packages/matplotlib/backends/backend_agg.py:240: RuntimeWarning: Glyph 48264 missing from current font.\n",
            "  font.set_text(s, 0.0, flags=flags)\n",
            "/opt/conda/lib/python3.9/site-packages/matplotlib/backends/backend_agg.py:240: RuntimeWarning: Glyph 50669 missing from current font.\n",
            "  font.set_text(s, 0.0, flags=flags)\n",
            "/opt/conda/lib/python3.9/site-packages/matplotlib/backends/backend_agg.py:240: RuntimeWarning: Glyph 51096 missing from current font.\n",
            "  font.set_text(s, 0.0, flags=flags)\n",
            "/opt/conda/lib/python3.9/site-packages/matplotlib/backends/backend_agg.py:240: RuntimeWarning: Glyph 46104 missing from current font.\n",
            "  font.set_text(s, 0.0, flags=flags)\n",
            "/opt/conda/lib/python3.9/site-packages/matplotlib/backends/backend_agg.py:240: RuntimeWarning: Glyph 47140 missing from current font.\n",
            "  font.set_text(s, 0.0, flags=flags)\n",
            "/opt/conda/lib/python3.9/site-packages/matplotlib/backends/backend_agg.py:240: RuntimeWarning: Glyph 45208 missing from current font.\n",
            "  font.set_text(s, 0.0, flags=flags)\n",
            "/opt/conda/lib/python3.9/site-packages/matplotlib/backends/backend_agg.py:240: RuntimeWarning: Glyph 47784 missing from current font.\n",
            "  font.set_text(s, 0.0, flags=flags)\n",
            "/opt/conda/lib/python3.9/site-packages/matplotlib/backends/backend_agg.py:240: RuntimeWarning: Glyph 47476 missing from current font.\n",
            "  font.set_text(s, 0.0, flags=flags)\n",
            "/opt/conda/lib/python3.9/site-packages/matplotlib/backends/backend_agg.py:240: RuntimeWarning: Glyph 44192 missing from current font.\n",
            "  font.set_text(s, 0.0, flags=flags)\n",
            "/opt/conda/lib/python3.9/site-packages/matplotlib/backends/backend_agg.py:240: RuntimeWarning: Glyph 45348 missing from current font.\n",
            "  font.set_text(s, 0.0, flags=flags)\n",
            "/opt/conda/lib/python3.9/site-packages/matplotlib/backends/backend_agg.py:203: RuntimeWarning: Glyph 51060 missing from current font.\n",
            "  font.set_text(s, 0, flags=flags)\n",
            "/opt/conda/lib/python3.9/site-packages/matplotlib/backends/backend_agg.py:203: RuntimeWarning: Glyph 44144 missing from current font.\n",
            "  font.set_text(s, 0, flags=flags)\n",
            "/opt/conda/lib/python3.9/site-packages/matplotlib/backends/backend_agg.py:203: RuntimeWarning: Glyph 48264 missing from current font.\n",
            "  font.set_text(s, 0, flags=flags)\n",
            "/opt/conda/lib/python3.9/site-packages/matplotlib/backends/backend_agg.py:203: RuntimeWarning: Glyph 50669 missing from current font.\n",
            "  font.set_text(s, 0, flags=flags)\n",
            "/opt/conda/lib/python3.9/site-packages/matplotlib/backends/backend_agg.py:203: RuntimeWarning: Glyph 51096 missing from current font.\n",
            "  font.set_text(s, 0, flags=flags)\n",
            "/opt/conda/lib/python3.9/site-packages/matplotlib/backends/backend_agg.py:203: RuntimeWarning: Glyph 46104 missing from current font.\n",
            "  font.set_text(s, 0, flags=flags)\n",
            "/opt/conda/lib/python3.9/site-packages/matplotlib/backends/backend_agg.py:203: RuntimeWarning: Glyph 47140 missing from current font.\n",
            "  font.set_text(s, 0, flags=flags)\n",
            "/opt/conda/lib/python3.9/site-packages/matplotlib/backends/backend_agg.py:203: RuntimeWarning: Glyph 45208 missing from current font.\n",
            "  font.set_text(s, 0, flags=flags)\n",
            "/opt/conda/lib/python3.9/site-packages/matplotlib/backends/backend_agg.py:203: RuntimeWarning: Glyph 47784 missing from current font.\n",
            "  font.set_text(s, 0, flags=flags)\n",
            "/opt/conda/lib/python3.9/site-packages/matplotlib/backends/backend_agg.py:203: RuntimeWarning: Glyph 47476 missing from current font.\n",
            "  font.set_text(s, 0, flags=flags)\n",
            "/opt/conda/lib/python3.9/site-packages/matplotlib/backends/backend_agg.py:203: RuntimeWarning: Glyph 44192 missing from current font.\n",
            "  font.set_text(s, 0, flags=flags)\n",
            "/opt/conda/lib/python3.9/site-packages/matplotlib/backends/backend_agg.py:203: RuntimeWarning: Glyph 45348 missing from current font.\n",
            "  font.set_text(s, 0, flags=flags)\n"
          ]
        },
        {
          "data": {
            "image/png": "[encoded data removed]",
            "text/plain": [
              "<Figure size 720x720 with 1 Axes>"
            ]
          },
          "metadata": {
            "needs_background": "light"
          },
          "output_type": "display_data"
        }
      ],
      "source": [
        "def evaluate(sentence, encoder, decoder):\n",
        "    attention = np.zeros((eng_train.shape[-1], kor_train.shape[-1]))\n",
        "\n",
        "    sentence = preprocess_sentence(sentence)\n",
        "    inputs = kor_tokenizer.texts_to_sequences([sentence.split()])\n",
        "    inputs = tf.keras.preprocessing.sequence.pad_sequences(inputs,\n",
        "                                                           maxlen=kor_train.shape[-1],\n",
        "                                                           padding='post')\n",
        "\n",
        "    result = ''\n",
        "\n",
        "    kor_out = encoder(inputs)\n",
        "\n",
        "    eng_hidden = kor_out[:, -1]\n",
        "    eng_input = tf.expand_dims([eng_tokenizer.word_index['<start>']], 0)\n",
        "\n",
        "    for t in range(eng_train.shape[-1]):\n",
        "        predictions, eng_hidden, attention_weights = decoder(eng_input,\n",
        "                                                             eng_hidden,\n",
        "                                                             kor_out)\n",
        "\n",
        "        attention_weights = tf.reshape(attention_weights, (-1, ))\n",
        "        attention[t] = attention_weights.numpy()\n",
        "\n",
        "        predicted_id = \\\n",
        "        tf.argmax(tf.math.softmax(predictions, axis=-1)[0]).numpy()\n",
        "\n",
        "        result += eng_tokenizer.index_word[predicted_id] + ' '\n",
        "\n",
        "        if eng_tokenizer.index_word[predicted_id] == '<end>':\n",
        "            return result, sentence, attention\n",
        "\n",
        "        dec_input = tf.expand_dims([predicted_id], 0)\n",
        "\n",
        "    return result, sentence, attention\n",
        "\n",
        "\n",
        "def plot_attention(attention, sentence, predicted_sentence):\n",
        "    fig = plt.figure(figsize=(10,10))\n",
        "    ax = fig.add_subplot(1, 1, 1)\n",
        "    ax.matshow(attention, cmap='viridis')\n",
        "\n",
        "    fontdict = {'fontsize': 14}\n",
        "\n",
        "    ax.set_xticklabels([''] + sentence, fontdict=fontdict, rotation=90)\n",
        "    ax.set_yticklabels([''] + predicted_sentence, fontdict=fontdict)\n",
        "\n",
        "    ax.xaxis.set_major_locator(ticker.MultipleLocator(1))\n",
        "    ax.yaxis.set_major_locator(ticker.MultipleLocator(1))\n",
        "\n",
        "    plt.show()\n",
        "\n",
        "\n",
        "def translate(sentence, encoder, decoder):\n",
        "    result, sentence, attention = evaluate(sentence, encoder, decoder)\n",
        "\n",
        "    print('Input: %s' % (sentence))\n",
        "    print('Predicted translation: {}'.format(result))\n",
        "\n",
        "    attention = attention[:len(result.split()), :len(sentence.split())]\n",
        "    plot_attention(attention, sentence.split(), result.split(' '))\n",
        "\n",
        "\n",
        "translate(\"이거 번역이 잘 되려나 모르겠네\", encoder, decoder)"
      ]
    },
    {
      "cell_type": "code",
      "execution_count": null,
      "id": "922d23ca",
      "metadata": {
        "id": "922d23ca",
        "outputId": "2fe5066c-426e-4689-94b3-d26ed52328f9"
      },
      "outputs": [
        {
          "name": "stdout",
          "output_type": "stream",
          "text": [
            "Input: 나는 괜찮아\n",
            "Predicted translation: it it it it it it it it it it it it it it it it it it it it it it it it it it it it it it it it it it it it it it it it it it it it it it it it it it it it it it it it it it it it it \n"
          ]
        },
        {
          "name": "stderr",
          "output_type": "stream",
          "text": [
            "/tmp/ipykernel_31/4071588706.py:45: UserWarning: FixedFormatter should only be used together with FixedLocator\n",
            "  ax.set_xticklabels([''] + sentence, fontdict=fontdict, rotation=90)\n",
            "/tmp/ipykernel_31/4071588706.py:46: UserWarning: FixedFormatter should only be used together with FixedLocator\n",
            "  ax.set_yticklabels([''] + predicted_sentence, fontdict=fontdict)\n"
          ]
        },
        {
          "data": {
            "image/png": "[encoded data removed]",
            "text/plain": [
              "<Figure size 720x720 with 1 Axes>"
            ]
          },
          "metadata": {
            "needs_background": "light"
          },
          "output_type": "display_data"
        }
      ],
      "source": [
        "plt.rcParams[\"font.family\"] = \"NanumGothic\" #맑은 고딕으로 폰트 변경\n",
        "translate(\"나는 괜찮아\", encoder, decoder)"
      ]
    },
    {
      "cell_type": "code",
      "execution_count": null,
      "id": "be614df9",
      "metadata": {
        "id": "be614df9"
      },
      "outputs": [],
      "source": [
        "from matplotlib import font_manager\n",
        "for font in font_manager.fontManager.ttflist:\n",
        "    if 'Malgun' in font.name:\n",
        "        print(font.name, font.fname)"
      ]
    },
    {
      "cell_type": "code",
      "execution_count": null,
      "id": "e3370f9a",
      "metadata": {
        "id": "e3370f9a",
        "outputId": "280c3e84-9323-4e33-ace1-dc7dd04102d2"
      },
      "outputs": [
        {
          "name": "stdout",
          "output_type": "stream",
          "text": [
            "Once deleted, variables cannot be recovered. Proceed (y/[n])? y\n"
          ]
        }
      ],
      "source": [
        "#커널 죽어버렸네..\n",
        "#데이터 축소할게요..\n",
        "#데이터 10만개는 돌아갈만 하지 않나..?\n",
        "#아 왜!\n",
        "# print('ㅜㅜ')\n",
        "%reset"
      ]
    },
    {
      "cell_type": "markdown",
      "id": "463ab768",
      "metadata": {
        "id": "463ab768"
      },
      "source": [
        "# 다시 시작"
      ]
    },
    {
      "cell_type": "code",
      "execution_count": null,
      "id": "dbb4e36c",
      "metadata": {
        "id": "dbb4e36c",
        "outputId": "5f5fbe25-c69b-4ac7-adb7-b4e69d65cee1"
      },
      "outputs": [
        {
          "name": "stderr",
          "output_type": "stream",
          "text": [
            "100%|██████████| 30000/30000 [00:01<00:00, 29351.25it/s]"
          ]
        },
        {
          "name": "stdout",
          "output_type": "stream",
          "text": [
            "kor: 빨리 , 빨리 .\n",
            "eng: <start> quick , quick . <end>\n"
          ]
        },
        {
          "name": "stderr",
          "output_type": "stream",
          "text": [
            "\n"
          ]
        }
      ],
      "source": [
        "from tqdm import tqdm\n",
        "import json, pandas as pd\n",
        "from konlpy.tag import Mecab\n",
        "\n",
        "\n",
        "\n",
        "data_path = os.getenv('HOME')+'/aiffel/korean_english_aihub' #파일경로설정\n",
        "\n",
        "with open(data_path+'/일상생활및구어체_한영_train_set.json') as f:\n",
        "    js = json.loads(f.read()) ## json 라이브러리 이용\n",
        "\n",
        "\n",
        "num_data = 30000\n",
        "\n",
        "df = pd.DataFrame(js['data']) #데이터 프레임 생성\n",
        "data = df[['ko','en']].iloc[:num_data] #데이터 추출\n",
        "\n",
        "enc_corpus = []\n",
        "dec_corpus = []\n",
        "\n",
        "for i in tqdm(range(len(data))):\n",
        "    enc_corpus.append((preprocess_sentence(data['ko'][i])))\n",
        "    dec_corpus.append(preprocess_sentence(data['en'][i], s_token=True, e_token=True))\n",
        "\n",
        "print(\"kor:\", enc_corpus[100])   # go away !\n",
        "print(\"eng:\", dec_corpus[100])   # <start> salga de aqu ! <end>"
      ]
    },
    {
      "cell_type": "code",
      "execution_count": null,
      "id": "1af3a592",
      "metadata": {
        "id": "1af3a592",
        "outputId": "d6366637-b32f-4e30-a5b5-5a34a933c71a"
      },
      "outputs": [
        {
          "name": "stderr",
          "output_type": "stream",
          "text": [
            "100%|██████████| 30000/30000 [00:04<00:00, 7427.87it/s] \n"
          ]
        }
      ],
      "source": [
        "from tqdm import tqdm\n",
        "mec = Mecab()\n",
        "\n",
        "mec.morphs(enc_corpus[0])\n",
        "\n",
        "X_mec_test = []\n",
        "for sentence in tqdm(enc_corpus):\n",
        "    tokenized_sentence = mec.morphs(sentence) # 토큰화\n",
        "#     stopwords_removed_sentence = [word for word in tokenized_sentence if not word in stopwords] # 불용어 제거\n",
        "    X_mec_test.append(tokenized_sentence)"
      ]
    },
    {
      "cell_type": "code",
      "execution_count": null,
      "id": "3f05688e",
      "metadata": {
        "id": "3f05688e"
      },
      "outputs": [],
      "source": [
        "from tensorflow.keras.preprocessing.text import Tokenizer\n",
        "\n",
        "# X_mec_test[:3]\n",
        "enc_tokenizer = Tokenizer()\n",
        "enc_tokenizer.fit_on_texts(X_mec_test)\n",
        "enc_tensor = enc_tokenizer.texts_to_sequences(X_mec_test)\n",
        "enc_tensor = tf.keras.preprocessing.sequence.pad_sequences(enc_tensor, padding='post')"
      ]
    },
    {
      "cell_type": "code",
      "execution_count": null,
      "id": "74c7d297",
      "metadata": {
        "id": "74c7d297"
      },
      "outputs": [],
      "source": [
        "#토큰화 이부분에서 한국어 부분만 따로 처리해야함\n",
        "def tokenize(corpus):\n",
        "    tokenizer = tf.keras.preprocessing.text.Tokenizer(filters='')\n",
        "    tokenizer.fit_on_texts(corpus)\n",
        "\n",
        "    tensor = tokenizer.texts_to_sequences(corpus)\n",
        "\n",
        "    tensor = tf.keras.preprocessing.sequence.pad_sequences(tensor, padding='post')\n",
        "\n",
        "    return tensor, tokenizer\n",
        "\n",
        "\n",
        "#데이터 토큰화 처리 및 데이터 셋 분할 진행\n",
        "from sklearn.model_selection import train_test_split\n",
        "\n",
        "# kor_tokenizer = tokenize(kor_corpus)[1]\n",
        "dec_tokenizer = tokenize(dec_corpus)[1]\n",
        "\n",
        "# kor_tensor = tokenize(kor_corpus)[0]\n",
        "dec_tensor = tokenize(dec_corpus)[0]\n",
        "\n",
        "enc_train, enc_val, dec_train, dec_val = \\\n",
        "train_test_split(enc_tensor, dec_tensor, test_size=0.2)"
      ]
    },
    {
      "cell_type": "code",
      "execution_count": null,
      "id": "57168135",
      "metadata": {
        "id": "57168135",
        "outputId": "b1260999-af09-485d-e60a-e620bb9d2c17"
      },
      "outputs": [
        {
          "data": {
            "text/plain": [
              "array([[ 188,    3,   27, ...,    0,    0,    0],\n",
              "       [ 128,   53,  849, ...,    0,    0,    0],\n",
              "       [5636,    2,   16, ...,    0,    0,    0],\n",
              "       ...,\n",
              "       [  93,    8,   48, ...,    0,    0,    0],\n",
              "       [ 280, 1356,    2, ...,    0,    0,    0],\n",
              "       [ 581,    4,   15, ...,    0,    0,    0]], dtype=int32)"
            ]
          },
          "execution_count": 10,
          "metadata": {},
          "output_type": "execute_result"
        }
      ],
      "source": [
        "enc_tensor"
      ]
    },
    {
      "cell_type": "code",
      "execution_count": null,
      "id": "e1aa170d",
      "metadata": {
        "id": "e1aa170d"
      },
      "outputs": [],
      "source": [
        "#bahdanau_attention\n",
        "class BahdanauAttention(tf.keras.layers.Layer):\n",
        "    def __init__(self, units):\n",
        "        super(BahdanauAttention, self).__init__()\n",
        "        self.w_dec = tf.keras.layers.Dense(units)\n",
        "        self.w_enc = tf.keras.layers.Dense(units)\n",
        "        self.w_com = tf.keras.layers.Dense(1)\n",
        "\n",
        "    def call(self, h_enc, h_dec):\n",
        "        # h_enc shape: [batch x length x units]\n",
        "        # h_dec shape: [batch x units]\n",
        "\n",
        "        h_enc = self.w_enc(h_enc)\n",
        "        h_dec = tf.expand_dims(h_dec, 1)\n",
        "        h_dec = self.w_dec(h_dec)\n",
        "\n",
        "        score = self.w_com(tf.nn.tanh(h_dec + h_enc))\n",
        "\n",
        "        attn = tf.nn.softmax(score, axis=1)\n",
        "\n",
        "        context_vec = attn * h_enc\n",
        "        context_vec = tf.reduce_sum(context_vec, axis=1)\n",
        "\n",
        "        return context_vec, attn"
      ]
    },
    {
      "cell_type": "code",
      "execution_count": null,
      "id": "e5dbe1b7",
      "metadata": {
        "id": "e5dbe1b7"
      },
      "outputs": [],
      "source": [
        "class Encoder(tf.keras.Model):\n",
        "    def __init__(self, vocab_size, embedding_dim, enc_units):\n",
        "        super(Encoder, self).__init__()\n",
        "\n",
        "        self.enc_units = enc_units\n",
        "        self.embedding = tf.keras.layers.Embedding(vocab_size, embedding_dim)\n",
        "        self.gru = tf.keras.layers.GRU(enc_units,\n",
        "                                       return_sequences=True)\n",
        "\n",
        "    def call(self, x):\n",
        "        out = self.embedding(x)\n",
        "        out = self.gru(out)\n",
        "\n",
        "        return out\n",
        "\n",
        "class Decoder(tf.keras.Model):\n",
        "    def __init__(self, vocab_size, embedding_dim, dec_units):\n",
        "        super(Decoder, self).__init__()\n",
        "        self.dec_units = dec_units\n",
        "        self.embedding = tf.keras.layers.Embedding(vocab_size, embedding_dim)\n",
        "        self.gru = tf.keras.layers.GRU(dec_units,\n",
        "                                       return_sequences=True,\n",
        "                                       return_state=True)\n",
        "        self.fc = tf.keras.layers.Dense(vocab_size)\n",
        "\n",
        "        self.attention = BahdanauAttention(self.dec_units)\n",
        "\n",
        "    def call(self, x, h_dec, enc_out):\n",
        "        context_vec, attn = self.attention(enc_out, h_dec)\n",
        "\n",
        "        out = self.embedding(x)\n",
        "        out = tf.concat([tf.expand_dims(context_vec, 1), out], axis=-1)\n",
        "\n",
        "        out, h_dec = self.gru(out)\n",
        "        out = tf.reshape(out, (-1, out.shape[2]))\n",
        "        out = self.fc(out)\n",
        "\n",
        "        return out, h_dec, attn"
      ]
    },
    {
      "cell_type": "code",
      "execution_count": null,
      "id": "40223615",
      "metadata": {
        "id": "40223615",
        "outputId": "d55f5a47-0f06-43bd-c6b7-e4a82faf5198"
      },
      "outputs": [
        {
          "name": "stdout",
          "output_type": "stream",
          "text": [
            "Encoder Output: (64, 30, 1024)\n",
            "Decoder Output: (64, 13921)\n",
            "Decoder Hidden State: (64, 1024)\n",
            "Attention: (64, 30, 1)\n"
          ]
        }
      ],
      "source": [
        "BATCH_SIZE     = 64\n",
        "SRC_VOCAB_SIZE = len(enc_tokenizer.index_word) + 1\n",
        "TGT_VOCAB_SIZE = len(dec_tokenizer.index_word) + 1\n",
        "\n",
        "units         = 1024\n",
        "embedding_dim = 512\n",
        "\n",
        "encoder = Encoder(SRC_VOCAB_SIZE, embedding_dim, units)\n",
        "decoder = Decoder(TGT_VOCAB_SIZE, embedding_dim, units)\n",
        "\n",
        "# sample input\n",
        "sequence_len = 30\n",
        "\n",
        "sample_enc = tf.random.uniform((BATCH_SIZE, sequence_len))\n",
        "sample_output = encoder(sample_enc)\n",
        "\n",
        "print ('Encoder Output:', sample_output.shape)\n",
        "\n",
        "sample_state = tf.random.uniform((BATCH_SIZE, units))\n",
        "\n",
        "sample_logits, h_dec, attn = decoder(tf.random.uniform((BATCH_SIZE, 1)),\n",
        "                                     sample_state, sample_output)\n",
        "\n",
        "print ('Decoder Output:', sample_logits.shape)\n",
        "print ('Decoder Hidden State:', h_dec.shape)\n",
        "print ('Attention:', attn.shape)"
      ]
    },
    {
      "cell_type": "code",
      "execution_count": null,
      "id": "c66cfc39",
      "metadata": {
        "id": "c66cfc39",
        "outputId": "d9602293-747c-4e64-efa8-10f7b48b3d7a"
      },
      "outputs": [
        {
          "name": "stdout",
          "output_type": "stream",
          "text": [
            "슝~\n"
          ]
        }
      ],
      "source": [
        "optimizer = tf.keras.optimizers.Adam()\n",
        "loss_object = tf.keras.losses.SparseCategoricalCrossentropy(\n",
        "    from_logits=True, reduction='none')\n",
        "\n",
        "def loss_function(real, pred):\n",
        "    mask = tf.math.logical_not(tf.math.equal(real, 0))\n",
        "    loss = loss_object(real, pred)\n",
        "\n",
        "    mask = tf.cast(mask, dtype=loss.dtype)\n",
        "    loss *= mask\n",
        "\n",
        "    return tf.reduce_mean(loss)\n",
        "\n",
        "print(\"슝~\")"
      ]
    },
    {
      "cell_type": "code",
      "execution_count": null,
      "id": "08c7e3c8",
      "metadata": {
        "id": "08c7e3c8",
        "outputId": "f5ade77b-3daf-43e2-9fab-168101a9ff8d"
      },
      "outputs": [
        {
          "name": "stdout",
          "output_type": "stream",
          "text": [
            "슝~\n"
          ]
        }
      ],
      "source": [
        "@tf.function\n",
        "def train_step(src, tgt, encoder, decoder, optimizer, dec_tok):\n",
        "    bsz = src.shape[0]\n",
        "    loss = 0\n",
        "\n",
        "    with tf.GradientTape() as tape:\n",
        "        enc_out = encoder(src)\n",
        "        h_dec = enc_out[:, -1]\n",
        "\n",
        "        dec_src = tf.expand_dims([dec_tok.word_index['<start>']] * bsz, 1)\n",
        "\n",
        "        for t in range(1, tgt.shape[1]):\n",
        "            pred, h_dec, _ = decoder(dec_src, h_dec, enc_out)\n",
        "\n",
        "            loss += loss_function(tgt[:, t], pred)\n",
        "            dec_src = tf.expand_dims(tgt[:, t], 1)\n",
        "\n",
        "    batch_loss = (loss / int(tgt.shape[1]))\n",
        "\n",
        "    variables = encoder.trainable_variables + decoder.trainable_variables\n",
        "    gradients = tape.gradient(loss, variables)\n",
        "    optimizer.apply_gradients(zip(gradients, variables))\n",
        "\n",
        "    return batch_loss\n",
        "\n",
        "print(\"슝~\")"
      ]
    },
    {
      "cell_type": "code",
      "execution_count": null,
      "id": "ea54ace8",
      "metadata": {
        "id": "ea54ace8",
        "outputId": "c8e03455-1d8a-471a-a921-9147784964ae"
      },
      "outputs": [
        {
          "name": "stderr",
          "output_type": "stream",
          "text": [
            "Epoch  1: 100%|██████████| 375/375 [06:55<00:00,  1.11s/it, Loss 1.3616]\n",
            "Test Epoch  1: 100%|██████████| 94/94 [01:10<00:00,  1.34it/s, Test Loss 1.3239]\n",
            "Epoch  2: 100%|██████████| 375/375 [05:47<00:00,  1.08it/s, Loss 1.3404]\n",
            "Test Epoch  2: 100%|██████████| 94/94 [00:32<00:00,  2.85it/s, Test Loss 1.3310]\n",
            "Epoch  3: 100%|██████████| 375/375 [05:46<00:00,  1.08it/s, Loss 1.3422]\n",
            "Test Epoch  3: 100%|██████████| 94/94 [00:33<00:00,  2.85it/s, Test Loss 1.3338]\n",
            "Epoch  4: 100%|██████████| 375/375 [05:47<00:00,  1.08it/s, Loss 1.3425]\n",
            "Test Epoch  4: 100%|██████████| 94/94 [00:33<00:00,  2.85it/s, Test Loss 1.3394]\n",
            "Epoch  5: 100%|██████████| 375/375 [05:46<00:00,  1.08it/s, Loss 1.3412]\n",
            "Test Epoch  5: 100%|██████████| 94/94 [00:33<00:00,  2.85it/s, Test Loss 1.3359]\n",
            "Epoch  6: 100%|██████████| 375/375 [05:47<00:00,  1.08it/s, Loss 1.3034]\n",
            "Test Epoch  6: 100%|██████████| 94/94 [00:33<00:00,  2.83it/s, Test Loss 1.2372]\n",
            "Epoch  7: 100%|██████████| 375/375 [05:46<00:00,  1.08it/s, Loss 1.2324]\n",
            "Test Epoch  7: 100%|██████████| 94/94 [00:33<00:00,  2.83it/s, Test Loss 1.2043]\n",
            "Epoch  8: 100%|██████████| 375/375 [05:46<00:00,  1.08it/s, Loss 1.1967]\n",
            "Test Epoch  8: 100%|██████████| 94/94 [00:33<00:00,  2.84it/s, Test Loss 1.1781]\n",
            "Epoch  9: 100%|██████████| 375/375 [05:47<00:00,  1.08it/s, Loss 1.1609]\n",
            "Test Epoch  9: 100%|██████████| 94/94 [00:33<00:00,  2.82it/s, Test Loss 1.1449]\n",
            "Epoch 10: 100%|██████████| 375/375 [05:47<00:00,  1.08it/s, Loss 1.1258]\n",
            "Test Epoch 10: 100%|██████████| 94/94 [00:33<00:00,  2.84it/s, Test Loss 1.1214]\n"
          ]
        }
      ],
      "source": [
        "import random\n",
        "# Define eval_step\n",
        "\n",
        "@tf.function\n",
        "def eval_step(src, tgt, encoder, decoder, dec_tok):\n",
        "    bsz = src.shape[0]\n",
        "    loss = 0\n",
        "\n",
        "    enc_out = encoder(src)\n",
        "\n",
        "    h_dec = enc_out[:, -1]\n",
        "\n",
        "    dec_src = tf.expand_dims([dec_tok.word_index['<start>']] * bsz, 1)\n",
        "\n",
        "    for t in range(1, tgt.shape[1]):\n",
        "        pred, h_dec, _ = decoder(dec_src, h_dec, enc_out)\n",
        "\n",
        "        loss += loss_function(tgt[:, t], pred)\n",
        "        dec_src = tf.expand_dims(tgt[:, t], 1)\n",
        "\n",
        "    batch_loss = (loss / int(tgt.shape[1]))\n",
        "\n",
        "    return batch_loss\n",
        "\n",
        "\n",
        "# Training Process\n",
        "\n",
        "from tqdm import tqdm\n",
        "\n",
        "EPOCHS = 10\n",
        "\n",
        "for epoch in range(EPOCHS):\n",
        "    total_loss = 0\n",
        "\n",
        "    idx_list = list(range(0, enc_train.shape[0], BATCH_SIZE))\n",
        "    random.shuffle(idx_list)\n",
        "    t = tqdm(idx_list)\n",
        "\n",
        "    for (batch, idx) in enumerate(t):\n",
        "        batch_loss = train_step(enc_train[idx:idx+BATCH_SIZE],\n",
        "                                dec_train[idx:idx+BATCH_SIZE],\n",
        "                                encoder,\n",
        "                                decoder,\n",
        "                                optimizer,\n",
        "                                dec_tokenizer)\n",
        "\n",
        "        total_loss += batch_loss\n",
        "\n",
        "        t.set_description_str('Epoch %2d' % (epoch + 1))\n",
        "        t.set_postfix_str('Loss %.4f' % (total_loss.numpy() / (batch + 1)))\n",
        "\n",
        "    test_loss = 0\n",
        "\n",
        "    idx_list = list(range(0, enc_val.shape[0], BATCH_SIZE))\n",
        "    random.shuffle(idx_list)\n",
        "    t = tqdm(idx_list)\n",
        "\n",
        "    for (test_batch, idx) in enumerate(t):\n",
        "        test_batch_loss = eval_step(enc_val[idx:idx+BATCH_SIZE],\n",
        "                                    dec_val[idx:idx+BATCH_SIZE],\n",
        "                                    encoder,\n",
        "                                    decoder,\n",
        "                                    dec_tokenizer)\n",
        "\n",
        "        test_loss += test_batch_loss\n",
        "\n",
        "        t.set_description_str('Test Epoch %2d' % (epoch + 1))\n",
        "        t.set_postfix_str('Test Loss %.4f' % (test_loss.numpy() / (test_batch + 1)))"
      ]
    },
    {
      "cell_type": "code",
      "execution_count": null,
      "id": "fdbe4290",
      "metadata": {
        "id": "fdbe4290",
        "outputId": "fef10123-986e-4d43-d7c6-9ba029b87c44"
      },
      "outputs": [
        {
          "name": "stderr",
          "output_type": "stream",
          "text": [
            "Epoch  1: 100%|██████████| 375/375 [05:47<00:00,  1.08it/s, Loss 1.0925]\n",
            "Epoch  2: 100%|██████████| 375/375 [05:47<00:00,  1.08it/s, Loss 1.0958]\n",
            "Epoch  3: 100%|██████████| 375/375 [05:47<00:00,  1.08it/s, Loss 1.0915]\n",
            "Epoch  4: 100%|██████████| 375/375 [05:46<00:00,  1.08it/s, Loss 1.0622]\n",
            "Epoch  5: 100%|██████████| 375/375 [05:46<00:00,  1.08it/s, Loss 1.0435]\n",
            "Epoch  6: 100%|██████████| 375/375 [05:46<00:00,  1.08it/s, Loss 1.0261]\n",
            "Epoch  7: 100%|██████████| 375/375 [05:46<00:00,  1.08it/s, Loss 1.0112]\n",
            "Epoch  8: 100%|██████████| 375/375 [05:47<00:00,  1.08it/s, Loss 1.0094]\n",
            "Epoch  9: 100%|██████████| 375/375 [05:46<00:00,  1.08it/s, Loss 0.9968]\n",
            "Epoch 10: 100%|██████████| 375/375 [05:47<00:00,  1.08it/s, Loss 1.0415]\n"
          ]
        }
      ],
      "source": [
        "from tqdm import tqdm    # tqdm\n",
        "import random\n",
        "\n",
        "EPOCHS = 10\n",
        "\n",
        "for epoch in range(EPOCHS):\n",
        "    total_loss = 0\n",
        "\n",
        "    idx_list = list(range(0, enc_train.shape[0], BATCH_SIZE))\n",
        "    random.shuffle(idx_list)\n",
        "    t = tqdm(idx_list)    # tqdm\n",
        "\n",
        "    for (batch, idx) in enumerate(t):\n",
        "        batch_loss = train_step(enc_train[idx:idx+BATCH_SIZE],\n",
        "                                dec_train[idx:idx+BATCH_SIZE],\n",
        "                                encoder,\n",
        "                                decoder,\n",
        "                                optimizer,\n",
        "                                dec_tokenizer)\n",
        "\n",
        "        total_loss += batch_loss\n",
        "\n",
        "        t.set_description_str('Epoch %2d' % (epoch + 1))    # tqdm\n",
        "        t.set_postfix_str('Loss %.4f' % (total_loss.numpy() / (batch + 1)))    # tqdm"
      ]
    },
    {
      "cell_type": "code",
      "execution_count": null,
      "id": "996992fc",
      "metadata": {
        "id": "996992fc",
        "outputId": "6b1e5fa6-8a0a-4645-d817-3488c88c59fd"
      },
      "outputs": [
        {
          "data": {
            "text/plain": [
              "array([4732,  355,  118,   30,   11,  177,    2,  101,   70,    3,    4,\n",
              "         22,   60,   24,   21,   71,   59,   13, 1159,    5,  306,   22,\n",
              "         58,  175,    1,    0,    0,    0,    0,    0,    0,    0,    0,\n",
              "          0,    0,    0,    0,    0,    0,    0,    0,    0,    0,    0,\n",
              "          0,    0,    0,    0,    0,    0,    0,    0,    0,    0,    0,\n",
              "          0,    0,    0,    0,    0,    0,    0,    0,    0,    0,    0,\n",
              "          0,    0,    0,    0,    0,    0,    0,    0,    0,    0],\n",
              "      dtype=int32)"
            ]
          },
          "execution_count": 60,
          "metadata": {},
          "output_type": "execute_result"
        }
      ],
      "source": [
        "kor_train[1]\n",
        "\n",
        "\n",
        "from tensorflow.keras.preprocessing.text import Tokenizer\n",
        "\n",
        "mec.morphs(sentence)\n",
        "\n",
        "# X_mec_test[:3]\n",
        "kor_tokenizer = Tokenizer()\n",
        "kor_tokenizer.fit_on_texts(X_mec_test)\n",
        "kor_tensor = tokenizer_mec.texts_to_sequences(X_mec_test)\n",
        "kor_tensor = tf.keras.preprocessing.sequence.pad_sequences(kor_tensor, padding='post')"
      ]
    },
    {
      "cell_type": "code",
      "execution_count": null,
      "id": "879b021e",
      "metadata": {
        "id": "879b021e"
      },
      "outputs": [],
      "source": [
        "def evaluate(sentence, encoder, decoder):\n",
        "    attention = np.zeros((dec_train.shape[-1], enc_train.shape[-1]))\n",
        "\n",
        "    sentence = preprocess_sentence(sentence)\n",
        "    inputs = enc_tokenizer.texts_to_sequences([sentence.split()])\n",
        "    inputs = tf.keras.preprocessing.sequence.pad_sequences(inputs,\n",
        "                                                           maxlen=enc_train.shape[-1],\n",
        "                                                           padding='post')\n",
        "\n",
        "    result = ''\n",
        "\n",
        "    enc_out = encoder(inputs)\n",
        "\n",
        "    dec_hidden = enc_out[:, -1]\n",
        "    dec_input = tf.expand_dims([dec_tokenizer.word_index['<start>']], 0)\n",
        "\n",
        "    for t in range(dec_train.shape[-1]):\n",
        "        predictions, dec_hidden, attention_weights = decoder(dec_input,\n",
        "                                                             dec_hidden,\n",
        "                                                             enc_out)\n",
        "\n",
        "        attention_weights = tf.reshape(attention_weights, (-1, ))\n",
        "        attention[t] = attention_weights.numpy()\n",
        "\n",
        "        predicted_id = \\\n",
        "        tf.argmax(tf.math.softmax(predictions, axis=-1)[0]).numpy()\n",
        "\n",
        "        result += dec_tokenizer.index_word[predicted_id] + ' '\n",
        "\n",
        "        if dec_tokenizer.index_word[predicted_id] == '<end>':\n",
        "            return result, sentence, attention\n",
        "\n",
        "        dec_input = tf.expand_dims([predicted_id], 0)\n",
        "\n",
        "    return result, sentence, attention\n",
        "\n",
        "\n",
        "def plot_attention(attention, sentence, predicted_sentence):\n",
        "    fig = plt.figure(figsize=(10,10))\n",
        "    ax = fig.add_subplot(1, 1, 1)\n",
        "    ax.matshow(attention, cmap='viridis')\n",
        "\n",
        "    fontdict = {'fontsize': 14}\n",
        "\n",
        "    ax.set_xticklabels([''] + sentence, fontdict=fontdict, rotation=90)\n",
        "    ax.set_yticklabels([''] + predicted_sentence, fontdict=fontdict)\n",
        "\n",
        "    ax.xaxis.set_major_locator(ticker.MultipleLocator(1))\n",
        "    ax.yaxis.set_major_locator(ticker.MultipleLocator(1))\n",
        "\n",
        "    plt.show()\n",
        "\n",
        "\n",
        "def translate(sentence, encoder, decoder):\n",
        "    result, sentence, attention = evaluate(sentence, encoder, decoder)\n",
        "\n",
        "    print('Input: %s' % (sentence))\n",
        "    print('Predicted translation: {}'.format(result))\n",
        "\n",
        "    attention = attention[:len(result.split()), :len(sentence.split())]\n",
        "    plot_attention(attention, sentence.split(), result.split(' '))\n"
      ]
    },
    {
      "cell_type": "code",
      "execution_count": null,
      "id": "fdd4b7d5",
      "metadata": {
        "id": "fdd4b7d5",
        "outputId": "9b834d8d-a95a-41c0-a164-e19e73bbc915"
      },
      "outputs": [
        {
          "data": {
            "text/plain": [
              "array([ 111,    7,   95,   32, 2680,   23,   20,  146,   83,   18,    1,\n",
              "          0,    0,    0,    0,    0,    0,    0,    0,    0,    0,    0,\n",
              "          0,    0,    0,    0,    0,    0,    0,    0,    0,    0,    0,\n",
              "          0,    0,    0,    0,    0,    0,    0,    0,    0,    0,    0,\n",
              "          0,    0,    0,    0,    0,    0,    0,    0,    0,    0,    0,\n",
              "          0,    0,    0,    0,    0,    0,    0,    0,    0,    0,    0,\n",
              "          0,    0,    0,    0,    0,    0,    0,    0,    0,    0],\n",
              "      dtype=int32)"
            ]
          },
          "execution_count": 86,
          "metadata": {},
          "output_type": "execute_result"
        }
      ],
      "source": [
        "kor_train[0]"
      ]
    },
    {
      "cell_type": "code",
      "execution_count": null,
      "id": "6a40ea23",
      "metadata": {
        "id": "6a40ea23"
      },
      "outputs": [],
      "source": []
    },
    {
      "cell_type": "code",
      "execution_count": null,
      "id": "60f27d58",
      "metadata": {
        "id": "60f27d58",
        "outputId": "d2fd8f55-2705-402b-c475-6e95abf630ca"
      },
      "outputs": [
        {
          "name": "stdout",
          "output_type": "stream",
          "text": [
            "Input: 글쎄요 , 저희는 트럭 한 대에 5 , 000개의 제품을 가지고 있습니다 .\n",
            "Predicted translation: i m the company . <end> \n"
          ]
        },
        {
          "name": "stderr",
          "output_type": "stream",
          "text": [
            "/tmp/ipykernel_118/601835555.py:45: UserWarning: FixedFormatter should only be used together with FixedLocator\n",
            "  ax.set_xticklabels([''] + sentence, fontdict=fontdict, rotation=90)\n",
            "/tmp/ipykernel_118/601835555.py:46: UserWarning: FixedFormatter should only be used together with FixedLocator\n",
            "  ax.set_yticklabels([''] + predicted_sentence, fontdict=fontdict)\n"
          ]
        },
        {
          "data": {
            "image/png": "[encoded data removed]",
            "text/plain": [
              "<Figure size 720x720 with 1 Axes>"
            ]
          },
          "metadata": {
            "needs_background": "light"
          },
          "output_type": "display_data"
        }
      ],
      "source": [
        "# translate(\"이거 뭘 하든 같은 단어만 나올 삘인데?\", encoder, decoder)\n",
        "plt.rcParams[\"font.family\"] = \"NanumGothic\" #맑은 고딕으로 폰트 변경\n",
        "str_txt = enc_corpus[75]\n",
        "translate(str_txt, encoder, decoder)"
      ]
    },
    {
      "cell_type": "code",
      "execution_count": null,
      "id": "5cda257e",
      "metadata": {
        "id": "5cda257e",
        "outputId": "97495324-597d-445e-895e-661618dd17c6"
      },
      "outputs": [
        {
          "name": "stdout",
          "output_type": "stream",
          "text": [
            "Input: 이건 제대로 되는건지 잘 모르겠네요\n",
            "Predicted translation: the company . <end> \n"
          ]
        },
        {
          "name": "stderr",
          "output_type": "stream",
          "text": [
            "/tmp/ipykernel_76/3675406126.py:45: UserWarning: FixedFormatter should only be used together with FixedLocator\n",
            "  ax.set_xticklabels([''] + sentence, fontdict=fontdict, rotation=90)\n",
            "/tmp/ipykernel_76/3675406126.py:46: UserWarning: FixedFormatter should only be used together with FixedLocator\n",
            "  ax.set_yticklabels([''] + predicted_sentence, fontdict=fontdict)\n"
          ]
        },
        {
          "data": {
            "image/png": "[encoded data removed]",
            "text/plain": [
              "<Figure size 720x720 with 1 Axes>"
            ]
          },
          "metadata": {
            "needs_background": "light"
          },
          "output_type": "display_data"
        },
        {
          "name": "stdout",
          "output_type": "stream",
          "text": [
            "Input: 안녕하세요 여러분 제가 질문이 있는데 이게 맞는지 모르겠어요\n",
            "Predicted translation: hello , i have a company . <end> \n"
          ]
        },
        {
          "data": {
            "image/png": "[encoded data removed]",
            "text/plain": [
              "<Figure size 720x720 with 1 Axes>"
            ]
          },
          "metadata": {
            "needs_background": "light"
          },
          "output_type": "display_data"
        }
      ],
      "source": [
        "plt.rcParams[\"font.family\"] = \"NanumGothic\" #맑은 고딕으로 폰트 변경\n",
        "translate(\"이건 제대로 되는건지 잘 모르겠네요\", encoder, decoder)\n",
        "translate(\"안녕하세요 여러분 제가 질문이 있는데 이게 맞는지 모르겠어요\", encoder, decoder)\n"
      ]
    },
    {
      "cell_type": "code",
      "execution_count": null,
      "id": "d56b1610",
      "metadata": {
        "id": "d56b1610"
      },
      "outputs": [],
      "source": []
    },
    {
      "cell_type": "code",
      "execution_count": null,
      "id": "61b57688",
      "metadata": {
        "id": "61b57688"
      },
      "outputs": [],
      "source": []
    },
    {
      "cell_type": "code",
      "execution_count": null,
      "id": "88dfa469",
      "metadata": {
        "id": "88dfa469"
      },
      "outputs": [],
      "source": []
    },
    {
      "cell_type": "code",
      "execution_count": null,
      "id": "8bd214c7",
      "metadata": {
        "id": "8bd214c7",
        "outputId": "f7a12c49-f251-479f-8c31-b1d076bf6cc0"
      },
      "outputs": [
        {
          "name": "stderr",
          "output_type": "stream",
          "text": [
            "  0%|          | 0/3750 [01:49<?, ?it/s]\n"
          ]
        },
        {
          "ename": "ResourceExhaustedError",
          "evalue": " OOM when allocating tensor with shape[1024,33434] and type float on /job:localhost/replica:0/task:0/device:GPU:0 by allocator GPU_0_bfc\n\t [[node gradient_tape/decoder/dense/MatMul_81 (defined at tmp/ipykernel_31/3221489718.py:22) ]]\nHint: If you want to see a list of allocated tensors when OOM happens, add report_tensor_allocations_upon_oom to RunOptions for current allocation info. This isn't available when running in Eager mode.\n [Op:__inference_train_step_167762]\n\nErrors may have originated from an input operation.\nInput Source operations connected to node gradient_tape/decoder/dense/MatMul_81:\n decoder/Reshape_51 (defined at tmp/ipykernel_31/285261603.py:20)\n\nFunction call stack:\ntrain_step\n",
          "output_type": "error",
          "traceback": [
            "\u001b[0;31m---------------------------------------------------------------------------\u001b[0m",
            "\u001b[0;31mResourceExhaustedError\u001b[0m                    Traceback (most recent call last)",
            "\u001b[0;32m/tmp/ipykernel_31/1295518775.py\u001b[0m in \u001b[0;36m<module>\u001b[0;34m\u001b[0m\n\u001b[1;32m     12\u001b[0m \u001b[0;34m\u001b[0m\u001b[0m\n\u001b[1;32m     13\u001b[0m     \u001b[0;32mfor\u001b[0m \u001b[0;34m(\u001b[0m\u001b[0mbatch\u001b[0m\u001b[0;34m,\u001b[0m \u001b[0midx\u001b[0m\u001b[0;34m)\u001b[0m \u001b[0;32min\u001b[0m \u001b[0menumerate\u001b[0m\u001b[0;34m(\u001b[0m\u001b[0mt\u001b[0m\u001b[0;34m)\u001b[0m\u001b[0;34m:\u001b[0m\u001b[0;34m\u001b[0m\u001b[0;34m\u001b[0m\u001b[0m\n\u001b[0;32m---> 14\u001b[0;31m         batch_loss = train_step(kor_train[idx:idx+BATCH_SIZE],\n\u001b[0m\u001b[1;32m     15\u001b[0m                                 \u001b[0meng_train\u001b[0m\u001b[0;34m[\u001b[0m\u001b[0midx\u001b[0m\u001b[0;34m:\u001b[0m\u001b[0midx\u001b[0m\u001b[0;34m+\u001b[0m\u001b[0mBATCH_SIZE\u001b[0m\u001b[0;34m]\u001b[0m\u001b[0;34m,\u001b[0m\u001b[0;34m\u001b[0m\u001b[0;34m\u001b[0m\u001b[0m\n\u001b[1;32m     16\u001b[0m                                 \u001b[0mencoder\u001b[0m\u001b[0;34m,\u001b[0m\u001b[0;34m\u001b[0m\u001b[0;34m\u001b[0m\u001b[0m\n",
            "\u001b[0;32m/opt/conda/lib/python3.9/site-packages/tensorflow/python/eager/def_function.py\u001b[0m in \u001b[0;36m__call__\u001b[0;34m(self, *args, **kwds)\u001b[0m\n\u001b[1;32m    883\u001b[0m \u001b[0;34m\u001b[0m\u001b[0m\n\u001b[1;32m    884\u001b[0m       \u001b[0;32mwith\u001b[0m \u001b[0mOptionalXlaContext\u001b[0m\u001b[0;34m(\u001b[0m\u001b[0mself\u001b[0m\u001b[0;34m.\u001b[0m\u001b[0m_jit_compile\u001b[0m\u001b[0;34m)\u001b[0m\u001b[0;34m:\u001b[0m\u001b[0;34m\u001b[0m\u001b[0;34m\u001b[0m\u001b[0m\n\u001b[0;32m--> 885\u001b[0;31m         \u001b[0mresult\u001b[0m \u001b[0;34m=\u001b[0m \u001b[0mself\u001b[0m\u001b[0;34m.\u001b[0m\u001b[0m_call\u001b[0m\u001b[0;34m(\u001b[0m\u001b[0;34m*\u001b[0m\u001b[0margs\u001b[0m\u001b[0;34m,\u001b[0m \u001b[0;34m**\u001b[0m\u001b[0mkwds\u001b[0m\u001b[0;34m)\u001b[0m\u001b[0;34m\u001b[0m\u001b[0;34m\u001b[0m\u001b[0m\n\u001b[0m\u001b[1;32m    886\u001b[0m \u001b[0;34m\u001b[0m\u001b[0m\n\u001b[1;32m    887\u001b[0m       \u001b[0mnew_tracing_count\u001b[0m \u001b[0;34m=\u001b[0m \u001b[0mself\u001b[0m\u001b[0;34m.\u001b[0m\u001b[0mexperimental_get_tracing_count\u001b[0m\u001b[0;34m(\u001b[0m\u001b[0;34m)\u001b[0m\u001b[0;34m\u001b[0m\u001b[0;34m\u001b[0m\u001b[0m\n",
            "\u001b[0;32m/opt/conda/lib/python3.9/site-packages/tensorflow/python/eager/def_function.py\u001b[0m in \u001b[0;36m_call\u001b[0;34m(self, *args, **kwds)\u001b[0m\n\u001b[1;32m    948\u001b[0m         \u001b[0;31m# Lifting succeeded, so variables are initialized and we can run the\u001b[0m\u001b[0;34m\u001b[0m\u001b[0;34m\u001b[0m\u001b[0m\n\u001b[1;32m    949\u001b[0m         \u001b[0;31m# stateless function.\u001b[0m\u001b[0;34m\u001b[0m\u001b[0;34m\u001b[0m\u001b[0m\n\u001b[0;32m--> 950\u001b[0;31m         \u001b[0;32mreturn\u001b[0m \u001b[0mself\u001b[0m\u001b[0;34m.\u001b[0m\u001b[0m_stateless_fn\u001b[0m\u001b[0;34m(\u001b[0m\u001b[0;34m*\u001b[0m\u001b[0margs\u001b[0m\u001b[0;34m,\u001b[0m \u001b[0;34m**\u001b[0m\u001b[0mkwds\u001b[0m\u001b[0;34m)\u001b[0m\u001b[0;34m\u001b[0m\u001b[0;34m\u001b[0m\u001b[0m\n\u001b[0m\u001b[1;32m    951\u001b[0m     \u001b[0;32melse\u001b[0m\u001b[0;34m:\u001b[0m\u001b[0;34m\u001b[0m\u001b[0;34m\u001b[0m\u001b[0m\n\u001b[1;32m    952\u001b[0m       \u001b[0m_\u001b[0m\u001b[0;34m,\u001b[0m \u001b[0m_\u001b[0m\u001b[0;34m,\u001b[0m \u001b[0m_\u001b[0m\u001b[0;34m,\u001b[0m \u001b[0mfiltered_flat_args\u001b[0m \u001b[0;34m=\u001b[0m\u001b[0;31m \u001b[0m\u001b[0;31m\\\u001b[0m\u001b[0;34m\u001b[0m\u001b[0;34m\u001b[0m\u001b[0m\n",
            "\u001b[0;32m/opt/conda/lib/python3.9/site-packages/tensorflow/python/eager/function.py\u001b[0m in \u001b[0;36m__call__\u001b[0;34m(self, *args, **kwargs)\u001b[0m\n\u001b[1;32m   3037\u001b[0m       (graph_function,\n\u001b[1;32m   3038\u001b[0m        filtered_flat_args) = self._maybe_define_function(args, kwargs)\n\u001b[0;32m-> 3039\u001b[0;31m     return graph_function._call_flat(\n\u001b[0m\u001b[1;32m   3040\u001b[0m         filtered_flat_args, captured_inputs=graph_function.captured_inputs)  # pylint: disable=protected-access\n\u001b[1;32m   3041\u001b[0m \u001b[0;34m\u001b[0m\u001b[0m\n",
            "\u001b[0;32m/opt/conda/lib/python3.9/site-packages/tensorflow/python/eager/function.py\u001b[0m in \u001b[0;36m_call_flat\u001b[0;34m(self, args, captured_inputs, cancellation_manager)\u001b[0m\n\u001b[1;32m   1961\u001b[0m         and executing_eagerly):\n\u001b[1;32m   1962\u001b[0m       \u001b[0;31m# No tape is watching; skip to running the function.\u001b[0m\u001b[0;34m\u001b[0m\u001b[0;34m\u001b[0m\u001b[0m\n\u001b[0;32m-> 1963\u001b[0;31m       return self._build_call_outputs(self._inference_function.call(\n\u001b[0m\u001b[1;32m   1964\u001b[0m           ctx, args, cancellation_manager=cancellation_manager))\n\u001b[1;32m   1965\u001b[0m     forward_backward = self._select_forward_and_backward_functions(\n",
            "\u001b[0;32m/opt/conda/lib/python3.9/site-packages/tensorflow/python/eager/function.py\u001b[0m in \u001b[0;36mcall\u001b[0;34m(self, ctx, args, cancellation_manager)\u001b[0m\n\u001b[1;32m    589\u001b[0m       \u001b[0;32mwith\u001b[0m \u001b[0m_InterpolateFunctionError\u001b[0m\u001b[0;34m(\u001b[0m\u001b[0mself\u001b[0m\u001b[0;34m)\u001b[0m\u001b[0;34m:\u001b[0m\u001b[0;34m\u001b[0m\u001b[0;34m\u001b[0m\u001b[0m\n\u001b[1;32m    590\u001b[0m         \u001b[0;32mif\u001b[0m \u001b[0mcancellation_manager\u001b[0m \u001b[0;32mis\u001b[0m \u001b[0;32mNone\u001b[0m\u001b[0;34m:\u001b[0m\u001b[0;34m\u001b[0m\u001b[0;34m\u001b[0m\u001b[0m\n\u001b[0;32m--> 591\u001b[0;31m           outputs = execute.execute(\n\u001b[0m\u001b[1;32m    592\u001b[0m               \u001b[0mstr\u001b[0m\u001b[0;34m(\u001b[0m\u001b[0mself\u001b[0m\u001b[0;34m.\u001b[0m\u001b[0msignature\u001b[0m\u001b[0;34m.\u001b[0m\u001b[0mname\u001b[0m\u001b[0;34m)\u001b[0m\u001b[0;34m,\u001b[0m\u001b[0;34m\u001b[0m\u001b[0;34m\u001b[0m\u001b[0m\n\u001b[1;32m    593\u001b[0m               \u001b[0mnum_outputs\u001b[0m\u001b[0;34m=\u001b[0m\u001b[0mself\u001b[0m\u001b[0;34m.\u001b[0m\u001b[0m_num_outputs\u001b[0m\u001b[0;34m,\u001b[0m\u001b[0;34m\u001b[0m\u001b[0;34m\u001b[0m\u001b[0m\n",
            "\u001b[0;32m/opt/conda/lib/python3.9/site-packages/tensorflow/python/eager/execute.py\u001b[0m in \u001b[0;36mquick_execute\u001b[0;34m(op_name, num_outputs, inputs, attrs, ctx, name)\u001b[0m\n\u001b[1;32m     57\u001b[0m   \u001b[0;32mtry\u001b[0m\u001b[0;34m:\u001b[0m\u001b[0;34m\u001b[0m\u001b[0;34m\u001b[0m\u001b[0m\n\u001b[1;32m     58\u001b[0m     \u001b[0mctx\u001b[0m\u001b[0;34m.\u001b[0m\u001b[0mensure_initialized\u001b[0m\u001b[0;34m(\u001b[0m\u001b[0;34m)\u001b[0m\u001b[0;34m\u001b[0m\u001b[0;34m\u001b[0m\u001b[0m\n\u001b[0;32m---> 59\u001b[0;31m     tensors = pywrap_tfe.TFE_Py_Execute(ctx._handle, device_name, op_name,\n\u001b[0m\u001b[1;32m     60\u001b[0m                                         inputs, attrs, num_outputs)\n\u001b[1;32m     61\u001b[0m   \u001b[0;32mexcept\u001b[0m \u001b[0mcore\u001b[0m\u001b[0;34m.\u001b[0m\u001b[0m_NotOkStatusException\u001b[0m \u001b[0;32mas\u001b[0m \u001b[0me\u001b[0m\u001b[0;34m:\u001b[0m\u001b[0;34m\u001b[0m\u001b[0;34m\u001b[0m\u001b[0m\n",
            "\u001b[0;31mResourceExhaustedError\u001b[0m:  OOM when allocating tensor with shape[1024,33434] and type float on /job:localhost/replica:0/task:0/device:GPU:0 by allocator GPU_0_bfc\n\t [[node gradient_tape/decoder/dense/MatMul_81 (defined at tmp/ipykernel_31/3221489718.py:22) ]]\nHint: If you want to see a list of allocated tensors when OOM happens, add report_tensor_allocations_upon_oom to RunOptions for current allocation info. This isn't available when running in Eager mode.\n [Op:__inference_train_step_167762]\n\nErrors may have originated from an input operation.\nInput Source operations connected to node gradient_tape/decoder/dense/MatMul_81:\n decoder/Reshape_51 (defined at tmp/ipykernel_31/285261603.py:20)\n\nFunction call stack:\ntrain_step\n"
          ]
        }
      ],
      "source": [
        "#30만개 문장 돌렸을 경우 발생했던\n",
        "from tqdm import tqdm    # tqdm\n",
        "import random\n",
        "\n",
        "EPOCHS = 10\n",
        "\n",
        "for epoch in range(EPOCHS):\n",
        "    total_loss = 0\n",
        "\n",
        "    idx_list = list(range(0, kor_train.shape[0], BATCH_SIZE))\n",
        "    random.shuffle(idx_list)\n",
        "    t = tqdm(idx_list)    # tqdm\n",
        "\n",
        "    for (batch, idx) in enumerate(t):\n",
        "        batch_loss = train_step(kor_train[idx:idx+BATCH_SIZE],\n",
        "                                eng_train[idx:idx+BATCH_SIZE],\n",
        "                                encoder,\n",
        "                                decoder,\n",
        "                                optimizer,\n",
        "                                eng_tokenizer)\n",
        "\n",
        "        total_loss += batch_loss\n",
        "\n",
        "        t.set_description_str('Epoch %2d' % (epoch + 1))    # tqdm\n",
        "        t.set_postfix_str('Loss %.4f' % (total_loss.numpy() / (batch + 1)))    # tqdm"
      ]
    },
    {
      "cell_type": "code",
      "execution_count": null,
      "id": "831ac87a",
      "metadata": {
        "id": "831ac87a",
        "outputId": "2b2c1d20-5e5d-43b7-9661-860c30bcca09"
      },
      "outputs": [
        {
          "name": "stderr",
          "output_type": "stream",
          "text": [
            "Epoch  1: 100%|██████████| 375/375 [06:58<00:00,  1.12s/it, Loss 1.3474]\n",
            "Test Epoch  1: 100%|██████████| 94/94 [01:10<00:00,  1.33it/s, Test Loss 1.3282]\n",
            "Epoch  2: 100%|██████████| 375/375 [05:48<00:00,  1.08it/s, Loss 1.3265]\n",
            "Test Epoch  2: 100%|██████████| 94/94 [00:33<00:00,  2.83it/s, Test Loss 1.3573]\n",
            "Epoch  3: 100%|██████████| 375/375 [05:47<00:00,  1.08it/s, Loss 1.3290]\n",
            "Test Epoch  3: 100%|██████████| 94/94 [00:33<00:00,  2.83it/s, Test Loss 1.3571]\n",
            "Epoch  4: 100%|██████████| 375/375 [05:48<00:00,  1.08it/s, Loss 1.3298]\n",
            "Test Epoch  4: 100%|██████████| 94/94 [00:33<00:00,  2.82it/s, Test Loss 1.3583]\n",
            "Epoch  5: 100%|██████████| 375/375 [05:47<00:00,  1.08it/s, Loss 1.3295]\n",
            "Test Epoch  5: 100%|██████████| 94/94 [00:33<00:00,  2.83it/s, Test Loss 1.3620]\n",
            "Epoch  6: 100%|██████████| 375/375 [05:48<00:00,  1.08it/s, Loss 1.3297]\n",
            "Test Epoch  6: 100%|██████████| 94/94 [00:33<00:00,  2.82it/s, Test Loss 1.3628]\n",
            "Epoch  7: 100%|██████████| 375/375 [05:47<00:00,  1.08it/s, Loss 1.3298]\n",
            "Test Epoch  7: 100%|██████████| 94/94 [00:33<00:00,  2.83it/s, Test Loss 1.3641]\n",
            "Epoch  8: 100%|██████████| 375/375 [05:47<00:00,  1.08it/s, Loss 1.3321]\n",
            "Test Epoch  8: 100%|██████████| 94/94 [00:33<00:00,  2.79it/s, Test Loss 1.5002]\n",
            "Epoch  9: 100%|██████████| 375/375 [05:49<00:00,  1.07it/s, Loss 1.2033]\n",
            "Test Epoch  9: 100%|██████████| 94/94 [00:33<00:00,  2.80it/s, Test Loss 1.1531]\n",
            "Epoch 10: 100%|██████████| 375/375 [05:49<00:00,  1.07it/s, Loss 1.0900]\n",
            "Test Epoch 10: 100%|██████████| 94/94 [00:33<00:00,  2.80it/s, Test Loss 1.0830]\n"
          ]
        }
      ],
      "source": [
        "# Define eval_step\n",
        "#이전기록\n",
        "import random\n",
        "\n",
        "@tf.function\n",
        "def eval_step(src, tgt, encoder, decoder, dec_tok):\n",
        "    bsz = src.shape[0]\n",
        "    loss = 0\n",
        "\n",
        "    enc_out = encoder(src)\n",
        "\n",
        "    h_dec = enc_out[:, -1]\n",
        "\n",
        "    dec_src = tf.expand_dims([dec_tok.word_index['<start>']] * bsz, 1)\n",
        "\n",
        "    for t in range(1, tgt.shape[1]):\n",
        "        pred, h_dec, _ = decoder(dec_src, h_dec, enc_out)\n",
        "\n",
        "        loss += loss_function(tgt[:, t], pred)\n",
        "        dec_src = tf.expand_dims(tgt[:, t], 1)\n",
        "\n",
        "    batch_loss = (loss / int(tgt.shape[1]))\n",
        "\n",
        "    return batch_loss\n",
        "\n",
        "\n",
        "# Training Process\n",
        "\n",
        "from tqdm import tqdm\n",
        "\n",
        "EPOCHS = 10\n",
        "\n",
        "for epoch in range(EPOCHS):\n",
        "    total_loss = 0\n",
        "\n",
        "    idx_list = list(range(0, kor_train.shape[0], BATCH_SIZE))\n",
        "    random.shuffle(idx_list)\n",
        "    t = tqdm(idx_list)\n",
        "\n",
        "    for (batch, idx) in enumerate(t):\n",
        "        batch_loss = train_step(kor_train[idx:idx+BATCH_SIZE],\n",
        "                                eng_train[idx:idx+BATCH_SIZE],\n",
        "                                encoder,\n",
        "                                decoder,\n",
        "                                optimizer,\n",
        "                                eng_tokenizer)\n",
        "\n",
        "        total_loss += batch_loss\n",
        "\n",
        "        t.set_description_str('Epoch %2d' % (epoch + 1))\n",
        "        t.set_postfix_str('Loss %.4f' % (total_loss.numpy() / (batch + 1)))\n",
        "\n",
        "    test_loss = 0\n",
        "\n",
        "    idx_list = list(range(0, kor_val.shape[0], BATCH_SIZE))\n",
        "    random.shuffle(idx_list)\n",
        "    t = tqdm(idx_list)\n",
        "\n",
        "    for (test_batch, idx) in enumerate(t):\n",
        "        test_batch_loss = eval_step(kor_val[idx:idx+BATCH_SIZE],\n",
        "                                    eng_val[idx:idx+BATCH_SIZE],\n",
        "                                    encoder,\n",
        "                                    decoder,\n",
        "                                    eng_tokenizer)\n",
        "\n",
        "        test_loss += test_batch_loss\n",
        "\n",
        "        t.set_description_str('Test Epoch %2d' % (epoch + 1))\n",
        "        t.set_postfix_str('Test Loss %.4f' % (test_loss.numpy() / (test_batch + 1)))"
      ]
    },
    {
      "cell_type": "code",
      "execution_count": null,
      "id": "2462fb07",
      "metadata": {
        "id": "2462fb07"
      },
      "outputs": [],
      "source": [
        "for epoch in range(EPOCHS):\n",
        "    total_loss = 0\n",
        "\n",
        "    idx_list = list(range(0, kor_train.shape[0], BATCH_SIZE))\n",
        "    random.shuffle(idx_list)\n",
        "    t = tqdm(idx_list)\n",
        "\n",
        "    for (batch, idx) in enumerate(t):\n",
        "        batch_loss = train_step(kor_train[idx:idx+BATCH_SIZE],\n",
        "                                eng_train[idx:idx+BATCH_SIZE],\n",
        "                                encoder,\n",
        "                                decoder,\n",
        "                                optimizer,\n",
        "                                eng_tokenizer)\n",
        "\n",
        "        total_loss += batch_loss\n",
        "\n",
        "        t.set_description_str('Epoch %2d' % (epoch + 1))\n",
        "        t.set_postfix_str('Loss %.4f' % (total_loss.numpy() / (batch + 1)))\n",
        "\n",
        "    test_loss = 0\n",
        "\n",
        "    idx_list = list(range(0, kor_val.shape[0], BATCH_SIZE))\n",
        "    random.shuffle(idx_list)\n",
        "    t = tqdm(idx_list)\n",
        "\n",
        "    for (test_batch, idx) in enumerate(t):\n",
        "        test_batch_loss = eval_step(kor_val[idx:idx+BATCH_SIZE],\n",
        "                                    eng_val[idx:idx+BATCH_SIZE],\n",
        "                                    encoder,\n",
        "                                    decoder,\n",
        "                                    eng_tokenizer)\n",
        "\n",
        "        test_loss += test_batch_loss\n",
        "\n",
        "        t.set_description_str('Test Epoch %2d' % (epoch + 1))\n",
        "        t.set_postfix_str('Test Loss %.4f' % (test_loss.numpy() / (test_batch + 1)))"
      ]
    }
  ],
  "metadata": {
    "kernelspec": {
      "display_name": "Python 3 (ipykernel)",
      "language": "python",
      "name": "python3"
    },
    "language_info": {
      "codemirror_mode": {
        "name": "ipython",
        "version": 3
      },
      "file_extension": ".py",
      "mimetype": "text/x-python",
      "name": "python",
      "nbconvert_exporter": "python",
      "pygments_lexer": "ipython3",
      "version": "3.9.7"
    },
    "colab": {
      "provenance": [],
      "include_colab_link": true
    }
  },
  "nbformat": 4,
  "nbformat_minor": 5
}