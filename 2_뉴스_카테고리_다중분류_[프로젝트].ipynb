{
  "nbformat": 4,
  "nbformat_minor": 0,
  "metadata": {
    "colab": {
      "provenance": [],
      "include_colab_link": true
    },
    "kernelspec": {
      "name": "python3",
      "display_name": "Python 3"
    },
    "language_info": {
      "name": "python"
    }
  },
  "cells": [
    {
      "cell_type": "markdown",
      "metadata": {
        "id": "view-in-github",
        "colab_type": "text"
      },
      "source": [
        "<a href=\"https://colab.research.google.com/github/minsung6333/AIFFEL_Project/blob/main/6_%EB%89%B4%EC%8A%A4_%EC%B9%B4%ED%85%8C%EA%B3%A0%EB%A6%AC_%EB%8B%A4%EC%A4%91%EB%B6%84%EB%A5%98_%5B%ED%94%84%EB%A1%9C%EC%A0%9D%ED%8A%B8%5D.ipynb\" target=\"_parent\"><img src=\"https://colab.research.google.com/assets/colab-badge.svg\" alt=\"Open In Colab\"/></a>"
      ]
    },
    {
      "cell_type": "code",
      "source": [
        "import tensorflow\n",
        "import matplotlib\n",
        "import seaborn\n",
        "import numpy\n",
        "import pandas\n",
        "import sklearn\n",
        "\n",
        "print(tensorflow.__version__)\n",
        "print(matplotlib.__version__)\n",
        "print(seaborn.__version__)\n",
        "print(numpy.__version__)\n",
        "print(pandas.__version__)\n",
        "print(sklearn.__version__)"
      ],
      "metadata": {
        "colab": {
          "base_uri": "https://localhost:8080/"
        },
        "id": "Lg7FpxninNB1",
        "outputId": "d5c74b26-9f18-42bc-e160-676a63321cc7"
      },
      "execution_count": null,
      "outputs": [
        {
          "output_type": "stream",
          "name": "stdout",
          "text": [
            "2.14.0\n",
            "3.7.1\n",
            "0.12.2\n",
            "1.23.5\n",
            "1.5.3\n",
            "1.2.2\n"
          ]
        }
      ]
    },
    {
      "cell_type": "markdown",
      "source": [
        "# 진행방향\n",
        "---\n",
        "# 1. 모든 단어 사용\n",
        "\n",
        "`(x_train, y_train), (x_test, y_test) = reuters.load_data(num_words=None, test_split=0.2)`\n",
        "\n",
        "---\n",
        "# 2. 빈도수 상위 5,000개의 단어만 사용\n",
        "\n",
        "`(x_train, y_train), (x_test, y_test) = reuters.load_data(num_words=5000, test_split=0.2)`\n",
        "\n",
        "---\n",
        "# 3. 직접 단어 개수를 설정해서 사용\n",
        "\n",
        "위 단계에서 5000으로 제시된 num_words를 다양하게 바꾸어 가며 성능을 확인해보세요. 변화된 단어 수에 따른 모델의 성능을 연구해 보세요. 최소 3가지 경우 이상을 실험해 보기를 권합니다.\n",
        "\n",
        "> 나이브 베이즈 분류기, CNB, 로지스틱 회귀, 서포트 벡터 머신, 결정 트리, 랜덤 포레스트, 그래디언트 부스팅 트리, 보팅\n",
        "\n",
        "# 4. 딥러닝 모델과 비교해 보기\n",
        "---\n",
        "위 과정을 통해 나온 최적의 모델과 단어 수 조건에서, 본인이 선택한 다른 모델을 적용한 결과와 비교해 봅시다. 감정 분석 등에 사용했던 RNN이나 1-D CNN 등의 딥러닝 모델 중 하나를 선택해서 오늘 사용했던 데이터셋을 학습해 보고 나오는 결과를 비교해 봅시다. 단, 공정한 비교를 위해 이때 Word2Vec 등의 pretrained model은 사용하지 않도록 합니다.\n",
        "\n"
      ],
      "metadata": {
        "id": "sk3iX8g1pSO4"
      }
    },
    {
      "cell_type": "markdown",
      "source": [
        "# 평가문항\t상세기준\n",
        "1. 분류 모델의 accuracy가 기준 이상 높게 나왔는가?\n",
        "  - 3가지 단어 개수에 대해 8가지 머신러닝 기법을 적용하여 그중 최적의 솔루션을 도출하였다.\n",
        "2. 분류 모델의 F1 score가 기준 이상 높게 나왔는가?\n",
        "  - Vocabulary size에 따른 각 머신러닝 모델의 성능변화 추이를 살피고, 해당 머신러닝 알고리즘의 특성에 근거해 원인을 분석하였다.\n",
        "3. 딥러닝 모델을 활용해 성능이 비교 및 확인되었는가?\n",
        "  - 동일한 데이터셋과 전처리 조건으로 딥러닝 모델의 성능과 비교하여 결과에 따른 원인을 분석하였다."
      ],
      "metadata": {
        "id": "op8xRXypqiKW"
      }
    },
    {
      "cell_type": "markdown",
      "source": [
        "# 목차\n"
      ],
      "metadata": {
        "id": "F5DaVX4tq3H1"
      }
    },
    {
      "cell_type": "code",
      "source": [
        "from sklearn.naive_bayes import MultinomialNB #다항분포 나이브 베이즈 모델\n",
        "from sklearn.linear_model import LogisticRegression, SGDClassifier\n",
        "from sklearn.naive_bayes import ComplementNB\n",
        "from sklearn.tree import DecisionTreeClassifier\n",
        "from sklearn.ensemble import RandomForestClassifier\n",
        "from sklearn.ensemble import GradientBoostingClassifier\n",
        "from sklearn.ensemble import VotingClassifier\n",
        "from sklearn.svm import LinearSVC\n",
        "from sklearn.metrics import accuracy_score #정확도 계산\n"
      ],
      "metadata": {
        "id": "zoI1rDXh7vPD"
      },
      "execution_count": null,
      "outputs": []
    },
    {
      "cell_type": "code",
      "source": [
        "# 데이터 호출 및 가공\n",
        "from sklearn.feature_extraction.text import CountVectorizer\n",
        "from sklearn.feature_extraction.text import TfidfTransformer\n",
        "from tensorflow.keras.datasets import reuters\n",
        "word_index = reuters.get_word_index(path=\"reuters_word_index.json\")\n",
        "\n",
        "# 인덱스 수정을 위한 전처리\n",
        "index_to_word = { index+3 : word for word, index in word_index.items() }\n",
        "dtmvector = CountVectorizer()\n",
        "tfidf_transformer = TfidfTransformer()\n",
        "\n",
        "\n",
        "# index_to_word에 숫자 0은 <pad>, 숫자 1은 <sos>, 숫자 2는 <unk>를 넣어줍니다.\n",
        "for index, token in enumerate((\"<pad>\", \"<sos>\", \"<unk>\")):\n",
        "  index_to_word[index]=token\n",
        "print('=3')\n",
        "\n",
        "# 데이터 전처리를 위한 가공함수 생성\n",
        "def data_tfidf(num_words):\n",
        "  (x_train, y_train), (x_test, y_test) = reuters.load_data(num_words= num_words, test_split=0.2)\n",
        "\n",
        "  # #decoding\n",
        "  decode_train = []\n",
        "  decode_test = []\n",
        "\n",
        "  for i in range(len(x_train)):\n",
        "    t = ' '.join([index_to_word[index] for index in x_train[i]])\n",
        "    decode_train.append(t)\n",
        "\n",
        "  for i in range(len(x_test)):\n",
        "    q = ' '.join([index_to_word[index] for index in x_test[i]])\n",
        "    decode_test.append(q)\n",
        "\n",
        "  x_train = decode_train\n",
        "  x_test = decode_test\n",
        "\n",
        "\n",
        "  x_train_dtm = dtmvector.fit_transform(x_train) #dtm 행렬 생성\n",
        "  tfidfv = tfidf_transformer.fit_transform(x_train_dtm) #tf-idf 행렬 생성\n",
        "\n",
        "  x_test_dtm = dtmvector.transform(x_test) #테스트 데이터를 DTM으로 변환\n",
        "  tfidfv_test = tfidf_transformer.transform(x_test_dtm) #DTM을 TF-IDF 행렬로 변환\n",
        "\n",
        "  return x_train, y_train, x_test, y_test, tfidfv, tfidfv_test"
      ],
      "metadata": {
        "colab": {
          "base_uri": "https://localhost:8080/"
        },
        "id": "BRT3QnWp4YvH",
        "outputId": "f9f1c668-4e06-47a4-9fc7-da7274c09245"
      },
      "execution_count": null,
      "outputs": [
        {
          "output_type": "stream",
          "name": "stdout",
          "text": [
            "=3\n"
          ]
        }
      ]
    },
    {
      "cell_type": "code",
      "source": [
        "input_num = 5000 # 단어 빈도수 설정\n",
        "\n",
        "x_train = data_tfidf(input_num)[0]\n",
        "y_train = data_tfidf(input_num)[1]\n",
        "x_test = data_tfidf(input_num)[2]\n",
        "y_test = data_tfidf(input_num)[3]\n",
        "tfidfv = data_tfidf(input_num)[4]\n",
        "tfidfv_test = data_tfidf(input_num)[5]"
      ],
      "metadata": {
        "id": "cE71j9v-533h"
      },
      "execution_count": null,
      "outputs": []
    },
    {
      "cell_type": "code",
      "source": [
        "print(tfidfv.shape)\n",
        "print(tfidfv_test.shape)"
      ],
      "metadata": {
        "colab": {
          "base_uri": "https://localhost:8080/"
        },
        "id": "4k4Piqyk6BA4",
        "outputId": "b3ddb9a5-9580-46f9-db65-7e20a2e47da5"
      },
      "execution_count": null,
      "outputs": [
        {
          "output_type": "stream",
          "name": "stdout",
          "text": [
            "(8982, 4867)\n",
            "(2246, 4867)\n"
          ]
        }
      ]
    },
    {
      "cell_type": "code",
      "source": [
        "mb = MultinomialNB()\n",
        "cb = ComplementNB()\n",
        "lr = LogisticRegression(C=10000, penalty='l2', max_iter=3000) #로지스틱 회귀\n",
        "lsvc = LinearSVC(C=1000, penalty='l1', max_iter=3000, dual=False) #선형 svm\n",
        "tree = DecisionTreeClassifier(max_depth=10, random_state=0) # dicision tree\n",
        "forest = RandomForestClassifier(n_estimators=5, random_state=0)#randomforest\n",
        "grbt = GradientBoostingClassifier(random_state=0) #gradientboosting verbose=3\n",
        "voting = VotingClassifier(estimators=[('lr', lr), ('cb', cb), ('grbt', grbt)], voting='soft') # voting"
      ],
      "metadata": {
        "id": "tKixRMfa8lrU"
      },
      "execution_count": null,
      "outputs": []
    },
    {
      "cell_type": "code",
      "source": [
        "from tqdm import tqdm\n",
        "\n",
        "ml_lst = [mb, cb, lr, lsvc, tree, forest, grbt, voting]\n",
        "\n",
        "precision = []\n",
        "recall = []\n",
        "f1_score = []\n",
        "\n",
        "\n",
        "for i in ml_lst:\n",
        "  print(str(i))\n",
        "  tqdm(i.fit(tfidfv, y_train))\n",
        "  predicted = i.predict(tfidfv_test) #테스트 데이터에 대한 예측\n",
        "  # print(\"정확도:\", accuracy_score(y_test, predicted)) #예측값과 실제값 비교\n",
        "  df = pd.DataFrame(classification_report(y_test, i.predict(tfidfv_test), zero_division=0, output_dict=True)).transpose()\n",
        "  precision.append(df['precision'].values.tolist())\n",
        "  recall.append(df['recall'].values.tolist())\n",
        "  f1_score.append(df['f1-score'].values.tolist())"
      ],
      "metadata": {
        "colab": {
          "base_uri": "https://localhost:8080/"
        },
        "id": "2rTSXKzHZ-CY",
        "outputId": "15a544a6-19de-4ef8-b1f5-6c635a2aa766"
      },
      "execution_count": null,
      "outputs": [
        {
          "output_type": "stream",
          "name": "stdout",
          "text": [
            "MultinomialNB()\n"
          ]
        },
        {
          "output_type": "stream",
          "name": "stderr",
          "text": [
            "0it [00:00, ?it/s]\n"
          ]
        },
        {
          "output_type": "stream",
          "name": "stdout",
          "text": [
            "ComplementNB()\n"
          ]
        },
        {
          "output_type": "stream",
          "name": "stderr",
          "text": [
            "0it [00:00, ?it/s]"
          ]
        },
        {
          "output_type": "stream",
          "name": "stdout",
          "text": [
            "LogisticRegression(C=10000, max_iter=3000)\n"
          ]
        },
        {
          "output_type": "stream",
          "name": "stderr",
          "text": [
            "\n",
            "0it [00:00, ?it/s]\n"
          ]
        },
        {
          "output_type": "stream",
          "name": "stdout",
          "text": [
            "LinearSVC(C=1000, dual=False, max_iter=3000, penalty='l1')\n"
          ]
        },
        {
          "output_type": "stream",
          "name": "stderr",
          "text": [
            "/usr/local/lib/python3.10/dist-packages/sklearn/svm/_base.py:1244: ConvergenceWarning: Liblinear failed to converge, increase the number of iterations.\n",
            "  warnings.warn(\n",
            "0it [00:00, ?it/s]\n"
          ]
        },
        {
          "output_type": "stream",
          "name": "stdout",
          "text": [
            "DecisionTreeClassifier(max_depth=10, random_state=0)\n"
          ]
        },
        {
          "output_type": "stream",
          "name": "stderr",
          "text": [
            "0it [00:00, ?it/s]\n"
          ]
        },
        {
          "output_type": "stream",
          "name": "stdout",
          "text": [
            "RandomForestClassifier(n_estimators=5, random_state=0)\n"
          ]
        },
        {
          "output_type": "stream",
          "name": "stderr",
          "text": [
            "  0%|          | 0/5 [00:00<?, ?it/s]\n"
          ]
        },
        {
          "output_type": "stream",
          "name": "stdout",
          "text": [
            "GradientBoostingClassifier(random_state=0)\n"
          ]
        },
        {
          "output_type": "stream",
          "name": "stderr",
          "text": [
            "  0%|          | 0/100 [00:00<?, ?it/s]\n"
          ]
        },
        {
          "output_type": "stream",
          "name": "stdout",
          "text": [
            "VotingClassifier(estimators=[('lr', LogisticRegression(C=10000, max_iter=3000)),\n",
            "                             ('cb', ComplementNB()),\n",
            "                             ('grbt',\n",
            "                              GradientBoostingClassifier(random_state=0))],\n",
            "                 voting='soft')\n"
          ]
        },
        {
          "output_type": "stream",
          "name": "stderr",
          "text": [
            "0it [00:00, ?it/s]\n"
          ]
        }
      ]
    },
    {
      "cell_type": "markdown",
      "source": [
        "# DL"
      ],
      "metadata": {
        "id": "XA9MSOmCwFWS"
      }
    },
    {
      "cell_type": "code",
      "source": [
        "from tensorflow.keras.models import Sequential\n",
        "from tensorflow.keras.layers import Dense, LSTM, Embedding\n",
        "from tensorflow.keras.preprocessing.sequence import pad_sequences\n",
        "from tensorflow.keras.utils import to_categorical\n",
        "from tensorflow.keras.callbacks import EarlyStopping, ModelCheckpoint\n",
        "from tensorflow.keras.models import load_model"
      ],
      "metadata": {
        "id": "BPyLVA1ew2NO"
      },
      "execution_count": null,
      "outputs": []
    },
    {
      "cell_type": "code",
      "source": [
        "input_num = 5000\n",
        "max_len = 100\n",
        "\n",
        "(X_train, y_train), (X_test, y_test) = reuters.load_data(num_words=input_num, test_split=0.2)\n",
        "\n",
        "X_train = pad_sequences(X_train, maxlen=max_len)\n",
        "X_test = pad_sequences(X_test, maxlen=max_len)\n",
        "\n",
        "y_test_non = y_test\n",
        "\n",
        "y_train = to_categorical(y_train)\n",
        "y_test = to_categorical(y_test)\n",
        "\n",
        "y_test_non"
      ],
      "metadata": {
        "colab": {
          "base_uri": "https://localhost:8080/"
        },
        "id": "KqSvp7W486op",
        "outputId": "f7ae4223-edf0-42e5-c886-244b8e2981c3"
      },
      "execution_count": null,
      "outputs": [
        {
          "output_type": "execute_result",
          "data": {
            "text/plain": [
              "array([ 3, 10,  1, ...,  3,  3, 24])"
            ]
          },
          "metadata": {},
          "execution_count": 106
        }
      ]
    },
    {
      "cell_type": "code",
      "source": [
        "embedding_dim = 128\n",
        "hidden_units = 128\n",
        "num_classes = 46\n",
        "\n",
        "model_5000 = Sequential()\n",
        "model_5000.add(Embedding(input_num, embedding_dim))\n",
        "model_5000.add(LSTM(hidden_units))\n",
        "model_5000.add(Dense(num_classes, activation='softmax'))\n",
        "\n",
        "es = EarlyStopping(monitor='val_loss', mode='min', verbose=1, patience=4)\n",
        "mc = ModelCheckpoint('best_model_5000.h5', monitor='val_acc', mode='max', verbose=1, save_best_only=True)\n",
        "\n",
        "model_5000.compile(loss='categorical_crossentropy', optimizer='adam', metrics=['acc'])\n",
        "history = model_5000.fit(X_train, y_train, batch_size=128, epochs=30, callbacks=[es, mc], validation_data=(X_test, y_test))"
      ],
      "metadata": {
        "colab": {
          "base_uri": "https://localhost:8080/"
        },
        "id": "I1b7gI3WIZfr",
        "outputId": "9364cf43-26cc-4e0e-c8a3-6df1b9c0f69c"
      },
      "execution_count": null,
      "outputs": [
        {
          "output_type": "stream",
          "name": "stdout",
          "text": [
            "Epoch 1/30\n",
            "71/71 [==============================] - ETA: 0s - loss: 2.6268 - acc: 0.3527\n",
            "Epoch 1: val_acc improved from -inf to 0.46037, saving model to best_model_5000.h5\n",
            "71/71 [==============================] - 32s 388ms/step - loss: 2.6268 - acc: 0.3527 - val_loss: 2.2603 - val_acc: 0.4604\n",
            "Epoch 2/30\n"
          ]
        },
        {
          "output_type": "stream",
          "name": "stderr",
          "text": [
            "/usr/local/lib/python3.10/dist-packages/keras/src/engine/training.py:3079: UserWarning: You are saving your model as an HDF5 file via `model.save()`. This file format is considered legacy. We recommend using instead the native Keras format, e.g. `model.save('my_model.keras')`.\n",
            "  saving_api.save_model(\n"
          ]
        },
        {
          "output_type": "stream",
          "name": "stdout",
          "text": [
            "71/71 [==============================] - ETA: 0s - loss: 2.0620 - acc: 0.4869\n",
            "Epoch 2: val_acc improved from 0.46037 to 0.51959, saving model to best_model_5000.h5\n",
            "71/71 [==============================] - 33s 463ms/step - loss: 2.0620 - acc: 0.4869 - val_loss: 1.9424 - val_acc: 0.5196\n",
            "Epoch 3/30\n",
            "71/71 [==============================] - ETA: 0s - loss: 1.8125 - acc: 0.5337\n",
            "Epoch 3: val_acc improved from 0.51959 to 0.55031, saving model to best_model_5000.h5\n",
            "71/71 [==============================] - 28s 392ms/step - loss: 1.8125 - acc: 0.5337 - val_loss: 1.7614 - val_acc: 0.5503\n",
            "Epoch 4/30\n",
            "71/71 [==============================] - ETA: 0s - loss: 1.6952 - acc: 0.5626\n",
            "Epoch 4: val_acc improved from 0.55031 to 0.56812, saving model to best_model_5000.h5\n",
            "71/71 [==============================] - 38s 532ms/step - loss: 1.6952 - acc: 0.5626 - val_loss: 1.7007 - val_acc: 0.5681\n",
            "Epoch 5/30\n",
            "71/71 [==============================] - ETA: 0s - loss: 1.5434 - acc: 0.6091\n",
            "Epoch 5: val_acc improved from 0.56812 to 0.60552, saving model to best_model_5000.h5\n",
            "71/71 [==============================] - 35s 494ms/step - loss: 1.5434 - acc: 0.6091 - val_loss: 1.6115 - val_acc: 0.6055\n",
            "Epoch 6/30\n",
            "71/71 [==============================] - ETA: 0s - loss: 1.4316 - acc: 0.6335\n",
            "Epoch 6: val_acc did not improve from 0.60552\n",
            "71/71 [==============================] - 35s 492ms/step - loss: 1.4316 - acc: 0.6335 - val_loss: 1.6296 - val_acc: 0.5779\n",
            "Epoch 7/30\n",
            "71/71 [==============================] - ETA: 0s - loss: 1.3491 - acc: 0.6500\n",
            "Epoch 7: val_acc improved from 0.60552 to 0.61754, saving model to best_model_5000.h5\n",
            "71/71 [==============================] - 36s 504ms/step - loss: 1.3491 - acc: 0.6500 - val_loss: 1.5081 - val_acc: 0.6175\n",
            "Epoch 8/30\n",
            "71/71 [==============================] - ETA: 0s - loss: 1.1848 - acc: 0.6938\n",
            "Epoch 8: val_acc improved from 0.61754 to 0.64069, saving model to best_model_5000.h5\n",
            "71/71 [==============================] - 39s 557ms/step - loss: 1.1848 - acc: 0.6938 - val_loss: 1.4654 - val_acc: 0.6407\n",
            "Epoch 9/30\n",
            "71/71 [==============================] - ETA: 0s - loss: 1.0701 - acc: 0.7204\n",
            "Epoch 9: val_acc improved from 0.64069 to 0.64648, saving model to best_model_5000.h5\n",
            "71/71 [==============================] - 30s 424ms/step - loss: 1.0701 - acc: 0.7204 - val_loss: 1.4079 - val_acc: 0.6465\n",
            "Epoch 10/30\n",
            "71/71 [==============================] - ETA: 0s - loss: 0.9505 - acc: 0.7496\n",
            "Epoch 10: val_acc improved from 0.64648 to 0.65494, saving model to best_model_5000.h5\n",
            "71/71 [==============================] - 27s 381ms/step - loss: 0.9505 - acc: 0.7496 - val_loss: 1.4087 - val_acc: 0.6549\n",
            "Epoch 11/30\n",
            "71/71 [==============================] - ETA: 0s - loss: 0.8605 - acc: 0.7769\n",
            "Epoch 11: val_acc improved from 0.65494 to 0.66696, saving model to best_model_5000.h5\n",
            "71/71 [==============================] - 27s 376ms/step - loss: 0.8605 - acc: 0.7769 - val_loss: 1.4324 - val_acc: 0.6670\n",
            "Epoch 12/30\n",
            "71/71 [==============================] - ETA: 0s - loss: 0.7743 - acc: 0.7990\n",
            "Epoch 12: val_acc did not improve from 0.66696\n",
            "71/71 [==============================] - 28s 392ms/step - loss: 0.7743 - acc: 0.7990 - val_loss: 1.4282 - val_acc: 0.6589\n",
            "Epoch 13/30\n",
            "71/71 [==============================] - ETA: 0s - loss: 0.6872 - acc: 0.8202\n",
            "Epoch 13: val_acc improved from 0.66696 to 0.67409, saving model to best_model_5000.h5\n",
            "71/71 [==============================] - 31s 433ms/step - loss: 0.6872 - acc: 0.8202 - val_loss: 1.4261 - val_acc: 0.6741\n",
            "Epoch 13: early stopping\n"
          ]
        }
      ]
    },
    {
      "cell_type": "code",
      "source": [
        "import numpy as np\n",
        "loaded_model = load_model('best_model_5000.h5') #model 호출\n",
        "predictions = model_5000.predict(X_test) #모델 예측\n",
        "pre_y = [np.argmax(predictions[i]) for i in range(len(predictions))] #y값과의 비교를 위한 softmax 후처리 진행\n",
        "df = pd.DataFrame(classification_report(y_test_non, np.array(pre_y), zero_division=0, output_dict=True)).transpose() #classification_report 생성"
      ],
      "metadata": {
        "colab": {
          "base_uri": "https://localhost:8080/"
        },
        "id": "_kJlA7G9yH_2",
        "outputId": "148f6b47-f7c9-452d-a199-972653e92077"
      },
      "execution_count": null,
      "outputs": [
        {
          "output_type": "stream",
          "name": "stdout",
          "text": [
            "71/71 [==============================] - 5s 64ms/step\n"
          ]
        }
      ]
    },
    {
      "cell_type": "code",
      "source": [
        "#ml 결과값과의 비교를 위한 리스트 추가\n",
        "precision.append(df['precision'].values.tolist())\n",
        "recall.append(df['recall'].values.tolist())\n",
        "f1_score.append(df['f1-score'].values.tolist())"
      ],
      "metadata": {
        "id": "htGFuKBnyi5e"
      },
      "execution_count": null,
      "outputs": []
    },
    {
      "cell_type": "code",
      "source": [
        "len(precision)"
      ],
      "metadata": {
        "colab": {
          "base_uri": "https://localhost:8080/"
        },
        "id": "ZdB78O3w0LKW",
        "outputId": "0be6975c-5329-4287-c45a-4cbb2178294a"
      },
      "execution_count": null,
      "outputs": [
        {
          "output_type": "execute_result",
          "data": {
            "text/plain": [
              "9"
            ]
          },
          "metadata": {},
          "execution_count": 117
        }
      ]
    },
    {
      "cell_type": "code",
      "source": [
        "#10000개 경우\n",
        "\n",
        "input_num = 10000\n",
        "\n",
        "x_train = data_tfidf(input_num)[0]\n",
        "y_train = data_tfidf(input_num)[1]\n",
        "x_test = data_tfidf(input_num)[2]\n",
        "y_test = data_tfidf(input_num)[3]\n",
        "tfidfv = data_tfidf(input_num)[4]\n",
        "tfidfv_test = data_tfidf(input_num)[5]"
      ],
      "metadata": {
        "id": "d_PJEcPF0Zsy"
      },
      "execution_count": null,
      "outputs": []
    },
    {
      "cell_type": "code",
      "source": [
        "from tqdm import tqdm\n",
        "\n",
        "ml_lst = [mb, cb, lr, lsvc, tree, forest] # grbt, voting 시간관계상 두개 제외\n",
        "\n",
        "precision_10000 = []\n",
        "recall_10000 = []\n",
        "f1_score_10000 = []\n",
        "\n",
        "\n",
        "for i in ml_lst:\n",
        "  print(str(i))\n",
        "  tqdm(i.fit(tfidfv, y_train))\n",
        "  predicted = i.predict(tfidfv_test) #테스트 데이터에 대한 예측\n",
        "  # print(\"정확도:\", accuracy_score(y_test, predicted)) #예측값과 실제값 비교\n",
        "  df = pd.DataFrame(classification_report(y_test, i.predict(tfidfv_test), zero_division=0, output_dict=True)).transpose()\n",
        "  precision_10000.append(df['precision'].values.tolist())\n",
        "  recall_10000.append(df['recall'].values.tolist())\n",
        "  f1_score_10000.append(df['f1-score'].values.tolist())"
      ],
      "metadata": {
        "colab": {
          "base_uri": "https://localhost:8080/"
        },
        "id": "QoCwqSV80pKY",
        "outputId": "99c6f1f1-6254-45eb-a1ff-69196c5bfd6f"
      },
      "execution_count": null,
      "outputs": [
        {
          "output_type": "stream",
          "name": "stdout",
          "text": [
            "MultinomialNB()\n"
          ]
        },
        {
          "output_type": "stream",
          "name": "stderr",
          "text": [
            "0it [00:00, ?it/s]"
          ]
        },
        {
          "output_type": "stream",
          "name": "stdout",
          "text": [
            "ComplementNB()\n"
          ]
        },
        {
          "output_type": "stream",
          "name": "stderr",
          "text": [
            "\n",
            "0it [00:00, ?it/s]\n"
          ]
        },
        {
          "output_type": "stream",
          "name": "stdout",
          "text": [
            "LogisticRegression(C=10000, max_iter=3000)\n"
          ]
        },
        {
          "output_type": "stream",
          "name": "stderr",
          "text": [
            "0it [00:00, ?it/s]\n"
          ]
        },
        {
          "output_type": "stream",
          "name": "stdout",
          "text": [
            "LinearSVC(C=1000, dual=False, max_iter=3000, penalty='l1')\n"
          ]
        },
        {
          "output_type": "stream",
          "name": "stderr",
          "text": [
            "/usr/local/lib/python3.10/dist-packages/sklearn/svm/_base.py:1244: ConvergenceWarning: Liblinear failed to converge, increase the number of iterations.\n",
            "  warnings.warn(\n",
            "0it [00:00, ?it/s]\n"
          ]
        },
        {
          "output_type": "stream",
          "name": "stdout",
          "text": [
            "DecisionTreeClassifier(max_depth=10, random_state=0)\n"
          ]
        },
        {
          "output_type": "stream",
          "name": "stderr",
          "text": [
            "0it [00:00, ?it/s]\n"
          ]
        },
        {
          "output_type": "stream",
          "name": "stdout",
          "text": [
            "RandomForestClassifier(n_estimators=5, random_state=0)\n"
          ]
        },
        {
          "output_type": "stream",
          "name": "stderr",
          "text": [
            "  0%|          | 0/5 [00:00<?, ?it/s]\n"
          ]
        }
      ]
    },
    {
      "cell_type": "code",
      "source": [
        "max_len = 100\n",
        "\n",
        "(X_train, Y_train), (X_test, Y_test) = reuters.load_data(num_words=input_num, test_split=0.2)\n",
        "\n",
        "X_train = pad_sequences(X_train, maxlen=max_len)\n",
        "X_test = pad_sequences(X_test, maxlen=max_len)\n",
        "\n",
        "Y_test_non = Y_test\n",
        "\n",
        "Y_train = to_categorical(Y_train)\n",
        "Y_test = to_categorical(Y_test)"
      ],
      "metadata": {
        "id": "yZHL1bEm0924"
      },
      "execution_count": null,
      "outputs": []
    },
    {
      "cell_type": "code",
      "source": [
        "embedding_dim = 128\n",
        "hidden_units = 128\n",
        "num_classes = 46\n",
        "\n",
        "model_10000 = Sequential()\n",
        "model_10000.add(Embedding(input_num, embedding_dim))\n",
        "model_10000.add(LSTM(hidden_units))\n",
        "model_10000.add(Dense(num_classes, activation='softmax'))\n",
        "\n",
        "es = EarlyStopping(monitor='val_loss', mode='min', verbose=1, patience=4)\n",
        "mc = ModelCheckpoint('best_model_10000.h5', monitor='val_acc', mode='max', verbose=1, save_best_only=True)\n",
        "\n",
        "model_10000.compile(loss='categorical_crossentropy', optimizer='adam', metrics=['acc'])\n",
        "history = model_10000.fit(X_train, Y_train, batch_size=128, epochs=30, callbacks=[es, mc], validation_data=(X_test, Y_test))"
      ],
      "metadata": {
        "colab": {
          "base_uri": "https://localhost:8080/"
        },
        "id": "TUr5nD3J1OXl",
        "outputId": "c4756c95-1c6a-4ff8-ec39-7e75a7ced5cc"
      },
      "execution_count": null,
      "outputs": [
        {
          "output_type": "stream",
          "name": "stdout",
          "text": [
            "Epoch 1/30\n",
            "71/71 [==============================] - ETA: 0s - loss: 2.6147 - acc: 0.3340\n",
            "Epoch 1: val_acc improved from -inf to 0.36866, saving model to best_model_10000.h5\n",
            "71/71 [==============================] - 31s 401ms/step - loss: 2.6147 - acc: 0.3340 - val_loss: 2.3305 - val_acc: 0.3687\n",
            "Epoch 2/30\n"
          ]
        },
        {
          "output_type": "stream",
          "name": "stderr",
          "text": [
            "/usr/local/lib/python3.10/dist-packages/keras/src/engine/training.py:3079: UserWarning: You are saving your model as an HDF5 file via `model.save()`. This file format is considered legacy. We recommend using instead the native Keras format, e.g. `model.save('my_model.keras')`.\n",
            "  saving_api.save_model(\n"
          ]
        },
        {
          "output_type": "stream",
          "name": "stdout",
          "text": [
            "71/71 [==============================] - ETA: 0s - loss: 1.9382 - acc: 0.4860\n",
            "Epoch 2: val_acc improved from 0.36866 to 0.52627, saving model to best_model_10000.h5\n",
            "71/71 [==============================] - 28s 392ms/step - loss: 1.9382 - acc: 0.4860 - val_loss: 1.7695 - val_acc: 0.5263\n",
            "Epoch 3/30\n",
            "71/71 [==============================] - ETA: 0s - loss: 1.6839 - acc: 0.5459\n",
            "Epoch 3: val_acc improved from 0.52627 to 0.56456, saving model to best_model_10000.h5\n",
            "71/71 [==============================] - 27s 385ms/step - loss: 1.6839 - acc: 0.5459 - val_loss: 1.7095 - val_acc: 0.5646\n",
            "Epoch 4/30\n",
            "71/71 [==============================] - ETA: 0s - loss: 1.5464 - acc: 0.5882\n",
            "Epoch 4: val_acc improved from 0.56456 to 0.59528, saving model to best_model_10000.h5\n",
            "71/71 [==============================] - 30s 429ms/step - loss: 1.5464 - acc: 0.5882 - val_loss: 1.6445 - val_acc: 0.5953\n",
            "Epoch 5/30\n",
            "71/71 [==============================] - ETA: 0s - loss: 1.3342 - acc: 0.6431\n",
            "Epoch 5: val_acc improved from 0.59528 to 0.62689, saving model to best_model_10000.h5\n",
            "71/71 [==============================] - 27s 377ms/step - loss: 1.3342 - acc: 0.6431 - val_loss: 1.5202 - val_acc: 0.6269\n",
            "Epoch 6/30\n",
            "71/71 [==============================] - ETA: 0s - loss: 1.1948 - acc: 0.6733\n",
            "Epoch 6: val_acc did not improve from 0.62689\n",
            "71/71 [==============================] - 27s 377ms/step - loss: 1.1948 - acc: 0.6733 - val_loss: 1.4865 - val_acc: 0.6189\n",
            "Epoch 7/30\n",
            "71/71 [==============================] - ETA: 0s - loss: 1.0506 - acc: 0.7110\n",
            "Epoch 7: val_acc improved from 0.62689 to 0.65004, saving model to best_model_10000.h5\n",
            "71/71 [==============================] - 27s 383ms/step - loss: 1.0506 - acc: 0.7110 - val_loss: 1.4365 - val_acc: 0.6500\n",
            "Epoch 8/30\n",
            "71/71 [==============================] - ETA: 0s - loss: 0.8917 - acc: 0.7582\n",
            "Epoch 8: val_acc improved from 0.65004 to 0.65672, saving model to best_model_10000.h5\n",
            "71/71 [==============================] - 28s 390ms/step - loss: 0.8917 - acc: 0.7582 - val_loss: 1.4589 - val_acc: 0.6567\n",
            "Epoch 9/30\n",
            "71/71 [==============================] - ETA: 0s - loss: 0.7815 - acc: 0.7900\n",
            "Epoch 9: val_acc did not improve from 0.65672\n",
            "71/71 [==============================] - 28s 389ms/step - loss: 0.7815 - acc: 0.7900 - val_loss: 1.4553 - val_acc: 0.6545\n",
            "Epoch 10/30\n",
            "71/71 [==============================] - ETA: 0s - loss: 0.6853 - acc: 0.8176\n",
            "Epoch 10: val_acc improved from 0.65672 to 0.68121, saving model to best_model_10000.h5\n",
            "71/71 [==============================] - 27s 383ms/step - loss: 0.6853 - acc: 0.8176 - val_loss: 1.4509 - val_acc: 0.6812\n",
            "Epoch 11/30\n",
            "71/71 [==============================] - ETA: 0s - loss: 0.5957 - acc: 0.8418\n",
            "Epoch 11: val_acc did not improve from 0.68121\n",
            "71/71 [==============================] - 27s 382ms/step - loss: 0.5957 - acc: 0.8418 - val_loss: 1.5092 - val_acc: 0.6647\n",
            "Epoch 11: early stopping\n"
          ]
        }
      ]
    },
    {
      "cell_type": "code",
      "source": [
        "import numpy as np\n",
        "loaded_model = load_model('best_model_10000.h5') #model 호출\n",
        "predictions = model_10000.predict(X_test) #모델 예측\n",
        "pre_y = [np.argmax(predictions[i]) for i in range(len(predictions))] #y값과의 비교를 위한 softmax 후처리 진행\n",
        "df = pd.DataFrame(classification_report(y_test_non, np.array(pre_y), zero_division=0, output_dict=True)).transpose() #classification_report 생성"
      ],
      "metadata": {
        "colab": {
          "base_uri": "https://localhost:8080/"
        },
        "id": "OBj04Gh21rSN",
        "outputId": "5cf37977-a713-4c0d-ff18-436fd33acb93"
      },
      "execution_count": null,
      "outputs": [
        {
          "output_type": "stream",
          "name": "stdout",
          "text": [
            "71/71 [==============================] - 4s 45ms/step\n"
          ]
        }
      ]
    },
    {
      "cell_type": "code",
      "source": [
        "#ml 결과값과의 비교를 위한 리스트 추가\n",
        "precision_10000.append(df['precision'].values.tolist())\n",
        "recall_10000.append(df['recall'].values.tolist())\n",
        "f1_score_10000.append(df['f1-score'].values.tolist())"
      ],
      "metadata": {
        "id": "LZy9PHLb1tvh"
      },
      "execution_count": null,
      "outputs": []
    },
    {
      "cell_type": "code",
      "source": [
        "len(precision_10000)"
      ],
      "metadata": {
        "colab": {
          "base_uri": "https://localhost:8080/"
        },
        "id": "_iHG9d4W5T72",
        "outputId": "3b5638f3-676f-4c98-cc65-430eff8cdc98"
      },
      "execution_count": null,
      "outputs": [
        {
          "output_type": "execute_result",
          "data": {
            "text/plain": [
              "7"
            ]
          },
          "metadata": {},
          "execution_count": 124
        }
      ]
    },
    {
      "cell_type": "markdown",
      "source": [
        "# 25000개 데이터 호출\n"
      ],
      "metadata": {
        "id": "NI-V8WtN5gRc"
      }
    },
    {
      "cell_type": "code",
      "source": [
        "input_num = 25000\n",
        "\n",
        "x_train = data_tfidf(input_num)[0]\n",
        "y_train = data_tfidf(input_num)[1]\n",
        "x_test = data_tfidf(input_num)[2]\n",
        "y_test = data_tfidf(input_num)[3]\n",
        "tfidfv = data_tfidf(input_num)[4]\n",
        "tfidfv_test = data_tfidf(input_num)[5]"
      ],
      "metadata": {
        "id": "Z9iR8Dzm5fUc"
      },
      "execution_count": null,
      "outputs": []
    },
    {
      "cell_type": "code",
      "source": [
        "ml_lst = [mb, cb, lr, lsvc, tree, forest] # grbt, voting 시간관계상 두개 제외\n",
        "\n",
        "precision_25000 = []\n",
        "recall_25000 = []\n",
        "f1_score_25000 = []\n",
        "\n",
        "\n",
        "for i in ml_lst:\n",
        "  print(str(i))\n",
        "  tqdm(i.fit(tfidfv, y_train))\n",
        "  predicted = i.predict(tfidfv_test) #테스트 데이터에 대한 예측\n",
        "  # print(\"정확도:\", accuracy_score(y_test, predicted)) #예측값과 실제값 비교\n",
        "  df = pd.DataFrame(classification_report(y_test, i.predict(tfidfv_test), zero_division=0, output_dict=True)).transpose()\n",
        "  precision_25000.append(df['precision'].values.tolist())\n",
        "  recall_25000.append(df['recall'].values.tolist())\n",
        "  f1_score_25000.append(df['f1-score'].values.tolist())"
      ],
      "metadata": {
        "colab": {
          "base_uri": "https://localhost:8080/"
        },
        "id": "E37bLttl5Z8L",
        "outputId": "7cf23223-e9f1-49cb-bbd3-dcb9d7b9668c"
      },
      "execution_count": null,
      "outputs": [
        {
          "output_type": "stream",
          "name": "stdout",
          "text": [
            "MultinomialNB()\n"
          ]
        },
        {
          "output_type": "stream",
          "name": "stderr",
          "text": [
            "0it [00:00, ?it/s]\n"
          ]
        },
        {
          "output_type": "stream",
          "name": "stdout",
          "text": [
            "ComplementNB()\n"
          ]
        },
        {
          "output_type": "stream",
          "name": "stderr",
          "text": [
            "0it [00:00, ?it/s]\n"
          ]
        },
        {
          "output_type": "stream",
          "name": "stdout",
          "text": [
            "LogisticRegression(C=10000, max_iter=3000)\n"
          ]
        },
        {
          "output_type": "stream",
          "name": "stderr",
          "text": [
            "0it [00:00, ?it/s]\n"
          ]
        },
        {
          "output_type": "stream",
          "name": "stdout",
          "text": [
            "LinearSVC(C=1000, dual=False, max_iter=3000, penalty='l1')\n"
          ]
        },
        {
          "output_type": "stream",
          "name": "stderr",
          "text": [
            "/usr/local/lib/python3.10/dist-packages/sklearn/svm/_base.py:1244: ConvergenceWarning: Liblinear failed to converge, increase the number of iterations.\n",
            "  warnings.warn(\n",
            "0it [00:00, ?it/s]\n"
          ]
        },
        {
          "output_type": "stream",
          "name": "stdout",
          "text": [
            "DecisionTreeClassifier(max_depth=10, random_state=0)\n"
          ]
        },
        {
          "output_type": "stream",
          "name": "stderr",
          "text": [
            "0it [00:00, ?it/s]\n"
          ]
        },
        {
          "output_type": "stream",
          "name": "stdout",
          "text": [
            "RandomForestClassifier(n_estimators=5, random_state=0)\n"
          ]
        },
        {
          "output_type": "stream",
          "name": "stderr",
          "text": [
            "  0%|          | 0/5 [00:00<?, ?it/s]\n"
          ]
        }
      ]
    },
    {
      "cell_type": "code",
      "source": [
        "max_len = 100\n",
        "\n",
        "(X_train, Y_train), (X_test, Y_test) = reuters.load_data(num_words=input_num, test_split=0.2)\n",
        "\n",
        "X_train = pad_sequences(X_train, maxlen=max_len)\n",
        "X_test = pad_sequences(X_test, maxlen=max_len)\n",
        "\n",
        "Y_test_non = Y_test\n",
        "\n",
        "Y_train = to_categorical(Y_train)\n",
        "Y_test = to_categorical(Y_test)"
      ],
      "metadata": {
        "id": "3n9hDKYb561Q"
      },
      "execution_count": null,
      "outputs": []
    },
    {
      "cell_type": "code",
      "source": [
        "embedding_dim = 128\n",
        "hidden_units = 128\n",
        "num_classes = 46\n",
        "\n",
        "model_25000 = Sequential()\n",
        "model_25000.add(Embedding(input_num, embedding_dim))\n",
        "model_25000.add(LSTM(hidden_units))\n",
        "model_25000.add(Dense(num_classes, activation='softmax'))\n",
        "\n",
        "es = EarlyStopping(monitor='val_loss', mode='min', verbose=1, patience=4)\n",
        "mc = ModelCheckpoint('best_model_25000.h5', monitor='val_acc', mode='max', verbose=1, save_best_only=True)\n",
        "\n",
        "model_25000.compile(loss='categorical_crossentropy', optimizer='adam', metrics=['acc'])\n",
        "history = model_25000.fit(X_train, Y_train, batch_size=128, epochs=30, callbacks=[es, mc], validation_data=(X_test, Y_test))"
      ],
      "metadata": {
        "colab": {
          "base_uri": "https://localhost:8080/"
        },
        "id": "supV52gh6JWU",
        "outputId": "8769968c-89b8-4c3a-ecc5-038a90167ea1"
      },
      "execution_count": null,
      "outputs": [
        {
          "output_type": "stream",
          "name": "stdout",
          "text": [
            "Epoch 1/30\n",
            "71/71 [==============================] - ETA: 0s - loss: 2.6081 - acc: 0.3378\n",
            "Epoch 1: val_acc improved from -inf to 0.46349, saving model to best_model_25000.h5\n",
            "71/71 [==============================] - 32s 423ms/step - loss: 2.6081 - acc: 0.3378 - val_loss: 2.1870 - val_acc: 0.4635\n",
            "Epoch 2/30\n"
          ]
        },
        {
          "output_type": "stream",
          "name": "stderr",
          "text": [
            "/usr/local/lib/python3.10/dist-packages/keras/src/engine/training.py:3079: UserWarning: You are saving your model as an HDF5 file via `model.save()`. This file format is considered legacy. We recommend using instead the native Keras format, e.g. `model.save('my_model.keras')`.\n",
            "  saving_api.save_model(\n"
          ]
        },
        {
          "output_type": "stream",
          "name": "stdout",
          "text": [
            "71/71 [==============================] - ETA: 0s - loss: 1.9609 - acc: 0.4842\n",
            "Epoch 2: val_acc improved from 0.46349 to 0.49911, saving model to best_model_25000.h5\n",
            "71/71 [==============================] - 30s 427ms/step - loss: 1.9609 - acc: 0.4842 - val_loss: 1.8196 - val_acc: 0.4991\n",
            "Epoch 3/30\n",
            "71/71 [==============================] - ETA: 0s - loss: 1.7426 - acc: 0.5304\n",
            "Epoch 3: val_acc improved from 0.49911 to 0.55343, saving model to best_model_25000.h5\n",
            "71/71 [==============================] - 29s 414ms/step - loss: 1.7426 - acc: 0.5304 - val_loss: 1.7567 - val_acc: 0.5534\n",
            "Epoch 4/30\n",
            "71/71 [==============================] - ETA: 0s - loss: 1.5641 - acc: 0.5891\n",
            "Epoch 4: val_acc improved from 0.55343 to 0.56901, saving model to best_model_25000.h5\n",
            "71/71 [==============================] - 28s 389ms/step - loss: 1.5641 - acc: 0.5891 - val_loss: 1.6478 - val_acc: 0.5690\n",
            "Epoch 5/30\n",
            "71/71 [==============================] - ETA: 0s - loss: 1.3298 - acc: 0.6477\n",
            "Epoch 5: val_acc improved from 0.56901 to 0.61175, saving model to best_model_25000.h5\n",
            "71/71 [==============================] - 30s 418ms/step - loss: 1.3298 - acc: 0.6477 - val_loss: 1.5614 - val_acc: 0.6118\n",
            "Epoch 6/30\n",
            "71/71 [==============================] - ETA: 0s - loss: 1.1881 - acc: 0.6788\n",
            "Epoch 6: val_acc did not improve from 0.61175\n",
            "71/71 [==============================] - 29s 408ms/step - loss: 1.1881 - acc: 0.6788 - val_loss: 1.6010 - val_acc: 0.5953\n",
            "Epoch 7/30\n",
            "71/71 [==============================] - ETA: 0s - loss: 0.9887 - acc: 0.7381\n",
            "Epoch 7: val_acc improved from 0.61175 to 0.61309, saving model to best_model_25000.h5\n",
            "71/71 [==============================] - 30s 420ms/step - loss: 0.9887 - acc: 0.7381 - val_loss: 1.5521 - val_acc: 0.6131\n",
            "Epoch 8/30\n",
            "71/71 [==============================] - ETA: 0s - loss: 0.8543 - acc: 0.7694\n",
            "Epoch 8: val_acc improved from 0.61309 to 0.64826, saving model to best_model_25000.h5\n",
            "71/71 [==============================] - 30s 427ms/step - loss: 0.8543 - acc: 0.7694 - val_loss: 1.5136 - val_acc: 0.6483\n",
            "Epoch 9/30\n",
            "71/71 [==============================] - ETA: 0s - loss: 0.7042 - acc: 0.8143\n",
            "Epoch 9: val_acc did not improve from 0.64826\n",
            "71/71 [==============================] - 29s 409ms/step - loss: 0.7042 - acc: 0.8143 - val_loss: 1.5438 - val_acc: 0.6402\n",
            "Epoch 10/30\n",
            "71/71 [==============================] - ETA: 0s - loss: 0.5956 - acc: 0.8399\n",
            "Epoch 10: val_acc did not improve from 0.64826\n",
            "71/71 [==============================] - 29s 415ms/step - loss: 0.5956 - acc: 0.8399 - val_loss: 1.6996 - val_acc: 0.6331\n",
            "Epoch 11/30\n",
            "71/71 [==============================] - ETA: 0s - loss: 0.5198 - acc: 0.8645\n",
            "Epoch 11: val_acc improved from 0.64826 to 0.66118, saving model to best_model_25000.h5\n",
            "71/71 [==============================] - 31s 431ms/step - loss: 0.5198 - acc: 0.8645 - val_loss: 1.6183 - val_acc: 0.6612\n",
            "Epoch 12/30\n",
            "71/71 [==============================] - ETA: 0s - loss: 0.4480 - acc: 0.8847\n",
            "Epoch 12: val_acc did not improve from 0.66118\n",
            "71/71 [==============================] - 30s 418ms/step - loss: 0.4480 - acc: 0.8847 - val_loss: 1.6635 - val_acc: 0.6572\n",
            "Epoch 12: early stopping\n"
          ]
        }
      ]
    },
    {
      "cell_type": "code",
      "source": [
        "loaded_model = load_model('best_model_25000.h5') #model 호출\n",
        "predictions = model_25000.predict(X_test) #모델 예측\n",
        "pre_y = [np.argmax(predictions[i]) for i in range(len(predictions))] #y값과의 비교를 위한 softmax 후처리 진행\n",
        "df = pd.DataFrame(classification_report(y_test_non, np.array(pre_y), zero_division=0, output_dict=True)).transpose() #classification_report 생성"
      ],
      "metadata": {
        "colab": {
          "base_uri": "https://localhost:8080/"
        },
        "id": "rpbkpEk76u7g",
        "outputId": "d0149a1f-6e1f-4de2-aa80-71d808649eba"
      },
      "execution_count": null,
      "outputs": [
        {
          "output_type": "stream",
          "name": "stdout",
          "text": [
            "71/71 [==============================] - 5s 66ms/step\n"
          ]
        }
      ]
    },
    {
      "cell_type": "code",
      "source": [
        "#ml 결과값과의 비교를 위한 리스트 추가\n",
        "precision_25000.append(df['precision'].values.tolist())\n",
        "recall_25000.append(df['recall'].values.tolist())\n",
        "f1_score_25000.append(df['f1-score'].values.tolist())"
      ],
      "metadata": {
        "id": "YendyJnC6yfJ"
      },
      "execution_count": null,
      "outputs": []
    },
    {
      "cell_type": "markdown",
      "source": [
        "결과에 대한 해석은 아직 진행이 안되어 구글 스프레드 시트를 통하여 전달드리겠습니다.\n",
        "- [결과값에 대한 정리](https://docs.google.com/spreadsheets/d/13y-PEpo_4RUXDRrkGumSb9Lr2N5V-hvhPfOtxVaTNKM/edit?usp=sharing)\n",
        "\n",
        "## 1. 5000개 기준"
      ],
      "metadata": {
        "id": "yVtdGcE-Fah3"
      }
    },
    {
      "cell_type": "markdown",
      "source": [
        "![스크린샷 2023-11-09 오후 5.32.20.png](data:image/png;base64,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)"
      ],
      "metadata": {
        "id": "1sWby5c8OxVG"
      }
    },
    {
      "cell_type": "markdown",
      "source": [
        "## 2. 10,000개 기준"
      ],
      "metadata": {
        "id": "V4xY7CfaOWYI"
      }
    },
    {
      "cell_type": "markdown",
      "source": [
        "![스크린샷 2023-11-09 오후 5.32.26.png](data:image/png;base64,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)"
      ],
      "metadata": {
        "id": "_nIh4MQGOWpM"
      }
    },
    {
      "cell_type": "markdown",
      "source": [
        "## 3. 25,000개 기준\n",
        "![스크린샷 2023-11-09 오후 5.32.35.png](data:image/png;base64,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)"
      ],
      "metadata": {
        "id": "a1ly-YVAOLrG"
      }
    },
    {
      "cell_type": "code",
      "source": [],
      "metadata": {
        "id": "6RKr9EdHOQNy"
      },
      "execution_count": null,
      "outputs": []
    }
  ]
}
