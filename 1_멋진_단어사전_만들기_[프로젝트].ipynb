{
  "cells": [
    {
      "cell_type": "markdown",
      "metadata": {
        "id": "view-in-github",
        "colab_type": "text"
      },
      "source": [
        "<a href=\"https://colab.research.google.com/github/minsung6333/AIFFEL_Project/blob/main/3_%E1%84%86%E1%85%A5%E1%86%BA%E1%84%8C%E1%85%B5%E1%86%AB_%E1%84%83%E1%85%A1%E1%86%AB%E1%84%8B%E1%85%A5%E1%84%89%E1%85%A1%E1%84%8C%E1%85%A5%E1%86%AB_%E1%84%86%E1%85%A1%E1%86%AB%E1%84%83%E1%85%B3%E1%86%AF%E1%84%80%E1%85%B5_%5B%E1%84%91%E1%85%B3%E1%84%85%E1%85%A9%E1%84%8C%E1%85%A6%E1%86%A8%E1%84%90%E1%85%B3%5D.ipynb\" target=\"_parent\"><img src=\"https://colab.research.google.com/assets/colab-badge.svg\" alt=\"Open In Colab\"/></a>"
      ]
    },
    {
      "cell_type": "markdown",
      "id": "82251e2b",
      "metadata": {
        "id": "82251e2b"
      },
      "source": [
        "# 멋진 단어사전 만들기 [프로젝트]\n",
        "- 1. SentencePiece를 이용하여 모델을 만들기까지의 과정이 정상적으로 진행되었는가?\n",
        "- 2. SentencePiece를 통해 만든 Tokenizer가 자연어처리 모델과 결합하여 동작하는가?\n",
        "- 3. SentencePiece의 성능을 다각도로 비교분석하였는가?\n",
        "\n",
        "---\n",
        "\n",
        "본 프로젝트는 한국어 형태소 분석기인 konlpy(okt, hannamum, komoran, mecab)과 sentencepice로 생성하여 토큰화한 사전과의 성능차이를 비교하고자 함"
      ]
    },
    {
      "cell_type": "code",
      "execution_count": null,
      "id": "3da85f03",
      "metadata": {
        "id": "3da85f03"
      },
      "outputs": [],
      "source": [
        "from konlpy.tag import Mecab\n",
        "import os\n",
        "import matplotlib.pyplot as plt\n",
        "import tensorflow as tf\n",
        "import numpy as np\n",
        "\n",
        "path_to_file = os.getenv('HOME')+'/aiffel/sp_tokenizer/data/korean-english-park.train.ko'\n",
        "with open(path_to_file, \"r\") as f:\n",
        "    raw = f.read().splitlines()\n",
        "\n",
        "cleaned_corpus = list(set(raw))  # set를 사용해서 중복을 제거합니다.\n",
        "\n",
        "max_len = 150\n",
        "min_len = 10\n",
        "filtered_corpus = [s for s in cleaned_corpus if (len(s) < max_len) & (len(s) >= min_len)]"
      ]
    },
    {
      "cell_type": "code",
      "execution_count": null,
      "id": "61ec279c",
      "metadata": {
        "id": "61ec279c",
        "outputId": "7922c761-5c1e-47b3-d59a-58704ad87fae"
      },
      "outputs": [
        {
          "name": "stdout",
          "output_type": "stream",
          "text": [
            "2.6.0\n",
            "1.21.4\n",
            "3.4.3\n",
            "0.5.2\n"
          ]
        }
      ],
      "source": [
        "import tensorflow as tf\n",
        "import numpy as np\n",
        "import matplotlib as plt\n",
        "import konlpy\n",
        "\n",
        "print(tf.__version__)\n",
        "print(np.__version__)\n",
        "print(plt.__version__)\n",
        "print(konlpy.__version__)"
      ]
    },
    {
      "cell_type": "code",
      "execution_count": null,
      "id": "ced94b9d",
      "metadata": {
        "id": "ced94b9d"
      },
      "outputs": [],
      "source": [
        "def tokenize(corpus):  # corpus: Tokenized Sentence's List\n",
        "    tokenizer = tf.keras.preprocessing.text.Tokenizer(filters='')\n",
        "    tokenizer.fit_on_texts(corpus)\n",
        "\n",
        "    tensor = tokenizer.texts_to_sequences(corpus)\n",
        "\n",
        "    tensor = tf.keras.preprocessing.sequence.pad_sequences(tensor, padding='post')\n",
        "\n",
        "    return tensor, tokenizer"
      ]
    },
    {
      "cell_type": "code",
      "execution_count": null,
      "id": "481d1ded",
      "metadata": {
        "id": "481d1ded",
        "outputId": "9fe35989-4da8-4fc9-a93f-c78a8da7faff"
      },
      "outputs": [
        {
          "name": "stderr",
          "output_type": "stream",
          "text": [
            "sentencepiece_trainer.cc(177) LOG(INFO) Running command: --input=/aiffel/aiffel/sp_tokenizer/data/korean-english-park.train.ko.temp --model_prefix=korean_org --vocab_size=8000\n",
            "sentencepiece_trainer.cc(77) LOG(INFO) Starts training with : \n",
            "trainer_spec {\n",
            "  input: /aiffel/aiffel/sp_tokenizer/data/korean-english-park.train.ko.temp\n",
            "  input_format: \n",
            "  model_prefix: korean_org\n",
            "  model_type: UNIGRAM\n",
            "  vocab_size: 8000\n",
            "  self_test_sample_size: 0\n",
            "  character_coverage: 0.9995\n",
            "  input_sentence_size: 0\n",
            "  shuffle_input_sentence: 1\n",
            "  seed_sentencepiece_size: 1000000\n",
            "  shrinking_factor: 0.75\n",
            "  max_sentence_length: 4192\n",
            "  num_threads: 16\n",
            "  num_sub_iterations: 2\n",
            "  max_sentencepiece_length: 16\n",
            "  split_by_unicode_script: 1\n",
            "  split_by_number: 1\n",
            "  split_by_whitespace: 1\n",
            "  split_digits: 0\n",
            "  treat_whitespace_as_suffix: 0\n",
            "  allow_whitespace_only_pieces: 0\n",
            "  required_chars: \n",
            "  byte_fallback: 0\n",
            "  vocabulary_output_piece_score: 1\n",
            "  train_extremely_large_corpus: 0\n",
            "  hard_vocab_limit: 1\n",
            "  use_all_vocab: 0\n",
            "  unk_id: 0\n",
            "  bos_id: 1\n",
            "  eos_id: 2\n",
            "  pad_id: -1\n",
            "  unk_piece: <unk>\n",
            "  bos_piece: <s>\n",
            "  eos_piece: </s>\n",
            "  pad_piece: <pad>\n",
            "  unk_surface:  ⁇ \n",
            "}\n",
            "normalizer_spec {\n",
            "  name: nmt_nfkc\n",
            "  add_dummy_prefix: 1\n",
            "  remove_extra_whitespaces: 1\n",
            "  escape_whitespaces: 1\n",
            "  normalization_rule_tsv: \n",
            "}\n",
            "denormalizer_spec {}\n",
            "trainer_interface.cc(329) LOG(INFO) SentenceIterator is not specified. Using MultiFileSentenceIterator.\n",
            "trainer_interface.cc(178) LOG(INFO) Loading corpus: /aiffel/aiffel/sp_tokenizer/data/korean-english-park.train.ko.temp\n",
            "trainer_interface.cc(385) LOG(INFO) Loaded all 76908 sentences\n",
            "trainer_interface.cc(400) LOG(INFO) Adding meta_piece: <unk>\n",
            "trainer_interface.cc(400) LOG(INFO) Adding meta_piece: <s>\n",
            "trainer_interface.cc(400) LOG(INFO) Adding meta_piece: </s>\n",
            "trainer_interface.cc(405) LOG(INFO) Normalizing sentences...\n",
            "trainer_interface.cc(466) LOG(INFO) all chars count=4996369\n",
            "trainer_interface.cc(477) LOG(INFO) Done: 99.95% characters are covered.\n",
            "trainer_interface.cc(487) LOG(INFO) Alphabet size=1317\n",
            "trainer_interface.cc(488) LOG(INFO) Final character coverage=0.9995\n",
            "trainer_interface.cc(520) LOG(INFO) Done! preprocessed 76908 sentences.\n",
            "unigram_model_trainer.cc(139) LOG(INFO) Making suffix array...\n",
            "unigram_model_trainer.cc(143) LOG(INFO) Extracting frequent sub strings...\n",
            "unigram_model_trainer.cc(194) LOG(INFO) Initialized 174340 seed sentencepieces\n",
            "trainer_interface.cc(526) LOG(INFO) Tokenizing input sentences with whitespace: 76908\n",
            "trainer_interface.cc(537) LOG(INFO) Done! 237965\n",
            "unigram_model_trainer.cc(489) LOG(INFO) Using 237965 sentences for EM training\n",
            "unigram_model_trainer.cc(505) LOG(INFO) EM sub_iter=0 size=92555 obj=14.853 num_tokens=523272 num_tokens/piece=5.65363\n",
            "unigram_model_trainer.cc(505) LOG(INFO) EM sub_iter=1 size=82083 obj=13.516 num_tokens=525776 num_tokens/piece=6.40542\n",
            "unigram_model_trainer.cc(505) LOG(INFO) EM sub_iter=0 size=61555 obj=13.5533 num_tokens=546907 num_tokens/piece=8.88485\n",
            "unigram_model_trainer.cc(505) LOG(INFO) EM sub_iter=1 size=61506 obj=13.5101 num_tokens=547350 num_tokens/piece=8.89913\n",
            "unigram_model_trainer.cc(505) LOG(INFO) EM sub_iter=0 size=46126 obj=13.6926 num_tokens=575369 num_tokens/piece=12.4739\n",
            "unigram_model_trainer.cc(505) LOG(INFO) EM sub_iter=1 size=46126 obj=13.6493 num_tokens=575466 num_tokens/piece=12.476\n",
            "unigram_model_trainer.cc(505) LOG(INFO) EM sub_iter=0 size=34594 obj=13.8894 num_tokens=606014 num_tokens/piece=17.5179\n",
            "unigram_model_trainer.cc(505) LOG(INFO) EM sub_iter=1 size=34594 obj=13.8387 num_tokens=606012 num_tokens/piece=17.5178\n",
            "unigram_model_trainer.cc(505) LOG(INFO) EM sub_iter=0 size=25945 obj=14.1301 num_tokens=637532 num_tokens/piece=24.5724\n",
            "unigram_model_trainer.cc(505) LOG(INFO) EM sub_iter=1 size=25945 obj=14.0747 num_tokens=637568 num_tokens/piece=24.5738\n",
            "unigram_model_trainer.cc(505) LOG(INFO) EM sub_iter=0 size=19458 obj=14.4091 num_tokens=670960 num_tokens/piece=34.4825\n",
            "unigram_model_trainer.cc(505) LOG(INFO) EM sub_iter=1 size=19458 obj=14.3468 num_tokens=670999 num_tokens/piece=34.4845\n",
            "unigram_model_trainer.cc(505) LOG(INFO) EM sub_iter=0 size=14593 obj=14.7196 num_tokens=705636 num_tokens/piece=48.3544\n",
            "unigram_model_trainer.cc(505) LOG(INFO) EM sub_iter=1 size=14593 obj=14.648 num_tokens=705645 num_tokens/piece=48.355\n",
            "unigram_model_trainer.cc(505) LOG(INFO) EM sub_iter=0 size=10944 obj=15.0875 num_tokens=741620 num_tokens/piece=67.765\n",
            "unigram_model_trainer.cc(505) LOG(INFO) EM sub_iter=1 size=10944 obj=15.007 num_tokens=741624 num_tokens/piece=67.7654\n",
            "unigram_model_trainer.cc(505) LOG(INFO) EM sub_iter=0 size=8800 obj=15.3757 num_tokens=769363 num_tokens/piece=87.4276\n",
            "unigram_model_trainer.cc(505) LOG(INFO) EM sub_iter=1 size=8800 obj=15.307 num_tokens=769367 num_tokens/piece=87.4281\n",
            "trainer_interface.cc(615) LOG(INFO) Saving model: korean_org.model\n",
            "trainer_interface.cc(626) LOG(INFO) Saving vocabs: korean_org.vocab\n"
          ]
        },
        {
          "name": "stdout",
          "output_type": "stream",
          "text": [
            "-rw-r--r-- 1 root root 376816 Nov  7 08:47 korean_org.model\r\n",
            "-rw-r--r-- 1 root root 146213 Nov  7 08:47 korean_org.vocab\r\n"
          ]
        }
      ],
      "source": [
        "import sentencepiece as spm\n",
        "import os\n",
        "temp_file = os.getenv('HOME')+'/aiffel/sp_tokenizer/data/korean-english-park.train.ko.temp'\n",
        "\n",
        "vocab_size = 8000\n",
        "\n",
        "with open(temp_file, 'w') as f:\n",
        "    for row in filtered_corpus:   # 이전에 나왔던 정제했던 corpus를 활용해서 진행해야 합니다.\n",
        "        f.write(str(row) + '\\n')\n",
        "\n",
        "spm.SentencePieceTrainer.Train(\n",
        "    '--input={} --model_prefix=korean_org --vocab_size={}'.format(temp_file, vocab_size)\n",
        ")\n",
        "#위 Train에서  --model_type = unigram이 디폴트 적용되어 있습니다. --model_type = bpe로 옵션을 주어 변경할 수 있습니다.\n",
        "\n",
        "!ls -l korean_org*"
      ]
    },
    {
      "cell_type": "code",
      "execution_count": null,
      "id": "b12da998",
      "metadata": {
        "id": "b12da998",
        "outputId": "9a1e5e1f-796c-4497-9f41-e6cd328a6dc4"
      },
      "outputs": [
        {
          "name": "stdout",
          "output_type": "stream",
          "text": [
            "[25, 509, 3395, 4631, 1314, 3510, 2097]\n",
            "['▁이', '건', '▁왜', '▁이렇게', '▁되는', '걸', '까']\n",
            "이건 왜 이렇게 되는걸까\n"
          ]
        }
      ],
      "source": [
        "s = spm.SentencePieceProcessor()\n",
        "s.Load('korean_spm.model')\n",
        "\n",
        "# SentencePiece를 활용한 sentence -> encoding\n",
        "tokensIDs = s.EncodeAsIds('이건 왜 이렇게 되는걸까')\n",
        "print(tokensIDs)\n",
        "\n",
        "# SentencePiece를 활용한 sentence -> encoded pieces\n",
        "print(s.SampleEncodeAsPieces('이건 왜 이렇게 되는걸까',1, 0.0))\n",
        "\n",
        "# SentencePiece를 활용한 encoding -> sentence 복원\n",
        "print(s.DecodeIds(tokensIDs))"
      ]
    },
    {
      "cell_type": "code",
      "execution_count": null,
      "id": "9727307d",
      "metadata": {
        "id": "9727307d"
      },
      "outputs": [],
      "source": [
        "def sp_tokenize(s, corpus):\n",
        "\n",
        "    tensor = []\n",
        "\n",
        "    for sen in corpus:\n",
        "        tensor.append(s.EncodeAsIds(sen))\n",
        "\n",
        "    with open(\"./korean_spm.vocab\", 'r') as f:\n",
        "        vocab = f.readlines()\n",
        "\n",
        "    word_index = {}\n",
        "    index_word = {}\n",
        "\n",
        "    for idx, line in enumerate(vocab):\n",
        "        word = line.split(\"\\t\")[0]\n",
        "\n",
        "        word_index.update({word:idx})\n",
        "        index_word.update({idx:word})\n",
        "\n",
        "    tensor = tf.keras.preprocessing.sequence.pad_sequences(tensor, padding='post')\n",
        "\n",
        "    return tensor, word_index, index_word"
      ]
    },
    {
      "cell_type": "code",
      "execution_count": null,
      "id": "28e704c5",
      "metadata": {
        "id": "28e704c5",
        "outputId": "10dc85a3-c6d8-4387-9c55-b36d29e1e816"
      },
      "outputs": [
        {
          "name": "stdout",
          "output_type": "stream",
          "text": [
            "[  25  509 3395 4631 1314 3510 2097]\n",
            "['▁이', '건', '▁왜', '▁이렇게', '▁되는', '걸', '까']\n"
          ]
        },
        {
          "data": {
            "text/plain": [
              "'건'"
            ]
          },
          "execution_count": 175,
          "metadata": {},
          "output_type": "execute_result"
        }
      ],
      "source": [
        "corpus = ['이건 왜 이렇게 되는걸까']\n",
        "tensor = []\n",
        "for sen in corpus:\n",
        "    tensor.append(s.EncodeAsIds(sen))\n",
        "\n",
        "# print(tensor)\n",
        "print(sp_tokenize(s,['이건 왜 이렇게 되는걸까'])[0][0])\n",
        "\n",
        "print(s.SampleEncodeAsPieces('이건 왜 이렇게 되는걸까',1, 0.0))\n",
        "\n",
        "s.SampleEncodeAsPieces('이건 왜 이렇게 되는걸까',1, 0.0)\n",
        "\n",
        "# dogs['jindo']\n",
        "\n",
        "sp_tokenize(s, ['corpus'])[2][509]"
      ]
    },
    {
      "cell_type": "code",
      "execution_count": null,
      "id": "aad5149a",
      "metadata": {
        "id": "aad5149a",
        "outputId": "baa7953c-2786-4d97-834d-545b763e83a0"
      },
      "outputs": [
        {
          "data": {
            "text/plain": [
              "array([1243,   11,  302,    7, 3608,   11,  287,   38,    3], dtype=int32)"
            ]
          },
          "execution_count": 161,
          "metadata": {},
          "output_type": "execute_result"
        }
      ],
      "source": [
        "s = spm.SentencePieceProcessor()\n",
        "s.Load('korean_spm.model')\n",
        "sp_tokenize(s,['아버지가방에들어가신다.'])[0][0]\n",
        "\n",
        "# SentencePiece를 활용한 sentence -> encoded pieces\n",
        "# print(s.SampleEncodeAsPieces('아버지가방에들어가신다.',1, 0.0))\n",
        "\n",
        "# print(s.DecodeIds(sp_tokenize(s,'아버지가방에들어가신다.')[0]))\n",
        "# print(sp_tokenize(s,'아버지가방에들어가신다.')[0])\n",
        "# sp_tokenize(s,'아버지가방에들어가신다.')[0][0:]\n",
        "\n",
        "# tokenize('아버지가방에들어가신다.')[1]"
      ]
    },
    {
      "cell_type": "markdown",
      "id": "407b4ecf",
      "metadata": {
        "id": "407b4ecf"
      },
      "source": [
        "# 1. 데이터 호출 및 전처리\n",
        "- 네이버 영화 감성리뷰 호출\n",
        "- 말뭉치 특수문자 제거\n",
        "- 불용어 처리"
      ]
    },
    {
      "cell_type": "markdown",
      "id": "411c752c",
      "metadata": {
        "id": "411c752c"
      },
      "source": [
        "## 1-1 데이터 호출"
      ]
    },
    {
      "cell_type": "code",
      "execution_count": null,
      "id": "27c63306",
      "metadata": {
        "id": "27c63306",
        "outputId": "45cf3deb-f7d4-4650-df75-e66d5cd1216a"
      },
      "outputs": [
        {
          "data": {
            "text/plain": [
              "('ratings_test.txt', <http.client.HTTPMessage at 0x7fe4e6a64a00>)"
            ]
          },
          "execution_count": 11,
          "metadata": {},
          "output_type": "execute_result"
        }
      ],
      "source": [
        "import urllib\n",
        "\n",
        "urllib.request.urlretrieve(\"https://raw.githubusercontent.com/e9t/nsmc/master/ratings_train.txt\", filename=\"ratings_train.txt\")\n",
        "urllib.request.urlretrieve(\"https://raw.githubusercontent.com/e9t/nsmc/master/ratings_test.txt\", filename=\"ratings_test.txt\")"
      ]
    },
    {
      "cell_type": "code",
      "execution_count": null,
      "id": "d0243b59",
      "metadata": {
        "id": "d0243b59"
      },
      "outputs": [],
      "source": [
        "import pandas as pd\n",
        "train_data = pd.read_table('ratings_train.txt')\n",
        "test_data = pd.read_table('ratings_test.txt')"
      ]
    },
    {
      "cell_type": "code",
      "execution_count": null,
      "id": "31c756e4",
      "metadata": {
        "id": "31c756e4",
        "outputId": "893d20ce-6b6e-4d41-e891-62d4c4881004"
      },
      "outputs": [
        {
          "data": {
            "text/html": [
              "<div>\n",
              "<style scoped>\n",
              "    .dataframe tbody tr th:only-of-type {\n",
              "        vertical-align: middle;\n",
              "    }\n",
              "\n",
              "    .dataframe tbody tr th {\n",
              "        vertical-align: top;\n",
              "    }\n",
              "\n",
              "    .dataframe thead th {\n",
              "        text-align: right;\n",
              "    }\n",
              "</style>\n",
              "<table border=\"1\" class=\"dataframe\">\n",
              "  <thead>\n",
              "    <tr style=\"text-align: right;\">\n",
              "      <th></th>\n",
              "      <th>id</th>\n",
              "      <th>document</th>\n",
              "      <th>label</th>\n",
              "    </tr>\n",
              "  </thead>\n",
              "  <tbody>\n",
              "    <tr>\n",
              "      <th>0</th>\n",
              "      <td>9976970</td>\n",
              "      <td>아 더빙.. 진짜 짜증나네요 목소리</td>\n",
              "      <td>0</td>\n",
              "    </tr>\n",
              "    <tr>\n",
              "      <th>1</th>\n",
              "      <td>3819312</td>\n",
              "      <td>흠...포스터보고 초딩영화줄....오버연기조차 가볍지 않구나</td>\n",
              "      <td>1</td>\n",
              "    </tr>\n",
              "    <tr>\n",
              "      <th>2</th>\n",
              "      <td>10265843</td>\n",
              "      <td>너무재밓었다그래서보는것을추천한다</td>\n",
              "      <td>0</td>\n",
              "    </tr>\n",
              "    <tr>\n",
              "      <th>3</th>\n",
              "      <td>9045019</td>\n",
              "      <td>교도소 이야기구먼 ..솔직히 재미는 없다..평점 조정</td>\n",
              "      <td>0</td>\n",
              "    </tr>\n",
              "    <tr>\n",
              "      <th>4</th>\n",
              "      <td>6483659</td>\n",
              "      <td>사이몬페그의 익살스런 연기가 돋보였던 영화!스파이더맨에서 늙어보이기만 했던 커스틴 ...</td>\n",
              "      <td>1</td>\n",
              "    </tr>\n",
              "  </tbody>\n",
              "</table>\n",
              "</div>"
            ],
            "text/plain": [
              "         id                                           document  label\n",
              "0   9976970                                아 더빙.. 진짜 짜증나네요 목소리      0\n",
              "1   3819312                  흠...포스터보고 초딩영화줄....오버연기조차 가볍지 않구나      1\n",
              "2  10265843                                  너무재밓었다그래서보는것을추천한다      0\n",
              "3   9045019                      교도소 이야기구먼 ..솔직히 재미는 없다..평점 조정      0\n",
              "4   6483659  사이몬페그의 익살스런 연기가 돋보였던 영화!스파이더맨에서 늙어보이기만 했던 커스틴 ...      1"
            ]
          },
          "execution_count": 16,
          "metadata": {},
          "output_type": "execute_result"
        }
      ],
      "source": [
        "train_data.head()"
      ]
    },
    {
      "cell_type": "code",
      "execution_count": null,
      "id": "8be4ed3c",
      "metadata": {
        "id": "8be4ed3c",
        "outputId": "d4cdaa88-9f7b-4f02-af95-17f87d5150de"
      },
      "outputs": [
        {
          "name": "stdout",
          "output_type": "stream",
          "text": [
            "훈련용 리뷰 개수 : 150000\n"
          ]
        }
      ],
      "source": [
        "print('훈련용 리뷰 개수 :',len(train_data)) # 훈련용 리뷰 개수 출력"
      ]
    },
    {
      "cell_type": "code",
      "execution_count": null,
      "id": "7ea5a4f6",
      "metadata": {
        "id": "7ea5a4f6",
        "outputId": "013dd671-b805-4478-ad27-d556819e4f4a"
      },
      "outputs": [
        {
          "name": "stdout",
          "output_type": "stream",
          "text": [
            "테스트용 리뷰 개수 : 50000\n"
          ]
        }
      ],
      "source": [
        "print('테스트용 리뷰 개수 :',len(test_data)) # 테스트용 리뷰 개수 출력"
      ]
    },
    {
      "cell_type": "code",
      "execution_count": null,
      "id": "f03216b7",
      "metadata": {
        "id": "f03216b7",
        "outputId": "a6630fad-3f6e-438a-bfe8-c67697289773"
      },
      "outputs": [
        {
          "data": {
            "text/plain": [
              "(146182, 2)"
            ]
          },
          "execution_count": 20,
          "metadata": {},
          "output_type": "execute_result"
        }
      ],
      "source": [
        "# document 열과 label 열의 중복을 제외한 값의 개수\n",
        "train_data['document'].nunique(), train_data['label'].nunique()"
      ]
    },
    {
      "cell_type": "code",
      "execution_count": null,
      "id": "6c3940e7",
      "metadata": {
        "id": "6c3940e7"
      },
      "outputs": [],
      "source": [
        "# document 열의 중복 제거\n",
        "train_data.drop_duplicates(subset=['document'], inplace=True)"
      ]
    },
    {
      "cell_type": "code",
      "execution_count": null,
      "id": "51e38e56",
      "metadata": {
        "id": "51e38e56",
        "outputId": "e38da0ab-314a-4299-c2d2-5718286182d1"
      },
      "outputs": [
        {
          "name": "stdout",
          "output_type": "stream",
          "text": [
            "총 샘플의 수 : 146183\n"
          ]
        }
      ],
      "source": [
        "print('총 샘플의 수 :',len(train_data))"
      ]
    },
    {
      "cell_type": "code",
      "execution_count": null,
      "id": "f8ed3d75",
      "metadata": {
        "id": "f8ed3d75",
        "outputId": "2d1c56a3-048c-497b-ddcd-1a3e4bc9102a"
      },
      "outputs": [
        {
          "data": {
            "text/plain": [
              "<AxesSubplot:>"
            ]
          },
          "execution_count": 23,
          "metadata": {},
          "output_type": "execute_result"
        },
        {
          "data": {
            "image/png": "[encoded data removed]",
            "text/plain": [
              "<Figure size 432x288 with 1 Axes>"
            ]
          },
          "metadata": {
            "needs_background": "light"
          },
          "output_type": "display_data"
        }
      ],
      "source": [
        "train_data['label'].value_counts().plot(kind = 'bar')"
      ]
    },
    {
      "cell_type": "code",
      "execution_count": null,
      "id": "02f3819a",
      "metadata": {
        "id": "02f3819a",
        "outputId": "34f71ee6-6187-4160-972e-f35c4a08b090"
      },
      "outputs": [
        {
          "name": "stdout",
          "output_type": "stream",
          "text": [
            "   label  count\n",
            "0      0  73342\n",
            "1      1  72841\n"
          ]
        }
      ],
      "source": [
        "print(train_data.groupby('label').size().reset_index(name = 'count'))"
      ]
    },
    {
      "cell_type": "code",
      "execution_count": null,
      "id": "de1ef952",
      "metadata": {
        "id": "de1ef952",
        "outputId": "f149909d-551a-43be-c6c9-4ab5bd2ce7b2"
      },
      "outputs": [
        {
          "name": "stdout",
          "output_type": "stream",
          "text": [
            "True\n"
          ]
        }
      ],
      "source": [
        "print(train_data.isnull().values.any())"
      ]
    },
    {
      "cell_type": "code",
      "execution_count": null,
      "id": "373f60dd",
      "metadata": {
        "id": "373f60dd",
        "outputId": "131bc613-b4b9-4028-8afb-a48245275ec6"
      },
      "outputs": [
        {
          "name": "stdout",
          "output_type": "stream",
          "text": [
            "id          0\n",
            "document    1\n",
            "label       0\n",
            "dtype: int64\n"
          ]
        }
      ],
      "source": [
        "print(train_data.isnull().sum())"
      ]
    },
    {
      "cell_type": "code",
      "execution_count": null,
      "id": "5cc13aa0",
      "metadata": {
        "id": "5cc13aa0",
        "outputId": "2b1bc77c-1c39-4c09-9498-966814bb3333"
      },
      "outputs": [
        {
          "data": {
            "text/html": [
              "<div>\n",
              "<style scoped>\n",
              "    .dataframe tbody tr th:only-of-type {\n",
              "        vertical-align: middle;\n",
              "    }\n",
              "\n",
              "    .dataframe tbody tr th {\n",
              "        vertical-align: top;\n",
              "    }\n",
              "\n",
              "    .dataframe thead th {\n",
              "        text-align: right;\n",
              "    }\n",
              "</style>\n",
              "<table border=\"1\" class=\"dataframe\">\n",
              "  <thead>\n",
              "    <tr style=\"text-align: right;\">\n",
              "      <th></th>\n",
              "      <th>id</th>\n",
              "      <th>document</th>\n",
              "      <th>label</th>\n",
              "    </tr>\n",
              "  </thead>\n",
              "  <tbody>\n",
              "    <tr>\n",
              "      <th>25857</th>\n",
              "      <td>2172111</td>\n",
              "      <td>NaN</td>\n",
              "      <td>1</td>\n",
              "    </tr>\n",
              "  </tbody>\n",
              "</table>\n",
              "</div>"
            ],
            "text/plain": [
              "            id document  label\n",
              "25857  2172111      NaN      1"
            ]
          },
          "execution_count": 27,
          "metadata": {},
          "output_type": "execute_result"
        }
      ],
      "source": [
        "# null값 확인\n",
        "train_data.loc[train_data.document.isnull()]"
      ]
    },
    {
      "cell_type": "code",
      "execution_count": null,
      "id": "0ac343ca",
      "metadata": {
        "id": "0ac343ca",
        "outputId": "934ad342-46ff-4064-a2d6-80bcbd895fc8"
      },
      "outputs": [
        {
          "name": "stdout",
          "output_type": "stream",
          "text": [
            "False\n"
          ]
        }
      ],
      "source": [
        "# Null값 제거\n",
        "train_data = train_data.dropna(how = 'any') # Null 값이 존재하는 행 제거\n",
        "print(train_data.isnull().values.any()) # Null 값이 존재하는지 확인"
      ]
    },
    {
      "cell_type": "code",
      "execution_count": null,
      "id": "3bb4c988",
      "metadata": {
        "id": "3bb4c988",
        "outputId": "678993e1-1ddc-4516-de7f-dea04e6caa94"
      },
      "outputs": [
        {
          "name": "stdout",
          "output_type": "stream",
          "text": [
            "146182\n"
          ]
        }
      ],
      "source": [
        "print(len(train_data))"
      ]
    },
    {
      "cell_type": "markdown",
      "id": "67ddbcf8",
      "metadata": {
        "id": "67ddbcf8"
      },
      "source": [
        "## 1-2 특수어 처리"
      ]
    },
    {
      "cell_type": "code",
      "execution_count": null,
      "id": "08298baa",
      "metadata": {
        "id": "08298baa",
        "outputId": "5a84e67c-8fe4-4e00-e1a3-4984bf74d970"
      },
      "outputs": [
        {
          "name": "stderr",
          "output_type": "stream",
          "text": [
            "/tmp/ipykernel_30/3525229848.py:2: FutureWarning: The default value of regex will change from True to False in a future version.\n",
            "  train_data['document'] = train_data['document'].str.replace(\"[^ㄱ-ㅎㅏ-ㅣ가-힣 ]\",\"\")\n",
            "/tmp/ipykernel_30/3525229848.py:2: SettingWithCopyWarning: \n",
            "A value is trying to be set on a copy of a slice from a DataFrame.\n",
            "Try using .loc[row_indexer,col_indexer] = value instead\n",
            "\n",
            "See the caveats in the documentation: https://pandas.pydata.org/pandas-docs/stable/user_guide/indexing.html#returning-a-view-versus-a-copy\n",
            "  train_data['document'] = train_data['document'].str.replace(\"[^ㄱ-ㅎㅏ-ㅣ가-힣 ]\",\"\")\n"
          ]
        },
        {
          "data": {
            "text/html": [
              "<div>\n",
              "<style scoped>\n",
              "    .dataframe tbody tr th:only-of-type {\n",
              "        vertical-align: middle;\n",
              "    }\n",
              "\n",
              "    .dataframe tbody tr th {\n",
              "        vertical-align: top;\n",
              "    }\n",
              "\n",
              "    .dataframe thead th {\n",
              "        text-align: right;\n",
              "    }\n",
              "</style>\n",
              "<table border=\"1\" class=\"dataframe\">\n",
              "  <thead>\n",
              "    <tr style=\"text-align: right;\">\n",
              "      <th></th>\n",
              "      <th>id</th>\n",
              "      <th>document</th>\n",
              "      <th>label</th>\n",
              "    </tr>\n",
              "  </thead>\n",
              "  <tbody>\n",
              "    <tr>\n",
              "      <th>0</th>\n",
              "      <td>9976970</td>\n",
              "      <td>아 더빙 진짜 짜증나네요 목소리</td>\n",
              "      <td>0</td>\n",
              "    </tr>\n",
              "    <tr>\n",
              "      <th>1</th>\n",
              "      <td>3819312</td>\n",
              "      <td>흠포스터보고 초딩영화줄오버연기조차 가볍지 않구나</td>\n",
              "      <td>1</td>\n",
              "    </tr>\n",
              "    <tr>\n",
              "      <th>2</th>\n",
              "      <td>10265843</td>\n",
              "      <td>너무재밓었다그래서보는것을추천한다</td>\n",
              "      <td>0</td>\n",
              "    </tr>\n",
              "    <tr>\n",
              "      <th>3</th>\n",
              "      <td>9045019</td>\n",
              "      <td>교도소 이야기구먼 솔직히 재미는 없다평점 조정</td>\n",
              "      <td>0</td>\n",
              "    </tr>\n",
              "    <tr>\n",
              "      <th>4</th>\n",
              "      <td>6483659</td>\n",
              "      <td>사이몬페그의 익살스런 연기가 돋보였던 영화스파이더맨에서 늙어보이기만 했던 커스틴 던...</td>\n",
              "      <td>1</td>\n",
              "    </tr>\n",
              "  </tbody>\n",
              "</table>\n",
              "</div>"
            ],
            "text/plain": [
              "         id                                           document  label\n",
              "0   9976970                                  아 더빙 진짜 짜증나네요 목소리      0\n",
              "1   3819312                         흠포스터보고 초딩영화줄오버연기조차 가볍지 않구나      1\n",
              "2  10265843                                  너무재밓었다그래서보는것을추천한다      0\n",
              "3   9045019                          교도소 이야기구먼 솔직히 재미는 없다평점 조정      0\n",
              "4   6483659  사이몬페그의 익살스런 연기가 돋보였던 영화스파이더맨에서 늙어보이기만 했던 커스틴 던...      1"
            ]
          },
          "execution_count": 32,
          "metadata": {},
          "output_type": "execute_result"
        }
      ],
      "source": [
        "# 한글과 공백을 제외하고 모두 제거\n",
        "train_data['document'] = train_data['document'].str.replace(\"[^ㄱ-ㅎㅏ-ㅣ가-힣 ]\",\"\")\n",
        "train_data[:5]"
      ]
    },
    {
      "cell_type": "code",
      "execution_count": null,
      "id": "8603f897",
      "metadata": {
        "id": "8603f897",
        "outputId": "b2884006-5f3b-464e-e7eb-e03610510d40"
      },
      "outputs": [
        {
          "name": "stdout",
          "output_type": "stream",
          "text": [
            "id            0\n",
            "document    789\n",
            "label         0\n",
            "dtype: int64\n"
          ]
        },
        {
          "name": "stderr",
          "output_type": "stream",
          "text": [
            "/tmp/ipykernel_30/2260017223.py:1: FutureWarning: The default value of regex will change from True to False in a future version.\n",
            "  train_data['document'] = train_data['document'].str.replace('^ +', \"\") # white space 데이터를 empty value로 변경\n",
            "/tmp/ipykernel_30/2260017223.py:1: SettingWithCopyWarning: \n",
            "A value is trying to be set on a copy of a slice from a DataFrame.\n",
            "Try using .loc[row_indexer,col_indexer] = value instead\n",
            "\n",
            "See the caveats in the documentation: https://pandas.pydata.org/pandas-docs/stable/user_guide/indexing.html#returning-a-view-versus-a-copy\n",
            "  train_data['document'] = train_data['document'].str.replace('^ +', \"\") # white space 데이터를 empty value로 변경\n",
            "/opt/conda/lib/python3.9/site-packages/pandas/core/generic.py:6619: SettingWithCopyWarning: \n",
            "A value is trying to be set on a copy of a slice from a DataFrame\n",
            "\n",
            "See the caveats in the documentation: https://pandas.pydata.org/pandas-docs/stable/user_guide/indexing.html#returning-a-view-versus-a-copy\n",
            "  return self._update_inplace(result)\n"
          ]
        }
      ],
      "source": [
        "train_data['document'] = train_data['document'].str.replace('^ +', \"\") # white space 데이터를 empty value로 변경\n",
        "train_data['document'].replace('', np.nan, inplace=True)\n",
        "print(train_data.isnull().sum())"
      ]
    },
    {
      "cell_type": "code",
      "execution_count": null,
      "id": "1482b215",
      "metadata": {
        "id": "1482b215",
        "outputId": "6b38b77d-0a43-4638-e5d8-92c66165a346"
      },
      "outputs": [
        {
          "data": {
            "text/html": [
              "<div>\n",
              "<style scoped>\n",
              "    .dataframe tbody tr th:only-of-type {\n",
              "        vertical-align: middle;\n",
              "    }\n",
              "\n",
              "    .dataframe tbody tr th {\n",
              "        vertical-align: top;\n",
              "    }\n",
              "\n",
              "    .dataframe thead th {\n",
              "        text-align: right;\n",
              "    }\n",
              "</style>\n",
              "<table border=\"1\" class=\"dataframe\">\n",
              "  <thead>\n",
              "    <tr style=\"text-align: right;\">\n",
              "      <th></th>\n",
              "      <th>id</th>\n",
              "      <th>document</th>\n",
              "      <th>label</th>\n",
              "    </tr>\n",
              "  </thead>\n",
              "  <tbody>\n",
              "    <tr>\n",
              "      <th>404</th>\n",
              "      <td>4221289</td>\n",
              "      <td>NaN</td>\n",
              "      <td>0</td>\n",
              "    </tr>\n",
              "    <tr>\n",
              "      <th>412</th>\n",
              "      <td>9509970</td>\n",
              "      <td>NaN</td>\n",
              "      <td>1</td>\n",
              "    </tr>\n",
              "    <tr>\n",
              "      <th>470</th>\n",
              "      <td>10147571</td>\n",
              "      <td>NaN</td>\n",
              "      <td>1</td>\n",
              "    </tr>\n",
              "    <tr>\n",
              "      <th>584</th>\n",
              "      <td>7117896</td>\n",
              "      <td>NaN</td>\n",
              "      <td>0</td>\n",
              "    </tr>\n",
              "    <tr>\n",
              "      <th>593</th>\n",
              "      <td>6478189</td>\n",
              "      <td>NaN</td>\n",
              "      <td>0</td>\n",
              "    </tr>\n",
              "  </tbody>\n",
              "</table>\n",
              "</div>"
            ],
            "text/plain": [
              "           id document  label\n",
              "404   4221289      NaN      0\n",
              "412   9509970      NaN      1\n",
              "470  10147571      NaN      1\n",
              "584   7117896      NaN      0\n",
              "593   6478189      NaN      0"
            ]
          },
          "execution_count": 34,
          "metadata": {},
          "output_type": "execute_result"
        }
      ],
      "source": [
        "# 특수문자 및 공백 처리 후 null값 확인\n",
        "train_data.loc[train_data.document.isnull()][:5]"
      ]
    },
    {
      "cell_type": "code",
      "execution_count": null,
      "id": "e97c8630",
      "metadata": {
        "id": "e97c8630",
        "outputId": "6f75f636-92a4-442b-bf28-74c205fca911"
      },
      "outputs": [
        {
          "name": "stdout",
          "output_type": "stream",
          "text": [
            "145393\n"
          ]
        }
      ],
      "source": [
        "# 잔여 null값 제거\n",
        "train_data = train_data.dropna(how = 'any')\n",
        "print(len(train_data))"
      ]
    },
    {
      "cell_type": "markdown",
      "id": "9f1a8532",
      "metadata": {
        "id": "9f1a8532"
      },
      "source": [
        "## 1-3 불용어 처리"
      ]
    },
    {
      "cell_type": "code",
      "execution_count": null,
      "id": "c88cd185",
      "metadata": {
        "id": "c88cd185"
      },
      "outputs": [],
      "source": [
        "# 불용어 설정\n",
        "stopwords = ['의','가','이','은','들','는','좀','잘','걍','과','도','를','으로','자','에','와','한','하다']"
      ]
    },
    {
      "cell_type": "code",
      "execution_count": null,
      "id": "efef63b9",
      "metadata": {
        "id": "efef63b9",
        "outputId": "0a7706b1-e96d-444c-f1eb-9e3fddb14344"
      },
      "outputs": [
        {
          "data": {
            "text/html": [
              "<div>\n",
              "<style scoped>\n",
              "    .dataframe tbody tr th:only-of-type {\n",
              "        vertical-align: middle;\n",
              "    }\n",
              "\n",
              "    .dataframe tbody tr th {\n",
              "        vertical-align: top;\n",
              "    }\n",
              "\n",
              "    .dataframe thead th {\n",
              "        text-align: right;\n",
              "    }\n",
              "</style>\n",
              "<table border=\"1\" class=\"dataframe\">\n",
              "  <thead>\n",
              "    <tr style=\"text-align: right;\">\n",
              "      <th></th>\n",
              "      <th>id</th>\n",
              "      <th>document</th>\n",
              "      <th>label</th>\n",
              "    </tr>\n",
              "  </thead>\n",
              "  <tbody>\n",
              "    <tr>\n",
              "      <th>0</th>\n",
              "      <td>9976970</td>\n",
              "      <td>아 더빙 진짜 짜증나네요 목소리</td>\n",
              "      <td>0</td>\n",
              "    </tr>\n",
              "    <tr>\n",
              "      <th>1</th>\n",
              "      <td>3819312</td>\n",
              "      <td>흠포스터보고 초딩영화줄오버연기조차 가볍지 않구나</td>\n",
              "      <td>1</td>\n",
              "    </tr>\n",
              "    <tr>\n",
              "      <th>2</th>\n",
              "      <td>10265843</td>\n",
              "      <td>너무재밓었다그래서보는것을추천한다</td>\n",
              "      <td>0</td>\n",
              "    </tr>\n",
              "    <tr>\n",
              "      <th>3</th>\n",
              "      <td>9045019</td>\n",
              "      <td>교도소 이야기구먼 솔직히 재미는 없다평점 조정</td>\n",
              "      <td>0</td>\n",
              "    </tr>\n",
              "    <tr>\n",
              "      <th>4</th>\n",
              "      <td>6483659</td>\n",
              "      <td>사이몬페그의 익살스런 연기가 돋보였던 영화스파이더맨에서 늙어보이기만 했던 커스틴 던...</td>\n",
              "      <td>1</td>\n",
              "    </tr>\n",
              "    <tr>\n",
              "      <th>...</th>\n",
              "      <td>...</td>\n",
              "      <td>...</td>\n",
              "      <td>...</td>\n",
              "    </tr>\n",
              "    <tr>\n",
              "      <th>149995</th>\n",
              "      <td>6222902</td>\n",
              "      <td>인간이 문제지 소는 뭔죄인가</td>\n",
              "      <td>0</td>\n",
              "    </tr>\n",
              "    <tr>\n",
              "      <th>149996</th>\n",
              "      <td>8549745</td>\n",
              "      <td>평점이 너무 낮아서</td>\n",
              "      <td>1</td>\n",
              "    </tr>\n",
              "    <tr>\n",
              "      <th>149997</th>\n",
              "      <td>9311800</td>\n",
              "      <td>이게 뭐요 한국인은 거들먹거리고 필리핀 혼혈은 착하다</td>\n",
              "      <td>0</td>\n",
              "    </tr>\n",
              "    <tr>\n",
              "      <th>149998</th>\n",
              "      <td>2376369</td>\n",
              "      <td>청춘 영화의 최고봉방황과 우울했던 날들의 자화상</td>\n",
              "      <td>1</td>\n",
              "    </tr>\n",
              "    <tr>\n",
              "      <th>149999</th>\n",
              "      <td>9619869</td>\n",
              "      <td>한국 영화 최초로 수간하는 내용이 담긴 영화</td>\n",
              "      <td>0</td>\n",
              "    </tr>\n",
              "  </tbody>\n",
              "</table>\n",
              "<p>145393 rows × 3 columns</p>\n",
              "</div>"
            ],
            "text/plain": [
              "              id                                           document  label\n",
              "0        9976970                                  아 더빙 진짜 짜증나네요 목소리      0\n",
              "1        3819312                         흠포스터보고 초딩영화줄오버연기조차 가볍지 않구나      1\n",
              "2       10265843                                  너무재밓었다그래서보는것을추천한다      0\n",
              "3        9045019                          교도소 이야기구먼 솔직히 재미는 없다평점 조정      0\n",
              "4        6483659  사이몬페그의 익살스런 연기가 돋보였던 영화스파이더맨에서 늙어보이기만 했던 커스틴 던...      1\n",
              "...          ...                                                ...    ...\n",
              "149995   6222902                                    인간이 문제지 소는 뭔죄인가      0\n",
              "149996   8549745                                         평점이 너무 낮아서      1\n",
              "149997   9311800                      이게 뭐요 한국인은 거들먹거리고 필리핀 혼혈은 착하다      0\n",
              "149998   2376369                         청춘 영화의 최고봉방황과 우울했던 날들의 자화상      1\n",
              "149999   9619869                           한국 영화 최초로 수간하는 내용이 담긴 영화      0\n",
              "\n",
              "[145393 rows x 3 columns]"
            ]
          },
          "execution_count": 135,
          "metadata": {},
          "output_type": "execute_result"
        }
      ],
      "source": [
        "train_data"
      ]
    },
    {
      "cell_type": "markdown",
      "id": "82210a6b",
      "metadata": {
        "id": "82210a6b"
      },
      "source": [
        "## 1-4 Sentence Piece 생성 및 토큰화"
      ]
    },
    {
      "cell_type": "code",
      "execution_count": null,
      "id": "832b9758",
      "metadata": {
        "id": "832b9758"
      },
      "outputs": [],
      "source": [
        "#전처리된 document를 저장\n",
        "with open('naver_review.txt', 'w', encoding='utf8') as f:\n",
        "    f.write('\\n'.join(train_data['document']))"
      ]
    },
    {
      "cell_type": "code",
      "execution_count": null,
      "id": "443b7be2",
      "metadata": {
        "id": "443b7be2",
        "outputId": "1aa45f7d-461f-4ff8-995d-2c69d25ec512"
      },
      "outputs": [
        {
          "name": "stderr",
          "output_type": "stream",
          "text": [
            "sentencepiece_trainer.cc(177) LOG(INFO) Running command: --input=naver_review.txt --model_prefix=korean_spm --vocab_size=8000\n",
            "sentencepiece_trainer.cc(77) LOG(INFO) Starts training with : \n",
            "trainer_spec {\n",
            "  input: naver_review.txt\n",
            "  input_format: \n",
            "  model_prefix: korean_spm\n",
            "  model_type: UNIGRAM\n",
            "  vocab_size: 8000\n",
            "  self_test_sample_size: 0\n",
            "  character_coverage: 0.9995\n",
            "  input_sentence_size: 0\n",
            "  shuffle_input_sentence: 1\n",
            "  seed_sentencepiece_size: 1000000\n",
            "  shrinking_factor: 0.75\n",
            "  max_sentence_length: 4192\n",
            "  num_threads: 16\n",
            "  num_sub_iterations: 2\n",
            "  max_sentencepiece_length: 16\n",
            "  split_by_unicode_script: 1\n",
            "  split_by_number: 1\n",
            "  split_by_whitespace: 1\n",
            "  split_digits: 0\n",
            "  treat_whitespace_as_suffix: 0\n",
            "  allow_whitespace_only_pieces: 0\n",
            "  required_chars: \n",
            "  byte_fallback: 0\n",
            "  vocabulary_output_piece_score: 1\n",
            "  train_extremely_large_corpus: 0\n",
            "  hard_vocab_limit: 1\n",
            "  use_all_vocab: 0\n",
            "  unk_id: 0\n",
            "  bos_id: 1\n",
            "  eos_id: 2\n",
            "  pad_id: -1\n",
            "  unk_piece: <unk>\n",
            "  bos_piece: <s>\n",
            "  eos_piece: </s>\n",
            "  pad_piece: <pad>\n",
            "  unk_surface:  ⁇ \n",
            "}\n",
            "normalizer_spec {\n",
            "  name: nmt_nfkc\n",
            "  add_dummy_prefix: 1\n",
            "  remove_extra_whitespaces: 1\n",
            "  escape_whitespaces: 1\n",
            "  normalization_rule_tsv: \n",
            "}\n",
            "denormalizer_spec {}\n",
            "trainer_interface.cc(329) LOG(INFO) SentenceIterator is not specified. Using MultiFileSentenceIterator.\n",
            "trainer_interface.cc(178) LOG(INFO) Loading corpus: naver_review.txt\n",
            "trainer_interface.cc(385) LOG(INFO) Loaded all 145393 sentences\n",
            "trainer_interface.cc(400) LOG(INFO) Adding meta_piece: <unk>\n",
            "trainer_interface.cc(400) LOG(INFO) Adding meta_piece: <s>\n",
            "trainer_interface.cc(400) LOG(INFO) Adding meta_piece: </s>\n",
            "trainer_interface.cc(405) LOG(INFO) Normalizing sentences...\n",
            "trainer_interface.cc(466) LOG(INFO) all chars count=4944911\n",
            "trainer_interface.cc(477) LOG(INFO) Done: 99.95% characters are covered.\n",
            "trainer_interface.cc(487) LOG(INFO) Alphabet size=1550\n",
            "trainer_interface.cc(488) LOG(INFO) Final character coverage=0.9995\n",
            "trainer_interface.cc(520) LOG(INFO) Done! preprocessed 145393 sentences.\n",
            "unigram_model_trainer.cc(139) LOG(INFO) Making suffix array...\n",
            "unigram_model_trainer.cc(143) LOG(INFO) Extracting frequent sub strings...\n",
            "unigram_model_trainer.cc(194) LOG(INFO) Initialized 317695 seed sentencepieces\n",
            "trainer_interface.cc(526) LOG(INFO) Tokenizing input sentences with whitespace: 145393\n",
            "trainer_interface.cc(537) LOG(INFO) Done! 299292\n",
            "unigram_model_trainer.cc(489) LOG(INFO) Using 299292 sentences for EM training\n",
            "unigram_model_trainer.cc(505) LOG(INFO) EM sub_iter=0 size=154308 obj=13.9864 num_tokens=624105 num_tokens/piece=4.04454\n",
            "unigram_model_trainer.cc(505) LOG(INFO) EM sub_iter=1 size=142006 obj=13.0761 num_tokens=627169 num_tokens/piece=4.4165\n",
            "unigram_model_trainer.cc(505) LOG(INFO) EM sub_iter=0 size=106439 obj=13.1581 num_tokens=658989 num_tokens/piece=6.19124\n",
            "unigram_model_trainer.cc(505) LOG(INFO) EM sub_iter=1 size=106198 obj=13.1042 num_tokens=659398 num_tokens/piece=6.20914\n",
            "unigram_model_trainer.cc(505) LOG(INFO) EM sub_iter=0 size=79643 obj=13.3211 num_tokens=698587 num_tokens/piece=8.77148\n",
            "unigram_model_trainer.cc(505) LOG(INFO) EM sub_iter=1 size=79634 obj=13.2608 num_tokens=698754 num_tokens/piece=8.77457\n",
            "unigram_model_trainer.cc(505) LOG(INFO) EM sub_iter=0 size=59725 obj=13.498 num_tokens=735665 num_tokens/piece=12.3175\n",
            "unigram_model_trainer.cc(505) LOG(INFO) EM sub_iter=1 size=59725 obj=13.4376 num_tokens=735673 num_tokens/piece=12.3177\n",
            "unigram_model_trainer.cc(505) LOG(INFO) EM sub_iter=0 size=44793 obj=13.7112 num_tokens=774873 num_tokens/piece=17.299\n",
            "unigram_model_trainer.cc(505) LOG(INFO) EM sub_iter=1 size=44793 obj=13.6487 num_tokens=774896 num_tokens/piece=17.2995\n",
            "unigram_model_trainer.cc(505) LOG(INFO) EM sub_iter=0 size=33594 obj=13.9502 num_tokens=814972 num_tokens/piece=24.2595\n",
            "unigram_model_trainer.cc(505) LOG(INFO) EM sub_iter=1 size=33594 obj=13.8865 num_tokens=814956 num_tokens/piece=24.259\n",
            "unigram_model_trainer.cc(505) LOG(INFO) EM sub_iter=0 size=25195 obj=14.2185 num_tokens=855998 num_tokens/piece=33.9749\n",
            "unigram_model_trainer.cc(505) LOG(INFO) EM sub_iter=1 size=25195 obj=14.1493 num_tokens=856090 num_tokens/piece=33.9786\n",
            "unigram_model_trainer.cc(505) LOG(INFO) EM sub_iter=0 size=18896 obj=14.5122 num_tokens=899658 num_tokens/piece=47.611\n",
            "unigram_model_trainer.cc(505) LOG(INFO) EM sub_iter=1 size=18896 obj=14.4347 num_tokens=899747 num_tokens/piece=47.6157\n",
            "unigram_model_trainer.cc(505) LOG(INFO) EM sub_iter=0 size=14172 obj=14.8297 num_tokens=944864 num_tokens/piece=66.6712\n",
            "unigram_model_trainer.cc(505) LOG(INFO) EM sub_iter=1 size=14172 obj=14.7422 num_tokens=944875 num_tokens/piece=66.672\n",
            "unigram_model_trainer.cc(505) LOG(INFO) EM sub_iter=0 size=10629 obj=15.1831 num_tokens=993298 num_tokens/piece=93.4517\n",
            "unigram_model_trainer.cc(505) LOG(INFO) EM sub_iter=1 size=10629 obj=15.0777 num_tokens=993452 num_tokens/piece=93.4662\n",
            "unigram_model_trainer.cc(505) LOG(INFO) EM sub_iter=0 size=8800 obj=15.3793 num_tokens=1025495 num_tokens/piece=116.534\n",
            "unigram_model_trainer.cc(505) LOG(INFO) EM sub_iter=1 size=8800 obj=15.3119 num_tokens=1025685 num_tokens/piece=116.555\n",
            "trainer_interface.cc(615) LOG(INFO) Saving model: korean_spm.model\n",
            "trainer_interface.cc(626) LOG(INFO) Saving vocabs: korean_spm.vocab\n"
          ]
        },
        {
          "name": "stdout",
          "output_type": "stream",
          "text": [
            "-rw-r--r-- 1 root root 377765 Nov  7 05:44 korean_spm.model\r\n",
            "-rw-r--r-- 1 root root 147291 Nov  7 05:44 korean_spm.vocab\r\n"
          ]
        }
      ],
      "source": [
        "#해당파일을 호출하여 학습진행\n",
        "\n",
        "temp_file = 'naver_review.txt'\n",
        "vocab_size = 8000\n",
        "\n",
        "spm.SentencePieceTrainer.Train(\n",
        "    '--input={} --model_prefix=korean_spm --vocab_size={}'.format(temp_file, vocab_size)\n",
        ")\n",
        "#위 Train에서  --model_type = unigram이 디폴트 적용되어 있습니다. --model_type = bpe로 옵션을 주어 변경할 수 있습니다.\n",
        "\n",
        "!ls -l korean_spm*"
      ]
    },
    {
      "cell_type": "code",
      "execution_count": null,
      "id": "222f935c",
      "metadata": {
        "id": "222f935c",
        "outputId": "07267ac9-c9cf-4e3b-e88c-ea1a52418fed"
      },
      "outputs": [
        {
          "data": {
            "text/html": [
              "<div>\n",
              "<style scoped>\n",
              "    .dataframe tbody tr th:only-of-type {\n",
              "        vertical-align: middle;\n",
              "    }\n",
              "\n",
              "    .dataframe tbody tr th {\n",
              "        vertical-align: top;\n",
              "    }\n",
              "\n",
              "    .dataframe thead th {\n",
              "        text-align: right;\n",
              "    }\n",
              "</style>\n",
              "<table border=\"1\" class=\"dataframe\">\n",
              "  <thead>\n",
              "    <tr style=\"text-align: right;\">\n",
              "      <th></th>\n",
              "      <th>0</th>\n",
              "      <th>1</th>\n",
              "    </tr>\n",
              "  </thead>\n",
              "  <tbody>\n",
              "    <tr>\n",
              "      <th>0</th>\n",
              "      <td>&lt;unk&gt;</td>\n",
              "      <td>0.00000</td>\n",
              "    </tr>\n",
              "    <tr>\n",
              "      <th>1</th>\n",
              "      <td>&lt;s&gt;</td>\n",
              "      <td>0.00000</td>\n",
              "    </tr>\n",
              "    <tr>\n",
              "      <th>2</th>\n",
              "      <td>&lt;/s&gt;</td>\n",
              "      <td>0.00000</td>\n",
              "    </tr>\n",
              "    <tr>\n",
              "      <th>3</th>\n",
              "      <td>▁</td>\n",
              "      <td>-3.35737</td>\n",
              "    </tr>\n",
              "    <tr>\n",
              "      <th>4</th>\n",
              "      <td>이</td>\n",
              "      <td>-4.28745</td>\n",
              "    </tr>\n",
              "  </tbody>\n",
              "</table>\n",
              "</div>"
            ],
            "text/plain": [
              "       0        1\n",
              "0  <unk>  0.00000\n",
              "1    <s>  0.00000\n",
              "2   </s>  0.00000\n",
              "3      ▁ -3.35737\n",
              "4      이 -4.28745"
            ]
          },
          "execution_count": 208,
          "metadata": {},
          "output_type": "execute_result"
        }
      ],
      "source": [
        "import csv\n",
        "vocab_list = pd.read_csv('korean_spm.vocab', sep='\\t', header=None, quoting=csv.QUOTE_NONE)"
      ]
    },
    {
      "cell_type": "code",
      "execution_count": null,
      "id": "14428e48",
      "metadata": {
        "id": "14428e48",
        "outputId": "eb8571d2-fd48-4f0d-e61c-7ee15f702066"
      },
      "outputs": [
        {
          "data": {
            "text/plain": [
              "8000"
            ]
          },
          "execution_count": 212,
          "metadata": {},
          "output_type": "execute_result"
        }
      ],
      "source": [
        "len(vocab_list)"
      ]
    },
    {
      "cell_type": "code",
      "execution_count": null,
      "id": "f67ebadd",
      "metadata": {
        "id": "f67ebadd",
        "outputId": "c296f6ba-1d8f-4529-cc20-1aeb65931a3f"
      },
      "outputs": [
        {
          "name": "stdout",
          "output_type": "stream",
          "text": [
            "[141, 106, 2611, 912, 4856, 4, 4856, 752, 69, 554, 514, 2648]\n",
            "['▁아', '▁더', '빙', '▁진', '짜', '▁', '짜', '증', '나', '네', '요', '▁목소리']\n",
            "아 더빙 진짜 짜증나네요 목소리\n"
          ]
        }
      ],
      "source": [
        "# SentencePiece를 활용한 sentence -> encoding\n",
        "tokensIDs = s.EncodeAsIds(train_data['document'][0])\n",
        "print(tokensIDs)\n",
        "\n",
        "# SentencePiece를 활용한 sentence -> encoded pieces\n",
        "print(s.SampleEncodeAsPieces(train_data['document'][0],1, 0.0))\n",
        "\n",
        "# SentencePiece를 활용한 encoding -> sentence 복원\n",
        "print(s.DecodeIds(tokensIDs))"
      ]
    },
    {
      "cell_type": "code",
      "execution_count": null,
      "id": "760ee72e",
      "metadata": {
        "id": "760ee72e",
        "outputId": "228915e5-a56d-4f00-bf79-c51301c8d201"
      },
      "outputs": [
        {
          "name": "stderr",
          "output_type": "stream",
          "text": [
            "100%|██████████| 145393/145393 [00:04<00:00, 36094.31it/s]\n",
            "100%|██████████| 48852/48852 [00:01<00:00, 35834.93it/s]\n"
          ]
        }
      ],
      "source": [
        "X_sp_train = []\n",
        "for sentence in tqdm(train_data['document']):\n",
        "    tokenized_sentence = s.SampleEncodeAsPieces(sentence,1, 0.0)\n",
        "    stopwords_removed_sentence = [word for word in tokenized_sentence if not word in stopwords] # 불용어 제거\n",
        "    X_sp_train.append(stopwords_removed_sentence)\n",
        "\n",
        "X_sp_test = []\n",
        "for sentence in tqdm(test_data['document']):\n",
        "    tokenized_sentence = s.SampleEncodeAsPieces(sentence,1, 0.0)\n",
        "    stopwords_removed_sentence = [word for word in tokenized_sentence if not word in stopwords] # 불용어 제거\n",
        "    X_sp_test.append(stopwords_removed_sentence)\n",
        ""
      ]
    },
    {
      "cell_type": "code",
      "execution_count": null,
      "id": "7a0febe7",
      "metadata": {
        "id": "7a0febe7"
      },
      "outputs": [],
      "source": [
        "tokenizer_sp = Tokenizer()\n",
        "tokenizer_sp.fit_on_texts(X_sp_train)"
      ]
    },
    {
      "cell_type": "code",
      "execution_count": null,
      "id": "510fb30b",
      "metadata": {
        "id": "510fb30b",
        "outputId": "bd5272f9-1b50-413e-e88c-bce536d01c9b"
      },
      "outputs": [
        {
          "data": {
            "text/plain": [
              "8990"
            ]
          },
          "execution_count": 264,
          "metadata": {},
          "output_type": "execute_result"
        }
      ],
      "source": [
        "len(tokenizer_sp.word_index)"
      ]
    },
    {
      "cell_type": "markdown",
      "id": "076478b1",
      "metadata": {
        "id": "076478b1"
      },
      "source": [
        "- [konlpy 태그 링크](https://konlpy.org/ko/latest/api/konlpy.tag/)\n",
        "- 매개변수의 경우 okt만 원형으로 출력하는 stem옵션이 있음"
      ]
    },
    {
      "cell_type": "markdown",
      "id": "a160d672",
      "metadata": {
        "id": "a160d672"
      },
      "source": [
        "# 2. Konlpy 형태소 분석기 호출 및 전처리"
      ]
    },
    {
      "cell_type": "code",
      "execution_count": null,
      "id": "6ba2ac2a",
      "metadata": {
        "id": "6ba2ac2a",
        "outputId": "1e091e3f-8c58-4521-e663-666e60482247"
      },
      "outputs": [
        {
          "name": "stdout",
          "output_type": "stream",
          "text": [
            "['오다', '이렇다', '것', '도', '영화', '라고', '차라리', '뮤직비디오', '를', '만들다', '게', '나다', '뻔']\n",
            "['오', '아', '이런', '것', '도', '영화', '이', '라', '고', '차라리', '뮤직비디오', '를', '만들', '는', '것', '이', '나', 'ㄹ', '뻔']\n",
            "['오', '아', '이렇', 'ㄴ', '것', '도', '영화', '라고', '차라리', '뮤직', '비디오', '를', '만들', '는', '것', '이', '낫', '을', '뻔']\n",
            "['오', '아', '이런', '것', '도', '영화', '이', '라고', '차라리', '뮤직비디오', '를', '만들', '는', '게', '나', '을', '뻔']\n",
            "['와', '이런', '것', '도', '영화', '라고', '차라리', '뮤직', '비디오', '를', '만드', '는', '게', '나을', '뻔']\n",
            "['▁', '와', '▁이런', '▁것', '도', '▁영화', '라고', '▁차', '라', '리', '▁', '뮤', '직', '비', '디', '오', '를', '▁만드는', '▁게', '▁나', '을', '▁', '뻔']\n"
          ]
        }
      ],
      "source": [
        "#토크나이저 호출\n",
        "from konlpy.tag import Hannanum,Kkma,Komoran,Mecab,Okt\n",
        "okt = Okt()\n",
        "han = Hannanum()\n",
        "kkma = Kkma()\n",
        "komo = Komoran()\n",
        "mec = Mecab()\n",
        "\n",
        "print(okt.morphs('와 이런 것도 영화라고 차라리 뮤직비디오를 만드는 게 나을 뻔', stem = True))\n",
        "print(han.morphs('와 이런 것도 영화라고 차라리 뮤직비디오를 만드는 게 나을 뻔'))\n",
        "print(kkma.morphs('와 이런 것도 영화라고 차라리 뮤직비디오를 만드는 게 나을 뻔'))\n",
        "print(komo.morphs('와 이런 것도 영화라고 차라리 뮤직비디오를 만드는 게 나을 뻔'))\n",
        "print(mec.morphs('와 이런 것도 영화라고 차라리 뮤직비디오를 만드는 게 나을 뻔'))\n",
        "print(s.SampleEncodeAsPieces('와 이런 것도 영화라고 차라리 뮤직비디오를 만드는 게 나을 뻔',1, 0.0))"
      ]
    },
    {
      "cell_type": "code",
      "execution_count": null,
      "id": "e72d43fd",
      "metadata": {
        "id": "e72d43fd",
        "outputId": "5c145630-c1f3-43ab-ebf1-3e365afddc1b"
      },
      "outputs": [
        {
          "name": "stdout",
          "output_type": "stream",
          "text": [
            "전처리 후 테스트용 샘플의 개수 : 48852\n"
          ]
        },
        {
          "name": "stderr",
          "output_type": "stream",
          "text": [
            "/tmp/ipykernel_30/3570305079.py:2: FutureWarning: The default value of regex will change from True to False in a future version.\n",
            "  test_data['document'] = test_data['document'].str.replace(\"[^ㄱ-ㅎㅏ-ㅣ가-힣 ]\",\"\") # 정규 표현식 수행\n",
            "/tmp/ipykernel_30/3570305079.py:3: FutureWarning: The default value of regex will change from True to False in a future version.\n",
            "  test_data['document'] = test_data['document'].str.replace('^ +', \"\") # 공백은 empty 값으로 변경\n"
          ]
        }
      ],
      "source": [
        "# test데이터의 가공\n",
        "test_data.drop_duplicates(subset = ['document'], inplace=True) # document 열에서 중복인 내용이 있다면 중복 제거\n",
        "test_data['document'] = test_data['document'].str.replace(\"[^ㄱ-ㅎㅏ-ㅣ가-힣 ]\",\"\") # 정규 표현식 수행\n",
        "test_data['document'] = test_data['document'].str.replace('^ +', \"\") # 공백은 empty 값으로 변경\n",
        "test_data['document'].replace('', np.nan, inplace=True) # 공백은 Null 값으로 변경\n",
        "test_data = test_data.dropna(how='any') # Null 값 제거\n",
        "print('전처리 후 테스트용 샘플의 개수 :',len(test_data))"
      ]
    },
    {
      "cell_type": "code",
      "execution_count": null,
      "id": "9f07e27c",
      "metadata": {
        "id": "9f07e27c",
        "outputId": "d5b7227b-3584-4e46-8b32-56475adda28c"
      },
      "outputs": [
        {
          "name": "stderr",
          "output_type": "stream",
          "text": [
            "100%|██████████| 145393/145393 [11:58<00:00, 202.28it/s]\n",
            "100%|██████████| 48852/48852 [04:13<00:00, 192.44it/s]\n"
          ]
        }
      ],
      "source": [
        "#okt 토크나이저\n",
        "from tqdm import tqdm\n",
        "X_okt_train = []\n",
        "for sentence in tqdm(train_data['document']):\n",
        "    tokenized_sentence = okt.morphs(sentence, stem=True) # 토큰화\n",
        "    stopwords_removed_sentence = [word for word in tokenized_sentence if not word in stopwords] # 불용어 제거\n",
        "    X_okt_train.append(stopwords_removed_sentence)\n",
        "\n",
        "X_okt_test = []\n",
        "for sentence in tqdm(test_data['document']):\n",
        "    tokenized_sentence = okt.morphs(sentence, stem=True) # 토큰화\n",
        "    stopwords_removed_sentence = [word for word in tokenized_sentence if not word in stopwords] # 불용어 제거\n",
        "    X_okt_test.append(stopwords_removed_sentence)"
      ]
    },
    {
      "cell_type": "code",
      "execution_count": null,
      "id": "15464aa2",
      "metadata": {
        "id": "15464aa2",
        "outputId": "f002a7da-3b63-45a8-8b1e-4614c6c069e0"
      },
      "outputs": [
        {
          "name": "stderr",
          "output_type": "stream",
          "text": [
            "  5%|▍         | 6944/145393 [00:35<15:16, 151.07it/s]java.lang.ArrayIndexOutOfBoundsException\n",
            " 11%|█         | 16041/145393 [01:23<06:37, 325.79it/s]java.lang.ArrayIndexOutOfBoundsException\n",
            " 17%|█▋        | 24460/145393 [02:06<14:55, 135.03it/s]java.lang.ArrayIndexOutOfBoundsException\n",
            " 18%|█▊        | 25600/145393 [02:13<24:28, 81.59it/s] java.lang.ArrayIndexOutOfBoundsException\n",
            " 31%|███       | 44466/145393 [03:54<20:48, 80.82it/s] java.lang.ArrayIndexOutOfBoundsException\n",
            " 39%|███▉      | 56568/145393 [04:56<10:01, 147.74it/s]java.lang.ArrayIndexOutOfBoundsException\n",
            " 40%|████      | 58618/145393 [05:06<06:02, 239.59it/s]java.lang.ArrayIndexOutOfBoundsException\n",
            " 43%|████▎     | 62140/145393 [05:26<06:31, 212.84it/s]java.lang.ArrayIndexOutOfBoundsException\n",
            " 52%|█████▏    | 75242/145393 [06:35<04:36, 253.67it/s]java.lang.ArrayIndexOutOfBoundsException\n",
            " 56%|█████▌    | 81370/145393 [07:09<09:33, 111.69it/s]java.lang.ArrayIndexOutOfBoundsException\n",
            " 57%|█████▋    | 82296/145393 [07:14<04:00, 262.78it/s]java.lang.ArrayIndexOutOfBoundsException\n",
            " 60%|█████▉    | 86553/145393 [07:38<08:50, 110.94it/s]java.lang.ArrayIndexOutOfBoundsException\n",
            " 60%|██████    | 87562/145393 [07:46<10:06, 95.34it/s] java.lang.ArrayIndexOutOfBoundsException\n",
            " 64%|██████▍   | 93422/145393 [08:18<02:53, 299.35it/s]java.lang.ArrayIndexOutOfBoundsException\n",
            " 66%|██████▌   | 95876/145393 [08:31<05:45, 143.13it/s]java.lang.ArrayIndexOutOfBoundsException\n",
            " 67%|██████▋   | 97971/145393 [08:43<04:07, 191.83it/s]java.lang.ArrayIndexOutOfBoundsException\n",
            " 68%|██████▊   | 98581/145393 [08:47<04:10, 187.09it/s]java.lang.ArrayIndexOutOfBoundsException\n",
            " 73%|███████▎  | 106753/145393 [09:38<07:36, 84.68it/s] java.lang.ArrayIndexOutOfBoundsException\n",
            " 74%|███████▍  | 107568/145393 [09:43<02:11, 287.60it/s]java.lang.ArrayIndexOutOfBoundsException\n",
            " 80%|███████▉  | 116154/145393 [10:32<01:35, 307.23it/s]java.lang.ArrayIndexOutOfBoundsException\n",
            " 82%|████████▏ | 119625/145393 [10:52<05:31, 77.74it/s] java.lang.ArrayIndexOutOfBoundsException\n",
            " 83%|████████▎ | 121189/145393 [11:00<01:19, 304.32it/s]java.lang.ArrayIndexOutOfBoundsException\n",
            " 84%|████████▍ | 122825/145393 [11:11<01:41, 223.18it/s]java.lang.ArrayIndexOutOfBoundsException\n",
            " 88%|████████▊ | 127794/145393 [11:39<01:16, 231.26it/s]java.lang.ArrayIndexOutOfBoundsException\n",
            " 96%|█████████▌| 139433/145393 [12:43<00:20, 293.60it/s]java.lang.ArrayIndexOutOfBoundsException\n",
            "100%|██████████| 145393/145393 [13:16<00:00, 182.53it/s]\n",
            " 18%|█▊        | 8553/48852 [00:44<02:38, 254.70it/s]java.lang.ArrayIndexOutOfBoundsException\n",
            " 19%|█▊        | 9047/48852 [00:48<04:55, 134.80it/s]java.lang.ArrayIndexOutOfBoundsException\n",
            " 25%|██▍       | 12057/48852 [01:05<04:54, 125.13it/s]java.lang.ArrayIndexOutOfBoundsException\n",
            " 29%|██▉       | 14082/48852 [01:19<06:11, 93.70it/s] java.lang.ArrayIndexOutOfBoundsException\n",
            " 70%|██████▉   | 33967/48852 [03:12<02:22, 104.16it/s]java.lang.ArrayIndexOutOfBoundsException\n",
            " 72%|███████▏  | 35033/48852 [03:19<01:04, 213.36it/s]java.lang.ArrayIndexOutOfBoundsException\n",
            " 82%|████████▏ | 39956/48852 [03:47<00:25, 343.76it/s]java.lang.ArrayIndexOutOfBoundsException\n",
            " 95%|█████████▍| 46224/48852 [04:21<00:11, 219.94it/s]java.lang.ArrayIndexOutOfBoundsException\n",
            "100%|██████████| 48852/48852 [04:36<00:00, 176.53it/s]\n"
          ]
        }
      ],
      "source": [
        "#Hannanum 토크나이저\n",
        "from tqdm import tqdm\n",
        "X_han_train = []\n",
        "for sentence in tqdm(train_data['document']):\n",
        "    tokenized_sentence = han.morphs(sentence) # 토큰화\n",
        "    stopwords_removed_sentence = [word for word in tokenized_sentence if not word in stopwords] # 불용어 제거\n",
        "    X_han_train.append(stopwords_removed_sentence)\n",
        "\n",
        "X_han_test = []\n",
        "for sentence in tqdm(test_data['document']):\n",
        "    tokenized_sentence = han.morphs(sentence) # 토큰화\n",
        "    stopwords_removed_sentence = [word for word in tokenized_sentence if not word in stopwords] # 불용어 제거\n",
        "    X_han_test.append(stopwords_removed_sentence)\n"
      ]
    },
    {
      "cell_type": "code",
      "execution_count": null,
      "id": "06b1460d",
      "metadata": {
        "id": "06b1460d",
        "outputId": "6a2141ec-07b5-4f26-b485-c1acd49d6725"
      },
      "outputs": [
        {
          "name": "stderr",
          "output_type": "stream",
          "text": [
            " 27%|██▋       | 39648/145393 [31:17<1:23:27, 21.12it/s] \n"
          ]
        },
        {
          "ename": "java.lang.OutOfMemoryError",
          "evalue": "java.lang.OutOfMemoryError: Java heap space",
          "output_type": "error",
          "traceback": [
            "\u001b[0;31m---------------------------------------------------------------------------\u001b[0m",
            "\u001b[0;31mException\u001b[0m                                 Traceback (most recent call last)",
            "\u001b[0;32m/opt/conda/lib/python3.9/site-packages/_jpype.cpython-39-x86_64-linux-gnu.so\u001b[0m in \u001b[0;36mkr.lucypark.kkma.KkmaInterface.morphAnalyzer\u001b[0;34m()\u001b[0m\n",
            "\u001b[0;32m/opt/conda/lib/python3.9/site-packages/_jpype.cpython-39-x86_64-linux-gnu.so\u001b[0m in \u001b[0;36morg.snu.ids.ha.ma.MorphemeAnalyzer.analyze\u001b[0;34m()\u001b[0m\n",
            "\u001b[0;32m/opt/conda/lib/python3.9/site-packages/_jpype.cpython-39-x86_64-linux-gnu.so\u001b[0m in \u001b[0;36morg.snu.ids.ha.ma.MorphemeAnalyzer.analyze\u001b[0;34m()\u001b[0m\n",
            "\u001b[0;32m/opt/conda/lib/python3.9/site-packages/_jpype.cpython-39-x86_64-linux-gnu.so\u001b[0m in \u001b[0;36mjava.lang.StringBuilder.append\u001b[0;34m()\u001b[0m\n",
            "\u001b[0;32m/opt/conda/lib/python3.9/site-packages/_jpype.cpython-39-x86_64-linux-gnu.so\u001b[0m in \u001b[0;36mjava.lang.String.valueOf\u001b[0;34m()\u001b[0m\n",
            "\u001b[0;32m/opt/conda/lib/python3.9/site-packages/_jpype.cpython-39-x86_64-linux-gnu.so\u001b[0m in \u001b[0;36morg.snu.ids.ha.ma.MExpression.toString\u001b[0;34m()\u001b[0m\n",
            "\u001b[0;32m/opt/conda/lib/python3.9/site-packages/_jpype.cpython-39-x86_64-linux-gnu.so\u001b[0m in \u001b[0;36mjava.lang.StringBuffer.append\u001b[0;34m()\u001b[0m\n",
            "\u001b[0;32m/opt/conda/lib/python3.9/site-packages/_jpype.cpython-39-x86_64-linux-gnu.so\u001b[0m in \u001b[0;36mjava.lang.AbstractStringBuilder.append\u001b[0;34m()\u001b[0m\n",
            "\u001b[0;32m/opt/conda/lib/python3.9/site-packages/_jpype.cpython-39-x86_64-linux-gnu.so\u001b[0m in \u001b[0;36mjava.lang.AbstractStringBuilder.ensureCapacityInternal\u001b[0;34m()\u001b[0m\n",
            "\u001b[0;32m/opt/conda/lib/python3.9/site-packages/_jpype.cpython-39-x86_64-linux-gnu.so\u001b[0m in \u001b[0;36mjava.util.Arrays.copyOf\u001b[0;34m()\u001b[0m\n",
            "\u001b[0;31mException\u001b[0m: Java Exception",
            "\nThe above exception was the direct cause of the following exception:\n",
            "\u001b[0;31mjava.lang.OutOfMemoryError\u001b[0m                Traceback (most recent call last)",
            "\u001b[0;32m/tmp/ipykernel_30/2432893484.py\u001b[0m in \u001b[0;36m<module>\u001b[0;34m\u001b[0m\n\u001b[1;32m      3\u001b[0m \u001b[0mX_kkma_train\u001b[0m \u001b[0;34m=\u001b[0m \u001b[0;34m[\u001b[0m\u001b[0;34m]\u001b[0m\u001b[0;34m\u001b[0m\u001b[0;34m\u001b[0m\u001b[0m\n\u001b[1;32m      4\u001b[0m \u001b[0;32mfor\u001b[0m \u001b[0msentence\u001b[0m \u001b[0;32min\u001b[0m \u001b[0mtqdm\u001b[0m\u001b[0;34m(\u001b[0m\u001b[0mtrain_data\u001b[0m\u001b[0;34m[\u001b[0m\u001b[0;34m'document'\u001b[0m\u001b[0;34m]\u001b[0m\u001b[0;34m)\u001b[0m\u001b[0;34m:\u001b[0m\u001b[0;34m\u001b[0m\u001b[0;34m\u001b[0m\u001b[0m\n\u001b[0;32m----> 5\u001b[0;31m     \u001b[0mtokenized_sentence\u001b[0m \u001b[0;34m=\u001b[0m \u001b[0mkkma\u001b[0m\u001b[0;34m.\u001b[0m\u001b[0mmorphs\u001b[0m\u001b[0;34m(\u001b[0m\u001b[0msentence\u001b[0m\u001b[0;34m)\u001b[0m \u001b[0;31m# 토큰화\u001b[0m\u001b[0;34m\u001b[0m\u001b[0;34m\u001b[0m\u001b[0m\n\u001b[0m\u001b[1;32m      6\u001b[0m     \u001b[0mstopwords_removed_sentence\u001b[0m \u001b[0;34m=\u001b[0m \u001b[0;34m[\u001b[0m\u001b[0mword\u001b[0m \u001b[0;32mfor\u001b[0m \u001b[0mword\u001b[0m \u001b[0;32min\u001b[0m \u001b[0mtokenized_sentence\u001b[0m \u001b[0;32mif\u001b[0m \u001b[0;32mnot\u001b[0m \u001b[0mword\u001b[0m \u001b[0;32min\u001b[0m \u001b[0mstopwords\u001b[0m\u001b[0;34m]\u001b[0m \u001b[0;31m# 불용어 제거\u001b[0m\u001b[0;34m\u001b[0m\u001b[0;34m\u001b[0m\u001b[0m\n\u001b[1;32m      7\u001b[0m     \u001b[0mX_kkma_train\u001b[0m\u001b[0;34m.\u001b[0m\u001b[0mappend\u001b[0m\u001b[0;34m(\u001b[0m\u001b[0mstopwords_removed_sentence\u001b[0m\u001b[0;34m)\u001b[0m\u001b[0;34m\u001b[0m\u001b[0;34m\u001b[0m\u001b[0m\n",
            "\u001b[0;32m/opt/conda/lib/python3.9/site-packages/konlpy/tag/_kkma.py\u001b[0m in \u001b[0;36mmorphs\u001b[0;34m(self, phrase)\u001b[0m\n\u001b[1;32m     82\u001b[0m         \u001b[0;34m\"\"\"Parse phrase to morphemes.\"\"\"\u001b[0m\u001b[0;34m\u001b[0m\u001b[0;34m\u001b[0m\u001b[0m\n\u001b[1;32m     83\u001b[0m \u001b[0;34m\u001b[0m\u001b[0m\n\u001b[0;32m---> 84\u001b[0;31m         \u001b[0;32mreturn\u001b[0m \u001b[0;34m[\u001b[0m\u001b[0ms\u001b[0m \u001b[0;32mfor\u001b[0m \u001b[0ms\u001b[0m\u001b[0;34m,\u001b[0m \u001b[0mt\u001b[0m \u001b[0;32min\u001b[0m \u001b[0mself\u001b[0m\u001b[0;34m.\u001b[0m\u001b[0mpos\u001b[0m\u001b[0;34m(\u001b[0m\u001b[0mphrase\u001b[0m\u001b[0;34m)\u001b[0m\u001b[0;34m]\u001b[0m\u001b[0;34m\u001b[0m\u001b[0;34m\u001b[0m\u001b[0m\n\u001b[0m\u001b[1;32m     85\u001b[0m \u001b[0;34m\u001b[0m\u001b[0m\n\u001b[1;32m     86\u001b[0m     \u001b[0;32mdef\u001b[0m \u001b[0msentences\u001b[0m\u001b[0;34m(\u001b[0m\u001b[0mself\u001b[0m\u001b[0;34m,\u001b[0m \u001b[0mphrase\u001b[0m\u001b[0;34m)\u001b[0m\u001b[0;34m:\u001b[0m\u001b[0;34m\u001b[0m\u001b[0;34m\u001b[0m\u001b[0m\n",
            "\u001b[0;32m/opt/conda/lib/python3.9/site-packages/konlpy/tag/_kkma.py\u001b[0m in \u001b[0;36mpos\u001b[0;34m(self, phrase, flatten, join)\u001b[0m\n\u001b[1;32m     53\u001b[0m         \"\"\"\n\u001b[1;32m     54\u001b[0m \u001b[0;34m\u001b[0m\u001b[0m\n\u001b[0;32m---> 55\u001b[0;31m         \u001b[0msentences\u001b[0m \u001b[0;34m=\u001b[0m \u001b[0mself\u001b[0m\u001b[0;34m.\u001b[0m\u001b[0mjki\u001b[0m\u001b[0;34m.\u001b[0m\u001b[0mmorphAnalyzer\u001b[0m\u001b[0;34m(\u001b[0m\u001b[0mphrase\u001b[0m\u001b[0;34m)\u001b[0m\u001b[0;34m\u001b[0m\u001b[0;34m\u001b[0m\u001b[0m\n\u001b[0m\u001b[1;32m     56\u001b[0m         \u001b[0mmorphemes\u001b[0m \u001b[0;34m=\u001b[0m \u001b[0;34m[\u001b[0m\u001b[0;34m]\u001b[0m\u001b[0;34m\u001b[0m\u001b[0;34m\u001b[0m\u001b[0m\n\u001b[1;32m     57\u001b[0m         \u001b[0;32mif\u001b[0m \u001b[0;32mnot\u001b[0m \u001b[0msentences\u001b[0m\u001b[0;34m:\u001b[0m\u001b[0;34m\u001b[0m\u001b[0;34m\u001b[0m\u001b[0m\n",
            "\u001b[0;31mjava.lang.OutOfMemoryError\u001b[0m: java.lang.OutOfMemoryError: Java heap space"
          ]
        }
      ],
      "source": [
        "#kkma 토크나이저\n",
        "#중간에 메모리부족 애러..\n",
        "#https://developer111.tistory.com/34\n",
        "from tqdm import tqdm\n",
        "X_kkma_train = []\n",
        "for sentence in tqdm(train_data['document']):\n",
        "    tokenized_sentence = kkma.morphs(sentence) # 토큰화\n",
        "    stopwords_removed_sentence = [word for word in tokenized_sentence if not word in stopwords] # 불용어 제거\n",
        "    X_kkma_train.append(stopwords_removed_sentence)\n",
        "\n",
        "X_kkma_test = []\n",
        "for sentence in tqdm(test_data['document']):\n",
        "    tokenized_sentence = kkma.morphs(sentence) # 토큰화\n",
        "    stopwords_removed_sentence = [word for word in tokenized_sentence if not word in stopwords] # 불용어 제거\n",
        "    X_kkma_test.append(stopwords_removed_sentence)"
      ]
    },
    {
      "cell_type": "code",
      "execution_count": null,
      "id": "39afdc42",
      "metadata": {
        "id": "39afdc42",
        "outputId": "fb614e82-f08c-4230-9dd5-b6974272aeaf"
      },
      "outputs": [
        {
          "name": "stderr",
          "output_type": "stream",
          "text": [
            "100%|██████████| 145393/145393 [02:41<00:00, 900.67it/s] \n",
            "100%|██████████| 48852/48852 [00:56<00:00, 865.35it/s] \n"
          ]
        }
      ],
      "source": [
        "#komoran 토크나이저\n",
        "from tqdm import tqdm\n",
        "X_komo_train = []\n",
        "for sentence in tqdm(train_data['document']):\n",
        "    tokenized_sentence = komo.morphs(sentence) # 토큰화\n",
        "    stopwords_removed_sentence = [word for word in tokenized_sentence if not word in stopwords] # 불용어 제거\n",
        "    X_komo_train.append(stopwords_removed_sentence)\n",
        "\n",
        "X_komo_test = []\n",
        "for sentence in tqdm(test_data['document']):\n",
        "    tokenized_sentence = komo.morphs(sentence) # 토큰화\n",
        "    stopwords_removed_sentence = [word for word in tokenized_sentence if not word in stopwords] # 불용어 제거\n",
        "    X_komo_test.append(stopwords_removed_sentence)\n"
      ]
    },
    {
      "cell_type": "code",
      "execution_count": null,
      "id": "24f398f3",
      "metadata": {
        "id": "24f398f3",
        "outputId": "e63993c7-924e-4c2b-d159-a986ca02ee6a"
      },
      "outputs": [
        {
          "name": "stderr",
          "output_type": "stream",
          "text": [
            "100%|██████████| 145393/145393 [00:14<00:00, 10221.43it/s]\n",
            "100%|██████████| 48852/48852 [00:04<00:00, 10277.36it/s]\n"
          ]
        }
      ],
      "source": [
        "#Mecab 토크나이저\n",
        "from tqdm import tqdm\n",
        "X_mec_train = []\n",
        "for sentence in tqdm(train_data['document']):\n",
        "    tokenized_sentence = mec.morphs(sentence) # 토큰화\n",
        "    stopwords_removed_sentence = [word for word in tokenized_sentence if not word in stopwords] # 불용어 제거\n",
        "    X_mec_train.append(stopwords_removed_sentence)\n",
        "\n",
        "X_mec_test = []\n",
        "for sentence in tqdm(test_data['document']):\n",
        "    tokenized_sentence = mec.morphs(sentence) # 토큰화\n",
        "    stopwords_removed_sentence = [word for word in tokenized_sentence if not word in stopwords] # 불용어 제거\n",
        "    X_mec_test.append(stopwords_removed_sentence)"
      ]
    },
    {
      "cell_type": "code",
      "execution_count": null,
      "id": "d0f506e4",
      "metadata": {
        "id": "d0f506e4",
        "outputId": "ca32aedb-db25-4144-923d-22b4579a2343"
      },
      "outputs": [
        {
          "name": "stdout",
          "output_type": "stream",
          "text": [
            "['아', '더빙', '진짜', '짜증나다', '목소리']\n",
            "['아', '더빙', '진짜', '짜증나', '네', '요', '목소리']\n",
            "['아', '더빙', '진짜', '짜증', '나', '네요', '목소리']\n",
            "['아', '더', '빙', '진짜', '짜증', '나', '네요', '목소리']\n"
          ]
        }
      ],
      "source": [
        "print(X_okt_train[0])\n",
        "print(X_han_train[0])\n",
        "print(X_komo_train[0])\n",
        "print(X_mec_train[0])"
      ]
    },
    {
      "cell_type": "code",
      "execution_count": null,
      "id": "547a514d",
      "metadata": {
        "id": "547a514d"
      },
      "outputs": [],
      "source": [
        "import copy\n",
        "X_sp_train_copy = copy.deepcopy(X_sp_train)\n",
        "X_okt_train_copy = copy.deepcopy(X_okt_train)\n",
        "X_han_train_copy = copy.deepcopy(X_han_train)\n",
        "X_komo_train_copy = copy.deepcopy(X_komo_train)\n",
        "X_mec_train_copy = copy.deepcopy(X_mec_train)"
      ]
    },
    {
      "cell_type": "code",
      "execution_count": null,
      "id": "412973e5",
      "metadata": {
        "id": "412973e5"
      },
      "outputs": [],
      "source": [
        "from tensorflow.keras.preprocessing.text import Tokenizer\n",
        "tokenizer = Tokenizer()\n",
        "tokenizer.fit_on_texts(X_okt_train)"
      ]
    },
    {
      "cell_type": "code",
      "execution_count": null,
      "id": "91b84bda",
      "metadata": {
        "id": "91b84bda"
      },
      "outputs": [],
      "source": [
        "tokenizer_okt = Tokenizer()\n",
        "tokenizer_han = Tokenizer()\n",
        "tokenizer_komo = Tokenizer()\n",
        "tokenizer_mec = Tokenizer()\n",
        "tokenizer_okt.fit_on_texts(X_okt_train)\n",
        "tokenizer_han.fit_on_texts(X_han_train)\n",
        "tokenizer_komo.fit_on_texts(X_komo_train)\n",
        "tokenizer_mec.fit_on_texts(X_mec_train)"
      ]
    },
    {
      "cell_type": "code",
      "execution_count": null,
      "id": "6a6685ba",
      "metadata": {
        "id": "6a6685ba",
        "outputId": "23a86aea-3312-43af-e84a-812d156d6c43"
      },
      "outputs": [
        {
          "name": "stdout",
          "output_type": "stream",
          "text": [
            "sp word index : 8990\n",
            "okt word index : 43752\n",
            "hannanum word index : 178333\n",
            "komoran word index : 54414\n",
            "mecab word index : 49946\n"
          ]
        }
      ],
      "source": [
        "print('sp word index : '+str(len(tokenizer_sp.word_index)))\n",
        "print('okt word index : '+str(len(tokenizer_okt.word_index)))\n",
        "print('hannanum word index : '+str(len(tokenizer_han.word_index)))\n",
        "print('komoran word index : '+str(len(tokenizer_komo.word_index)))\n",
        "print('mecab word index : '+str(len(tokenizer_mec.word_index)))"
      ]
    },
    {
      "cell_type": "markdown",
      "id": "9af73136",
      "metadata": {
        "id": "9af73136"
      },
      "source": [
        "### 본 실험에서는 Sentence peice와의 비교를 위하여 vocab_size를 8000으로 고정하고자 함\n"
      ]
    },
    {
      "cell_type": "code",
      "execution_count": null,
      "id": "d542adb1",
      "metadata": {
        "id": "d542adb1"
      },
      "outputs": [],
      "source": [
        "vocab_size = 8000 + 1\n",
        "\n",
        "X_sp_train = tokenizer_sp.texts_to_sequences(X_sp_train)\n",
        "X_sp_test = tokenizer_sp.texts_to_sequences(X_sp_test)\n",
        "\n",
        "X_okt_train = tokenizer_okt.texts_to_sequences(X_okt_train)\n",
        "X_okt_test = tokenizer_okt.texts_to_sequences(X_okt_test)\n",
        "\n",
        "X_han_train = tokenizer_han.texts_to_sequences(X_han_train)\n",
        "X_han_test = tokenizer_han.texts_to_sequences(X_han_test)\n",
        "\n",
        "X_komo_train = tokenizer_komo.texts_to_sequences(X_komo_train)\n",
        "X_komo_test = tokenizer_komo.texts_to_sequences(X_komo_test)\n",
        "\n",
        "X_mec_train = tokenizer_mec.texts_to_sequences(X_mec_train)\n",
        "X_mec_test = tokenizer_mec.texts_to_sequences(X_mec_test)"
      ]
    },
    {
      "cell_type": "code",
      "execution_count": null,
      "id": "f78f86a3",
      "metadata": {
        "id": "f78f86a3",
        "outputId": "025a3749-5d1c-4bc7-e866-0736c8273ab6"
      },
      "outputs": [
        {
          "data": {
            "text/plain": [
              "[30, 106, 4944, 331, 88, 174, 20, 27, 69, 6, 325, 746, 446]"
            ]
          },
          "execution_count": 274,
          "metadata": {},
          "output_type": "execute_result"
        }
      ],
      "source": [
        "X_mec_train[0]\n",
        "X_sp_train[2]"
      ]
    },
    {
      "cell_type": "code",
      "execution_count": null,
      "id": "61e31c4d",
      "metadata": {
        "id": "61e31c4d"
      },
      "outputs": [],
      "source": [
        "y_sp_train = np.array(train_data['label'])\n",
        "y_okt_train = np.array(train_data['label'])\n",
        "y_han_train = np.array(train_data['label'])\n",
        "y_komo_train = np.array(train_data['label'])\n",
        "y_mec_train = np.array(train_data['label'])\n",
        "\n",
        "y_sp_test = np.array(test_data['label'])\n",
        "y_okt_test = np.array(test_data['label'])\n",
        "y_han_test = np.array(test_data['label'])\n",
        "y_komo_test = np.array(test_data['label'])\n",
        "y_mec_test = np.array(test_data['label'])"
      ]
    },
    {
      "cell_type": "code",
      "execution_count": null,
      "id": "4065cf35",
      "metadata": {
        "id": "4065cf35",
        "outputId": "8bceef66-0667-4217-b275-23a40b99d4d0"
      },
      "outputs": [
        {
          "name": "stdout",
          "output_type": "stream",
          "text": [
            "0\n",
            "13\n",
            "38\n",
            "7\n",
            "13\n"
          ]
        }
      ],
      "source": [
        "#빈 샘플 확인\n",
        "drop_sp_train = [index for index, sentence in enumerate(X_sp_train) if len(sentence) < 1]\n",
        "drop_okt_train = [index for index, sentence in enumerate(X_okt_train) if len(sentence) < 1]\n",
        "drop_han_train = [index for index, sentence in enumerate(X_han_train) if len(sentence) < 1]\n",
        "drop_komo_train = [index for index, sentence in enumerate(X_komo_train) if len(sentence) < 1]\n",
        "drop_mec_train = [index for index, sentence in enumerate(X_mec_train) if len(sentence) < 1]\n",
        "print(len(drop_sp_train))\n",
        "print(len(drop_okt_train))\n",
        "print(len(drop_han_train))\n",
        "print(len(drop_komo_train))\n",
        "print(len(drop_mec_train))"
      ]
    },
    {
      "cell_type": "code",
      "execution_count": null,
      "id": "2450a877",
      "metadata": {
        "id": "2450a877"
      },
      "outputs": [],
      "source": [
        "# 빈 샘플들을 제거\n",
        "X_sp_train = np.delete(X_sp_train, drop_sp_train, axis=0)\n",
        "X_okt_train = np.delete(X_okt_train, drop_okt_train, axis=0)\n",
        "X_han_train = np.delete(X_han_train, drop_han_train, axis=0)\n",
        "X_komo_train = np.delete(X_komo_train, drop_komo_train, axis=0)\n",
        "X_mec_train = np.delete(X_mec_train, drop_mec_train, axis=0)\n",
        "\n",
        "y_sp_train = np.delete(y_sp_train, drop_sp_train, axis=0)\n",
        "y_okt_train = np.delete(y_sp_train, drop_okt_train, axis=0)\n",
        "y_han_train = np.delete(y_sp_train, drop_han_train, axis=0)\n",
        "y_komo_train = np.delete(y_sp_train, drop_komo_train, axis=0)\n",
        "y_mec_train = np.delete(y_sp_train, drop_mec_train, axis=0)"
      ]
    },
    {
      "cell_type": "markdown",
      "id": "d9d4c014",
      "metadata": {
        "id": "d9d4c014"
      },
      "source": [
        "### 문장 내 단어의 최대길이 설정\n",
        "- 금번 비교는 형태소분석기의 성능 비교를 위한 실험으로 추출된 문장 길이들이 잘리지 않는 기준으로 설정\n",
        "- 각 도출된 결과값의 최대 길이로 설정함"
      ]
    },
    {
      "cell_type": "code",
      "execution_count": null,
      "id": "2ec02719",
      "metadata": {
        "id": "2ec02719",
        "outputId": "b12450e0-00a6-4e68-e57a-afd6050ff3bc"
      },
      "outputs": [
        {
          "name": "stdout",
          "output_type": "stream",
          "text": [
            "리뷰의 최대 길이 : 116\n",
            "리뷰의 평균 길이 : 18.636873852248733\n"
          ]
        },
        {
          "data": {
            "image/png": "[encoded data removed]",
            "text/plain": [
              "<Figure size 432x288 with 1 Axes>"
            ]
          },
          "metadata": {
            "needs_background": "light"
          },
          "output_type": "display_data"
        },
        {
          "name": "stdout",
          "output_type": "stream",
          "text": [
            "None\n",
            "리뷰의 최대 길이 : 72\n",
            "리뷰의 평균 길이 : 18.638540376943183\n"
          ]
        },
        {
          "data": {
            "image/png": "[encoded data removed]",
            "text/plain": [
              "<Figure size 432x288 with 1 Axes>"
            ]
          },
          "metadata": {
            "needs_background": "light"
          },
          "output_type": "display_data"
        },
        {
          "name": "stdout",
          "output_type": "stream",
          "text": [
            "None\n",
            "리뷰의 최대 길이 : 72\n",
            "리뷰의 평균 길이 : 18.641746069966633\n"
          ]
        },
        {
          "data": {
            "image/png": "[encoded data removed]",
            "text/plain": [
              "<Figure size 432x288 with 1 Axes>"
            ]
          },
          "metadata": {
            "needs_background": "light"
          },
          "output_type": "display_data"
        },
        {
          "name": "stdout",
          "output_type": "stream",
          "text": [
            "None\n",
            "리뷰의 최대 길이 : 104\n",
            "리뷰의 평균 길이 : 18.63777117466606\n"
          ]
        },
        {
          "data": {
            "image/png": "[encoded data removed]",
            "text/plain": [
              "<Figure size 432x288 with 1 Axes>"
            ]
          },
          "metadata": {
            "needs_background": "light"
          },
          "output_type": "display_data"
        },
        {
          "name": "stdout",
          "output_type": "stream",
          "text": [
            "None\n",
            "리뷰의 최대 길이 : 83\n",
            "리뷰의 평균 길이 : 18.638540376943183\n"
          ]
        },
        {
          "data": {
            "image/png": "[encoded data removed]",
            "text/plain": [
              "<Figure size 432x288 with 1 Axes>"
            ]
          },
          "metadata": {
            "needs_background": "light"
          },
          "output_type": "display_data"
        },
        {
          "name": "stdout",
          "output_type": "stream",
          "text": [
            "None\n"
          ]
        }
      ],
      "source": [
        "#padding\n",
        "import matplotlib.pyplot as plt\n",
        "\n",
        "def plt_data(name,data):\n",
        "    print('리뷰의 최대 길이 :',max(len(review) for review in data))\n",
        "    print('리뷰의 평균 길이 :',sum(map(len, X_sp_train))/len(data))\n",
        "    plt.hist([len(review) for review in X_sp_train], bins=50)\n",
        "    plt.xlabel('length of samples')\n",
        "    plt.ylabel('number of samples')\n",
        "    plt.title('{0}'.format(name))\n",
        "    plt.show()\n",
        "\n",
        "print(plt_data('sentence piece',X_sp_train))\n",
        "print(plt_data('okt',X_okt_train))\n",
        "print(plt_data('hannamum',X_han_train))\n",
        "print(plt_data('komoran',X_komo_train))\n",
        "print(plt_data('mecab',X_mec_train))"
      ]
    },
    {
      "cell_type": "code",
      "execution_count": null,
      "id": "580ad0a5",
      "metadata": {
        "id": "580ad0a5"
      },
      "outputs": [],
      "source": [
        "X_sp_train = pad_sequences(X_sp_train, maxlen=116)\n",
        "X_okt_train = pad_sequences(X_okt_train, maxlen=72)\n",
        "X_han_train = pad_sequences(X_han_train, maxlen=72)\n",
        "X_komo_train = pad_sequences(X_komo_train, maxlen=104)\n",
        "X_mec_train = pad_sequences(X_mec_train, maxlen=84)\n",
        "\n",
        "\n",
        "X_sp_test = pad_sequences(X_sp_test, maxlen=116)\n",
        "X_okt_test = pad_sequences(X_okt_test, maxlen=72)\n",
        "X_han_test = pad_sequences(X_han_test, maxlen=72)\n",
        "X_komo_test = pad_sequences(X_komo_test, maxlen=104)\n",
        "X_mec_test = pad_sequences(X_mec_test, maxlen=84)"
      ]
    },
    {
      "cell_type": "code",
      "execution_count": null,
      "id": "2b68b4bb",
      "metadata": {
        "id": "2b68b4bb",
        "outputId": "0484f91f-d29c-41e7-ccfc-64083ea2a355"
      },
      "outputs": [
        {
          "name": "stdout",
          "output_type": "stream",
          "text": [
            "리뷰의 최대 길이 : 116\n",
            "리뷰의 평균 길이 : 116.0\n"
          ]
        },
        {
          "data": {
            "image/png": "[encoded data removed]",
            "text/plain": [
              "<Figure size 432x288 with 1 Axes>"
            ]
          },
          "metadata": {
            "needs_background": "light"
          },
          "output_type": "display_data"
        },
        {
          "name": "stdout",
          "output_type": "stream",
          "text": [
            "None\n",
            "리뷰의 최대 길이 : 72\n",
            "리뷰의 평균 길이 : 116.01037281606824\n"
          ]
        },
        {
          "data": {
            "image/png": "[encoded data removed]",
            "text/plain": [
              "<Figure size 432x288 with 1 Axes>"
            ]
          },
          "metadata": {
            "needs_background": "light"
          },
          "output_type": "display_data"
        },
        {
          "name": "stdout",
          "output_type": "stream",
          "text": [
            "None\n",
            "리뷰의 최대 길이 : 72\n",
            "리뷰의 평균 길이 : 116.03032575418803\n"
          ]
        },
        {
          "data": {
            "image/png": "[encoded data removed]",
            "text/plain": [
              "<Figure size 432x288 with 1 Axes>"
            ]
          },
          "metadata": {
            "needs_background": "light"
          },
          "output_type": "display_data"
        },
        {
          "name": "stdout",
          "output_type": "stream",
          "text": [
            "None\n",
            "리뷰의 최대 길이 : 104\n",
            "리뷰의 평균 길이 : 116.00558513199346\n"
          ]
        },
        {
          "data": {
            "image/png": "[encoded data removed]",
            "text/plain": [
              "<Figure size 432x288 with 1 Axes>"
            ]
          },
          "metadata": {
            "needs_background": "light"
          },
          "output_type": "display_data"
        },
        {
          "name": "stdout",
          "output_type": "stream",
          "text": [
            "None\n",
            "리뷰의 최대 길이 : 84\n",
            "리뷰의 평균 길이 : 116.01037281606824\n"
          ]
        },
        {
          "data": {
            "image/png": "[encoded data removed]",
            "text/plain": [
              "<Figure size 432x288 with 1 Axes>"
            ]
          },
          "metadata": {
            "needs_background": "light"
          },
          "output_type": "display_data"
        },
        {
          "name": "stdout",
          "output_type": "stream",
          "text": [
            "None\n"
          ]
        }
      ],
      "source": [
        "print(plt_data('sentence piece',X_sp_train))\n",
        "print(plt_data('okt',X_okt_train))\n",
        "print(plt_data('hannamum',X_han_train))\n",
        "print(plt_data('komoran',X_komo_train))\n",
        "print(plt_data('mecab',X_mec_train))"
      ]
    },
    {
      "cell_type": "markdown",
      "id": "481f13e7",
      "metadata": {
        "id": "481f13e7"
      },
      "source": [
        "# 3. 모델 학습"
      ]
    },
    {
      "cell_type": "code",
      "execution_count": null,
      "id": "3beeb5b3",
      "metadata": {
        "id": "3beeb5b3",
        "outputId": "8d83b43e-c358-490d-d595-da210e0122b0"
      },
      "outputs": [
        {
          "name": "stdout",
          "output_type": "stream",
          "text": [
            "Epoch 1/15\n",
            "1818/1818 [==============================] - 31s 12ms/step - loss: 0.4233 - acc: 0.8042 - val_loss: 0.3772 - val_acc: 0.8313\n",
            "\n",
            "Epoch 00001: val_acc improved from -inf to 0.83132, saving model to best_sp_model.h5\n",
            "Epoch 2/15\n",
            "1818/1818 [==============================] - 17s 10ms/step - loss: 0.3620 - acc: 0.8384 - val_loss: 0.3654 - val_acc: 0.8369\n",
            "\n",
            "Epoch 00002: val_acc improved from 0.83132 to 0.83686, saving model to best_sp_model.h5\n",
            "Epoch 3/15\n",
            "1818/1818 [==============================] - 16s 9ms/step - loss: 0.3384 - acc: 0.8513 - val_loss: 0.3509 - val_acc: 0.8428\n",
            "\n",
            "Epoch 00003: val_acc improved from 0.83686 to 0.84277, saving model to best_sp_model.h5\n",
            "Epoch 4/15\n",
            "1818/1818 [==============================] - 16s 9ms/step - loss: 0.3211 - acc: 0.8603 - val_loss: 0.3604 - val_acc: 0.8420\n",
            "\n",
            "Epoch 00004: val_acc did not improve from 0.84277\n",
            "Epoch 5/15\n",
            "1818/1818 [==============================] - 16s 9ms/step - loss: 0.3068 - acc: 0.8681 - val_loss: 0.3409 - val_acc: 0.8498\n",
            "\n",
            "Epoch 00005: val_acc improved from 0.84277 to 0.84982, saving model to best_sp_model.h5\n",
            "Epoch 6/15\n",
            "1818/1818 [==============================] - 16s 9ms/step - loss: 0.2933 - acc: 0.8755 - val_loss: 0.3426 - val_acc: 0.8454\n",
            "\n",
            "Epoch 00006: val_acc did not improve from 0.84982\n",
            "Epoch 7/15\n",
            "1818/1818 [==============================] - 16s 9ms/step - loss: 0.2795 - acc: 0.8828 - val_loss: 0.3415 - val_acc: 0.8524\n",
            "\n",
            "Epoch 00007: val_acc improved from 0.84982 to 0.85237, saving model to best_sp_model.h5\n",
            "Epoch 8/15\n",
            "1818/1818 [==============================] - 16s 9ms/step - loss: 0.2648 - acc: 0.8907 - val_loss: 0.3496 - val_acc: 0.8505\n",
            "\n",
            "Epoch 00008: val_acc did not improve from 0.85237\n",
            "Epoch 9/15\n",
            "1818/1818 [==============================] - 16s 9ms/step - loss: 0.2496 - acc: 0.8977 - val_loss: 0.3587 - val_acc: 0.8485\n",
            "\n",
            "Epoch 00009: val_acc did not improve from 0.85237\n",
            "Epoch 00009: early stopping\n"
          ]
        }
      ],
      "source": [
        "from tensorflow.keras.layers import Embedding, Dense, LSTM\n",
        "from tensorflow.keras.models import Sequential\n",
        "from tensorflow.keras.models import load_model\n",
        "from tensorflow.keras.callbacks import EarlyStopping, ModelCheckpoint\n",
        "\n",
        "embedding_dim = 100\n",
        "hidden_units = 128\n",
        "\n",
        "model_sp = Sequential()\n",
        "model_sp.add(Embedding(vocab_size, embedding_dim))\n",
        "model_sp.add(LSTM(hidden_units))\n",
        "model_sp.add(Dense(1, activation='sigmoid'))\n",
        "\n",
        "es = EarlyStopping(monitor='val_loss', mode='min', verbose=1, patience=4)\n",
        "mc = ModelCheckpoint('best_sp_model.h5', monitor='val_acc', mode='max', verbose=1, save_best_only=True)\n",
        "\n",
        "model_sp.compile(optimizer='rmsprop', loss='binary_crossentropy', metrics=['acc'])\n",
        "history_sp = model_sp.fit(X_sp_train, y_sp_train, epochs=15, callbacks=[es, mc], batch_size=64, validation_split=0.2)"
      ]
    },
    {
      "cell_type": "code",
      "execution_count": null,
      "id": "9a0a67e1",
      "metadata": {
        "id": "9a0a67e1",
        "outputId": "2cd04a96-1f4e-4904-d9b5-187f31773c92"
      },
      "outputs": [
        {
          "name": "stdout",
          "output_type": "stream",
          "text": [
            "Epoch 1/15\n",
            "1818/1818 [==============================] - 15s 7ms/step - loss: 0.3940 - acc: 0.8225 - val_loss: 0.3647 - val_acc: 0.8392\n",
            "\n",
            "Epoch 00001: val_acc improved from -inf to 0.83918, saving model to best_okt_model.h5\n",
            "Epoch 2/15\n",
            "1818/1818 [==============================] - 13s 7ms/step - loss: 0.3329 - acc: 0.8543 - val_loss: 0.3396 - val_acc: 0.8519\n",
            "\n",
            "Epoch 00002: val_acc improved from 0.83918 to 0.85194, saving model to best_okt_model.h5\n",
            "Epoch 3/15\n",
            "1818/1818 [==============================] - 13s 7ms/step - loss: 0.3117 - acc: 0.8656 - val_loss: 0.3284 - val_acc: 0.8569\n",
            "\n",
            "Epoch 00003: val_acc improved from 0.85194 to 0.85689, saving model to best_okt_model.h5\n",
            "Epoch 4/15\n",
            "1818/1818 [==============================] - 13s 7ms/step - loss: 0.2978 - acc: 0.8724 - val_loss: 0.3254 - val_acc: 0.8578\n",
            "\n",
            "Epoch 00004: val_acc improved from 0.85689 to 0.85775, saving model to best_okt_model.h5\n",
            "Epoch 5/15\n",
            "1818/1818 [==============================] - 13s 7ms/step - loss: 0.2859 - acc: 0.8791 - val_loss: 0.3321 - val_acc: 0.8578\n",
            "\n",
            "Epoch 00005: val_acc did not improve from 0.85775\n",
            "Epoch 6/15\n",
            "1818/1818 [==============================] - 13s 7ms/step - loss: 0.2747 - acc: 0.8845 - val_loss: 0.3378 - val_acc: 0.8565\n",
            "\n",
            "Epoch 00006: val_acc did not improve from 0.85775\n",
            "Epoch 7/15\n",
            "1818/1818 [==============================] - 13s 7ms/step - loss: 0.2639 - acc: 0.8904 - val_loss: 0.3326 - val_acc: 0.8581\n",
            "\n",
            "Epoch 00007: val_acc improved from 0.85775 to 0.85806, saving model to best_okt_model.h5\n",
            "Epoch 8/15\n",
            "1818/1818 [==============================] - 13s 7ms/step - loss: 0.2528 - acc: 0.8948 - val_loss: 0.3379 - val_acc: 0.8571\n",
            "\n",
            "Epoch 00008: val_acc did not improve from 0.85806\n",
            "Epoch 00008: early stopping\n"
          ]
        }
      ],
      "source": [
        "embedding_dim = 100\n",
        "hidden_units = 128\n",
        "\n",
        "model_okt = Sequential()\n",
        "model_okt.add(Embedding(vocab_size, embedding_dim))\n",
        "model_okt.add(LSTM(hidden_units))\n",
        "model_okt.add(Dense(1, activation='sigmoid'))\n",
        "\n",
        "es = EarlyStopping(monitor='val_loss', mode='min', verbose=1, patience=4)\n",
        "mc = ModelCheckpoint('best_okt_model.h5', monitor='val_acc', mode='max', verbose=1, save_best_only=True)\n",
        "\n",
        "model_okt.compile(optimizer='rmsprop', loss='binary_crossentropy', metrics=['acc'])\n",
        "history_okt = model_okt.fit(X_okt_train, y_okt_train, epochs=15, callbacks=[es, mc], batch_size=64, validation_split=0.2)"
      ]
    },
    {
      "cell_type": "code",
      "execution_count": null,
      "id": "35496acc",
      "metadata": {
        "id": "35496acc",
        "outputId": "f6dda3b0-0b51-48c9-e100-e9b707635698"
      },
      "outputs": [
        {
          "name": "stdout",
          "output_type": "stream",
          "text": [
            "Epoch 1/15\n",
            "1817/1817 [==============================] - 15s 7ms/step - loss: 0.4577 - acc: 0.7750 - val_loss: 0.4240 - val_acc: 0.7965\n",
            "\n",
            "Epoch 00001: val_acc improved from -inf to 0.79653, saving model to best_han_model.h5\n",
            "Epoch 2/15\n",
            "1817/1817 [==============================] - 13s 7ms/step - loss: 0.3975 - acc: 0.8125 - val_loss: 0.4009 - val_acc: 0.8075\n",
            "\n",
            "Epoch 00002: val_acc improved from 0.79653 to 0.80751, saving model to best_han_model.h5\n",
            "Epoch 3/15\n",
            "1817/1817 [==============================] - 13s 7ms/step - loss: 0.3765 - acc: 0.8245 - val_loss: 0.3919 - val_acc: 0.8146\n",
            "\n",
            "Epoch 00003: val_acc improved from 0.80751 to 0.81463, saving model to best_han_model.h5\n",
            "Epoch 4/15\n",
            "1817/1817 [==============================] - 13s 7ms/step - loss: 0.3626 - acc: 0.8312 - val_loss: 0.3876 - val_acc: 0.8161\n",
            "\n",
            "Epoch 00004: val_acc improved from 0.81463 to 0.81607, saving model to best_han_model.h5\n",
            "Epoch 5/15\n",
            "1817/1817 [==============================] - 13s 7ms/step - loss: 0.3512 - acc: 0.8378 - val_loss: 0.3853 - val_acc: 0.8174\n",
            "\n",
            "Epoch 00005: val_acc improved from 0.81607 to 0.81738, saving model to best_han_model.h5\n",
            "Epoch 6/15\n",
            "1817/1817 [==============================] - 13s 7ms/step - loss: 0.3409 - acc: 0.8432 - val_loss: 0.3880 - val_acc: 0.8167\n",
            "\n",
            "Epoch 00006: val_acc did not improve from 0.81738\n",
            "Epoch 7/15\n",
            "1817/1817 [==============================] - 13s 7ms/step - loss: 0.3315 - acc: 0.8484 - val_loss: 0.3912 - val_acc: 0.8148\n",
            "\n",
            "Epoch 00007: val_acc did not improve from 0.81738\n",
            "Epoch 8/15\n",
            "1817/1817 [==============================] - 13s 7ms/step - loss: 0.3220 - acc: 0.8528 - val_loss: 0.3891 - val_acc: 0.8160\n",
            "\n",
            "Epoch 00008: val_acc did not improve from 0.81738\n",
            "Epoch 9/15\n",
            "1817/1817 [==============================] - 13s 7ms/step - loss: 0.3121 - acc: 0.8573 - val_loss: 0.3932 - val_acc: 0.8144\n",
            "\n",
            "Epoch 00009: val_acc did not improve from 0.81738\n",
            "Epoch 00009: early stopping\n"
          ]
        }
      ],
      "source": [
        "embedding_dim = 100\n",
        "hidden_units = 128\n",
        "\n",
        "model_han = Sequential()\n",
        "model_han.add(Embedding(vocab_size, embedding_dim))\n",
        "model_han.add(LSTM(hidden_units))\n",
        "model_han.add(Dense(1, activation='sigmoid'))\n",
        "\n",
        "es = EarlyStopping(monitor='val_loss', mode='min', verbose=1, patience=4)\n",
        "mc = ModelCheckpoint('best_han_model.h5', monitor='val_acc', mode='max', verbose=1, save_best_only=True)\n",
        "\n",
        "model_han.compile(optimizer='rmsprop', loss='binary_crossentropy', metrics=['acc'])\n",
        "history_han = model_han.fit(X_han_train, y_han_train, epochs=15, callbacks=[es, mc], batch_size=64, validation_split=0.2)"
      ]
    },
    {
      "cell_type": "code",
      "execution_count": null,
      "id": "71b7add9",
      "metadata": {
        "id": "71b7add9",
        "outputId": "ac230b3d-8fa3-4c3d-a093-7b0aa517944e"
      },
      "outputs": [
        {
          "name": "stdout",
          "output_type": "stream",
          "text": [
            "Epoch 1/15\n",
            "1818/1818 [==============================] - 19s 10ms/step - loss: 0.4082 - acc: 0.8119 - val_loss: 0.3919 - val_acc: 0.8209\n",
            "\n",
            "Epoch 00001: val_acc improved from -inf to 0.82093, saving model to best_komo_model.h5\n",
            "Epoch 2/15\n",
            "1818/1818 [==============================] - 15s 8ms/step - loss: 0.3463 - acc: 0.8463 - val_loss: 0.3448 - val_acc: 0.8472\n",
            "\n",
            "Epoch 00002: val_acc improved from 0.82093 to 0.84717, saving model to best_komo_model.h5\n",
            "Epoch 3/15\n",
            "1818/1818 [==============================] - 15s 8ms/step - loss: 0.3227 - acc: 0.8582 - val_loss: 0.3442 - val_acc: 0.8460\n",
            "\n",
            "Epoch 00003: val_acc did not improve from 0.84717\n",
            "Epoch 4/15\n",
            "1818/1818 [==============================] - 15s 8ms/step - loss: 0.3061 - acc: 0.8679 - val_loss: 0.3300 - val_acc: 0.8527\n",
            "\n",
            "Epoch 00004: val_acc improved from 0.84717 to 0.85267, saving model to best_komo_model.h5\n",
            "Epoch 5/15\n",
            "1818/1818 [==============================] - 15s 8ms/step - loss: 0.2928 - acc: 0.8749 - val_loss: 0.3333 - val_acc: 0.8559\n",
            "\n",
            "Epoch 00005: val_acc improved from 0.85267 to 0.85587, saving model to best_komo_model.h5\n",
            "Epoch 6/15\n",
            "1818/1818 [==============================] - 15s 8ms/step - loss: 0.2807 - acc: 0.8811 - val_loss: 0.3394 - val_acc: 0.8549\n",
            "\n",
            "Epoch 00006: val_acc did not improve from 0.85587\n",
            "Epoch 7/15\n",
            "1818/1818 [==============================] - 15s 8ms/step - loss: 0.2699 - acc: 0.8860 - val_loss: 0.3337 - val_acc: 0.8549\n",
            "\n",
            "Epoch 00007: val_acc did not improve from 0.85587\n",
            "Epoch 8/15\n",
            "1818/1818 [==============================] - 15s 8ms/step - loss: 0.2582 - acc: 0.8924 - val_loss: 0.3532 - val_acc: 0.8455\n",
            "\n",
            "Epoch 00008: val_acc did not improve from 0.85587\n",
            "Epoch 00008: early stopping\n"
          ]
        }
      ],
      "source": [
        "embedding_dim = 100\n",
        "hidden_units = 128\n",
        "\n",
        "model_komo = Sequential()\n",
        "model_komo.add(Embedding(vocab_size, embedding_dim))\n",
        "model_komo.add(LSTM(hidden_units))\n",
        "model_komo.add(Dense(1, activation='sigmoid'))\n",
        "\n",
        "es = EarlyStopping(monitor='val_loss', mode='min', verbose=1, patience=4)\n",
        "mc = ModelCheckpoint('best_komo_model.h5', monitor='val_acc', mode='max', verbose=1, save_best_only=True)\n",
        "\n",
        "model_komo.compile(optimizer='rmsprop', loss='binary_crossentropy', metrics=['acc'])\n",
        "history_komo = model_komo.fit(X_komo_train, y_komo_train, epochs=15, callbacks=[es, mc], batch_size=64, validation_split=0.2)"
      ]
    },
    {
      "cell_type": "code",
      "execution_count": null,
      "id": "3bcf0888",
      "metadata": {
        "id": "3bcf0888",
        "outputId": "c31a3e6f-b56a-406d-8f59-07bf3195d3f5"
      },
      "outputs": [
        {
          "name": "stdout",
          "output_type": "stream",
          "text": [
            "Epoch 1/15\n",
            "1818/1818 [==============================] - 18s 9ms/step - loss: 0.3934 - acc: 0.8215 - val_loss: 0.3648 - val_acc: 0.8433\n",
            "\n",
            "Epoch 00001: val_acc improved from -inf to 0.84327, saving model to best_mec_model.h5\n",
            "Epoch 2/15\n",
            "1818/1818 [==============================] - 14s 8ms/step - loss: 0.3280 - acc: 0.8563 - val_loss: 0.3256 - val_acc: 0.8578\n",
            "\n",
            "Epoch 00002: val_acc improved from 0.84327 to 0.85779, saving model to best_mec_model.h5\n",
            "Epoch 3/15\n",
            "1818/1818 [==============================] - 14s 8ms/step - loss: 0.3044 - acc: 0.8692 - val_loss: 0.3175 - val_acc: 0.8616\n",
            "\n",
            "Epoch 00003: val_acc improved from 0.85779 to 0.86157, saving model to best_mec_model.h5\n",
            "Epoch 4/15\n",
            "1818/1818 [==============================] - 14s 8ms/step - loss: 0.2876 - acc: 0.8776 - val_loss: 0.3160 - val_acc: 0.8647\n",
            "\n",
            "Epoch 00004: val_acc improved from 0.86157 to 0.86473, saving model to best_mec_model.h5\n",
            "Epoch 5/15\n",
            "1818/1818 [==============================] - 14s 8ms/step - loss: 0.2753 - acc: 0.8844 - val_loss: 0.3163 - val_acc: 0.8651\n",
            "\n",
            "Epoch 00005: val_acc improved from 0.86473 to 0.86508, saving model to best_mec_model.h5\n",
            "Epoch 6/15\n",
            "1818/1818 [==============================] - 14s 8ms/step - loss: 0.2641 - acc: 0.8903 - val_loss: 0.3195 - val_acc: 0.8626\n",
            "\n",
            "Epoch 00006: val_acc did not improve from 0.86508\n",
            "Epoch 7/15\n",
            "1818/1818 [==============================] - 14s 8ms/step - loss: 0.2538 - acc: 0.8956 - val_loss: 0.3190 - val_acc: 0.8623\n",
            "\n",
            "Epoch 00007: val_acc did not improve from 0.86508\n",
            "Epoch 8/15\n",
            "1818/1818 [==============================] - 14s 8ms/step - loss: 0.2425 - acc: 0.9009 - val_loss: 0.3177 - val_acc: 0.8634\n",
            "\n",
            "Epoch 00008: val_acc did not improve from 0.86508\n",
            "Epoch 00008: early stopping\n"
          ]
        }
      ],
      "source": [
        "embedding_dim = 100\n",
        "hidden_units = 128\n",
        "\n",
        "model_mec = Sequential()\n",
        "model_mec.add(Embedding(vocab_size, embedding_dim))\n",
        "model_mec.add(LSTM(hidden_units))\n",
        "model_mec.add(Dense(1, activation='sigmoid'))\n",
        "\n",
        "es = EarlyStopping(monitor='val_loss', mode='min', verbose=1, patience=4)\n",
        "mc = ModelCheckpoint('best_mec_model.h5', monitor='val_acc', mode='max', verbose=1, save_best_only=True)\n",
        "\n",
        "model_mec.compile(optimizer='rmsprop', loss='binary_crossentropy', metrics=['acc'])\n",
        "history_mec = model_mec.fit(X_mec_train, y_mec_train, epochs=15, callbacks=[es, mc], batch_size=64, validation_split=0.2)"
      ]
    },
    {
      "cell_type": "markdown",
      "id": "204eaaf5",
      "metadata": {
        "id": "204eaaf5"
      },
      "source": [
        "# 4. 결과 확인 및 회고\n",
        "- 성능자체는 mecab의 성능이 가장 높게 나온것을 확인했다.\n",
        "- 토큰화 과정간의 처리 속도는 sentence piece(4sec) >  mecab(14sec) > komoran(2m 41sec) > okt(11m 58sec)> hannamum(13m 16sec) > kkoma(메모리 에러로 인한 학습불가) 순으로 차이가 있음\n",
        "- 각각의 토큰화 방법에 따라 결과값이 다르게 평가되는 것을 확인하였지만 sentence piece의 장점을 확인하긴 어려웠음.\n",
        "- 추가 진행으로 vocab size를 변경하여 추가 학습을 진행하고자 함"
      ]
    },
    {
      "cell_type": "code",
      "execution_count": null,
      "id": "67705ee6",
      "metadata": {
        "id": "67705ee6",
        "outputId": "f3e5b998-96d9-4034-93de-51a19b9e96aa"
      },
      "outputs": [
        {
          "name": "stdout",
          "output_type": "stream",
          "text": [
            "1527/1527 [==============================] - 6s 4ms/step - loss: 0.3444 - acc: 0.8487\n",
            "\n",
            " sp 테스트 정확도: 0.8487\n",
            "1527/1527 [==============================] - 5s 3ms/step - loss: 0.3413 - acc: 0.8560\n",
            "\n",
            " okt 테스트 정확도: 0.8560\n",
            "1527/1527 [==============================] - 5s 3ms/step - loss: 0.3914 - acc: 0.8167\n",
            "\n",
            " han 테스트 정확도: 0.8167\n",
            "1527/1527 [==============================] - 5s 3ms/step - loss: 0.3370 - acc: 0.8535\n",
            "\n",
            " komo 테스트 정확도: 0.8535\n",
            "1527/1527 [==============================] - 5s 3ms/step - loss: 0.3212 - acc: 0.8625\n",
            "\n",
            " mec 테스트 정확도: 0.8625\n"
          ]
        }
      ],
      "source": [
        "loaded_sp_model = load_model('best_sp_model.h5')\n",
        "loaded_okt_model = load_model('best_okt_model.h5')\n",
        "loaded_han_model = load_model('best_han_model.h5')\n",
        "loaded_komo_model = load_model('best_komo_model.h5')\n",
        "loaded_mec_model = load_model('best_mec_model.h5')\n",
        "\n",
        "print(\"\\n sp 테스트 정확도: %.4f\" % (loaded_sp_model.evaluate(X_sp_test, y_sp_test)[1]))\n",
        "print(\"\\n okt 테스트 정확도: %.4f\" % (loaded_okt_model.evaluate(X_okt_test, y_okt_test)[1]))\n",
        "print(\"\\n han 테스트 정확도: %.4f\" % (loaded_han_model.evaluate(X_han_test, y_han_test)[1]))\n",
        "print(\"\\n komo 테스트 정확도: %.4f\" % (loaded_komo_model.evaluate(X_komo_test, y_komo_test)[1]))\n",
        "print(\"\\n mec 테스트 정확도: %.4f\" % (loaded_mec_model.evaluate(X_mec_test, y_mec_test)[1]))"
      ]
    },
    {
      "cell_type": "markdown",
      "id": "5c5b5b5a",
      "metadata": {
        "id": "5c5b5b5a"
      },
      "source": [
        "## 네이버 데이터가 아닌 다른 데이터로 사전구축했을 경우"
      ]
    },
    {
      "cell_type": "code",
      "execution_count": null,
      "id": "2debcef1",
      "metadata": {
        "id": "2debcef1",
        "outputId": "b3b79834-456e-41f0-ed0d-f8c97db90366"
      },
      "outputs": [
        {
          "data": {
            "text/plain": [
              "True"
            ]
          },
          "execution_count": 295,
          "metadata": {},
          "output_type": "execute_result"
        }
      ],
      "source": [
        "# sentencepeice 사전구축을 달리할 경우\n",
        "ss = spm.SentencePieceProcessor()\n",
        "ss.Load('korean_org.model')\n"
      ]
    },
    {
      "cell_type": "code",
      "execution_count": null,
      "id": "4a585ed8",
      "metadata": {
        "id": "4a585ed8",
        "outputId": "5d5346c2-c718-4b61-9d01-f4cc44c6f032"
      },
      "outputs": [
        {
          "name": "stderr",
          "output_type": "stream",
          "text": [
            "100%|██████████| 145393/145393 [00:03<00:00, 36513.94it/s]\n",
            "100%|██████████| 48852/48852 [00:01<00:00, 35049.56it/s]\n"
          ]
        }
      ],
      "source": [
        "X_sp_org_train = []\n",
        "for sentence in tqdm(train_data['document']):\n",
        "    tokenized_sentence = ss.SampleEncodeAsPieces(sentence,1, 0.0)\n",
        "    stopwords_removed_sentence = [word for word in tokenized_sentence if not word in stopwords] # 불용어 제거\n",
        "    X_sp_org_train.append(stopwords_removed_sentence)\n",
        "\n",
        "X_sp_org_test = []\n",
        "for sentence in tqdm(test_data['document']):\n",
        "    tokenized_sentence = ss.SampleEncodeAsPieces(sentence,1, 0.0)\n",
        "    stopwords_removed_sentence = [word for word in tokenized_sentence if not word in stopwords] # 불용어 제거\n",
        "    X_sp_org_test.append(stopwords_removed_sentence)\n",
        "\n",
        "tokenizer_org_sp = Tokenizer()\n",
        "tokenizer_org_sp.fit_on_texts(X_sp_org_train)"
      ]
    },
    {
      "cell_type": "code",
      "execution_count": null,
      "id": "4ccfc9f8",
      "metadata": {
        "id": "4ccfc9f8",
        "outputId": "957bb2b8-2bf6-4bec-d6bd-e3e63ef3831b"
      },
      "outputs": [
        {
          "name": "stdout",
          "output_type": "stream",
          "text": [
            "리뷰의 최대 길이 : 116\n",
            "리뷰의 평균 길이 : 116.0\n"
          ]
        },
        {
          "data": {
            "image/png": "[encoded data removed]",
            "text/plain": [
              "<Figure size 432x288 with 1 Axes>"
            ]
          },
          "metadata": {
            "needs_background": "light"
          },
          "output_type": "display_data"
        },
        {
          "name": "stdout",
          "output_type": "stream",
          "text": [
            "None\n"
          ]
        }
      ],
      "source": [
        "X_sp_org_train = tokenizer_sp.texts_to_sequences(X_sp_org_train)\n",
        "X_sp_org_test = tokenizer_sp.texts_to_sequences(X_sp_org_test)\n",
        "y_sp_org_train = np.array(train_data['label'])\n",
        "y_sp_org_test = np.array(test_data['label'])\n",
        "drop_sp_org_train = [index for index, sentence in enumerate(X_sp_train) if len(sentence) < 1]\n",
        "X_sp_org_train = np.delete(X_sp_train, drop_sp_train, axis=0)\n",
        "y_sp_org_train = np.delete(y_sp_train, drop_sp_train, axis=0)\n",
        "print(plt_data('sentence piece',X_sp_org_train))\n"
      ]
    },
    {
      "cell_type": "code",
      "execution_count": null,
      "id": "2107bbb6",
      "metadata": {
        "id": "2107bbb6",
        "outputId": "50c18428-c655-4de9-dc1a-f40800179729"
      },
      "outputs": [
        {
          "name": "stdout",
          "output_type": "stream",
          "text": [
            "Epoch 1/15\n",
            "1818/1818 [==============================] - 18s 10ms/step - loss: 0.2348 - acc: 0.9056 - val_loss: 0.3693 - val_acc: 0.8487\n",
            "\n",
            "Epoch 00001: val_acc improved from -inf to 0.84869, saving model to best_sp_org_model.h5\n",
            "Epoch 2/15\n",
            "1818/1818 [==============================] - 16s 9ms/step - loss: 0.2178 - acc: 0.9132 - val_loss: 0.3727 - val_acc: 0.8426\n",
            "\n",
            "Epoch 00002: val_acc did not improve from 0.84869\n",
            "Epoch 3/15\n",
            "1818/1818 [==============================] - 16s 9ms/step - loss: 0.2009 - acc: 0.9203 - val_loss: 0.3924 - val_acc: 0.8444\n",
            "\n",
            "Epoch 00003: val_acc did not improve from 0.84869\n",
            "Epoch 4/15\n",
            "1818/1818 [==============================] - 16s 9ms/step - loss: 0.1828 - acc: 0.9285 - val_loss: 0.4081 - val_acc: 0.8419\n",
            "\n",
            "Epoch 00004: val_acc did not improve from 0.84869\n",
            "Epoch 5/15\n",
            "1818/1818 [==============================] - 16s 9ms/step - loss: 0.1648 - acc: 0.9370 - val_loss: 0.4583 - val_acc: 0.8338\n",
            "\n",
            "Epoch 00005: val_acc did not improve from 0.84869\n",
            "Epoch 00005: early stopping\n"
          ]
        }
      ],
      "source": [
        "# print(plt_data('sentence piece',X_sp_train))\n",
        "X_sp_org_train = pad_sequences(X_sp_train, maxlen=116)\n",
        "X_sp_org_test = pad_sequences(X_sp_test, maxlen=116)\n",
        "\n",
        "model_org_sp = Sequential()\n",
        "model_org_sp.add(Embedding(vocab_size, embedding_dim))\n",
        "model_org_sp.add(LSTM(hidden_units))\n",
        "model_org_sp.add(Dense(1, activation='sigmoid'))\n",
        "\n",
        "es = EarlyStopping(monitor='val_loss', mode='min', verbose=1, patience=4)\n",
        "mc = ModelCheckpoint('best_sp_org_model.h5', monitor='val_acc', mode='max', verbose=1, save_best_only=True)\n",
        "\n",
        "model_org_sp.compile(optimizer='rmsprop', loss='binary_crossentropy', metrics=['acc'])\n",
        "history_org_sp = model_sp.fit(X_sp_org_train, y_sp_org_train, epochs=15, callbacks=[es, mc], batch_size=64, validation_split=0.2)"
      ]
    },
    {
      "cell_type": "code",
      "execution_count": null,
      "id": "3b056194",
      "metadata": {
        "id": "3b056194",
        "outputId": "ea7883fa-1287-4931-b60a-1daf8c3a7d17"
      },
      "outputs": [
        {
          "name": "stdout",
          "output_type": "stream",
          "text": [
            "1527/1527 [==============================] - 6s 4ms/step - loss: 0.3728 - acc: 0.8458\n",
            "\n",
            " sp 테스트 정확도: 0.8458\n"
          ]
        }
      ],
      "source": [
        "loaded_sp_org_model = load_model('best_sp_org_model.h5')\n",
        "print(\"\\n sp 테스트 정확도: %.4f\" % (loaded_sp_org_model.evaluate(X_sp_org_test, y_sp_org_test)[1]))\n",
        "\n",
        "# sp 테스트 정확도: 0.8487\n",
        "# sp_org 테스트 정확도 : 0.8458\n",
        "# 다른 데이터로 sentence piece를 진행한 결과가 근소하게 떨어지는 것을 확인"
      ]
    },
    {
      "cell_type": "code",
      "execution_count": null,
      "id": "f0b170dd",
      "metadata": {
        "id": "f0b170dd"
      },
      "outputs": [],
      "source": []
    }
  ],
  "metadata": {
    "kernelspec": {
      "display_name": "Python 3 (ipykernel)",
      "language": "python",
      "name": "python3"
    },
    "language_info": {
      "codemirror_mode": {
        "name": "ipython",
        "version": 3
      },
      "file_extension": ".py",
      "mimetype": "text/x-python",
      "name": "python",
      "nbconvert_exporter": "python",
      "pygments_lexer": "ipython3",
      "version": "3.9.7"
    },
    "colab": {
      "provenance": [],
      "include_colab_link": true
    }
  },
  "nbformat": 4,
  "nbformat_minor": 5
}
